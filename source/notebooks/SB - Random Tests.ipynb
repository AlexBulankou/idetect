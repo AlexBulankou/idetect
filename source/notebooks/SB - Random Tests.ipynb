{
 "cells": [
  {
   "cell_type": "code",
   "execution_count": 1,
   "metadata": {
    "collapsed": true
   },
   "outputs": [],
   "source": [
    "%load_ext autoreload\n",
    "%autoreload 2"
   ]
  },
  {
   "cell_type": "code",
   "execution_count": 2,
   "metadata": {
    "collapsed": true
   },
   "outputs": [],
   "source": [
    "import numpy as np\n",
    "import pandas as pd\n",
    "import spacy\n",
    "from datetime import datetime, timedelta\n",
    "import psycopg2\n",
    "import ast\n",
    "from langdetect import detect\n",
    "from langdetect.lang_detect_exception import LangDetectException"
   ]
  },
  {
   "cell_type": "code",
   "execution_count": 3,
   "metadata": {
    "collapsed": true
   },
   "outputs": [],
   "source": [
    "from idetect.interpreter import Interpreter"
   ]
  },
  {
   "cell_type": "code",
   "execution_count": 4,
   "metadata": {
    "collapsed": true
   },
   "outputs": [],
   "source": [
    "from idetect.load_data import load_countries, load_terms"
   ]
  },
  {
   "cell_type": "code",
   "execution_count": 5,
   "metadata": {
    "collapsed": true
   },
   "outputs": [],
   "source": [
    "from idetect.model import Base, Session, Analysis, db_url, Location, Country, Fact, Document, Analysis, DocumentType, Status\n",
    "from sqlalchemy import create_engine"
   ]
  },
  {
   "cell_type": "code",
   "execution_count": 6,
   "metadata": {
    "collapsed": true
   },
   "outputs": [],
   "source": [
    "engine = create_engine(db_url())\n",
    "Session.configure(bind=engine)"
   ]
  },
  {
   "cell_type": "code",
   "execution_count": 7,
   "metadata": {
    "collapsed": true
   },
   "outputs": [],
   "source": [
    "Base.metadata.drop_all(engine)"
   ]
  },
  {
   "cell_type": "code",
   "execution_count": 8,
   "metadata": {
    "collapsed": true
   },
   "outputs": [],
   "source": [
    "Base.metadata.create_all(engine)"
   ]
  },
  {
   "cell_type": "code",
   "execution_count": 9,
   "metadata": {
    "collapsed": true
   },
   "outputs": [],
   "source": [
    "session = Session()"
   ]
  },
  {
   "cell_type": "code",
   "execution_count": 10,
   "metadata": {
    "collapsed": true
   },
   "outputs": [],
   "source": [
    "load_countries(session)"
   ]
  },
  {
   "cell_type": "code",
   "execution_count": 11,
   "metadata": {
    "collapsed": true
   },
   "outputs": [],
   "source": [
    "load_terms(session)"
   ]
  },
  {
   "cell_type": "code",
   "execution_count": 14,
   "metadata": {
    "collapsed": true
   },
   "outputs": [],
   "source": [
    "nlp = spacy.load(\"en_default\")"
   ]
  },
  {
   "cell_type": "code",
   "execution_count": 15,
   "metadata": {
    "collapsed": true
   },
   "outputs": [],
   "source": [
    "interpreter = Interpreter(session, nlp)"
   ]
  },
  {
   "cell_type": "code",
   "execution_count": 16,
   "metadata": {
    "collapsed": true
   },
   "outputs": [],
   "source": [
    "content = \"\"\"South Africa is arresting a growing number of asylum seekers when they attempt to renew their asylum permits. Mxolisi Ncube speaks to Zimbabweans sent home and the human rights groups challenging the deportations.\n",
    "\n",
    "PRETORIA, South Africa – Sheila* woke at 3 a.m. on a cold Tuesday morning. After hitchhiking three rides from Johannesburg, she completed the 38-mile journey to Pretoria and arrived at the Desmond Tutu Refugee Reception Office.\n",
    "\n",
    "Joining a queue of fellow migrants, the 38-year-old from Zimbabwe realized there were no more than 75 people ahead of her, which meant she stood a good chance of submitting her asylum seeker’s permit for a renewal stamp.\n",
    "\n",
    "Three hours later – after pushing and shoving in the crowd, and bribing a security guard to hold her spot in a line that had grown to more than 500 people – she finally managed to submit her permit.\n",
    "\n",
    "About 10 a.m., a woman came out of the office holding a pile of papers and started calling names. Those called were ushered to a South African police truck parked at the corner of the yard.\n",
    "\n",
    "Without explanation, Sheila and about 45 other migrants were crammed into the truck and taken to the Lindela Repatriation Center, where they were told they had been arrested because their applications for refugee status had been rejected. She was detained at Lindela for four months, then deported to Beitbridge, Zimbabwe, just across the border from northern South Africa.\n",
    "Growing Arrests\n",
    "\n",
    "More than a million people have sought asylum in South Africa since 2006, according to the country’s Department of Home Affairs (DHA). Most come from Zimbabwe, while others are from Nigeria, Ethiopia, Mozambique and other African nations, as well as countries such as India and Pakistan.\n",
    "\n",
    "Amid a backlog of asylum applications, an increasing number of asylum seekers have been deported in recent months, often without due process, say South African human rights groups.\n",
    "\n",
    "Between 50 and 150 people are arrested each day when they attempt to renew their permits, according to estimates by rights groups. They are detained at Lindela and eventually deported to their home country.\n",
    "\n",
    "“We are concerned about the possibilities of abuse of process,” said Sharon Ekambaram, manager of Lawyers for Human Rights’ Refugee and Migrant Rights Project. In many cases, asylum seekers do not receive written decisions of final rejection, but are merely advised verbally and given a notice to appear before the immigration inspectorate for deportation, she said.\n",
    "\n",
    "Asylum seeker permits – also known as Section 22 permits – are valid for six months and make it legal for people to stay in South Africa pending a decision on their asylum application. The system calls for several rounds of reviews before an asylum seeker can be rejected and deported.\n",
    "\n",
    "Before the permit expires, the asylum seeker is interviewed by a refugee status determination officer, who makes a ruling – either granting asylum, rejecting the application or referring questions of law to the Standing Committee for Refugee Affairs (SCRA). In case of rejection, an asylum seeker can appeal within 30 days. The Refugee Appeal Board then conducts another hearing before deciding whether to confirm, set aside or substitute the initial decision.\n",
    "\n",
    "Observers claim, however, that this process is not being followed.\n",
    "\n",
    "“We have instances where the SCRA had not made a decision, despite the contrary being communicated to the client,” Ekambaram said. “We have requested written decisions signed by the SCRA, and while we have noted a few receiving some, it appears not to be widely used.”\n",
    "\n",
    "The African Diaspora Forum, a nongovernmental organization established in 2008 to safeguard the rights of migrants in South Africa, said it had not held a dialogue with the DHA about the issue since 2016. DHA officials “are not ready to be engaged on the matter,” said African Diaspora Forum Chairman Marc Gbaffou, an Ivorian refugee who lives in South Africa.\n",
    "\n",
    "Gbaffou said many migrants are held for 120 days or more in Lindela, beyond the legal maximum of 90 days. “Most of these would have had their permits expired because they were denied a chance to renew them by the guards and officials wanting to deal with a certain number,” he said.\n",
    "Asylum System in Crisis\n",
    "\n",
    "The Zimbabwe Exiles Forum, a nonprofit organization formed by political and economic refugees in South Africa, said it has received many reports of arrests and deportations in recent months.\n",
    "\n",
    "“We have visited Lindela and noted with serious concern that those arrested for deportation include those either attempting to apply for or renewing asylum and refugee status,” said Gabriel Shumba, executive director of Zimbabwe Exiles Forum. “This practice is not only insensitive, but falls afoul of international prescripts.”\n",
    "\n",
    "    “The current asylum protection system is in crisis and is effectively nonfunctional.”\n",
    "\n",
    "Ekambaram said the DHA’s actions ignore South Africa’s international and domestic legal commitments. “[South Africa’s] Refugees Act established a parallel legal framework, separate from the Immigration Act, which sets up its own procedures for the detention of asylum seekers and refugees and prohibits their detention as illegal foreigners under the Immigration Act,” she said.\n",
    "\n",
    "“Yet, despite the existence of a separate legal regime for asylum seekers and refugees, the DHA has applied the Immigration Act, arresting [asylum seekers] as illegal foreigners and subjecting them to arbitrary, indefinite and unlawful detention pending deportation,” she said. “These activities fall outside of the [DHA’s] authority. The current asylum protection system is in crisis and is effectively nonfunctional.”\n",
    "\n",
    "The DHA declined to respond to questions from Refugees Deeply. Lawyers for Human Rights has submitted written and verbal requests to the DHA for an independent oversight mechanism, in an effort to hold the department accountable.\n",
    "‘Keep Running’\n",
    "\n",
    "Sheila initially fled to South Africa from Lupane, Zimbabwe, to escape political persecution. She received death threats from state security agents, she claimed, because of her active role in the Movement for Democratic Change, the main opposition party in Zimbabwe.\n",
    "\n",
    "When she was deported to Beitbridge, she feared for her life if she returned to Lupane. So she came back to South Africa and now lives undocumented in Johannesburg – too afraid to claim asylum again.\n",
    "\n",
    "“I want to be legal in South Africa because I cannot keep running away from the police,” she said. “But I am now afraid to go back and apply for new asylum because I might get arrested again. For now, I will have to keep running from the police or bribing them.\n",
    "\n",
    "“I wish the 2018 elections will bring in a new government and make things normal in Zimbabwe again, so that I can return and live a normal life.”\"\"\""
   ]
  },
  {
   "cell_type": "code",
   "execution_count": 17,
   "metadata": {
    "collapsed": true
   },
   "outputs": [],
   "source": [
    "facts = interpreter.process_article_new(content)"
   ]
  },
  {
   "cell_type": "code",
   "execution_count": 18,
   "metadata": {
    "collapsed": false
   },
   "outputs": [
    {
     "data": {
      "text/plain": [
       "[]"
      ]
     },
     "execution_count": 18,
     "metadata": {},
     "output_type": "execute_result"
    }
   ],
   "source": [
    "facts"
   ]
  },
  {
   "cell_type": "code",
   "execution_count": 9,
   "metadata": {
    "collapsed": true
   },
   "outputs": [],
   "source": [
    "document = Document(type=DocumentType.WEB,\n",
    "                            name=\"Hurricane Katrina Fast Facts\")\n",
    "analysis = Analysis(document=document, status=Status.NEW)\n",
    "session.add(analysis)"
   ]
  },
  {
   "cell_type": "code",
   "execution_count": 10,
   "metadata": {
    "collapsed": true
   },
   "outputs": [],
   "source": [
    "session.commit()"
   ]
  },
  {
   "cell_type": "code",
   "execution_count": 11,
   "metadata": {
    "collapsed": true
   },
   "outputs": [],
   "source": [
    "fact = Fact(unit='person', term='displaced')"
   ]
  },
  {
   "cell_type": "code",
   "execution_count": 12,
   "metadata": {
    "collapsed": true
   },
   "outputs": [],
   "source": [
    "session.add(fact)\n",
    "session.commit()"
   ]
  },
  {
   "cell_type": "code",
   "execution_count": 13,
   "metadata": {
    "collapsed": true
   },
   "outputs": [],
   "source": [
    "loc1 = session.query(Location).filter(Location.location_name == 'India').one_or_none()"
   ]
  },
  {
   "cell_type": "code",
   "execution_count": 16,
   "metadata": {
    "collapsed": true
   },
   "outputs": [],
   "source": [
    "loc2 = session.query(Location).filter(Location.location_name == 'Pakistan').one_or_none()"
   ]
  },
  {
   "cell_type": "code",
   "execution_count": 17,
   "metadata": {
    "collapsed": false
   },
   "outputs": [
    {
     "data": {
      "text/plain": [
       "<idetect.model.Location at 0x7f1feb1a2630>"
      ]
     },
     "execution_count": 17,
     "metadata": {},
     "output_type": "execute_result"
    }
   ],
   "source": [
    "loc2"
   ]
  },
  {
   "cell_type": "code",
   "execution_count": 18,
   "metadata": {
    "collapsed": true
   },
   "outputs": [],
   "source": [
    "fact.locations.append(loc1)\n",
    "fact.locations.append(loc2)\n",
    "analysis.facts.append(fact)\n",
    "session.commit()"
   ]
  },
  {
   "cell_type": "code",
   "execution_count": 21,
   "metadata": {
    "collapsed": true
   },
   "outputs": [],
   "source": [
    "fact = analysis.facts[0]"
   ]
  },
  {
   "cell_type": "code",
   "execution_count": 45,
   "metadata": {
    "collapsed": true
   },
   "outputs": [],
   "source": [
    "country_locations = fact.locations"
   ]
  },
  {
   "cell_type": "code",
   "execution_count": 46,
   "metadata": {
    "collapsed": false
   },
   "outputs": [
    {
     "data": {
      "text/plain": [
       "[<idetect.model.Location at 0x7f1feb1a2cf8>,\n",
       " <idetect.model.Location at 0x7f1feb1a2630>]"
      ]
     },
     "execution_count": 46,
     "metadata": {},
     "output_type": "execute_result"
    }
   ],
   "source": [
    "country_locations"
   ]
  },
  {
   "cell_type": "code",
   "execution_count": 48,
   "metadata": {
    "collapsed": true
   },
   "outputs": [],
   "source": [
    "country_locations.sort(key=lambda x: x.country.iso3)"
   ]
  },
  {
   "cell_type": "code",
   "execution_count": 70,
   "metadata": {
    "collapsed": true
   },
   "outputs": [],
   "source": [
    "country_groups = list(groupby(country_locations, lambda x: x.country.iso3))"
   ]
  },
  {
   "cell_type": "code",
   "execution_count": 72,
   "metadata": {
    "collapsed": true
   },
   "outputs": [],
   "source": [
    "country_groups = [(key, [loc for loc in group]) for key, group in groupby(country_locations, lambda x: x.country.iso3)]"
   ]
  },
  {
   "cell_type": "code",
   "execution_count": null,
   "metadata": {
    "collapsed": true
   },
   "outputs": [],
   "source": []
  },
  {
   "cell_type": "code",
   "execution_count": 30,
   "metadata": {
    "collapsed": true
   },
   "outputs": [],
   "source": [
    "fact.locations = []"
   ]
  },
  {
   "cell_type": "code",
   "execution_count": 32,
   "metadata": {
    "collapsed": true
   },
   "outputs": [],
   "source": [
    "fact.iso3 = country_groups[0][0]"
   ]
  },
  {
   "cell_type": "code",
   "execution_count": 34,
   "metadata": {
    "collapsed": true
   },
   "outputs": [],
   "source": [
    "fact.locations = [location for location in country_groups[0][1]]"
   ]
  },
  {
   "cell_type": "code",
   "execution_count": 41,
   "metadata": {
    "collapsed": false
   },
   "outputs": [
    {
     "data": {
      "text/plain": [
       "[<idetect.model.Location at 0x7f1feb1a2630>]"
      ]
     },
     "execution_count": 41,
     "metadata": {},
     "output_type": "execute_result"
    }
   ],
   "source": [
    "list(country_groups[1][1])"
   ]
  },
  {
   "cell_type": "code",
   "execution_count": 35,
   "metadata": {
    "collapsed": false
   },
   "outputs": [
    {
     "data": {
      "text/plain": [
       "[]"
      ]
     },
     "execution_count": 35,
     "metadata": {},
     "output_type": "execute_result"
    }
   ],
   "source": [
    "fact.locations"
   ]
  },
  {
   "cell_type": "code",
   "execution_count": 43,
   "metadata": {
    "collapsed": true
   },
   "outputs": [],
   "source": [
    "session.rollback()"
   ]
  },
  {
   "cell_type": "code",
   "execution_count": null,
   "metadata": {
    "collapsed": true
   },
   "outputs": [],
   "source": []
  },
  {
   "cell_type": "code",
   "execution_count": null,
   "metadata": {
    "collapsed": true
   },
   "outputs": [],
   "source": []
  },
  {
   "cell_type": "code",
   "execution_count": null,
   "metadata": {
    "collapsed": true
   },
   "outputs": [],
   "source": []
  },
  {
   "cell_type": "code",
   "execution_count": null,
   "metadata": {
    "collapsed": true
   },
   "outputs": [],
   "source": []
  },
  {
   "cell_type": "code",
   "execution_count": 55,
   "metadata": {
    "collapsed": true
   },
   "outputs": [],
   "source": [
    "df = pd.read_csv(\"../Data/idmc_facts_content.csv\")"
   ]
  },
  {
   "cell_type": "code",
   "execution_count": 94,
   "metadata": {
    "collapsed": true
   },
   "outputs": [],
   "source": [
    "df = df[['content_y', 'data']]"
   ]
  },
  {
   "cell_type": "code",
   "execution_count": 95,
   "metadata": {
    "collapsed": true
   },
   "outputs": [],
   "source": [
    "df['data'] = df['data'].apply(lambda x: ast.literal_eval(x))\n",
    "df['term'] = df['data'].apply(lambda x: x['term'])\n",
    "df['unit'] = df['data'].apply(lambda x: x['unit'])\n",
    "df['excerpt'] = df['data'].apply(lambda x: x['excerpt'])"
   ]
  },
  {
   "cell_type": "code",
   "execution_count": 96,
   "metadata": {
    "collapsed": true
   },
   "outputs": [],
   "source": [
    "df = df[113:].copy()\n",
    "df.reset_index(inplace=True, drop=True)"
   ]
  },
  {
   "cell_type": "code",
   "execution_count": 108,
   "metadata": {
    "collapsed": true
   },
   "outputs": [],
   "source": [
    "def detect_language(s):\n",
    "    try:\n",
    "        return detect(s)\n",
    "    except LangDetectException:\n",
    "        return 'na'\n",
    "    \n",
    "def choose_report(reports):\n",
    "    '''Choose report based on the heuristics mentioned in the first cell\n",
    "    '''\n",
    "    people_reports = []\n",
    "    household_reports_1 = []\n",
    "    household_reports_2 = []\n",
    "\n",
    "    for r in reports:\n",
    "        if r.reporting_unit == \"Person\":\n",
    "            people_reports.append(r)\n",
    "        elif r.reporting_unit == \"Household\":\n",
    "            if r.reporting_term in (\"Partially Destroyed Housing\", \"Uninhabitable Housing\"):\n",
    "                household_reports_2.append(r)\n",
    "            else:\n",
    "                household_reports_1.append(r)\n",
    "    if len(people_reports) > 0:\n",
    "        report = first_report(people_reports)\n",
    "    elif len(household_reports_1) > 0:\n",
    "        report = first_report(household_reports_1)\n",
    "    elif len(household_reports_2) > 0:\n",
    "        report = first_report(household_reports_2)\n",
    "    else:\n",
    "        report = reports[0]\n",
    "\n",
    "    return report\n",
    "\n",
    "def first_report(reports):\n",
    "    '''Choose the first report based on location in text'''\n",
    "    report_locs = []\n",
    "    for report in reports:\n",
    "        report_locs.append((report, minimum_loc(report.tag_spans)))\n",
    "    return sorted(report_locs, key=lambda x: x[1])[0][0]\n",
    "\n",
    "def get_report(reports):\n",
    "    '''Get reports based on Excerpt and choose the most relevant one'''\n",
    "    if len(reports) > 0:\n",
    "        report = choose_report(reports)\n",
    "        return report.quantity, report.reporting_term, report.reporting_unit, report.locations\n",
    "    else:\n",
    "        return 0, '', '', ''\n",
    "    \n",
    "def minimum_loc(spans):\n",
    "    '''Find the first character location in text for each report\n",
    "    '''\n",
    "    locs = []\n",
    "    for s in spans:\n",
    "        if s['type'] != 'loc':\n",
    "            locs.append(s['start'])\n",
    "    return min(locs)"
   ]
  },
  {
   "cell_type": "code",
   "execution_count": 99,
   "metadata": {
    "collapsed": true
   },
   "outputs": [],
   "source": [
    "df['lang'] = df['content_y'].apply(lambda x: detect_language(str(x)))"
   ]
  },
  {
   "cell_type": "code",
   "execution_count": 100,
   "metadata": {
    "collapsed": true
   },
   "outputs": [],
   "source": [
    "df = df[df['lang'] == 'en']"
   ]
  },
  {
   "cell_type": "code",
   "execution_count": 101,
   "metadata": {
    "collapsed": true
   },
   "outputs": [],
   "source": [
    "df['reports'] = df['content_y'].apply(lambda x: interpreter.process_article_new(x))"
   ]
  },
  {
   "cell_type": "markdown",
   "metadata": {},
   "source": [
    "### See how well we can do for Reporting Unit"
   ]
  },
  {
   "cell_type": "code",
   "execution_count": 115,
   "metadata": {
    "collapsed": true
   },
   "outputs": [],
   "source": [
    "from sklearn.model_selection import train_test_split, GridSearchCV\n",
    "from sklearn.feature_extraction.text import CountVectorizer, TfidfVectorizer\n",
    "from sklearn.naive_bayes import MultinomialNB\n",
    "from sklearn.metrics import classification_report, accuracy_score, roc_curve, auc\n",
    "from sklearn.feature_extraction.stop_words import ENGLISH_STOP_WORDS as stopwords\n",
    "from sklearn.feature_selection import SelectFpr\n",
    "from sklearn.preprocessing import PolynomialFeatures\n",
    "from sklearn.base import TransformerMixin \n",
    "from sklearn.pipeline import Pipeline, FeatureUnion\n",
    "from sklearn.linear_model import LogisticRegression\n",
    "from sklearn.svm import SVC\n",
    "from sklearn.ensemble import AdaBoostClassifier, ExtraTreesClassifier, RandomForestClassifier, BaggingClassifier, GradientBoostingClassifier\n",
    "from sklearn.neighbors import KNeighborsClassifier\n",
    "from collections import Counter, defaultdict\n",
    "from textacy.similarity import word2vec, word_movers\n",
    "import re\n",
    "import string\n",
    "import gensim\n",
    "from numpy import dot \n",
    "from numpy.linalg import norm"
   ]
  },
  {
   "cell_type": "code",
   "execution_count": 116,
   "metadata": {
    "collapsed": true
   },
   "outputs": [],
   "source": [
    "parser = spacy.en.English()\n",
    "punctuations = string.punctuation"
   ]
  },
  {
   "cell_type": "code",
   "execution_count": 117,
   "metadata": {
    "collapsed": true
   },
   "outputs": [],
   "source": [
    "RANDOM_STATE = 42"
   ]
  },
  {
   "cell_type": "code",
   "execution_count": 118,
   "metadata": {
    "collapsed": true
   },
   "outputs": [],
   "source": [
    "train, test = train_test_split(df, test_size = 0.25, random_state=RANDOM_STATE)"
   ]
  },
  {
   "cell_type": "markdown",
   "metadata": {},
   "source": [
    "### How well does \"Rules\" approach do?"
   ]
  },
  {
   "cell_type": "code",
   "execution_count": 120,
   "metadata": {
    "collapsed": false
   },
   "outputs": [
    {
     "data": {
      "text/plain": [
       "0.40192926045016075"
      ]
     },
     "execution_count": 120,
     "metadata": {},
     "output_type": "execute_result"
    }
   ],
   "source": [
    "(test['first_unit'] == test['unit']).sum() / len(test)"
   ]
  },
  {
   "cell_type": "code",
   "execution_count": 131,
   "metadata": {
    "collapsed": true
   },
   "outputs": [],
   "source": [
    "def spacy_tokenizer(sentence):\n",
    "    tokens = parser(sentence)\n",
    "    tokens = [tok.lemma_.lower().strip() if tok.lemma_ != \"-PRON-\" else tok.lower_ for tok in tokens]\n",
    "    tokens = [tok for tok in tokens if (tok not in stopwords and tok not in punctuations)]\n",
    "    return tokens"
   ]
  },
  {
   "cell_type": "code",
   "execution_count": 121,
   "metadata": {
    "collapsed": true
   },
   "outputs": [],
   "source": [
    "# Customer Transformer for creating pipeline of classifiers and predicting probabilities\n",
    "class ProbaExtractor(TransformerMixin):\n",
    "    def __init__(self, classifiers):\n",
    "        self.classifiers = classifiers\n",
    "        \n",
    "    def fit(self, *args, **kwargs):\n",
    "        for cl in self.classifiers:\n",
    "            cl.fit(*args, **kwargs)\n",
    "        return self\n",
    "    \n",
    "    def transform(self, X, **transform_params):\n",
    "        return np.concatenate([cl.predict_proba(X) for cl in self.classifiers], axis=1)"
   ]
  },
  {
   "cell_type": "code",
   "execution_count": 122,
   "metadata": {
    "collapsed": true
   },
   "outputs": [],
   "source": [
    "# Customer Transformer to extract the sentence embedding as an average of word embeddings (using word2vec)\n",
    "class MeanEmbeddingVectorizer(TransformerMixin):\n",
    "    def __init__(self, nlp):\n",
    "        self.nlp = nlp\n",
    "        # if a text is empty we should return a vector of zeros\n",
    "        # with the same dimensionality as all the other vectors\n",
    "        self.dim = (300,)\n",
    "\n",
    "    def fit(self, X, y):\n",
    "        return self\n",
    "\n",
    "    def transform(self, X):\n",
    "        return np.array([\n",
    "            np.mean([w.vector for w in nlp(sentence)]\n",
    "                    or [np.zeros(self.dim)], axis=0)\n",
    "            for sentence in X\n",
    "        ])"
   ]
  },
  {
   "cell_type": "code",
   "execution_count": 123,
   "metadata": {
    "collapsed": true
   },
   "outputs": [],
   "source": [
    "# Customer Transformer to find cosine difference between sentence vector & average true sentence vector\n",
    "cosine = lambda v1, v2: dot(v1, v2) / (norm(v1) * norm(v2))\n",
    "\n",
    "class CosDifference(TransformerMixin):\n",
    "    def __init__(self, nlp, sentences):\n",
    "        self.nlp = nlp\n",
    "        self.true_mean = np.mean(np.array([\n",
    "            np.mean([w.vector for w in nlp(sentence)]\n",
    "                    or [np.zeros(self.dim)], axis=0)\n",
    "            for sentence in sentences\n",
    "        ]), axis=0)\n",
    "        # if a text is empty we should return a vector of zeros\n",
    "        # with the same dimensionality as all the other vectors\n",
    "        self.dim = (300,)\n",
    "\n",
    "    def fit(self, X, y):\n",
    "        return self\n",
    "\n",
    "    def transform(self, X):\n",
    "        return np.array(\n",
    "            [cosine(np.mean([w.vector for w in nlp(sentence)], axis=0), self.true_mean)\n",
    "             for sentence in X]).reshape(X.shape[0], 1)"
   ]
  },
  {
   "cell_type": "code",
   "execution_count": 124,
   "metadata": {
    "collapsed": true
   },
   "outputs": [],
   "source": [
    "# Transformer for getting distribution of punctuation\n",
    "class Punctuation(TransformerMixin):\n",
    "    def __init__(self, punctuations):\n",
    "        self.punctuations = punctuations\n",
    "        \n",
    "    def fit(self, *args, **kwargs):\n",
    "        return self\n",
    "    \n",
    "    def transform(self, X, **transform_params):\n",
    "        return np.array(\n",
    "            [\n",
    "              [sentence.count(p) for p in self.punctuations] for sentence in X\n",
    "            ])\n"
   ]
  },
  {
   "cell_type": "code",
   "execution_count": 125,
   "metadata": {
    "collapsed": true
   },
   "outputs": [],
   "source": [
    "def capitals_fractions(sentence):\n",
    "    words = sentence.split(\" \")\n",
    "    num_words = len(words)\n",
    "    # Total fraction of capitalized words\n",
    "    one_grams = sum([word.isupper() for word in words])\n",
    "    bi_grams = 0\n",
    "    for w1, w2 in zip(words, words[1:]):\n",
    "        if all(w.isupper() for w in (w1, w2)):\n",
    "            bi_grams += 1\n",
    "    tri_grams = 0\n",
    "    for w1, w2, w3 in zip(words, words[1:], words[2:]):\n",
    "        if all(w.isupper() for w in (w1, w2, w3)):\n",
    "            tri_grams += 1\n",
    "    return np.array([one_grams, bi_grams, tri_grams]) / num_words\n",
    "\n",
    "class Capitals(TransformerMixin):\n",
    "    \n",
    "    def fit(self, *args, **kwargs):\n",
    "        return self\n",
    "    \n",
    "    def transform(self, X, **transform_params):\n",
    "        return np.array([capitals_fractions(sentence) for sentence in X])\n"
   ]
  },
  {
   "cell_type": "code",
   "execution_count": 127,
   "metadata": {
    "collapsed": true
   },
   "outputs": [],
   "source": [
    "# Transformer for converting from sparse to dense matrix\n",
    "class Densify(TransformerMixin):\n",
    "    def fit(self, *args, **kwargs):\n",
    "        return self\n",
    "    \n",
    "    def transform(self, X, **transform_params):\n",
    "        return X.toarray()"
   ]
  },
  {
   "cell_type": "code",
   "execution_count": 163,
   "metadata": {
    "collapsed": true
   },
   "outputs": [],
   "source": [
    "# To do: punctuation & capital letter distribution\n",
    "def get_features(true_sentences):\n",
    "    return FeatureUnion([\n",
    "            ('sentence_vector', MeanEmbeddingVectorizer(nlp)), #Average embedding for sentence\n",
    "            ('count_vectorizer', CountVectorizer(tokenizer = spacy_tokenizer, ngram_range=(1,2))), \n",
    "            ('cos_difference', CosDifference(nlp, true_sentences)) #Cosine difference of sentence vector from average true sentence\n",
    "            #('w2v_difference', ) #W2V difference of sentence from All true sentences\n",
    "        ])"
   ]
  },
  {
   "cell_type": "code",
   "execution_count": 164,
   "metadata": {
    "collapsed": true
   },
   "outputs": [],
   "source": [
    "def artesenal_model(true_sentences):\n",
    "    model = Pipeline([\n",
    "            ('feature_union', get_features(true_sentences)),\n",
    "            ('feature_selection', SelectFpr()),\n",
    "            ('dense', Densify()),\n",
    "            ('probas', ProbaExtractor([\n",
    "                        AdaBoostClassifier(n_estimators=300),\n",
    "                        ExtraTreesClassifier(n_estimators=300),\n",
    "                        RandomForestClassifier(n_estimators=400),\n",
    "                        LogisticRegression(),\n",
    "                        BaggingClassifier(),\n",
    "                        KNeighborsClassifier(),\n",
    "                        GradientBoostingClassifier()\n",
    "                    ])), #Need to write custom extractor\n",
    "            ('polynomial', PolynomialFeatures(degree=2)),\n",
    "            ('classify', LogisticRegression(C=0.5))\n",
    "        ])\n",
    "    return model"
   ]
  },
  {
   "cell_type": "code",
   "execution_count": 165,
   "metadata": {
    "collapsed": true
   },
   "outputs": [],
   "source": [
    "art_model = artesenal_model(train['content_y'])"
   ]
  },
  {
   "cell_type": "code",
   "execution_count": 166,
   "metadata": {
    "collapsed": false
   },
   "outputs": [
    {
     "data": {
      "text/plain": [
       "Pipeline(memory=None,\n",
       "     steps=[('feature_union', FeatureUnion(n_jobs=1,\n",
       "       transformer_list=[('sentence_vector', <__main__.MeanEmbeddingVectorizer object at 0x7f93028e1dd8>), ('count_vectorizer', CountVectorizer(analyzer='word', binary=False, decode_error='strict',\n",
       "        dtype=<class 'numpy.int64'>, encoding='utf-8',...ty='l2', random_state=None, solver='liblinear', tol=0.0001,\n",
       "          verbose=0, warm_start=False))])"
      ]
     },
     "execution_count": 166,
     "metadata": {},
     "output_type": "execute_result"
    }
   ],
   "source": [
    "art_model.fit(train['content_y'], train['unit'])"
   ]
  },
  {
   "cell_type": "code",
   "execution_count": 134,
   "metadata": {
    "collapsed": false
   },
   "outputs": [
    {
     "name": "stderr",
     "output_type": "stream",
     "text": [
      "/usr/local/lib/python3.5/dist-packages/ipykernel_launcher.py:1: SettingWithCopyWarning: \n",
      "A value is trying to be set on a copy of a slice from a DataFrame.\n",
      "Try using .loc[row_indexer,col_indexer] = value instead\n",
      "\n",
      "See the caveats in the documentation: http://pandas.pydata.org/pandas-docs/stable/indexing.html#indexing-view-versus-copy\n",
      "  \"\"\"Entry point for launching an IPython kernel.\n"
     ]
    }
   ],
   "source": [
    "test['model_prediction_unit'] = art_model.predict(test['content_y'])"
   ]
  },
  {
   "cell_type": "code",
   "execution_count": 135,
   "metadata": {
    "collapsed": false
   },
   "outputs": [
    {
     "data": {
      "text/plain": [
       "0.86173633440514474"
      ]
     },
     "execution_count": 135,
     "metadata": {},
     "output_type": "execute_result"
    }
   ],
   "source": [
    "(test['model_prediction_unit'] == test['unit']).sum() / len(test)"
   ]
  },
  {
   "cell_type": "code",
   "execution_count": 150,
   "metadata": {
    "collapsed": true
   },
   "outputs": [],
   "source": [
    "# Customer Transformer to extract the sentence embedding as an average of word embeddings (using word2vec)\n",
    "class HandCraftedRules(TransformerMixin):\n",
    "    def __init__(self, nlp, session):\n",
    "        self.interpreter = Interpreter(session, nlp)\n",
    "\n",
    "    def fit(self, X, y):\n",
    "        return self\n",
    "\n",
    "    def transform(self, X):\n",
    "        return np.array([self.predict_unit(sentence)\n",
    "            for sentence in X\n",
    "        ])\n",
    "    \n",
    "    def predict_unit(self, sentence):\n",
    "        reports = self.interpreter.process_article_new(sentence)\n",
    "        top_report = get_report(reports)\n",
    "        report_unit = top_report[2]\n",
    "        return [report_unit == 'Person', report_unit == 'Household', report_unit not in ('Person', 'Household')]"
   ]
  },
  {
   "cell_type": "code",
   "execution_count": 151,
   "metadata": {
    "collapsed": true
   },
   "outputs": [],
   "source": [
    "## Update features"
   ]
  },
  {
   "cell_type": "code",
   "execution_count": 152,
   "metadata": {
    "collapsed": true
   },
   "outputs": [],
   "source": [
    "# To do: punctuation & capital letter distribution\n",
    "def get_features(true_sentences):\n",
    "    return FeatureUnion([\n",
    "            ('sentence_vector', MeanEmbeddingVectorizer(nlp)), #Average embedding for sentence\n",
    "            ('count_vectorizer', CountVectorizer(tokenizer = spacy_tokenizer, ngram_range=(1,2))), \n",
    "            ('cos_difference', CosDifference(nlp, true_sentences)), #Cosine difference of sentence vector from average true sentence\n",
    "            ('rules', HandCraftedRules(nlp, session)) #W2V difference of sentence from All true sentences\n",
    "        ])"
   ]
  },
  {
   "cell_type": "code",
   "execution_count": 153,
   "metadata": {
    "collapsed": true
   },
   "outputs": [],
   "source": [
    "art_model = artesenal_model(train['content_y'])"
   ]
  },
  {
   "cell_type": "code",
   "execution_count": 154,
   "metadata": {
    "collapsed": false
   },
   "outputs": [
    {
     "data": {
      "text/plain": [
       "Pipeline(memory=None,\n",
       "     steps=[('feature_union', FeatureUnion(n_jobs=1,\n",
       "       transformer_list=[('sentence_vector', <__main__.MeanEmbeddingVectorizer object at 0x7f930292def0>), ('count_vectorizer', CountVectorizer(analyzer='word', binary=False, decode_error='strict',\n",
       "        dtype=<class 'numpy.int64'>, encoding='utf-8',...ty='l2', random_state=None, solver='liblinear', tol=0.0001,\n",
       "          verbose=0, warm_start=False))])"
      ]
     },
     "execution_count": 154,
     "metadata": {},
     "output_type": "execute_result"
    }
   ],
   "source": [
    "art_model.fit(train['content_y'], train['unit'])"
   ]
  },
  {
   "cell_type": "code",
   "execution_count": 155,
   "metadata": {
    "collapsed": false
   },
   "outputs": [
    {
     "name": "stderr",
     "output_type": "stream",
     "text": [
      "/usr/local/lib/python3.5/dist-packages/ipykernel_launcher.py:1: SettingWithCopyWarning: \n",
      "A value is trying to be set on a copy of a slice from a DataFrame.\n",
      "Try using .loc[row_indexer,col_indexer] = value instead\n",
      "\n",
      "See the caveats in the documentation: http://pandas.pydata.org/pandas-docs/stable/indexing.html#indexing-view-versus-copy\n",
      "  \"\"\"Entry point for launching an IPython kernel.\n"
     ]
    }
   ],
   "source": [
    "test['model_prediction_unit_2'] = art_model.predict(test['content_y'])"
   ]
  },
  {
   "cell_type": "code",
   "execution_count": 156,
   "metadata": {
    "collapsed": false
   },
   "outputs": [
    {
     "data": {
      "text/plain": [
       "0.85209003215434087"
      ]
     },
     "execution_count": 156,
     "metadata": {},
     "output_type": "execute_result"
    }
   ],
   "source": [
    "(test['model_prediction_unit_2'] == test['unit']).sum() / len(test)"
   ]
  },
  {
   "cell_type": "markdown",
   "metadata": {},
   "source": [
    "### Train Linear Model on Both Outputs"
   ]
  },
  {
   "cell_type": "code",
   "execution_count": 159,
   "metadata": {
    "collapsed": true
   },
   "outputs": [],
   "source": [
    "from sklearn.linear_model import LogisticRegressionCV"
   ]
  },
  {
   "cell_type": "code",
   "execution_count": 160,
   "metadata": {
    "collapsed": true
   },
   "outputs": [],
   "source": [
    "searchCV = LogisticRegressionCV()"
   ]
  },
  {
   "cell_type": "code",
   "execution_count": 170,
   "metadata": {
    "collapsed": false
   },
   "outputs": [
    {
     "data": {
      "text/html": [
       "<div>\n",
       "<style>\n",
       "    .dataframe thead tr:only-child th {\n",
       "        text-align: right;\n",
       "    }\n",
       "\n",
       "    .dataframe thead th {\n",
       "        text-align: left;\n",
       "    }\n",
       "\n",
       "    .dataframe tbody tr th {\n",
       "        vertical-align: top;\n",
       "    }\n",
       "</style>\n",
       "<table border=\"1\" class=\"dataframe\">\n",
       "  <thead>\n",
       "    <tr style=\"text-align: right;\">\n",
       "      <th></th>\n",
       "      <th>content_y</th>\n",
       "      <th>data</th>\n",
       "      <th>term</th>\n",
       "      <th>unit</th>\n",
       "      <th>excerpt</th>\n",
       "      <th>lang</th>\n",
       "      <th>reports</th>\n",
       "      <th>first_unit</th>\n",
       "      <th>first_term</th>\n",
       "      <th>top_report</th>\n",
       "      <th>model_prediction</th>\n",
       "    </tr>\n",
       "  </thead>\n",
       "  <tbody>\n",
       "    <tr>\n",
       "      <th>943</th>\n",
       "      <td>This Operations Update requests an extension o...</td>\n",
       "      <td>{'excerpt': 'According to the assessment data ...</td>\n",
       "      <td>Displaced</td>\n",
       "      <td>Person</td>\n",
       "      <td>According to the assessment data collected by ...</td>\n",
       "      <td>en</td>\n",
       "      <td>[Locations:Mgomba Unit:Person Term:Displaced Q...</td>\n",
       "      <td>Person</td>\n",
       "      <td>Displaced</td>\n",
       "      <td>((3000, None), Displaced, Person, [Mgomba])</td>\n",
       "      <td>Person</td>\n",
       "    </tr>\n",
       "    <tr>\n",
       "      <th>986</th>\n",
       "      <td>Apriadi Gunawan, Syofiardi Bachyul Jb and Riza...</td>\n",
       "      <td>{'excerpt': '\"The floods submerged 1,606 house...</td>\n",
       "      <td>Uninhabitable Housing</td>\n",
       "      <td>Household</td>\n",
       "      <td>\"The floods submerged 1,606 houses in Kampar, ...</td>\n",
       "      <td>en</td>\n",
       "      <td>[Locations:Lima Unit:Person Term:Displaced Qua...</td>\n",
       "      <td>Person</td>\n",
       "      <td>Displaced</td>\n",
       "      <td>((None, ), Displaced, Person, [Binjai])</td>\n",
       "      <td>Household</td>\n",
       "    </tr>\n",
       "  </tbody>\n",
       "</table>\n",
       "</div>"
      ],
      "text/plain": [
       "                                             content_y  \\\n",
       "943  This Operations Update requests an extension o...   \n",
       "986  Apriadi Gunawan, Syofiardi Bachyul Jb and Riza...   \n",
       "\n",
       "                                                  data                   term  \\\n",
       "943  {'excerpt': 'According to the assessment data ...              Displaced   \n",
       "986  {'excerpt': '\"The floods submerged 1,606 house...  Uninhabitable Housing   \n",
       "\n",
       "          unit                                            excerpt lang  \\\n",
       "943     Person  According to the assessment data collected by ...   en   \n",
       "986  Household  \"The floods submerged 1,606 houses in Kampar, ...   en   \n",
       "\n",
       "                                               reports first_unit first_term  \\\n",
       "943  [Locations:Mgomba Unit:Person Term:Displaced Q...     Person  Displaced   \n",
       "986  [Locations:Lima Unit:Person Term:Displaced Qua...     Person  Displaced   \n",
       "\n",
       "                                      top_report model_prediction  \n",
       "943  ((3000, None), Displaced, Person, [Mgomba])           Person  \n",
       "986      ((None, ), Displaced, Person, [Binjai])        Household  "
      ]
     },
     "execution_count": 170,
     "metadata": {},
     "output_type": "execute_result"
    }
   ],
   "source": [
    "train.head(2)"
   ]
  },
  {
   "cell_type": "code",
   "execution_count": 169,
   "metadata": {
    "collapsed": false
   },
   "outputs": [
    {
     "name": "stderr",
     "output_type": "stream",
     "text": [
      "/usr/local/lib/python3.5/dist-packages/ipykernel_launcher.py:1: SettingWithCopyWarning: \n",
      "A value is trying to be set on a copy of a slice from a DataFrame.\n",
      "Try using .loc[row_indexer,col_indexer] = value instead\n",
      "\n",
      "See the caveats in the documentation: http://pandas.pydata.org/pandas-docs/stable/indexing.html#indexing-view-versus-copy\n",
      "  \"\"\"Entry point for launching an IPython kernel.\n"
     ]
    }
   ],
   "source": [
    "train['model_prediction'] = art_model.predict(train['content_y'])"
   ]
  },
  {
   "cell_type": "code",
   "execution_count": 171,
   "metadata": {
    "collapsed": true
   },
   "outputs": [],
   "source": [
    "final_train = train[['model_prediction', 'first_unit', 'unit']].copy()"
   ]
  },
  {
   "cell_type": "code",
   "execution_count": 172,
   "metadata": {
    "collapsed": true
   },
   "outputs": [],
   "source": [
    "final_train_X = final_train[['model_prediction', 'first_unit']]"
   ]
  },
  {
   "cell_type": "code",
   "execution_count": 174,
   "metadata": {
    "collapsed": true
   },
   "outputs": [],
   "source": [
    "final_train_X = pd.get_dummies(final_train_X)"
   ]
  },
  {
   "cell_type": "code",
   "execution_count": 175,
   "metadata": {
    "collapsed": false
   },
   "outputs": [
    {
     "data": {
      "text/plain": [
       "LogisticRegressionCV(Cs=10, class_weight=None, cv=None, dual=False,\n",
       "           fit_intercept=True, intercept_scaling=1.0, max_iter=100,\n",
       "           multi_class='ovr', n_jobs=1, penalty='l2', random_state=None,\n",
       "           refit=True, scoring=None, solver='lbfgs', tol=0.0001, verbose=0)"
      ]
     },
     "execution_count": 175,
     "metadata": {},
     "output_type": "execute_result"
    }
   ],
   "source": [
    "searchCV.fit(final_train_X, final_train['unit'])"
   ]
  },
  {
   "cell_type": "code",
   "execution_count": 176,
   "metadata": {
    "collapsed": false
   },
   "outputs": [
    {
     "data": {
      "text/html": [
       "<div>\n",
       "<style>\n",
       "    .dataframe thead tr:only-child th {\n",
       "        text-align: right;\n",
       "    }\n",
       "\n",
       "    .dataframe thead th {\n",
       "        text-align: left;\n",
       "    }\n",
       "\n",
       "    .dataframe tbody tr th {\n",
       "        vertical-align: top;\n",
       "    }\n",
       "</style>\n",
       "<table border=\"1\" class=\"dataframe\">\n",
       "  <thead>\n",
       "    <tr style=\"text-align: right;\">\n",
       "      <th></th>\n",
       "      <th>content_y</th>\n",
       "      <th>data</th>\n",
       "      <th>term</th>\n",
       "      <th>unit</th>\n",
       "      <th>excerpt</th>\n",
       "      <th>lang</th>\n",
       "      <th>reports</th>\n",
       "      <th>first_unit</th>\n",
       "      <th>first_term</th>\n",
       "      <th>top_report</th>\n",
       "      <th>model_prediction_unit</th>\n",
       "      <th>model_prediction_unit_2</th>\n",
       "    </tr>\n",
       "  </thead>\n",
       "  <tbody>\n",
       "    <tr>\n",
       "      <th>1263</th>\n",
       "      <td>Share the news \"At the moment the emergency si...</td>\n",
       "      <td>{'excerpt': 'At present, the water was withdra...</td>\n",
       "      <td>Evacuated</td>\n",
       "      <td>Person</td>\n",
       "      <td>At present, the water was withdrawn from 421 h...</td>\n",
       "      <td>en</td>\n",
       "      <td>[Locations:Akmola,Aktobe,East Kazakhstan,Kosta...</td>\n",
       "      <td>Person</td>\n",
       "      <td>Evacuated</td>\n",
       "      <td>((969, None), Evacuated, Person, [Akmola, Akto...</td>\n",
       "      <td>Person</td>\n",
       "      <td>Person</td>\n",
       "    </tr>\n",
       "  </tbody>\n",
       "</table>\n",
       "</div>"
      ],
      "text/plain": [
       "                                              content_y  \\\n",
       "1263  Share the news \"At the moment the emergency si...   \n",
       "\n",
       "                                                   data       term    unit  \\\n",
       "1263  {'excerpt': 'At present, the water was withdra...  Evacuated  Person   \n",
       "\n",
       "                                                excerpt lang  \\\n",
       "1263  At present, the water was withdrawn from 421 h...   en   \n",
       "\n",
       "                                                reports first_unit first_term  \\\n",
       "1263  [Locations:Akmola,Aktobe,East Kazakhstan,Kosta...     Person  Evacuated   \n",
       "\n",
       "                                             top_report model_prediction_unit  \\\n",
       "1263  ((969, None), Evacuated, Person, [Akmola, Akto...                Person   \n",
       "\n",
       "     model_prediction_unit_2  \n",
       "1263                  Person  "
      ]
     },
     "execution_count": 176,
     "metadata": {},
     "output_type": "execute_result"
    }
   ],
   "source": [
    "test.head(1)"
   ]
  },
  {
   "cell_type": "code",
   "execution_count": 178,
   "metadata": {
    "collapsed": true
   },
   "outputs": [],
   "source": [
    "final_test = test[['model_prediction_unit', 'first_unit']].copy()"
   ]
  },
  {
   "cell_type": "code",
   "execution_count": 179,
   "metadata": {
    "collapsed": true
   },
   "outputs": [],
   "source": [
    "final_test.columns = ['model_prediction', 'first_unit']"
   ]
  },
  {
   "cell_type": "code",
   "execution_count": 180,
   "metadata": {
    "collapsed": true
   },
   "outputs": [],
   "source": [
    "final_test_X = pd.get_dummies(final_test)"
   ]
  },
  {
   "cell_type": "code",
   "execution_count": 182,
   "metadata": {
    "collapsed": false
   },
   "outputs": [
    {
     "name": "stderr",
     "output_type": "stream",
     "text": [
      "/usr/local/lib/python3.5/dist-packages/ipykernel_launcher.py:1: SettingWithCopyWarning: \n",
      "A value is trying to be set on a copy of a slice from a DataFrame.\n",
      "Try using .loc[row_indexer,col_indexer] = value instead\n",
      "\n",
      "See the caveats in the documentation: http://pandas.pydata.org/pandas-docs/stable/indexing.html#indexing-view-versus-copy\n",
      "  \"\"\"Entry point for launching an IPython kernel.\n"
     ]
    }
   ],
   "source": [
    "test['combined_unit'] = searchCV.predict(final_test_X)"
   ]
  },
  {
   "cell_type": "code",
   "execution_count": 183,
   "metadata": {
    "collapsed": false
   },
   "outputs": [
    {
     "data": {
      "text/plain": [
       "0.86173633440514474"
      ]
     },
     "execution_count": 183,
     "metadata": {},
     "output_type": "execute_result"
    }
   ],
   "source": [
    "(test['combined_unit'] == test['unit']).sum() / len(test)"
   ]
  },
  {
   "cell_type": "markdown",
   "metadata": {},
   "source": [
    "### Naive Combination"
   ]
  },
  {
   "cell_type": "code",
   "execution_count": 185,
   "metadata": {
    "collapsed": true
   },
   "outputs": [],
   "source": [
    "def combine_predictions(classifier, rules):\n",
    "    if classifier == rules:\n",
    "        return classifier\n",
    "    elif not rules or rules == '':\n",
    "        return classifier\n",
    "    else:\n",
    "        return rules"
   ]
  },
  {
   "cell_type": "code",
   "execution_count": 187,
   "metadata": {
    "collapsed": false
   },
   "outputs": [
    {
     "name": "stderr",
     "output_type": "stream",
     "text": [
      "/usr/local/lib/python3.5/dist-packages/ipykernel_launcher.py:1: SettingWithCopyWarning: \n",
      "A value is trying to be set on a copy of a slice from a DataFrame.\n",
      "Try using .loc[row_indexer,col_indexer] = value instead\n",
      "\n",
      "See the caveats in the documentation: http://pandas.pydata.org/pandas-docs/stable/indexing.html#indexing-view-versus-copy\n",
      "  \"\"\"Entry point for launching an IPython kernel.\n"
     ]
    }
   ],
   "source": [
    "test['naive'] = test[['model_prediction_unit', 'first_unit']].apply(lambda x: combine_predictions(x['model_prediction_unit'], x['first_unit']), axis=1)"
   ]
  },
  {
   "cell_type": "code",
   "execution_count": 188,
   "metadata": {
    "collapsed": false
   },
   "outputs": [
    {
     "data": {
      "text/plain": [
       "0.84565916398713825"
      ]
     },
     "execution_count": 188,
     "metadata": {},
     "output_type": "execute_result"
    }
   ],
   "source": [
    "(test['naive'] == test['unit']).sum() / len(test)"
   ]
  },
  {
   "cell_type": "code",
   "execution_count": null,
   "metadata": {
    "collapsed": true
   },
   "outputs": [],
   "source": []
  },
  {
   "cell_type": "code",
   "execution_count": null,
   "metadata": {
    "collapsed": true
   },
   "outputs": [],
   "source": []
  },
  {
   "cell_type": "code",
   "execution_count": 109,
   "metadata": {
    "collapsed": true
   },
   "outputs": [],
   "source": [
    "df['top_report'] = df['reports'].apply(lambda x: get_report(x))"
   ]
  },
  {
   "cell_type": "code",
   "execution_count": 112,
   "metadata": {
    "collapsed": true
   },
   "outputs": [],
   "source": [
    "df['first_unit'] = df['top_report'].apply(lambda x: x[2])\n",
    "df['first_term'] = df['top_report'].apply(lambda x: x[1])"
   ]
  },
  {
   "cell_type": "code",
   "execution_count": 113,
   "metadata": {
    "collapsed": false
   },
   "outputs": [
    {
     "data": {
      "text/plain": [
       "0.44292604501607719"
      ]
     },
     "execution_count": 113,
     "metadata": {},
     "output_type": "execute_result"
    }
   ],
   "source": [
    "(df['first_unit'] == df['unit']).sum() / len(df)"
   ]
  },
  {
   "cell_type": "code",
   "execution_count": null,
   "metadata": {
    "collapsed": true
   },
   "outputs": [],
   "source": []
  },
  {
   "cell_type": "code",
   "execution_count": null,
   "metadata": {
    "collapsed": true
   },
   "outputs": [],
   "source": []
  },
  {
   "cell_type": "code",
   "execution_count": 87,
   "metadata": {
    "collapsed": false
   },
   "outputs": [
    {
     "data": {
      "text/plain": [
       "Locations: Unit:Person Term:Destroyed Housing Quantity:(29, None)"
      ]
     },
     "execution_count": 87,
     "metadata": {},
     "output_type": "execute_result"
    }
   ],
   "source": [
    "interpreter.process_article_new(s)[0]"
   ]
  },
  {
   "cell_type": "code",
   "execution_count": null,
   "metadata": {
    "collapsed": true
   },
   "outputs": [],
   "source": []
  },
  {
   "cell_type": "code",
   "execution_count": null,
   "metadata": {
    "collapsed": true
   },
   "outputs": [],
   "source": []
  },
  {
   "cell_type": "code",
   "execution_count": 74,
   "metadata": {
    "collapsed": false
   },
   "outputs": [
    {
     "data": {
      "text/html": [
       "<div>\n",
       "<style>\n",
       "    .dataframe thead tr:only-child th {\n",
       "        text-align: right;\n",
       "    }\n",
       "\n",
       "    .dataframe thead th {\n",
       "        text-align: left;\n",
       "    }\n",
       "\n",
       "    .dataframe tbody tr th {\n",
       "        vertical-align: top;\n",
       "    }\n",
       "</style>\n",
       "<table border=\"1\" class=\"dataframe\">\n",
       "  <thead>\n",
       "    <tr style=\"text-align: right;\">\n",
       "      <th></th>\n",
       "      <th>content_y</th>\n",
       "      <th>data</th>\n",
       "      <th>term</th>\n",
       "      <th>unit</th>\n",
       "      <th>excerpt</th>\n",
       "      <th>lang</th>\n",
       "      <th>reports</th>\n",
       "      <th>first_unit</th>\n",
       "      <th>first_term</th>\n",
       "    </tr>\n",
       "  </thead>\n",
       "  <tbody>\n",
       "    <tr>\n",
       "      <th>10</th>\n",
       "      <td>6 月 20 日からの西日本の大雨に係る被害状況等について ※これは速報であり、数値等は今後...</td>\n",
       "      <td>{'excerpt': 'Households\r\n",
       "Totally destroyed = 1...</td>\n",
       "      <td>Uninhabitable Housing</td>\n",
       "      <td>Household</td>\n",
       "      <td>Households\\r\\nTotally destroyed = 14\\r\\nPartia...</td>\n",
       "      <td>en</td>\n",
       "      <td>[Locations: Unit:People Term:Destroyed Housing...</td>\n",
       "      <td>People</td>\n",
       "      <td>Destroyed Housing</td>\n",
       "    </tr>\n",
       "    <tr>\n",
       "      <th>137</th>\n",
       "      <td>NaN</td>\n",
       "      <td>{'excerpt': '25 march - 281 evacuated\n",
       "31 march...</td>\n",
       "      <td>Evacuated</td>\n",
       "      <td>Person</td>\n",
       "      <td>25 march - 281 evacuated\\n31 march - 344 evacu...</td>\n",
       "      <td>en</td>\n",
       "      <td>[Locations: Unit:People Term:Evacuated Quantit...</td>\n",
       "      <td>People</td>\n",
       "      <td>Evacuated</td>\n",
       "    </tr>\n",
       "    <tr>\n",
       "      <th>415</th>\n",
       "      <td>China As of 23 June, 9 million people have bee...</td>\n",
       "      <td>{'excerpt': '100 more reported displaced compa...</td>\n",
       "      <td>Displaced</td>\n",
       "      <td>Person</td>\n",
       "      <td>100 more reported displaced compared to BNPB d...</td>\n",
       "      <td>en</td>\n",
       "      <td>[Locations: Unit:People Term:Displaced Quantit...</td>\n",
       "      <td>People</td>\n",
       "      <td>Displaced</td>\n",
       "    </tr>\n",
       "    <tr>\n",
       "      <th>459</th>\n",
       "      <td>MAOMING, May 21, 2016 (Xinhua) -- Aerial phot...</td>\n",
       "      <td>{'excerpt': 'References to two cities:\n",
       "\n",
       "- Xiny...</td>\n",
       "      <td>Evacuated</td>\n",
       "      <td>Person</td>\n",
       "      <td>References to two cities:\\n\\n- Xinyi, a small,...</td>\n",
       "      <td>en</td>\n",
       "      <td>[Locations:Xinyi Unit:People Term:Displaced Qu...</td>\n",
       "      <td>People</td>\n",
       "      <td>Displaced</td>\n",
       "    </tr>\n",
       "    <tr>\n",
       "      <th>548</th>\n",
       "      <td>Progress to Date Recovery and Reconstruction f...</td>\n",
       "      <td>{'excerpt': 'As of 14 July 2016 approximately ...</td>\n",
       "      <td>Evacuated</td>\n",
       "      <td>Person</td>\n",
       "      <td>As of 14 July 2016 approximately 148000 people...</td>\n",
       "      <td>en</td>\n",
       "      <td>[Locations: Unit:People Term:Displaced Quantit...</td>\n",
       "      <td>People</td>\n",
       "      <td>Displaced</td>\n",
       "    </tr>\n",
       "    <tr>\n",
       "      <th>554</th>\n",
       "      <td>Highlights  Torrential monsoon rains and floo...</td>\n",
       "      <td>{'excerpt': 'The Government confirmed that sin...</td>\n",
       "      <td>Affected</td>\n",
       "      <td>Household</td>\n",
       "      <td>The Government confirmed that since the heavy ...</td>\n",
       "      <td>en</td>\n",
       "      <td>[Locations:Gelephu Unit:People Term:Relocated ...</td>\n",
       "      <td>People</td>\n",
       "      <td>Relocated</td>\n",
       "    </tr>\n",
       "    <tr>\n",
       "      <th>560</th>\n",
       "      <td>Emergency Response Coordination Centre (ERCC) ...</td>\n",
       "      <td>{'excerpt': 'Heavy rain has been affecting sev...</td>\n",
       "      <td>Evacuated</td>\n",
       "      <td>Person</td>\n",
       "      <td>Heavy rain has been affecting several areas of...</td>\n",
       "      <td>en</td>\n",
       "      <td>[Locations:Aceh province Unit:People Term:Evac...</td>\n",
       "      <td>People</td>\n",
       "      <td>Evacuated</td>\n",
       "    </tr>\n",
       "    <tr>\n",
       "      <th>577</th>\n",
       "      <td>On Friday morning, a day after tens of thousan...</td>\n",
       "      <td>{'excerpt': 'On Friday morning, a day after te...</td>\n",
       "      <td>Evacuated</td>\n",
       "      <td>Person</td>\n",
       "      <td>On Friday morning, a day after tens of thousan...</td>\n",
       "      <td>en</td>\n",
       "      <td>[Locations:Pakistan,Punjab Unit:People Term:Ev...</td>\n",
       "      <td>People</td>\n",
       "      <td>Evacuated</td>\n",
       "    </tr>\n",
       "    <tr>\n",
       "      <th>616</th>\n",
       "      <td>Each day, ERCC publishes a map of the most imp...</td>\n",
       "      <td>{'excerpt': 'Media reported more than 8800 eva...</td>\n",
       "      <td>Evacuated</td>\n",
       "      <td>Person</td>\n",
       "      <td>Media reported more than 8800 evacuated in wes...</td>\n",
       "      <td>en</td>\n",
       "      <td>[Locations: Unit:People Term:Evacuated Quantit...</td>\n",
       "      <td>People</td>\n",
       "      <td>Evacuated</td>\n",
       "    </tr>\n",
       "    <tr>\n",
       "      <th>618</th>\n",
       "      <td>state ALABAMA ALASKA ARIZONA ARKANSAS CALIFORN...</td>\n",
       "      <td>{'excerpt': 'All evacuations have been lifted....</td>\n",
       "      <td>Evacuated</td>\n",
       "      <td>Person</td>\n",
       "      <td>All evacuations have been lifted. 1,000 evacua...</td>\n",
       "      <td>en</td>\n",
       "      <td>[Locations: Unit:People Term:Evacuated Quantit...</td>\n",
       "      <td>People</td>\n",
       "      <td>Evacuated</td>\n",
       "    </tr>\n",
       "    <tr>\n",
       "      <th>640</th>\n",
       "      <td>HURRICANE MATTHEW SITUATION REPORT No. 7 as of...</td>\n",
       "      <td>{'excerpt': 'Cuba: At the top, the document st...</td>\n",
       "      <td>Evacuated</td>\n",
       "      <td>Person</td>\n",
       "      <td>Cuba: At the top, the document states that 37,...</td>\n",
       "      <td>en</td>\n",
       "      <td>[Locations:Cuba Unit:People Term:Evacuated Qua...</td>\n",
       "      <td>People</td>\n",
       "      <td>Evacuated</td>\n",
       "    </tr>\n",
       "    <tr>\n",
       "      <th>710</th>\n",
       "      <td>Information bulletin China: Typhoon Rammasun f...</td>\n",
       "      <td>{'excerpt': '628,000 relocated and 9.96 millio...</td>\n",
       "      <td>Displaced</td>\n",
       "      <td>Person</td>\n",
       "      <td>628,000 relocated and 9.96 million people affe...</td>\n",
       "      <td>en</td>\n",
       "      <td>[Locations: Unit:People Term:Relocated Quantit...</td>\n",
       "      <td>People</td>\n",
       "      <td>Relocated</td>\n",
       "    </tr>\n",
       "    <tr>\n",
       "      <th>731</th>\n",
       "      <td>平成２８年（２０１６年）鳥取県中部を震源とする地震 に係る被害状況等について ※これは速報で...</td>\n",
       "      <td>{'excerpt': 'fully destroyed - 14\r\n",
       "partially d...</td>\n",
       "      <td>Destroyed Housing</td>\n",
       "      <td>Household</td>\n",
       "      <td>fully destroyed - 14\\r\\npartially destroyed - 198</td>\n",
       "      <td>en</td>\n",
       "      <td>[Locations: Unit:People Term:Destroyed Housing...</td>\n",
       "      <td>People</td>\n",
       "      <td>Destroyed Housing</td>\n",
       "    </tr>\n",
       "    <tr>\n",
       "      <th>793</th>\n",
       "      <td>A travers Haiti lundi 9 mai 2016 P-au-P, 09 ma...</td>\n",
       "      <td>{'excerpt': '4 people dead, several hundred fa...</td>\n",
       "      <td>Destroyed Housing</td>\n",
       "      <td>Household</td>\n",
       "      <td>4 people dead, several hundred families affect...</td>\n",
       "      <td>en</td>\n",
       "      <td>[Locations:Baradres,Nippes Unit:People Term:Pa...</td>\n",
       "      <td>People</td>\n",
       "      <td>Partially Destroyed Housing</td>\n",
       "    </tr>\n",
       "    <tr>\n",
       "      <th>845</th>\n",
       "      <td>NANCHANG, May 20 (Xinhua) -- Heavy rainfall th...</td>\n",
       "      <td>{'excerpt': '*Not a clear distinction between ...</td>\n",
       "      <td>Evacuated</td>\n",
       "      <td>Person</td>\n",
       "      <td>*Not a clear distinction between 2000 relocate...</td>\n",
       "      <td>en</td>\n",
       "      <td>[Locations:China,Jiangxi Province Unit:People ...</td>\n",
       "      <td>People</td>\n",
       "      <td>Evacuated</td>\n",
       "    </tr>\n",
       "    <tr>\n",
       "      <th>959</th>\n",
       "      <td>NaN</td>\n",
       "      <td>{'excerpt': '*VF (2 Mar 2017): Local media, as...</td>\n",
       "      <td>Evacuated</td>\n",
       "      <td>Person</td>\n",
       "      <td>*VF (2 Mar 2017): Local media, as of 1 Decembe...</td>\n",
       "      <td>en</td>\n",
       "      <td>[Locations:Aceh Unit:People Term:Evacuated Qua...</td>\n",
       "      <td>People</td>\n",
       "      <td>Evacuated</td>\n",
       "    </tr>\n",
       "    <tr>\n",
       "      <th>977</th>\n",
       "      <td>Informe de situación No. 9 Fuertes lluvias Pa...</td>\n",
       "      <td>{'excerpt': '3/11: One family was relocated to...</td>\n",
       "      <td>Relocated</td>\n",
       "      <td>Household</td>\n",
       "      <td>3/11: One family was relocated to a shelter. A...</td>\n",
       "      <td>en</td>\n",
       "      <td>[Locations: Unit:People Term:Relocated Quantit...</td>\n",
       "      <td>People</td>\n",
       "      <td>Relocated</td>\n",
       "    </tr>\n",
       "    <tr>\n",
       "      <th>993</th>\n",
       "      <td>NaN</td>\n",
       "      <td>{'excerpt': 'Not specific numbers other than \"...</td>\n",
       "      <td>Evacuated</td>\n",
       "      <td>Person</td>\n",
       "      <td>Not specific numbers other than \"hundreds evac...</td>\n",
       "      <td>en</td>\n",
       "      <td>[Locations: Unit:People Term:Evacuated Quantit...</td>\n",
       "      <td>People</td>\n",
       "      <td>Evacuated</td>\n",
       "    </tr>\n",
       "    <tr>\n",
       "      <th>1017</th>\n",
       "      <td>Posted April 19, 2016 by Aviation, Travel and ...</td>\n",
       "      <td>{'excerpt': 'Used just as a verficiation...\r\n",
       "\r",
       "...</td>\n",
       "      <td>Evacuated</td>\n",
       "      <td>Person</td>\n",
       "      <td>Used just as a verficiation...\\r\\n\\r\\nWindspee...</td>\n",
       "      <td>en</td>\n",
       "      <td>[Locations: Unit:People Term:Evacuated Quantit...</td>\n",
       "      <td>People</td>\n",
       "      <td>Evacuated</td>\n",
       "    </tr>\n",
       "    <tr>\n",
       "      <th>1081</th>\n",
       "      <td>NaN</td>\n",
       "      <td>{'excerpt': 'Due to rains, the number of displ...</td>\n",
       "      <td>Displaced</td>\n",
       "      <td>Person</td>\n",
       "      <td>Due to rains, the number of displaced raises t...</td>\n",
       "      <td>en</td>\n",
       "      <td>[Locations: Unit:People Term:Evacuated Quantit...</td>\n",
       "      <td>People</td>\n",
       "      <td>Evacuated</td>\n",
       "    </tr>\n",
       "    <tr>\n",
       "      <th>1082</th>\n",
       "      <td>NaN</td>\n",
       "      <td>{'excerpt': 'The number of IDPs is currently 1...</td>\n",
       "      <td>Multiple/Other</td>\n",
       "      <td>Person</td>\n",
       "      <td>The number of IDPs is currently 171 in 5 depar...</td>\n",
       "      <td>en</td>\n",
       "      <td>[Locations: Unit:People Term:Evacuated Quantit...</td>\n",
       "      <td>People</td>\n",
       "      <td>Evacuated</td>\n",
       "    </tr>\n",
       "    <tr>\n",
       "      <th>1101</th>\n",
       "      <td>NaN</td>\n",
       "      <td>{'public_figure_analysis': '', 'excerpt': ' \r\n",
       "...</td>\n",
       "      <td>Displaced</td>\n",
       "      <td>Person</td>\n",
       "      <td>\\r\\n   Actual displacements between 1 January...</td>\n",
       "      <td>en</td>\n",
       "      <td>[Locations: Unit:People Term:Forced to Flee Qu...</td>\n",
       "      <td>People</td>\n",
       "      <td>Forced to Flee</td>\n",
       "    </tr>\n",
       "    <tr>\n",
       "      <th>1103</th>\n",
       "      <td>NaN</td>\n",
       "      <td>{'excerpt': 'Landslides and floods caused by t...</td>\n",
       "      <td>Evacuated</td>\n",
       "      <td>Person</td>\n",
       "      <td>Landslides and floods caused by the 2016 rainy...</td>\n",
       "      <td>en</td>\n",
       "      <td>[Locations: Unit:People Term:Evacuated Quantit...</td>\n",
       "      <td>People</td>\n",
       "      <td>Evacuated</td>\n",
       "    </tr>\n",
       "    <tr>\n",
       "      <th>1124</th>\n",
       "      <td>UPDATE: More than 1,000 aftershocks have been ...</td>\n",
       "      <td>{'excerpt': 'Honduras also experienced damages...</td>\n",
       "      <td>Multiple/Other</td>\n",
       "      <td>Household</td>\n",
       "      <td>Honduras also experienced damages due to the e...</td>\n",
       "      <td>en</td>\n",
       "      <td>[Locations:Honduras,Nicaragua Unit:People Term...</td>\n",
       "      <td>People</td>\n",
       "      <td>Destroyed Housing</td>\n",
       "    </tr>\n",
       "    <tr>\n",
       "      <th>1129</th>\n",
       "      <td>Hundreds of people were evacuated from their h...</td>\n",
       "      <td>{'excerpt': 'Although exact figures are unavai...</td>\n",
       "      <td>Evacuated</td>\n",
       "      <td>Person</td>\n",
       "      <td>Although exact figures are unavailable, it is ...</td>\n",
       "      <td>en</td>\n",
       "      <td>[Locations: Unit:People Term:Displaced Quantit...</td>\n",
       "      <td>People</td>\n",
       "      <td>Displaced</td>\n",
       "    </tr>\n",
       "    <tr>\n",
       "      <th>1130</th>\n",
       "      <td>NaN</td>\n",
       "      <td>{'excerpt': 'According to national civil prote...</td>\n",
       "      <td>Evacuated</td>\n",
       "      <td>Person</td>\n",
       "      <td>According to national civil protection, as of ...</td>\n",
       "      <td>en</td>\n",
       "      <td>[Locations:Porto Unit:People Term:Evacuated Qu...</td>\n",
       "      <td>People</td>\n",
       "      <td>Evacuated</td>\n",
       "    </tr>\n",
       "    <tr>\n",
       "      <th>1132</th>\n",
       "      <td>Informe de Situación – 16/05/2017 Época lluvio...</td>\n",
       "      <td>{'public_figure_analysis': '', 'excerpt': '1,9...</td>\n",
       "      <td>Destroyed Housing</td>\n",
       "      <td>Household</td>\n",
       "      <td>1,939 affected people, 51 families whose prope...</td>\n",
       "      <td>en</td>\n",
       "      <td>[Locations: Unit:People Term:Destroyed Housing...</td>\n",
       "      <td>People</td>\n",
       "      <td>Destroyed Housing</td>\n",
       "    </tr>\n",
       "    <tr>\n",
       "      <th>1253</th>\n",
       "      <td>Event Time (UTC): Event Time (LOC): Event Type...</td>\n",
       "      <td>{'excerpt': 'A forest fire started on 8 August...</td>\n",
       "      <td>Evacuated</td>\n",
       "      <td>Person</td>\n",
       "      <td>A forest fire started on 8 August in the munic...</td>\n",
       "      <td>en</td>\n",
       "      <td>[Locations:Funchal,Madeira Island Unit:People ...</td>\n",
       "      <td>People</td>\n",
       "      <td>Evacuated</td>\n",
       "    </tr>\n",
       "    <tr>\n",
       "      <th>1262</th>\n",
       "      <td>Share the news \"At the moment the emergency si...</td>\n",
       "      <td>{'excerpt': 'At present, the water was withdra...</td>\n",
       "      <td>Evacuated</td>\n",
       "      <td>Person</td>\n",
       "      <td>At present, the water was withdrawn from 421 h...</td>\n",
       "      <td>en</td>\n",
       "      <td>[Locations: Unit:People Term:Evacuated Quantit...</td>\n",
       "      <td>People</td>\n",
       "      <td>Evacuated</td>\n",
       "    </tr>\n",
       "    <tr>\n",
       "      <th>1263</th>\n",
       "      <td>Share the news \"At the moment the emergency si...</td>\n",
       "      <td>{'excerpt': 'At present, the water was withdra...</td>\n",
       "      <td>Evacuated</td>\n",
       "      <td>Person</td>\n",
       "      <td>At present, the water was withdrawn from 421 h...</td>\n",
       "      <td>en</td>\n",
       "      <td>[Locations: Unit:People Term:Evacuated Quantit...</td>\n",
       "      <td>People</td>\n",
       "      <td>Evacuated</td>\n",
       "    </tr>\n",
       "    <tr>\n",
       "      <th>1266</th>\n",
       "      <td>NaN</td>\n",
       "      <td>{'public_figure_analysis': '', 'excerpt': 'The...</td>\n",
       "      <td>Evacuated</td>\n",
       "      <td>Person</td>\n",
       "      <td>The latest figures, which have already been fo...</td>\n",
       "      <td>en</td>\n",
       "      <td>[Locations: Unit:People Term:Evacuated Quantit...</td>\n",
       "      <td>People</td>\n",
       "      <td>Evacuated</td>\n",
       "    </tr>\n",
       "    <tr>\n",
       "      <th>1267</th>\n",
       "      <td>NaN</td>\n",
       "      <td>{'public_figure_analysis': '', 'excerpt': 'The...</td>\n",
       "      <td>Evacuated</td>\n",
       "      <td>Person</td>\n",
       "      <td>The latest figures, which have already been fo...</td>\n",
       "      <td>en</td>\n",
       "      <td>[Locations: Unit:People Term:Evacuated Quantit...</td>\n",
       "      <td>People</td>\n",
       "      <td>Evacuated</td>\n",
       "    </tr>\n",
       "    <tr>\n",
       "      <th>1299</th>\n",
       "      <td>NaN</td>\n",
       "      <td>{'excerpt': '948098 displaced\n",
       "\n",
       "Selama 1 Januar...</td>\n",
       "      <td>Evacuated</td>\n",
       "      <td>Person</td>\n",
       "      <td>948098 displaced\\n\\nSelama 1 Januari hingga 12...</td>\n",
       "      <td>en</td>\n",
       "      <td>[Locations: Unit:People Term:Displaced Quantit...</td>\n",
       "      <td>People</td>\n",
       "      <td>Displaced</td>\n",
       "    </tr>\n",
       "    <tr>\n",
       "      <th>1300</th>\n",
       "      <td>PHILIPPINES On 19 October, Category 4 Typhoon ...</td>\n",
       "      <td>{'excerpt': 'Figure seems to refer to pre-empt...</td>\n",
       "      <td>Evacuated</td>\n",
       "      <td>Person</td>\n",
       "      <td>Figure seems to refer to pre-emptive evacuatio...</td>\n",
       "      <td>en</td>\n",
       "      <td>[Locations: Unit:People Term:Evacuated Quantit...</td>\n",
       "      <td>People</td>\n",
       "      <td>Evacuated</td>\n",
       "    </tr>\n",
       "    <tr>\n",
       "      <th>1311</th>\n",
       "      <td>Local disaster management officials in Kano St...</td>\n",
       "      <td>{'excerpt': 'Local disaster management officia...</td>\n",
       "      <td>Destroyed Housing</td>\n",
       "      <td>Household</td>\n",
       "      <td>Local disaster management officials in Kano St...</td>\n",
       "      <td>en</td>\n",
       "      <td>[Locations:Nigeria Unit:People Term:Partially ...</td>\n",
       "      <td>People</td>\n",
       "      <td>Partially Destroyed Housing</td>\n",
       "    </tr>\n",
       "    <tr>\n",
       "      <th>1346</th>\n",
       "      <td>NaN</td>\n",
       "      <td>{'excerpt': 'During the rainy season that star...</td>\n",
       "      <td>Evacuated</td>\n",
       "      <td>Person</td>\n",
       "      <td>During the rainy season that started in may, C...</td>\n",
       "      <td>en</td>\n",
       "      <td>[Locations:Guatemala Unit:People Term:Evacuate...</td>\n",
       "      <td>People</td>\n",
       "      <td>Evacuated</td>\n",
       "    </tr>\n",
       "    <tr>\n",
       "      <th>1407</th>\n",
       "      <td>NaN</td>\n",
       "      <td>{'public_figure_analysis': '', 'excerpt': 'Fro...</td>\n",
       "      <td>Displaced</td>\n",
       "      <td>Person</td>\n",
       "      <td>From 1 January 2017 to 18 April 2017, 64,436 i...</td>\n",
       "      <td>en</td>\n",
       "      <td>[Locations: Unit:People Term:Forced to Flee Qu...</td>\n",
       "      <td>People</td>\n",
       "      <td>Forced to Flee</td>\n",
       "    </tr>\n",
       "    <tr>\n",
       "      <th>1436</th>\n",
       "      <td>CARIBBEAN – HURRICANE MATTHEW FACT SHEET #2, F...</td>\n",
       "      <td>{'excerpt': 'As of October 5, approximately 13...</td>\n",
       "      <td>Multiple/Other</td>\n",
       "      <td>Person</td>\n",
       "      <td>As of October 5, approximately 135,000 people ...</td>\n",
       "      <td>en</td>\n",
       "      <td>[Locations:Baracoa Unit:People Term:Displaced ...</td>\n",
       "      <td>People</td>\n",
       "      <td>Displaced</td>\n",
       "    </tr>\n",
       "    <tr>\n",
       "      <th>1437</th>\n",
       "      <td>HURRICANE MATTHEW SITUATION REPORT No. 5 as of...</td>\n",
       "      <td>{'excerpt': '\"1,079,214 people evacuated, 90% ...</td>\n",
       "      <td>Evacuated</td>\n",
       "      <td>Person</td>\n",
       "      <td>\"1,079,214 people evacuated, 90% of houses in ...</td>\n",
       "      <td>en</td>\n",
       "      <td>[Locations:Barbacoa Unit:People Term:Evacuated...</td>\n",
       "      <td>People</td>\n",
       "      <td>Evacuated</td>\n",
       "    </tr>\n",
       "    <tr>\n",
       "      <th>1438</th>\n",
       "      <td>HURRICANE MATTHEW SITUATION REPORT No. 5 as of...</td>\n",
       "      <td>{'excerpt': '- Haiti: 61,537 people evacuated,...</td>\n",
       "      <td>Evacuated</td>\n",
       "      <td>Person</td>\n",
       "      <td>- Haiti: 61,537 people evacuated, 1,855 floode...</td>\n",
       "      <td>en</td>\n",
       "      <td>[Locations: Unit:People Term:Evacuated Quantit...</td>\n",
       "      <td>People</td>\n",
       "      <td>Evacuated</td>\n",
       "    </tr>\n",
       "    <tr>\n",
       "      <th>1439</th>\n",
       "      <td>KEY FINDINGS - SUMMARY The JNA Field Teams con...</td>\n",
       "      <td>{'excerpt': 'The cyclone left 272 (15 men and ...</td>\n",
       "      <td>Displaced</td>\n",
       "      <td>Person</td>\n",
       "      <td>The cyclone left 272 (15 men and 12 women) peo...</td>\n",
       "      <td>en</td>\n",
       "      <td>[Locations: Unit:People Term:Displaced Quantit...</td>\n",
       "      <td>People</td>\n",
       "      <td>Displaced</td>\n",
       "    </tr>\n",
       "    <tr>\n",
       "      <th>1445</th>\n",
       "      <td>HURRICANE MATTHEW SITUATION REPORT No. 2 as of...</td>\n",
       "      <td>{'excerpt': 'Dominican Republic:  A total of 2...</td>\n",
       "      <td>Multiple/Other</td>\n",
       "      <td>Person</td>\n",
       "      <td>Dominican Republic:  A total of 202 houses hav...</td>\n",
       "      <td>en</td>\n",
       "      <td>[Locations: Unit:People Term:Destroyed Housing...</td>\n",
       "      <td>People</td>\n",
       "      <td>Destroyed Housing</td>\n",
       "    </tr>\n",
       "    <tr>\n",
       "      <th>1447</th>\n",
       "      <td>HURRICANE MATTHEW SITUATION REPORT No. 3 as of...</td>\n",
       "      <td>{'excerpt': 'Cuba: Some 1,079,000 people (944,...</td>\n",
       "      <td>Evacuated</td>\n",
       "      <td>Person</td>\n",
       "      <td>Cuba: Some 1,079,000 people (944,000 in relati...</td>\n",
       "      <td>en</td>\n",
       "      <td>[Locations:Cuba Unit:People Term:Evacuated Qua...</td>\n",
       "      <td>People</td>\n",
       "      <td>Evacuated</td>\n",
       "    </tr>\n",
       "    <tr>\n",
       "      <th>1463</th>\n",
       "      <td>HAITI: Hurricane Matthew Situation Report No. ...</td>\n",
       "      <td>{'excerpt': 'Between 140,000 and 175,000 displ...</td>\n",
       "      <td>Displaced</td>\n",
       "      <td>Person</td>\n",
       "      <td>Between 140,000 and 175,000 displaced people a...</td>\n",
       "      <td>en</td>\n",
       "      <td>[Locations: Unit:People Term:Displaced Quantit...</td>\n",
       "      <td>People</td>\n",
       "      <td>Displaced</td>\n",
       "    </tr>\n",
       "    <tr>\n",
       "      <th>1479</th>\n",
       "      <td>5th Disaster Response Report of Typhoon Merant...</td>\n",
       "      <td>{'excerpt': 'Evacuation (Data source: Interior...</td>\n",
       "      <td>Evacuated</td>\n",
       "      <td>Person</td>\n",
       "      <td>Evacuation (Data source: Interior ministry civ...</td>\n",
       "      <td>en</td>\n",
       "      <td>[Locations: Unit:People Term:Evacuated Quantit...</td>\n",
       "      <td>People</td>\n",
       "      <td>Evacuated</td>\n",
       "    </tr>\n",
       "    <tr>\n",
       "      <th>1531</th>\n",
       "      <td>NaN</td>\n",
       "      <td>{'excerpt': 'In the San Miguel Department, the...</td>\n",
       "      <td>Evacuated</td>\n",
       "      <td>Household</td>\n",
       "      <td>In the San Miguel Department, the Civil Protec...</td>\n",
       "      <td>en</td>\n",
       "      <td>[Locations:La Pelota Unit:People Term:Sheltere...</td>\n",
       "      <td>People</td>\n",
       "      <td>Sheltered</td>\n",
       "    </tr>\n",
       "    <tr>\n",
       "      <th>1533</th>\n",
       "      <td>NaN</td>\n",
       "      <td>{'public_figure_analysis': '', 'excerpt': 'A t...</td>\n",
       "      <td>Displaced</td>\n",
       "      <td>Person</td>\n",
       "      <td>A total of 341 have evacuated in the following...</td>\n",
       "      <td>en</td>\n",
       "      <td>[Locations:Bella Unit:People Term:Evacuated Qu...</td>\n",
       "      <td>People</td>\n",
       "      <td>Evacuated</td>\n",
       "    </tr>\n",
       "    <tr>\n",
       "      <th>1536</th>\n",
       "      <td>NaN</td>\n",
       "      <td>{'public_figure_analysis': '', 'excerpt': 'As ...</td>\n",
       "      <td>Displaced</td>\n",
       "      <td>Person</td>\n",
       "      <td>As of 14 June 6,508 people have been displaced...</td>\n",
       "      <td>en</td>\n",
       "      <td>[Locations:Salto,Paysand,Artigas Unit:People T...</td>\n",
       "      <td>People</td>\n",
       "      <td>Evacuated</td>\n",
       "    </tr>\n",
       "    <tr>\n",
       "      <th>1571</th>\n",
       "      <td>Vallia Huff, who lost her roof after hurricane...</td>\n",
       "      <td>{'excerpt': 'Back in 2008, hurricane Ike damag...</td>\n",
       "      <td>Multiple/Other</td>\n",
       "      <td>Household</td>\n",
       "      <td>Back in 2008, hurricane Ike damaged thousands ...</td>\n",
       "      <td>en</td>\n",
       "      <td>[Locations:Houston Unit:People Term:Partially ...</td>\n",
       "      <td>People</td>\n",
       "      <td>Partially Destroyed Housing</td>\n",
       "    </tr>\n",
       "    <tr>\n",
       "      <th>1680</th>\n",
       "      <td>NaN</td>\n",
       "      <td>{'public_figure_analysis': '', 'excerpt': 'mor...</td>\n",
       "      <td>Evacuated</td>\n",
       "      <td>Person</td>\n",
       "      <td>more than 1100 evacuated</td>\n",
       "      <td>en</td>\n",
       "      <td>[Locations: Unit:People Term:Evacuated Quantit...</td>\n",
       "      <td>People</td>\n",
       "      <td>Evacuated</td>\n",
       "    </tr>\n",
       "    <tr>\n",
       "      <th>1757</th>\n",
       "      <td>SANTIAGO, Chile — A series of wildfires has de...</td>\n",
       "      <td>{'public_figure_analysis': '', 'excerpt': 'As ...</td>\n",
       "      <td>Multiple/Other</td>\n",
       "      <td>Person</td>\n",
       "      <td>As of Friday morning, about 130 active fires r...</td>\n",
       "      <td>en</td>\n",
       "      <td>[Locations: Unit:People Term:Evacuated Quantit...</td>\n",
       "      <td>People</td>\n",
       "      <td>Evacuated</td>\n",
       "    </tr>\n",
       "    <tr>\n",
       "      <th>1778</th>\n",
       "      <td>GDACS Event Report - Flood impact Summary Desc...</td>\n",
       "      <td>{'public_figure_analysis': '', 'excerpt': 'Sum...</td>\n",
       "      <td>Displaced</td>\n",
       "      <td>Person</td>\n",
       "      <td>Summary\\r\\nDescription: 0\\r\\nThis flood is exp...</td>\n",
       "      <td>en</td>\n",
       "      <td>[Locations: Unit:People Term:Displaced Quantit...</td>\n",
       "      <td>People</td>\n",
       "      <td>Displaced</td>\n",
       "    </tr>\n",
       "    <tr>\n",
       "      <th>1793</th>\n",
       "      <td>Aashian (standing) with a group of women in a ...</td>\n",
       "      <td>{'public_figure_analysis': '', 'excerpt': 'In ...</td>\n",
       "      <td>Displaced</td>\n",
       "      <td>Household</td>\n",
       "      <td>In the aftermath of the violence in which over...</td>\n",
       "      <td>en</td>\n",
       "      <td>[Locations: Unit:People Term:Displaced Quantit...</td>\n",
       "      <td>People</td>\n",
       "      <td>Displaced</td>\n",
       "    </tr>\n",
       "    <tr>\n",
       "      <th>1797</th>\n",
       "      <td>NaN</td>\n",
       "      <td>{'public_figure_analysis': '', 'excerpt': 'Tro...</td>\n",
       "      <td>Destroyed Housing</td>\n",
       "      <td>Household</td>\n",
       "      <td>Tropical Cyclone DINEO made landfall on the co...</td>\n",
       "      <td>en</td>\n",
       "      <td>[Locations:Inhambane province,Mozambique Unit:...</td>\n",
       "      <td>People</td>\n",
       "      <td>Partially Destroyed Housing</td>\n",
       "    </tr>\n",
       "    <tr>\n",
       "      <th>1813</th>\n",
       "      <td>GDACS Event Report - Flood impact Summary Desc...</td>\n",
       "      <td>{'public_figure_analysis': 'The United Nations...</td>\n",
       "      <td>Displaced</td>\n",
       "      <td>Person</td>\n",
       "      <td>This flood is expected to have a low humanitar...</td>\n",
       "      <td>en</td>\n",
       "      <td>[Locations:Chittagong,Chittagong,Laxmipur,Feni...</td>\n",
       "      <td>People</td>\n",
       "      <td>Displaced</td>\n",
       "    </tr>\n",
       "    <tr>\n",
       "      <th>1816</th>\n",
       "      <td>Media playback is unsupported on your device M...</td>\n",
       "      <td>{'public_figure_analysis': '', 'excerpt': 'Fir...</td>\n",
       "      <td>Evacuated</td>\n",
       "      <td>Person</td>\n",
       "      <td>Fires have raged along the Adriatic coast for ...</td>\n",
       "      <td>en</td>\n",
       "      <td>[Locations:Lustica,Montenegro Unit:People Term...</td>\n",
       "      <td>People</td>\n",
       "      <td>Forced to Flee</td>\n",
       "    </tr>\n",
       "    <tr>\n",
       "      <th>1835</th>\n",
       "      <td>Tragedy struck in Suleja, Niger State as up to...</td>\n",
       "      <td>{'public_figure_analysis': '', 'excerpt': 'Tra...</td>\n",
       "      <td>Displaced</td>\n",
       "      <td>Person</td>\n",
       "      <td>Tragedy struck in Suleja, Niger State as up to...</td>\n",
       "      <td>en</td>\n",
       "      <td>[Locations:Suleja Unit:People Term:Destroyed H...</td>\n",
       "      <td>People</td>\n",
       "      <td>Destroyed Housing</td>\n",
       "    </tr>\n",
       "    <tr>\n",
       "      <th>1898</th>\n",
       "      <td>BRAZIL FLOODS Pernambuco and Alagoas Short no...</td>\n",
       "      <td>{'public_figure_analysis': '', 'excerpt': 'In ...</td>\n",
       "      <td>Displaced</td>\n",
       "      <td>Person</td>\n",
       "      <td>In the last week of May, heavy rainfall and fl...</td>\n",
       "      <td>en</td>\n",
       "      <td>[Locations:Pernambuco Unit:People Term:Displac...</td>\n",
       "      <td>People</td>\n",
       "      <td>Displaced</td>\n",
       "    </tr>\n",
       "    <tr>\n",
       "      <th>1911</th>\n",
       "      <td>GDACS Event Report - Flood impact Summary Desc...</td>\n",
       "      <td>{'public_figure_analysis': '', 'excerpt': 'Sum...</td>\n",
       "      <td>Displaced</td>\n",
       "      <td>Person</td>\n",
       "      <td>Summary\\r\\nDescription: Heavy rain has been af...</td>\n",
       "      <td>en</td>\n",
       "      <td>[Locations: Unit:People Term:Displaced Quantit...</td>\n",
       "      <td>People</td>\n",
       "      <td>Displaced</td>\n",
       "    </tr>\n",
       "    <tr>\n",
       "      <th>1916</th>\n",
       "      <td>This flood can have a low humanitarian impact ...</td>\n",
       "      <td>{'public_figure_analysis': '', 'excerpt': 'Thi...</td>\n",
       "      <td>Displaced</td>\n",
       "      <td>Person</td>\n",
       "      <td>This flood is expected to have a low humanitar...</td>\n",
       "      <td>en</td>\n",
       "      <td>[Locations: Unit:People Term:Displaced Quantit...</td>\n",
       "      <td>People</td>\n",
       "      <td>Displaced</td>\n",
       "    </tr>\n",
       "  </tbody>\n",
       "</table>\n",
       "</div>"
      ],
      "text/plain": [
       "                                              content_y  \\\n",
       "10    6 月 20 日からの西日本の大雨に係る被害状況等について ※これは速報であり、数値等は今後...   \n",
       "137                                                 NaN   \n",
       "415   China As of 23 June, 9 million people have bee...   \n",
       "459    MAOMING, May 21, 2016 (Xinhua) -- Aerial phot...   \n",
       "548   Progress to Date Recovery and Reconstruction f...   \n",
       "554   Highlights  Torrential monsoon rains and floo...   \n",
       "560   Emergency Response Coordination Centre (ERCC) ...   \n",
       "577   On Friday morning, a day after tens of thousan...   \n",
       "616   Each day, ERCC publishes a map of the most imp...   \n",
       "618   state ALABAMA ALASKA ARIZONA ARKANSAS CALIFORN...   \n",
       "640   HURRICANE MATTHEW SITUATION REPORT No. 7 as of...   \n",
       "710   Information bulletin China: Typhoon Rammasun f...   \n",
       "731   平成２８年（２０１６年）鳥取県中部を震源とする地震 に係る被害状況等について ※これは速報で...   \n",
       "793   A travers Haiti lundi 9 mai 2016 P-au-P, 09 ma...   \n",
       "845   NANCHANG, May 20 (Xinhua) -- Heavy rainfall th...   \n",
       "959                                                 NaN   \n",
       "977    Informe de situación No. 9 Fuertes lluvias Pa...   \n",
       "993                                                 NaN   \n",
       "1017  Posted April 19, 2016 by Aviation, Travel and ...   \n",
       "1081                                                NaN   \n",
       "1082                                                NaN   \n",
       "1101                                                NaN   \n",
       "1103                                                NaN   \n",
       "1124  UPDATE: More than 1,000 aftershocks have been ...   \n",
       "1129  Hundreds of people were evacuated from their h...   \n",
       "1130                                                NaN   \n",
       "1132  Informe de Situación – 16/05/2017 Época lluvio...   \n",
       "1253  Event Time (UTC): Event Time (LOC): Event Type...   \n",
       "1262  Share the news \"At the moment the emergency si...   \n",
       "1263  Share the news \"At the moment the emergency si...   \n",
       "1266                                                NaN   \n",
       "1267                                                NaN   \n",
       "1299                                                NaN   \n",
       "1300  PHILIPPINES On 19 October, Category 4 Typhoon ...   \n",
       "1311  Local disaster management officials in Kano St...   \n",
       "1346                                                NaN   \n",
       "1407                                                NaN   \n",
       "1436  CARIBBEAN – HURRICANE MATTHEW FACT SHEET #2, F...   \n",
       "1437  HURRICANE MATTHEW SITUATION REPORT No. 5 as of...   \n",
       "1438  HURRICANE MATTHEW SITUATION REPORT No. 5 as of...   \n",
       "1439  KEY FINDINGS - SUMMARY The JNA Field Teams con...   \n",
       "1445  HURRICANE MATTHEW SITUATION REPORT No. 2 as of...   \n",
       "1447  HURRICANE MATTHEW SITUATION REPORT No. 3 as of...   \n",
       "1463  HAITI: Hurricane Matthew Situation Report No. ...   \n",
       "1479  5th Disaster Response Report of Typhoon Merant...   \n",
       "1531                                                NaN   \n",
       "1533                                                NaN   \n",
       "1536                                                NaN   \n",
       "1571  Vallia Huff, who lost her roof after hurricane...   \n",
       "1680                                                NaN   \n",
       "1757  SANTIAGO, Chile — A series of wildfires has de...   \n",
       "1778  GDACS Event Report - Flood impact Summary Desc...   \n",
       "1793  Aashian (standing) with a group of women in a ...   \n",
       "1797                                                NaN   \n",
       "1813  GDACS Event Report - Flood impact Summary Desc...   \n",
       "1816  Media playback is unsupported on your device M...   \n",
       "1835  Tragedy struck in Suleja, Niger State as up to...   \n",
       "1898   BRAZIL FLOODS Pernambuco and Alagoas Short no...   \n",
       "1911  GDACS Event Report - Flood impact Summary Desc...   \n",
       "1916  This flood can have a low humanitarian impact ...   \n",
       "\n",
       "                                                   data  \\\n",
       "10    {'excerpt': 'Households\n",
       "Totally destroyed = 1...   \n",
       "137   {'excerpt': '25 march - 281 evacuated\n",
       "31 march...   \n",
       "415   {'excerpt': '100 more reported displaced compa...   \n",
       "459   {'excerpt': 'References to two cities:\n",
       "\n",
       "- Xiny...   \n",
       "548   {'excerpt': 'As of 14 July 2016 approximately ...   \n",
       "554   {'excerpt': 'The Government confirmed that sin...   \n",
       "560   {'excerpt': 'Heavy rain has been affecting sev...   \n",
       "577   {'excerpt': 'On Friday morning, a day after te...   \n",
       "616   {'excerpt': 'Media reported more than 8800 eva...   \n",
       "618   {'excerpt': 'All evacuations have been lifted....   \n",
       "640   {'excerpt': 'Cuba: At the top, the document st...   \n",
       "710   {'excerpt': '628,000 relocated and 9.96 millio...   \n",
       "731   {'excerpt': 'fully destroyed - 14\n",
       "partially d...   \n",
       "793   {'excerpt': '4 people dead, several hundred fa...   \n",
       "845   {'excerpt': '*Not a clear distinction between ...   \n",
       "959   {'excerpt': '*VF (2 Mar 2017): Local media, as...   \n",
       "977   {'excerpt': '3/11: One family was relocated to...   \n",
       "993   {'excerpt': 'Not specific numbers other than \"...   \n",
       "1017  {'excerpt': 'Used just as a verficiation...\n",
       "\n",
       "...   \n",
       "1081  {'excerpt': 'Due to rains, the number of displ...   \n",
       "1082  {'excerpt': 'The number of IDPs is currently 1...   \n",
       "1101  {'public_figure_analysis': '', 'excerpt': ' \n",
       "...   \n",
       "1103  {'excerpt': 'Landslides and floods caused by t...   \n",
       "1124  {'excerpt': 'Honduras also experienced damages...   \n",
       "1129  {'excerpt': 'Although exact figures are unavai...   \n",
       "1130  {'excerpt': 'According to national civil prote...   \n",
       "1132  {'public_figure_analysis': '', 'excerpt': '1,9...   \n",
       "1253  {'excerpt': 'A forest fire started on 8 August...   \n",
       "1262  {'excerpt': 'At present, the water was withdra...   \n",
       "1263  {'excerpt': 'At present, the water was withdra...   \n",
       "1266  {'public_figure_analysis': '', 'excerpt': 'The...   \n",
       "1267  {'public_figure_analysis': '', 'excerpt': 'The...   \n",
       "1299  {'excerpt': '948098 displaced\n",
       "\n",
       "Selama 1 Januar...   \n",
       "1300  {'excerpt': 'Figure seems to refer to pre-empt...   \n",
       "1311  {'excerpt': 'Local disaster management officia...   \n",
       "1346  {'excerpt': 'During the rainy season that star...   \n",
       "1407  {'public_figure_analysis': '', 'excerpt': 'Fro...   \n",
       "1436  {'excerpt': 'As of October 5, approximately 13...   \n",
       "1437  {'excerpt': '\"1,079,214 people evacuated, 90% ...   \n",
       "1438  {'excerpt': '- Haiti: 61,537 people evacuated,...   \n",
       "1439  {'excerpt': 'The cyclone left 272 (15 men and ...   \n",
       "1445  {'excerpt': 'Dominican Republic:  A total of 2...   \n",
       "1447  {'excerpt': 'Cuba: Some 1,079,000 people (944,...   \n",
       "1463  {'excerpt': 'Between 140,000 and 175,000 displ...   \n",
       "1479  {'excerpt': 'Evacuation (Data source: Interior...   \n",
       "1531  {'excerpt': 'In the San Miguel Department, the...   \n",
       "1533  {'public_figure_analysis': '', 'excerpt': 'A t...   \n",
       "1536  {'public_figure_analysis': '', 'excerpt': 'As ...   \n",
       "1571  {'excerpt': 'Back in 2008, hurricane Ike damag...   \n",
       "1680  {'public_figure_analysis': '', 'excerpt': 'mor...   \n",
       "1757  {'public_figure_analysis': '', 'excerpt': 'As ...   \n",
       "1778  {'public_figure_analysis': '', 'excerpt': 'Sum...   \n",
       "1793  {'public_figure_analysis': '', 'excerpt': 'In ...   \n",
       "1797  {'public_figure_analysis': '', 'excerpt': 'Tro...   \n",
       "1813  {'public_figure_analysis': 'The United Nations...   \n",
       "1816  {'public_figure_analysis': '', 'excerpt': 'Fir...   \n",
       "1835  {'public_figure_analysis': '', 'excerpt': 'Tra...   \n",
       "1898  {'public_figure_analysis': '', 'excerpt': 'In ...   \n",
       "1911  {'public_figure_analysis': '', 'excerpt': 'Sum...   \n",
       "1916  {'public_figure_analysis': '', 'excerpt': 'Thi...   \n",
       "\n",
       "                       term       unit  \\\n",
       "10    Uninhabitable Housing  Household   \n",
       "137               Evacuated     Person   \n",
       "415               Displaced     Person   \n",
       "459               Evacuated     Person   \n",
       "548               Evacuated     Person   \n",
       "554                Affected  Household   \n",
       "560               Evacuated     Person   \n",
       "577               Evacuated     Person   \n",
       "616               Evacuated     Person   \n",
       "618               Evacuated     Person   \n",
       "640               Evacuated     Person   \n",
       "710               Displaced     Person   \n",
       "731       Destroyed Housing  Household   \n",
       "793       Destroyed Housing  Household   \n",
       "845               Evacuated     Person   \n",
       "959               Evacuated     Person   \n",
       "977               Relocated  Household   \n",
       "993               Evacuated     Person   \n",
       "1017              Evacuated     Person   \n",
       "1081              Displaced     Person   \n",
       "1082         Multiple/Other     Person   \n",
       "1101              Displaced     Person   \n",
       "1103              Evacuated     Person   \n",
       "1124         Multiple/Other  Household   \n",
       "1129              Evacuated     Person   \n",
       "1130              Evacuated     Person   \n",
       "1132      Destroyed Housing  Household   \n",
       "1253              Evacuated     Person   \n",
       "1262              Evacuated     Person   \n",
       "1263              Evacuated     Person   \n",
       "1266              Evacuated     Person   \n",
       "1267              Evacuated     Person   \n",
       "1299              Evacuated     Person   \n",
       "1300              Evacuated     Person   \n",
       "1311      Destroyed Housing  Household   \n",
       "1346              Evacuated     Person   \n",
       "1407              Displaced     Person   \n",
       "1436         Multiple/Other     Person   \n",
       "1437              Evacuated     Person   \n",
       "1438              Evacuated     Person   \n",
       "1439              Displaced     Person   \n",
       "1445         Multiple/Other     Person   \n",
       "1447              Evacuated     Person   \n",
       "1463              Displaced     Person   \n",
       "1479              Evacuated     Person   \n",
       "1531              Evacuated  Household   \n",
       "1533              Displaced     Person   \n",
       "1536              Displaced     Person   \n",
       "1571         Multiple/Other  Household   \n",
       "1680              Evacuated     Person   \n",
       "1757         Multiple/Other     Person   \n",
       "1778              Displaced     Person   \n",
       "1793              Displaced  Household   \n",
       "1797      Destroyed Housing  Household   \n",
       "1813              Displaced     Person   \n",
       "1816              Evacuated     Person   \n",
       "1835              Displaced     Person   \n",
       "1898              Displaced     Person   \n",
       "1911              Displaced     Person   \n",
       "1916              Displaced     Person   \n",
       "\n",
       "                                                excerpt lang  \\\n",
       "10    Households\\r\\nTotally destroyed = 14\\r\\nPartia...   en   \n",
       "137   25 march - 281 evacuated\\n31 march - 344 evacu...   en   \n",
       "415   100 more reported displaced compared to BNPB d...   en   \n",
       "459   References to two cities:\\n\\n- Xinyi, a small,...   en   \n",
       "548   As of 14 July 2016 approximately 148000 people...   en   \n",
       "554   The Government confirmed that since the heavy ...   en   \n",
       "560   Heavy rain has been affecting several areas of...   en   \n",
       "577   On Friday morning, a day after tens of thousan...   en   \n",
       "616   Media reported more than 8800 evacuated in wes...   en   \n",
       "618   All evacuations have been lifted. 1,000 evacua...   en   \n",
       "640   Cuba: At the top, the document states that 37,...   en   \n",
       "710   628,000 relocated and 9.96 million people affe...   en   \n",
       "731   fully destroyed - 14\\r\\npartially destroyed - 198   en   \n",
       "793   4 people dead, several hundred families affect...   en   \n",
       "845   *Not a clear distinction between 2000 relocate...   en   \n",
       "959   *VF (2 Mar 2017): Local media, as of 1 Decembe...   en   \n",
       "977   3/11: One family was relocated to a shelter. A...   en   \n",
       "993   Not specific numbers other than \"hundreds evac...   en   \n",
       "1017  Used just as a verficiation...\\r\\n\\r\\nWindspee...   en   \n",
       "1081  Due to rains, the number of displaced raises t...   en   \n",
       "1082  The number of IDPs is currently 171 in 5 depar...   en   \n",
       "1101   \\r\\n   Actual displacements between 1 January...   en   \n",
       "1103  Landslides and floods caused by the 2016 rainy...   en   \n",
       "1124  Honduras also experienced damages due to the e...   en   \n",
       "1129  Although exact figures are unavailable, it is ...   en   \n",
       "1130  According to national civil protection, as of ...   en   \n",
       "1132  1,939 affected people, 51 families whose prope...   en   \n",
       "1253  A forest fire started on 8 August in the munic...   en   \n",
       "1262  At present, the water was withdrawn from 421 h...   en   \n",
       "1263  At present, the water was withdrawn from 421 h...   en   \n",
       "1266  The latest figures, which have already been fo...   en   \n",
       "1267  The latest figures, which have already been fo...   en   \n",
       "1299  948098 displaced\\n\\nSelama 1 Januari hingga 12...   en   \n",
       "1300  Figure seems to refer to pre-emptive evacuatio...   en   \n",
       "1311  Local disaster management officials in Kano St...   en   \n",
       "1346  During the rainy season that started in may, C...   en   \n",
       "1407  From 1 January 2017 to 18 April 2017, 64,436 i...   en   \n",
       "1436  As of October 5, approximately 135,000 people ...   en   \n",
       "1437  \"1,079,214 people evacuated, 90% of houses in ...   en   \n",
       "1438  - Haiti: 61,537 people evacuated, 1,855 floode...   en   \n",
       "1439  The cyclone left 272 (15 men and 12 women) peo...   en   \n",
       "1445  Dominican Republic:  A total of 202 houses hav...   en   \n",
       "1447  Cuba: Some 1,079,000 people (944,000 in relati...   en   \n",
       "1463  Between 140,000 and 175,000 displaced people a...   en   \n",
       "1479  Evacuation (Data source: Interior ministry civ...   en   \n",
       "1531  In the San Miguel Department, the Civil Protec...   en   \n",
       "1533  A total of 341 have evacuated in the following...   en   \n",
       "1536  As of 14 June 6,508 people have been displaced...   en   \n",
       "1571  Back in 2008, hurricane Ike damaged thousands ...   en   \n",
       "1680                          more than 1100 evacuated    en   \n",
       "1757  As of Friday morning, about 130 active fires r...   en   \n",
       "1778  Summary\\r\\nDescription: 0\\r\\nThis flood is exp...   en   \n",
       "1793  In the aftermath of the violence in which over...   en   \n",
       "1797  Tropical Cyclone DINEO made landfall on the co...   en   \n",
       "1813  This flood is expected to have a low humanitar...   en   \n",
       "1816  Fires have raged along the Adriatic coast for ...   en   \n",
       "1835  Tragedy struck in Suleja, Niger State as up to...   en   \n",
       "1898  In the last week of May, heavy rainfall and fl...   en   \n",
       "1911  Summary\\r\\nDescription: Heavy rain has been af...   en   \n",
       "1916  This flood is expected to have a low humanitar...   en   \n",
       "\n",
       "                                                reports first_unit  \\\n",
       "10    [Locations: Unit:People Term:Destroyed Housing...     People   \n",
       "137   [Locations: Unit:People Term:Evacuated Quantit...     People   \n",
       "415   [Locations: Unit:People Term:Displaced Quantit...     People   \n",
       "459   [Locations:Xinyi Unit:People Term:Displaced Qu...     People   \n",
       "548   [Locations: Unit:People Term:Displaced Quantit...     People   \n",
       "554   [Locations:Gelephu Unit:People Term:Relocated ...     People   \n",
       "560   [Locations:Aceh province Unit:People Term:Evac...     People   \n",
       "577   [Locations:Pakistan,Punjab Unit:People Term:Ev...     People   \n",
       "616   [Locations: Unit:People Term:Evacuated Quantit...     People   \n",
       "618   [Locations: Unit:People Term:Evacuated Quantit...     People   \n",
       "640   [Locations:Cuba Unit:People Term:Evacuated Qua...     People   \n",
       "710   [Locations: Unit:People Term:Relocated Quantit...     People   \n",
       "731   [Locations: Unit:People Term:Destroyed Housing...     People   \n",
       "793   [Locations:Baradres,Nippes Unit:People Term:Pa...     People   \n",
       "845   [Locations:China,Jiangxi Province Unit:People ...     People   \n",
       "959   [Locations:Aceh Unit:People Term:Evacuated Qua...     People   \n",
       "977   [Locations: Unit:People Term:Relocated Quantit...     People   \n",
       "993   [Locations: Unit:People Term:Evacuated Quantit...     People   \n",
       "1017  [Locations: Unit:People Term:Evacuated Quantit...     People   \n",
       "1081  [Locations: Unit:People Term:Evacuated Quantit...     People   \n",
       "1082  [Locations: Unit:People Term:Evacuated Quantit...     People   \n",
       "1101  [Locations: Unit:People Term:Forced to Flee Qu...     People   \n",
       "1103  [Locations: Unit:People Term:Evacuated Quantit...     People   \n",
       "1124  [Locations:Honduras,Nicaragua Unit:People Term...     People   \n",
       "1129  [Locations: Unit:People Term:Displaced Quantit...     People   \n",
       "1130  [Locations:Porto Unit:People Term:Evacuated Qu...     People   \n",
       "1132  [Locations: Unit:People Term:Destroyed Housing...     People   \n",
       "1253  [Locations:Funchal,Madeira Island Unit:People ...     People   \n",
       "1262  [Locations: Unit:People Term:Evacuated Quantit...     People   \n",
       "1263  [Locations: Unit:People Term:Evacuated Quantit...     People   \n",
       "1266  [Locations: Unit:People Term:Evacuated Quantit...     People   \n",
       "1267  [Locations: Unit:People Term:Evacuated Quantit...     People   \n",
       "1299  [Locations: Unit:People Term:Displaced Quantit...     People   \n",
       "1300  [Locations: Unit:People Term:Evacuated Quantit...     People   \n",
       "1311  [Locations:Nigeria Unit:People Term:Partially ...     People   \n",
       "1346  [Locations:Guatemala Unit:People Term:Evacuate...     People   \n",
       "1407  [Locations: Unit:People Term:Forced to Flee Qu...     People   \n",
       "1436  [Locations:Baracoa Unit:People Term:Displaced ...     People   \n",
       "1437  [Locations:Barbacoa Unit:People Term:Evacuated...     People   \n",
       "1438  [Locations: Unit:People Term:Evacuated Quantit...     People   \n",
       "1439  [Locations: Unit:People Term:Displaced Quantit...     People   \n",
       "1445  [Locations: Unit:People Term:Destroyed Housing...     People   \n",
       "1447  [Locations:Cuba Unit:People Term:Evacuated Qua...     People   \n",
       "1463  [Locations: Unit:People Term:Displaced Quantit...     People   \n",
       "1479  [Locations: Unit:People Term:Evacuated Quantit...     People   \n",
       "1531  [Locations:La Pelota Unit:People Term:Sheltere...     People   \n",
       "1533  [Locations:Bella Unit:People Term:Evacuated Qu...     People   \n",
       "1536  [Locations:Salto,Paysand,Artigas Unit:People T...     People   \n",
       "1571  [Locations:Houston Unit:People Term:Partially ...     People   \n",
       "1680  [Locations: Unit:People Term:Evacuated Quantit...     People   \n",
       "1757  [Locations: Unit:People Term:Evacuated Quantit...     People   \n",
       "1778  [Locations: Unit:People Term:Displaced Quantit...     People   \n",
       "1793  [Locations: Unit:People Term:Displaced Quantit...     People   \n",
       "1797  [Locations:Inhambane province,Mozambique Unit:...     People   \n",
       "1813  [Locations:Chittagong,Chittagong,Laxmipur,Feni...     People   \n",
       "1816  [Locations:Lustica,Montenegro Unit:People Term...     People   \n",
       "1835  [Locations:Suleja Unit:People Term:Destroyed H...     People   \n",
       "1898  [Locations:Pernambuco Unit:People Term:Displac...     People   \n",
       "1911  [Locations: Unit:People Term:Displaced Quantit...     People   \n",
       "1916  [Locations: Unit:People Term:Displaced Quantit...     People   \n",
       "\n",
       "                       first_term  \n",
       "10              Destroyed Housing  \n",
       "137                     Evacuated  \n",
       "415                     Displaced  \n",
       "459                     Displaced  \n",
       "548                     Displaced  \n",
       "554                     Relocated  \n",
       "560                     Evacuated  \n",
       "577                     Evacuated  \n",
       "616                     Evacuated  \n",
       "618                     Evacuated  \n",
       "640                     Evacuated  \n",
       "710                     Relocated  \n",
       "731             Destroyed Housing  \n",
       "793   Partially Destroyed Housing  \n",
       "845                     Evacuated  \n",
       "959                     Evacuated  \n",
       "977                     Relocated  \n",
       "993                     Evacuated  \n",
       "1017                    Evacuated  \n",
       "1081                    Evacuated  \n",
       "1082                    Evacuated  \n",
       "1101               Forced to Flee  \n",
       "1103                    Evacuated  \n",
       "1124            Destroyed Housing  \n",
       "1129                    Displaced  \n",
       "1130                    Evacuated  \n",
       "1132            Destroyed Housing  \n",
       "1253                    Evacuated  \n",
       "1262                    Evacuated  \n",
       "1263                    Evacuated  \n",
       "1266                    Evacuated  \n",
       "1267                    Evacuated  \n",
       "1299                    Displaced  \n",
       "1300                    Evacuated  \n",
       "1311  Partially Destroyed Housing  \n",
       "1346                    Evacuated  \n",
       "1407               Forced to Flee  \n",
       "1436                    Displaced  \n",
       "1437                    Evacuated  \n",
       "1438                    Evacuated  \n",
       "1439                    Displaced  \n",
       "1445            Destroyed Housing  \n",
       "1447                    Evacuated  \n",
       "1463                    Displaced  \n",
       "1479                    Evacuated  \n",
       "1531                    Sheltered  \n",
       "1533                    Evacuated  \n",
       "1536                    Evacuated  \n",
       "1571  Partially Destroyed Housing  \n",
       "1680                    Evacuated  \n",
       "1757                    Evacuated  \n",
       "1778                    Displaced  \n",
       "1793                    Displaced  \n",
       "1797  Partially Destroyed Housing  \n",
       "1813                    Displaced  \n",
       "1816               Forced to Flee  \n",
       "1835            Destroyed Housing  \n",
       "1898                    Displaced  \n",
       "1911                    Displaced  \n",
       "1916                    Displaced  "
      ]
     },
     "execution_count": 74,
     "metadata": {},
     "output_type": "execute_result"
    }
   ],
   "source": [
    "df[df['first_unit'] == 'People']"
   ]
  },
  {
   "cell_type": "code",
   "execution_count": null,
   "metadata": {
    "collapsed": true
   },
   "outputs": [],
   "source": []
  },
  {
   "cell_type": "code",
   "execution_count": null,
   "metadata": {
    "collapsed": true
   },
   "outputs": [],
   "source": []
  },
  {
   "cell_type": "code",
   "execution_count": null,
   "metadata": {
    "collapsed": true
   },
   "outputs": [],
   "source": []
  },
  {
   "cell_type": "code",
   "execution_count": 65,
   "metadata": {
    "collapsed": false
   },
   "outputs": [
    {
     "data": {
      "text/plain": [
       "0       [Locations:China,Liaoning province Unit:Person...\n",
       "1       [Locations:Benxi City Unit:Person Term:Evacuat...\n",
       "2       [Locations:Tieling City Unit:Person Term:Reloc...\n",
       "3       [Locations:Henan,Hebei Unit:Person Term:Displa...\n",
       "4                                                      []\n",
       "5       [Locations: Unit:Household Term:Destroyed Hous...\n",
       "7       [Locations: Unit:Person Term:Evacuated Quantit...\n",
       "8                                                      []\n",
       "9                                                      []\n",
       "10      [Locations: Unit:People Term:Destroyed Housing...\n",
       "11                                                     []\n",
       "12      [Locations: Unit:Person Term:Displaced Quantit...\n",
       "13                                                     []\n",
       "14                                                     []\n",
       "15                                                     []\n",
       "16                                                     []\n",
       "17                                                     []\n",
       "18                                                     []\n",
       "19      [Locations: Unit:Person Term:Forced to Flee Qu...\n",
       "20                                                     []\n",
       "21                                                     []\n",
       "22                                                     []\n",
       "23                                                     []\n",
       "24                                                     []\n",
       "25                                                     []\n",
       "26      [Locations:Dominica Unit:Household Term:Displa...\n",
       "28      [Locations: Unit:Person Term:Displaced Quantit...\n",
       "30                                                     []\n",
       "31                                                     []\n",
       "33                                                     []\n",
       "                              ...                        \n",
       "1889    [Locations:Isthmus,Juchitn,Isthmus,Mexico,Oaxa...\n",
       "1890    [Locations:Afghanistan Unit:Household Term:Des...\n",
       "1891    [Locations:Badakhshan province,Raghistan Unit:...\n",
       "1893    [Locations:Tahiti-Faaa Unit:Household Term:Des...\n",
       "1894    [Locations: Unit:Person Term:Displaced Quantit...\n",
       "1895    [Locations:Badakhshan,Nuristan,Laghman,Nangarh...\n",
       "1896    [Locations:Sabegoud,Ouaka Unit:Person Term:For...\n",
       "1897    [Locations:Mbomou Unit:Person Term:Forced to F...\n",
       "1898    [Locations:Pernambuco Unit:People Term:Displac...\n",
       "1899                                                   []\n",
       "1900    [Locations:Ghanas,Accra Unit:Household Term:Di...\n",
       "1901    [Locations:Macina,Tenenkou,Sgou,Mopti Unit:Per...\n",
       "1903                                                   []\n",
       "1904    [Locations:Portugal Unit:Person Term:Displaced...\n",
       "1905    [Locations: Unit:Household Term:Partially Dest...\n",
       "1906    [Locations:Peten,Huehutenango Unit:Person Term...\n",
       "1907    [Locations:Megyasz Unit:Person Term:Evacuated ...\n",
       "1908    [Locations:Culoz,Ain Unit:Household Term:Evacu...\n",
       "1910    [Locations:Longyearbyen Unit:Person Term:Evacu...\n",
       "1911    [Locations: Unit:People Term:Displaced Quantit...\n",
       "1913                                                   []\n",
       "1914    [Locations:Mazagn,Huelva Unit:Person Term:Evac...\n",
       "1915                                                   []\n",
       "1916    [Locations: Unit:People Term:Displaced Quantit...\n",
       "1917    [Locations:Botswana Unit:Household Term:Destro...\n",
       "1922                                                   []\n",
       "1926                                                   []\n",
       "1927    [Locations:Hildesheim Unit:Person Term:Evacuat...\n",
       "1928                                                   []\n",
       "1929                                                   []\n",
       "Name: reports, Length: 1466, dtype: object"
      ]
     },
     "execution_count": 65,
     "metadata": {},
     "output_type": "execute_result"
    }
   ],
   "source": [
    "df['reports']"
   ]
  },
  {
   "cell_type": "code",
   "execution_count": null,
   "metadata": {
    "collapsed": true
   },
   "outputs": [],
   "source": []
  },
  {
   "cell_type": "code",
   "execution_count": null,
   "metadata": {
    "collapsed": true
   },
   "outputs": [],
   "source": []
  },
  {
   "cell_type": "code",
   "execution_count": null,
   "metadata": {
    "collapsed": true
   },
   "outputs": [],
   "source": []
  },
  {
   "cell_type": "code",
   "execution_count": null,
   "metadata": {
    "collapsed": true
   },
   "outputs": [],
   "source": []
  },
  {
   "cell_type": "code",
   "execution_count": 17,
   "metadata": {
    "collapsed": true
   },
   "outputs": [],
   "source": [
    "facts = interpreter.process_article_new(s)"
   ]
  },
  {
   "cell_type": "code",
   "execution_count": 18,
   "metadata": {
    "collapsed": false
   },
   "outputs": [
    {
     "data": {
      "text/plain": [
       "[Locations:Maungdaw,Buthidaung Unit:Person Term:Displaced Quantity:(None, '')]"
      ]
     },
     "execution_count": 18,
     "metadata": {},
     "output_type": "execute_result"
    }
   ],
   "source": [
    "facts"
   ]
  },
  {
   "cell_type": "code",
   "execution_count": 16,
   "metadata": {
    "collapsed": true
   },
   "outputs": [],
   "source": [
    "s = \"Madeleine Kingston/MSF Rohingya refugees set up makeshift shelters, having arrived in Bangladesh. This massive influx, coming on top of 75,000 people who have arrived since violence began in October 2016, represents one of the largest influxes ever of Rohingyas into Bangladesh. Amsterdam - International humanitarian organisations must immediately be granted independent and unfettered access, including for international staff, to alleviate massive humanitarian needs in Rakhine State, Myanmar MSFs call for urgent access comes amid the ongoing military operations in Rakhine, which started on 25 August after a new spate of attacks against police stations and a military base claimed by the Arakan Rohingya Salvation Army (ARSA). As a consequence, more than 400,000 Rohingya have fled to Bangladesh and are living in extremely precarious conditions with limited access to health care, drinking water, latrines and food. The remaining population in Northern Rakhine, thought to be hundreds of thousands of people, is without any meaningful form of humanitarian assistance. Our teams in Bangladesh are hearing alarming stories of severe violence against civilians in Northern Rakhine, says Karline Kleijer, MSF emergency desk manager. Reports says there is significant internal displacement of Rohingya, ethnic Rakhine populations and other minorities. Villages and houses have been burned down, including at least two out of four of MSFs clinics. MSF was providing healthcare services in Maungdaw and Buthidaung townships in Northern Rakhine before they were put on hold due to a lack of travel authorisation and a ban on international staff in mid-August, Ms Kleijer said. We fear that the people remaining there are unable to access the help they may need. Injured, sick or chronically ill people in Northern Rakhine must be accessed without further delay, while emergency healthcare and other humanitarian assistance should be provided. In Central Rakhine, approximately 120,000 internally displaced people remain in camps where they are entirely dependent on humanitarian assistance for their survival, due to severe movement restrictions. MSF used to provide mobile clinics in several camps and villages for displaced people, but international staff have not been granted travel authorisations to visit the health facilities since August, whilst national staff have been too afraid to go to work following remarks by Myanmar officials accusing NGOs of colluding with ARSA. The government-formulated and disseminated accusations against the UN and international NGOs, denial of required travel and activity authorisations, and threatening statements and actions by hardline groups, are all preventing independent humanitarian workers from providing much-needed assistance. Moreover Northern Rakhine has been declared a military zone by the government of Myanmar, resulting in even more severe administrative and access constraints. The government of Myanmar says it wants to exclusively implement the humanitarian response to those affected in Rakhine, sparking fears that aid might not reach those who most need it. Madeleine Kingston/MSF Rohingya who crossed into Bangladesh, fleeing violence in Rakhine state, Myanmar that started on 25 August. This suggests Myanmar is moving towards a new modus operandi putting the delivery of humanitarian aid under the governments exclusive control, which is likely to result in even more severe administrative and access constraints than ever, says Benoit De Gryse, MSFs operations manager for Myanmar. The only way to ensure aid is provided based on needs and is trusted by all populations, is for it to be provided by independent neutral humanitarian actors. MSF is alarmed by the current lack of access to healthcare for those remaining in Rakhine. When it has full access to its clinics, MSF provides over 11,000 primary and reproductive healthcare consultations per month, as well as emergency transport and assistance for patients requiring hospitalisation. All these services are currently on hold, and other agencies have also reported being unable to carry out their activities in Rakhine due to lack of access. To ensure access to medical care and to be able to provide assistance to conflict-affected people, MSF and other international humanitarian agencies must be allowed immediate and unhindered access to all areas of Rakhine State. Without this, there is a very real risk that patients will die unnecessarily, says De Gryse. *MSFs medical projects in other areas of Myanmar; namely Shan and Kachin states and Yangon and Thanintharyi, continue to operate as usual. MSFs regular projects include HIV, tuberculosis, primary healthcare, sexual and reproductive healthcare, emergency referrals to public hospitals and malaria treatment. **MSF has worked in Myanmar for 25 years, working with the Ministry of Health and Sports to provide care for HIV and TB patients, primary healthcare, and vaccinations. In Rakhine State, Myanmar, MSF usually operates mobile clinics providing primary healthcare consultations in a number of villages and displaced population camps, and organising emergency medical referrals to MoHS hospitals. MSF also usually supports the provision of HIV treatment in MoHS hospitals in Northern Rakhine. In Central Rakhine, MSF also usually treats TB patients in cooperation with the National TB programme. Until mid-August, MSF was providing healthcare services in Pauktaw, Sittwe, Ponnagyun, Maungdaw and Buthidaung townships.\""
   ]
  },
  {
   "cell_type": "code",
   "execution_count": 6,
   "metadata": {
    "collapsed": false
   },
   "outputs": [
    {
     "name": "stdout",
     "output_type": "stream",
     "text": [
      "Loaded cities_to_countries dictionary.\n"
     ]
    }
   ],
   "source": [
    "from itertools import groupby\n",
    "from sqlalchemy.orm import object_session\n",
    "from idetect.geotagger import get_geo_info"
   ]
  },
  {
   "cell_type": "code",
   "execution_count": 7,
   "metadata": {
    "collapsed": true
   },
   "outputs": [],
   "source": [
    "def save_facts(analysis, facts, session):\n",
    "    '''Loop through extracted facts and save them to database\n",
    "    :params article: instance of Article\n",
    "    :params facts: list of extracted facts\n",
    "    :params session: session object corresponding to the article\n",
    "    :return: None\n",
    "    '''\n",
    "    for f in facts:\n",
    "        # First geolocate locations; split into countries and create one fact per country\n",
    "        country_locations = []\n",
    "        for location in f.locations:\n",
    "            country_locations.extend((process_location(location, session)))\n",
    "\n",
    "        country_locations.sort(key=lambda x: x.country.iso3)\n",
    "        for key, group in groupby(country_locations, lambda x: x.country.iso3):\n",
    "\n",
    "            fact = Fact(unit=f.reporting_unit, term=f.reporting_term,\n",
    "                    excerpt_start=f.sentence_start, excerpt_end=f.sentence_end,\n",
    "                    specific_reported_figure=f.quantity[0],\n",
    "                    vague_reported_figure=f.quantity[1], iso3=key,\n",
    "                    tag_locations=json.dumps(f.tag_spans))\n",
    "            session.add(fact)\n",
    "            session.commit()\n",
    "            print(fact.id)\n",
    "            analysis.facts.append(fact)\n",
    "            fact.locations.extend([location for location in group])\n",
    "            session.commit()\n",
    "\n",
    "\n",
    "def process_location(location_name, session):\n",
    "    '''Get geo info for a given location and add the location to database\n",
    "    :params fact: instance of Fact\n",
    "    :params location: location name, a String\n",
    "    :params session: session object corresponding to location\n",
    "    :return: None\n",
    "    '''\n",
    "    locations = []\n",
    "    location = session.query(Location).filter_by(\n",
    "        location_name=location_name).one_or_none()\n",
    "    if location:\n",
    "        locations.append(location)\n",
    "    else:\n",
    "        loc_info = get_geo_info(location_name)\n",
    "        if loc_info['flag'] != 'no-results':\n",
    "            country = session.query(Country).filter_by(\n",
    "                iso3=loc_info['country_code']).one_or_none()\n",
    "            location = Location(location_name=loc_info['place_name'], location_type=loc_info['type'],\n",
    "                                country_iso3=country.iso3,\n",
    "                                country=country, latlong=loc_info['coordinates'])\n",
    "            session.add(location)\n",
    "            session.commit()\n",
    "            locations.append(location)\n",
    "            session.commit()\n",
    "    return locations"
   ]
  },
  {
   "cell_type": "code",
   "execution_count": 8,
   "metadata": {
    "collapsed": true
   },
   "outputs": [],
   "source": [
    "nlp = spacy.load(\"en_default\")"
   ]
  },
  {
   "cell_type": "code",
   "execution_count": 4,
   "metadata": {
    "collapsed": true
   },
   "outputs": [],
   "source": [
    "session = Session()"
   ]
  },
  {
   "cell_type": "code",
   "execution_count": 10,
   "metadata": {
    "collapsed": true
   },
   "outputs": [],
   "source": [
    "class Worker:\n",
    "    \n",
    "    def __init__(self, filter_function):\n",
    "        self.filter_function = filter_function\n",
    "        \n",
    "    def work(self):\n",
    "        return self.filter_function(session.query(Analysis)).with_for_update().order_by(Analysis.updated).first()"
   ]
  },
  {
   "cell_type": "code",
   "execution_count": 73,
   "metadata": {
    "collapsed": true
   },
   "outputs": [],
   "source": [
    "w = Worker(scraping_filter)"
   ]
  },
  {
   "cell_type": "code",
   "execution_count": 74,
   "metadata": {
    "collapsed": true
   },
   "outputs": [],
   "source": [
    "a = w.work()"
   ]
  },
  {
   "cell_type": "code",
   "execution_count": 75,
   "metadata": {
    "collapsed": true
   },
   "outputs": [],
   "source": [
    "a"
   ]
  },
  {
   "cell_type": "code",
   "execution_count": null,
   "metadata": {
    "collapsed": true
   },
   "outputs": [],
   "source": [
    "Status.SCRAPING_FAILED"
   ]
  },
  {
   "cell_type": "code",
   "execution_count": 72,
   "metadata": {
    "collapsed": true
   },
   "outputs": [],
   "source": [
    "def scraping_filter(query):\n",
    "    return query.filter((Analysis.status == Status.NEW) | \n",
    "                       ((Analysis.status == Status.SCRAPING_FAILED) & \n",
    "                        (Analysis.retrieval_attempts < 3) &\n",
    "                        (func.now() > Analysis.retrieval_date + timedelta(hours=12))))"
   ]
  },
  {
   "cell_type": "code",
   "execution_count": 71,
   "metadata": {
    "collapsed": false
   },
   "outputs": [
    {
     "data": {
      "text/plain": [
       "1"
      ]
     },
     "execution_count": 71,
     "metadata": {},
     "output_type": "execute_result"
    }
   ],
   "source": [
    "a.retrieval_attempts"
   ]
  },
  {
   "cell_type": "code",
   "execution_count": null,
   "metadata": {
    "collapsed": true
   },
   "outputs": [],
   "source": []
  },
  {
   "cell_type": "code",
   "execution_count": 9,
   "metadata": {
    "collapsed": false,
    "scrolled": true
   },
   "outputs": [
    {
     "data": {
      "text/plain": [
       "<idetect.model.Analysis at 0x7fbbbb863a58>"
      ]
     },
     "execution_count": 9,
     "metadata": {},
     "output_type": "execute_result"
    }
   ],
   "source": [
    "scraping_filter(session.query(Analysis)).with_for_update().order_by(Analysis.updated).first()"
   ]
  },
  {
   "cell_type": "code",
   "execution_count": null,
   "metadata": {
    "collapsed": true
   },
   "outputs": [],
   "source": [
    "session.query(Analysis) \\\n",
    "                .with_for_update() \\\n",
    "                .filter(Analysis.status == self.status) \\\n",
    "                .order_by(Analysis.updated) \\\n",
    "                .first()"
   ]
  },
  {
   "cell_type": "code",
   "execution_count": 45,
   "metadata": {
    "collapsed": false
   },
   "outputs": [
    {
     "data": {
      "text/plain": [
       "psycopg2.tz.FixedOffsetTimezone(offset=0, name=None)"
      ]
     },
     "execution_count": 45,
     "metadata": {},
     "output_type": "execute_result"
    }
   ],
   "source": [
    "analysis.retrieval_date."
   ]
  },
  {
   "cell_type": "code",
   "execution_count": 34,
   "metadata": {
    "collapsed": false
   },
   "outputs": [
    {
     "data": {
      "text/plain": [
       "<sqlalchemy.sql.functions.Function at 0x7fbbbb67bf60; date_subtract>"
      ]
     },
     "execution_count": 34,
     "metadata": {},
     "output_type": "execute_result"
    }
   ],
   "source": [
    "func.date_subtract(func.now(), analysis.retrieval_date)"
   ]
  },
  {
   "cell_type": "code",
   "execution_count": 56,
   "metadata": {
    "collapsed": false
   },
   "outputs": [
    {
     "data": {
      "text/plain": [
       "104071.959805"
      ]
     },
     "execution_count": 56,
     "metadata": {},
     "output_type": "execute_result"
    }
   ],
   "source": [
    "(datetime.datetime.now(psycopg2.tz.FixedOffsetTimezone(offset=0, name=None)) - analysis.retrieval_date).total_seconds()"
   ]
  },
  {
   "cell_type": "code",
   "execution_count": 62,
   "metadata": {
    "collapsed": false
   },
   "outputs": [
    {
     "data": {
      "text/plain": [
       "datetime.datetime(2017, 9, 7, 6, 48, 44, 308395, tzinfo=psycopg2.tz.FixedOffsetTimezone(offset=0, name=None))"
      ]
     },
     "execution_count": 62,
     "metadata": {},
     "output_type": "execute_result"
    }
   ],
   "source": [
    "analysis.retrieval_date + timedelta(hours=12)"
   ]
  },
  {
   "cell_type": "code",
   "execution_count": 29,
   "metadata": {
    "collapsed": true
   },
   "outputs": [],
   "source": [
    "f.between?"
   ]
  },
  {
   "cell_type": "code",
   "execution_count": 23,
   "metadata": {
    "collapsed": true
   },
   "outputs": [],
   "source": [
    "doc = session.query(Document).filter(Document.url == 'http://reliefweb.int/report/south-sudan/humanitarian-aid-reaches-desperate-internally-displaced-people-bangasu').all()[0]"
   ]
  },
  {
   "cell_type": "code",
   "execution_count": 24,
   "metadata": {
    "collapsed": true
   },
   "outputs": [],
   "source": [
    "analysis = session.query(Analysis).get(doc.id)"
   ]
  },
  {
   "cell_type": "code",
   "execution_count": 14,
   "metadata": {
    "collapsed": true
   },
   "outputs": [],
   "source": [
    "session = object_session(analysis)"
   ]
  },
  {
   "cell_type": "code",
   "execution_count": 15,
   "metadata": {
    "collapsed": true
   },
   "outputs": [],
   "source": [
    "interpreter = Interpreter(session, nlp)"
   ]
  },
  {
   "cell_type": "code",
   "execution_count": 16,
   "metadata": {
    "collapsed": true
   },
   "outputs": [],
   "source": [
    "content = analysis.content.content"
   ]
  },
  {
   "cell_type": "code",
   "execution_count": 17,
   "metadata": {
    "collapsed": true
   },
   "outputs": [],
   "source": [
    "facts = interpreter.process_article_new(content)"
   ]
  },
  {
   "cell_type": "code",
   "execution_count": 20,
   "metadata": {
    "collapsed": true
   },
   "outputs": [],
   "source": [
    "save_facts(analysis, facts, session)"
   ]
  },
  {
   "cell_type": "code",
   "execution_count": 23,
   "metadata": {
    "collapsed": true
   },
   "outputs": [],
   "source": [
    "f = facts[0]"
   ]
  },
  {
   "cell_type": "code",
   "execution_count": 24,
   "metadata": {
    "collapsed": true
   },
   "outputs": [],
   "source": [
    "country_locations = []\n",
    "for location in f.locations:\n",
    "    country_locations.extend((process_location(location, session)))"
   ]
  },
  {
   "cell_type": "code",
   "execution_count": 25,
   "metadata": {
    "collapsed": false
   },
   "outputs": [
    {
     "data": {
      "text/plain": [
       "[]"
      ]
     },
     "execution_count": 25,
     "metadata": {},
     "output_type": "execute_result"
    }
   ],
   "source": [
    "country_locations"
   ]
  },
  {
   "cell_type": "code",
   "execution_count": 26,
   "metadata": {
    "collapsed": true
   },
   "outputs": [],
   "source": [
    "country_locations.sort(key=lambda x: x.country.iso3)"
   ]
  },
  {
   "cell_type": "code",
   "execution_count": 27,
   "metadata": {
    "collapsed": false
   },
   "outputs": [
    {
     "data": {
      "text/plain": [
       "[]"
      ]
     },
     "execution_count": 27,
     "metadata": {},
     "output_type": "execute_result"
    }
   ],
   "source": [
    "country_locations"
   ]
  },
  {
   "cell_type": "code",
   "execution_count": 28,
   "metadata": {
    "collapsed": false
   },
   "outputs": [
    {
     "data": {
      "text/plain": [
       "<itertools.groupby at 0x7f8562ebc048>"
      ]
     },
     "execution_count": 28,
     "metadata": {},
     "output_type": "execute_result"
    }
   ],
   "source": [
    "groupby(country_locations, lambda x: x.country.iso3)"
   ]
  },
  {
   "cell_type": "code",
   "execution_count": 21,
   "metadata": {
    "collapsed": false
   },
   "outputs": [
    {
     "data": {
      "text/plain": [
       "[]"
      ]
     },
     "execution_count": 21,
     "metadata": {},
     "output_type": "execute_result"
    }
   ],
   "source": [
    "a.facts"
   ]
  },
  {
   "cell_type": "code",
   "execution_count": 9,
   "metadata": {
    "collapsed": false
   },
   "outputs": [
    {
     "data": {
      "text/plain": [
       "3"
      ]
     },
     "execution_count": 9,
     "metadata": {},
     "output_type": "execute_result"
    }
   ],
   "source": [
    "a.document_id"
   ]
  },
  {
   "cell_type": "code",
   "execution_count": 10,
   "metadata": {
    "collapsed": false
   },
   "outputs": [
    {
     "name": "stdout",
     "output_type": "stream",
     "text": [
      "Loaded Spacy English Language NLP Models.\n",
      "2\n"
     ]
    }
   ],
   "source": [
    "extract_facts(a)"
   ]
  },
  {
   "cell_type": "code",
   "execution_count": null,
   "metadata": {
    "collapsed": true
   },
   "outputs": [],
   "source": []
  },
  {
   "cell_type": "code",
   "execution_count": null,
   "metadata": {
    "collapsed": true
   },
   "outputs": [],
   "source": []
  },
  {
   "cell_type": "code",
   "execution_count": null,
   "metadata": {
    "collapsed": true
   },
   "outputs": [],
   "source": []
  },
  {
   "cell_type": "code",
   "execution_count": null,
   "metadata": {
    "collapsed": true
   },
   "outputs": [],
   "source": []
  },
  {
   "cell_type": "code",
   "execution_count": 5,
   "metadata": {
    "collapsed": true
   },
   "outputs": [],
   "source": [
    "c_m = CategoryModel()"
   ]
  },
  {
   "cell_type": "code",
   "execution_count": null,
   "metadata": {
    "collapsed": true
   },
   "outputs": [],
   "source": []
  },
  {
   "cell_type": "code",
   "execution_count": null,
   "metadata": {
    "collapsed": true
   },
   "outputs": [],
   "source": []
  },
  {
   "cell_type": "code",
   "execution_count": 21,
   "metadata": {
    "collapsed": true
   },
   "outputs": [],
   "source": [
    "r_m = RelevanceModel()"
   ]
  },
  {
   "cell_type": "code",
   "execution_count": 24,
   "metadata": {
    "collapsed": true
   },
   "outputs": [],
   "source": [
    "test_content = \"\"\"PHILLIP MBUGO Hundreds of people sheltering from violence at Bangasu camp in the Western Equatorian region of South Sudan have received humanitarian relief for the first time since they fled their homes in June. A peacekeeping patrol serving with the United Nations Mission in South Sudan provided safe passage for the delivery of aid by humanitarian agencies to more than 800 households at two camps, who received cooking utensils, buckets and tarpaulins to provide much-needed shelter from the heavy rains. The journey to these camps involves the convoy navigating waterlogged roads damaged by heavy rain and the war that has ravaged South Sudan for almost four years. The convoy passed by villages abandoned by residents who fled after coming under attack earlier this year. No one knows exactly how many people died in the raids but many of the homes have been looted or burnt to the ground. Those sheltering at Bangasu camp say both sides involved in the ongoing conflict are responsible for their predicament. “It is difficult because as the incident happened the government was patrolling these places searching for the rebels and the rebels were also active here moving through the villages,” said Bangasu camp chief, Moses Ruzino. The patrol was also able to reach Rimenze camp further to the north where hundreds of people have sought sanctuary in a makeshift camp next to the Catholic Church. Despite the presence of the church, the families here still suffer from regular threats, harassment, beatings and looting by armed groups. “Of course we are scared because there is no protection, you know, anyone can just come and enter the camp, as has happened several times back, that the rebels can come in the camp beginning to beat people and to loot from people,” said Moses Ruzino. “That is why we are putting our request to the UN come here to protect the civilians here.” The peacekeeping mission has two purposes. Firstly, to provide a protective presence in the area, even if it is temporary, and, secondly, to facilitate the delivery of aid by humanitarian agencies who have been struggling to safely reach the displaced civilians. Life is difficult in these camps without access to clean drinking water, food, or adequate shelter. “It is really very difficult for us to survive in this place because even when we run, all our food items were looted, and all our food items are now spoiled. We are just staying, waiting, to see who can help us by providing us a little food so we can help our children and women,” said Bangasu camp chief, James Atoroba. Bangasu camp resident, Atonita Daniel, is particularly grateful for the assistance. Her husband was killed during violent clashes in the area in 2015. Since then, she has been raising her nine children on her own. The simple gift of a plastic sheet will make a huge difference in protecting them from the heavy rain. “I have experienced hardship for the first time in my life with my nine children whose father was killed on his way to sell charcoal in the town and left me alone. The children and I are telling those who are fighting to stop senseless war and I also urge UN to bring peace to South Sudan at any cost. We are tired,” she said. The people in these camps want to go home to grow their crops, raise their children and live a peaceful and prosperous life. However, it is simply not safe enough to return. They say there are armed groups in the bush who continue to loot the deserted homes and military forces often follow them, harassing and beating them, in an attempt to find out where armed opposition groups are located. “My message to the government of South Sudan and also the international community is that they have to bring peace so that we can go back to our own places so that our children can go to school. We need peace,” said Moses Ruzino in Rimenze. That simple plea echoed by those back down the long road to Bangusa. “We don’t like to stay just the way we are, squeezing ourselves here in the camp. We need protection because we want to go back to our local area,” said James Atoroba. “We don’t like war. We want all the gunshots to stop in our area. We do not want to see any rebels moving with their guns anywhere or looting people’s property. We need peace.” Peace so that the people of Bangusa and Rimenze can live their lives safely, with dignity, and hope for a brighter future.\"\"\""
   ]
  },
  {
   "cell_type": "code",
   "execution_count": 25,
   "metadata": {
    "collapsed": false
   },
   "outputs": [
    {
     "name": "stderr",
     "output_type": "stream",
     "text": [
      "/usr/local/lib/python3.5/dist-packages/gensim/matutils.py:267: RuntimeWarning: invalid value encountered in greater\n",
      "  nnz = np.nonzero(abs(vec) > eps)[0]\n"
     ]
    },
    {
     "ename": "ValueError",
     "evalue": "Input contains NaN, infinity or a value too large for dtype('float32').",
     "output_type": "error",
     "traceback": [
      "\u001b[0;31m---------------------------------------------------------------------------\u001b[0m",
      "\u001b[0;31mValueError\u001b[0m                                Traceback (most recent call last)",
      "\u001b[0;32m<ipython-input-25-53a0b4424b95>\u001b[0m in \u001b[0;36m<module>\u001b[0;34m()\u001b[0m\n\u001b[0;32m----> 1\u001b[0;31m \u001b[0mc_m\u001b[0m\u001b[0;34m.\u001b[0m\u001b[0mpredict\u001b[0m\u001b[0;34m(\u001b[0m\u001b[0mtest_content\u001b[0m\u001b[0;34m)\u001b[0m\u001b[0;34m\u001b[0m\u001b[0m\n\u001b[0m",
      "\u001b[0;32m~/python/idetect/nlp_models/category.py\u001b[0m in \u001b[0;36mpredict\u001b[0;34m(self, text)\u001b[0m\n\u001b[1;32m     17\u001b[0m     \u001b[0;32mdef\u001b[0m \u001b[0mpredict\u001b[0m\u001b[0;34m(\u001b[0m\u001b[0mself\u001b[0m\u001b[0;34m,\u001b[0m \u001b[0mtext\u001b[0m\u001b[0;34m)\u001b[0m\u001b[0;34m:\u001b[0m\u001b[0;34m\u001b[0m\u001b[0m\n\u001b[1;32m     18\u001b[0m         \u001b[0;32mtry\u001b[0m\u001b[0;34m:\u001b[0m\u001b[0;34m\u001b[0m\u001b[0m\n\u001b[0;32m---> 19\u001b[0;31m             \u001b[0mcategory\u001b[0m \u001b[0;34m=\u001b[0m \u001b[0mself\u001b[0m\u001b[0;34m.\u001b[0m\u001b[0mmodel\u001b[0m\u001b[0;34m.\u001b[0m\u001b[0mpredict\u001b[0m\u001b[0;34m(\u001b[0m\u001b[0mpd\u001b[0m\u001b[0;34m.\u001b[0m\u001b[0mSeries\u001b[0m\u001b[0;34m(\u001b[0m\u001b[0mtext\u001b[0m\u001b[0;34m)\u001b[0m\u001b[0;34m)\u001b[0m\u001b[0;34m[\u001b[0m\u001b[0;36m0\u001b[0m\u001b[0;34m]\u001b[0m\u001b[0;34m\u001b[0m\u001b[0m\n\u001b[0m\u001b[1;32m     20\u001b[0m             \u001b[0;32mif\u001b[0m \u001b[0mcategory\u001b[0m \u001b[0;34m==\u001b[0m \u001b[0;34m'disaster'\u001b[0m\u001b[0;34m:\u001b[0m\u001b[0;34m\u001b[0m\u001b[0m\n\u001b[1;32m     21\u001b[0m                 \u001b[0;32mreturn\u001b[0m \u001b[0mDisplacementType\u001b[0m\u001b[0;34m.\u001b[0m\u001b[0mDISASTER\u001b[0m\u001b[0;34m\u001b[0m\u001b[0m\n",
      "\u001b[0;32m/usr/local/lib/python3.5/dist-packages/sklearn/utils/metaestimators.py\u001b[0m in \u001b[0;36m<lambda>\u001b[0;34m(*args, **kwargs)\u001b[0m\n\u001b[1;32m    113\u001b[0m \u001b[0;34m\u001b[0m\u001b[0m\n\u001b[1;32m    114\u001b[0m         \u001b[0;31m# lambda, but not partial, allows help() to work with update_wrapper\u001b[0m\u001b[0;34m\u001b[0m\u001b[0;34m\u001b[0m\u001b[0m\n\u001b[0;32m--> 115\u001b[0;31m         \u001b[0mout\u001b[0m \u001b[0;34m=\u001b[0m \u001b[0;32mlambda\u001b[0m \u001b[0;34m*\u001b[0m\u001b[0margs\u001b[0m\u001b[0;34m,\u001b[0m \u001b[0;34m**\u001b[0m\u001b[0mkwargs\u001b[0m\u001b[0;34m:\u001b[0m \u001b[0mself\u001b[0m\u001b[0;34m.\u001b[0m\u001b[0mfn\u001b[0m\u001b[0;34m(\u001b[0m\u001b[0mobj\u001b[0m\u001b[0;34m,\u001b[0m \u001b[0;34m*\u001b[0m\u001b[0margs\u001b[0m\u001b[0;34m,\u001b[0m \u001b[0;34m**\u001b[0m\u001b[0mkwargs\u001b[0m\u001b[0;34m)\u001b[0m\u001b[0;34m\u001b[0m\u001b[0m\n\u001b[0m\u001b[1;32m    116\u001b[0m         \u001b[0;31m# update the docstring of the returned function\u001b[0m\u001b[0;34m\u001b[0m\u001b[0;34m\u001b[0m\u001b[0m\n\u001b[1;32m    117\u001b[0m         \u001b[0mupdate_wrapper\u001b[0m\u001b[0;34m(\u001b[0m\u001b[0mout\u001b[0m\u001b[0;34m,\u001b[0m \u001b[0mself\u001b[0m\u001b[0;34m.\u001b[0m\u001b[0mfn\u001b[0m\u001b[0;34m)\u001b[0m\u001b[0;34m\u001b[0m\u001b[0m\n",
      "\u001b[0;32m/usr/local/lib/python3.5/dist-packages/sklearn/pipeline.py\u001b[0m in \u001b[0;36mpredict\u001b[0;34m(self, X)\u001b[0m\n\u001b[1;32m    314\u001b[0m             \u001b[0;32mif\u001b[0m \u001b[0mtransform\u001b[0m \u001b[0;32mis\u001b[0m \u001b[0;32mnot\u001b[0m \u001b[0;32mNone\u001b[0m\u001b[0;34m:\u001b[0m\u001b[0;34m\u001b[0m\u001b[0m\n\u001b[1;32m    315\u001b[0m                 \u001b[0mXt\u001b[0m \u001b[0;34m=\u001b[0m \u001b[0mtransform\u001b[0m\u001b[0;34m.\u001b[0m\u001b[0mtransform\u001b[0m\u001b[0;34m(\u001b[0m\u001b[0mXt\u001b[0m\u001b[0;34m)\u001b[0m\u001b[0;34m\u001b[0m\u001b[0m\n\u001b[0;32m--> 316\u001b[0;31m         \u001b[0;32mreturn\u001b[0m \u001b[0mself\u001b[0m\u001b[0;34m.\u001b[0m\u001b[0msteps\u001b[0m\u001b[0;34m[\u001b[0m\u001b[0;34m-\u001b[0m\u001b[0;36m1\u001b[0m\u001b[0;34m]\u001b[0m\u001b[0;34m[\u001b[0m\u001b[0;34m-\u001b[0m\u001b[0;36m1\u001b[0m\u001b[0;34m]\u001b[0m\u001b[0;34m.\u001b[0m\u001b[0mpredict\u001b[0m\u001b[0;34m(\u001b[0m\u001b[0mXt\u001b[0m\u001b[0;34m)\u001b[0m\u001b[0;34m\u001b[0m\u001b[0m\n\u001b[0m\u001b[1;32m    317\u001b[0m \u001b[0;34m\u001b[0m\u001b[0m\n\u001b[1;32m    318\u001b[0m     \u001b[0;34m@\u001b[0m\u001b[0mif_delegate_has_method\u001b[0m\u001b[0;34m(\u001b[0m\u001b[0mdelegate\u001b[0m\u001b[0;34m=\u001b[0m\u001b[0;34m'_final_estimator'\u001b[0m\u001b[0;34m)\u001b[0m\u001b[0;34m\u001b[0m\u001b[0m\n",
      "\u001b[0;32m/usr/local/lib/python3.5/dist-packages/sklearn/ensemble/forest.py\u001b[0m in \u001b[0;36mpredict\u001b[0;34m(self, X)\u001b[0m\n\u001b[1;32m    534\u001b[0m             \u001b[0mThe\u001b[0m \u001b[0mpredicted\u001b[0m \u001b[0mclasses\u001b[0m\u001b[0;34m.\u001b[0m\u001b[0;34m\u001b[0m\u001b[0m\n\u001b[1;32m    535\u001b[0m         \"\"\"\n\u001b[0;32m--> 536\u001b[0;31m         \u001b[0mproba\u001b[0m \u001b[0;34m=\u001b[0m \u001b[0mself\u001b[0m\u001b[0;34m.\u001b[0m\u001b[0mpredict_proba\u001b[0m\u001b[0;34m(\u001b[0m\u001b[0mX\u001b[0m\u001b[0;34m)\u001b[0m\u001b[0;34m\u001b[0m\u001b[0m\n\u001b[0m\u001b[1;32m    537\u001b[0m \u001b[0;34m\u001b[0m\u001b[0m\n\u001b[1;32m    538\u001b[0m         \u001b[0;32mif\u001b[0m \u001b[0mself\u001b[0m\u001b[0;34m.\u001b[0m\u001b[0mn_outputs_\u001b[0m \u001b[0;34m==\u001b[0m \u001b[0;36m1\u001b[0m\u001b[0;34m:\u001b[0m\u001b[0;34m\u001b[0m\u001b[0m\n",
      "\u001b[0;32m/usr/local/lib/python3.5/dist-packages/sklearn/ensemble/forest.py\u001b[0m in \u001b[0;36mpredict_proba\u001b[0;34m(self, X)\u001b[0m\n\u001b[1;32m    574\u001b[0m         \u001b[0mcheck_is_fitted\u001b[0m\u001b[0;34m(\u001b[0m\u001b[0mself\u001b[0m\u001b[0;34m,\u001b[0m \u001b[0;34m'estimators_'\u001b[0m\u001b[0;34m)\u001b[0m\u001b[0;34m\u001b[0m\u001b[0m\n\u001b[1;32m    575\u001b[0m         \u001b[0;31m# Check data\u001b[0m\u001b[0;34m\u001b[0m\u001b[0;34m\u001b[0m\u001b[0m\n\u001b[0;32m--> 576\u001b[0;31m         \u001b[0mX\u001b[0m \u001b[0;34m=\u001b[0m \u001b[0mself\u001b[0m\u001b[0;34m.\u001b[0m\u001b[0m_validate_X_predict\u001b[0m\u001b[0;34m(\u001b[0m\u001b[0mX\u001b[0m\u001b[0;34m)\u001b[0m\u001b[0;34m\u001b[0m\u001b[0m\n\u001b[0m\u001b[1;32m    577\u001b[0m \u001b[0;34m\u001b[0m\u001b[0m\n\u001b[1;32m    578\u001b[0m         \u001b[0;31m# Assign chunk of trees to jobs\u001b[0m\u001b[0;34m\u001b[0m\u001b[0;34m\u001b[0m\u001b[0m\n",
      "\u001b[0;32m/usr/local/lib/python3.5/dist-packages/sklearn/ensemble/forest.py\u001b[0m in \u001b[0;36m_validate_X_predict\u001b[0;34m(self, X)\u001b[0m\n\u001b[1;32m    354\u001b[0m                                  \"call `fit` before exploiting the model.\")\n\u001b[1;32m    355\u001b[0m \u001b[0;34m\u001b[0m\u001b[0m\n\u001b[0;32m--> 356\u001b[0;31m         \u001b[0;32mreturn\u001b[0m \u001b[0mself\u001b[0m\u001b[0;34m.\u001b[0m\u001b[0mestimators_\u001b[0m\u001b[0;34m[\u001b[0m\u001b[0;36m0\u001b[0m\u001b[0;34m]\u001b[0m\u001b[0;34m.\u001b[0m\u001b[0m_validate_X_predict\u001b[0m\u001b[0;34m(\u001b[0m\u001b[0mX\u001b[0m\u001b[0;34m,\u001b[0m \u001b[0mcheck_input\u001b[0m\u001b[0;34m=\u001b[0m\u001b[0;32mTrue\u001b[0m\u001b[0;34m)\u001b[0m\u001b[0;34m\u001b[0m\u001b[0m\n\u001b[0m\u001b[1;32m    357\u001b[0m \u001b[0;34m\u001b[0m\u001b[0m\n\u001b[1;32m    358\u001b[0m     \u001b[0;34m@\u001b[0m\u001b[0mproperty\u001b[0m\u001b[0;34m\u001b[0m\u001b[0m\n",
      "\u001b[0;32m/usr/local/lib/python3.5/dist-packages/sklearn/tree/tree.py\u001b[0m in \u001b[0;36m_validate_X_predict\u001b[0;34m(self, X, check_input)\u001b[0m\n\u001b[1;32m    371\u001b[0m         \u001b[0;34m\"\"\"Validate X whenever one tries to predict, apply, predict_proba\"\"\"\u001b[0m\u001b[0;34m\u001b[0m\u001b[0m\n\u001b[1;32m    372\u001b[0m         \u001b[0;32mif\u001b[0m \u001b[0mcheck_input\u001b[0m\u001b[0;34m:\u001b[0m\u001b[0;34m\u001b[0m\u001b[0m\n\u001b[0;32m--> 373\u001b[0;31m             \u001b[0mX\u001b[0m \u001b[0;34m=\u001b[0m \u001b[0mcheck_array\u001b[0m\u001b[0;34m(\u001b[0m\u001b[0mX\u001b[0m\u001b[0;34m,\u001b[0m \u001b[0mdtype\u001b[0m\u001b[0;34m=\u001b[0m\u001b[0mDTYPE\u001b[0m\u001b[0;34m,\u001b[0m \u001b[0maccept_sparse\u001b[0m\u001b[0;34m=\u001b[0m\u001b[0;34m\"csr\"\u001b[0m\u001b[0;34m)\u001b[0m\u001b[0;34m\u001b[0m\u001b[0m\n\u001b[0m\u001b[1;32m    374\u001b[0m             if issparse(X) and (X.indices.dtype != np.intc or\n\u001b[1;32m    375\u001b[0m                                 X.indptr.dtype != np.intc):\n",
      "\u001b[0;32m/usr/local/lib/python3.5/dist-packages/sklearn/utils/validation.py\u001b[0m in \u001b[0;36mcheck_array\u001b[0;34m(array, accept_sparse, dtype, order, copy, force_all_finite, ensure_2d, allow_nd, ensure_min_samples, ensure_min_features, warn_on_dtype, estimator)\u001b[0m\n\u001b[1;32m    420\u001b[0m                              % (array.ndim, estimator_name))\n\u001b[1;32m    421\u001b[0m         \u001b[0;32mif\u001b[0m \u001b[0mforce_all_finite\u001b[0m\u001b[0;34m:\u001b[0m\u001b[0;34m\u001b[0m\u001b[0m\n\u001b[0;32m--> 422\u001b[0;31m             \u001b[0m_assert_all_finite\u001b[0m\u001b[0;34m(\u001b[0m\u001b[0marray\u001b[0m\u001b[0;34m)\u001b[0m\u001b[0;34m\u001b[0m\u001b[0m\n\u001b[0m\u001b[1;32m    423\u001b[0m \u001b[0;34m\u001b[0m\u001b[0m\n\u001b[1;32m    424\u001b[0m     \u001b[0mshape_repr\u001b[0m \u001b[0;34m=\u001b[0m \u001b[0m_shape_repr\u001b[0m\u001b[0;34m(\u001b[0m\u001b[0marray\u001b[0m\u001b[0;34m.\u001b[0m\u001b[0mshape\u001b[0m\u001b[0;34m)\u001b[0m\u001b[0;34m\u001b[0m\u001b[0m\n",
      "\u001b[0;32m/usr/local/lib/python3.5/dist-packages/sklearn/utils/validation.py\u001b[0m in \u001b[0;36m_assert_all_finite\u001b[0;34m(X)\u001b[0m\n\u001b[1;32m     41\u001b[0m             and not np.isfinite(X).all()):\n\u001b[1;32m     42\u001b[0m         raise ValueError(\"Input contains NaN, infinity\"\n\u001b[0;32m---> 43\u001b[0;31m                          \" or a value too large for %r.\" % X.dtype)\n\u001b[0m\u001b[1;32m     44\u001b[0m \u001b[0;34m\u001b[0m\u001b[0m\n\u001b[1;32m     45\u001b[0m \u001b[0;34m\u001b[0m\u001b[0m\n",
      "\u001b[0;31mValueError\u001b[0m: Input contains NaN, infinity or a value too large for dtype('float32')."
     ]
    }
   ],
   "source": [
    "c_m.predict(test_content)"
   ]
  },
  {
   "cell_type": "code",
   "execution_count": 11,
   "metadata": {
    "collapsed": true
   },
   "outputs": [],
   "source": [
    "content = analysis.content.content"
   ]
  },
  {
   "cell_type": "code",
   "execution_count": 12,
   "metadata": {
    "collapsed": false
   },
   "outputs": [
    {
     "data": {
      "text/plain": [
       "Pipeline(memory=None,\n",
       "     steps=[('tokenizer', <idetect.nlp_models.category.Tokenizer object at 0x7f30db9c6b70>), ('lsi', <idetect.nlp_models.category.LsiTransformer object at 0x7f30db95c978>), ('model', RandomForestClassifier(bootstrap=True, class_weight=None, criterion='gini',\n",
       "            max_depth=None, max_features=15, m...n_jobs=3,\n",
       "            oob_score=False, random_state=None, verbose=0,\n",
       "            warm_start=False))])"
      ]
     },
     "execution_count": 12,
     "metadata": {},
     "output_type": "execute_result"
    }
   ],
   "source": [
    "c_m.model"
   ]
  },
  {
   "cell_type": "code",
   "execution_count": 13,
   "metadata": {
    "collapsed": false
   },
   "outputs": [
    {
     "data": {
      "text/plain": [
       "('tokenizer', <idetect.nlp_models.category.Tokenizer at 0x7f30db9c6b70>)"
      ]
     },
     "execution_count": 13,
     "metadata": {},
     "output_type": "execute_result"
    }
   ],
   "source": [
    "c_m.model.steps[0]"
   ]
  },
  {
   "cell_type": "code",
   "execution_count": 14,
   "metadata": {
    "collapsed": true
   },
   "outputs": [],
   "source": [
    "tokenizer = c_m.model.steps[0][1]"
   ]
  },
  {
   "cell_type": "code",
   "execution_count": 15,
   "metadata": {
    "collapsed": false
   },
   "outputs": [
    {
     "data": {
      "text/plain": [
       "0    PHILLIP MBUGO Hundreds of people sheltering fr...\n",
       "dtype: object"
      ]
     },
     "execution_count": 15,
     "metadata": {},
     "output_type": "execute_result"
    }
   ],
   "source": [
    "pd.Series(content)"
   ]
  },
  {
   "cell_type": "code",
   "execution_count": 16,
   "metadata": {
    "collapsed": true
   },
   "outputs": [],
   "source": [
    "X = tokenizer.transform(pd.Series(content))"
   ]
  },
  {
   "cell_type": "code",
   "execution_count": 17,
   "metadata": {
    "collapsed": false
   },
   "outputs": [
    {
     "data": {
      "text/plain": [
       "0    [phillip, mbugo, hundreds, people, sheltering,...\n",
       "dtype: object"
      ]
     },
     "execution_count": 17,
     "metadata": {},
     "output_type": "execute_result"
    }
   ],
   "source": [
    "X"
   ]
  },
  {
   "cell_type": "code",
   "execution_count": 18,
   "metadata": {
    "collapsed": true
   },
   "outputs": [],
   "source": [
    "lsi = c_m.model.steps[1][1]"
   ]
  },
  {
   "cell_type": "code",
   "execution_count": 21,
   "metadata": {
    "collapsed": false
   },
   "outputs": [
    {
     "name": "stderr",
     "output_type": "stream",
     "text": [
      "/usr/local/lib/python3.5/dist-packages/gensim/matutils.py:267: RuntimeWarning: invalid value encountered in greater\n",
      "  nnz = np.nonzero(abs(vec) > eps)[0]\n"
     ]
    }
   ],
   "source": [
    "X2 = lsi.transform(X)"
   ]
  },
  {
   "cell_type": "code",
   "execution_count": 20,
   "metadata": {
    "collapsed": true
   },
   "outputs": [],
   "source": [
    "model = c_m.model.steps[2][1]"
   ]
  },
  {
   "cell_type": "code",
   "execution_count": 23,
   "metadata": {
    "collapsed": false
   },
   "outputs": [
    {
     "data": {
      "text/plain": [
       "'PHILLIP MBUGO Hundreds of people sheltering from violence at Bangasu camp in the Western Equatorian region of South Sudan have received humanitarian relief for the first time since they fled their homes in June. A peacekeeping patrol serving with the United Nations Mission in South Sudan provided safe passage for the delivery of aid by humanitarian agencies to more than 800 households at two camps, who received cooking utensils, buckets and tarpaulins to provide much-needed shelter from the heavy rains. The journey to these camps involves the convoy navigating waterlogged roads damaged by heavy rain and the war that has ravaged South Sudan for almost four years. The convoy passed by villages abandoned by residents who fled after coming under attack earlier this year. No one knows exactly how many people died in the raids but many of the homes have been looted or burnt to the ground. Those sheltering at Bangasu camp say both sides involved in the ongoing conflict are responsible for their predicament. “It is difficult because as the incident happened the government was patrolling these places searching for the rebels and the rebels were also active here moving through the villages,” said Bangasu camp chief, Moses Ruzino. The patrol was also able to reach Rimenze camp further to the north where hundreds of people have sought sanctuary in a makeshift camp next to the Catholic Church. Despite the presence of the church, the families here still suffer from regular threats, harassment, beatings and looting by armed groups. “Of course we are scared because there is no protection, you know, anyone can just come and enter the camp, as has happened several times back, that the rebels can come in the camp beginning to beat people and to loot from people,” said Moses Ruzino. “That is why we are putting our request to the UN come here to protect the civilians here.” The peacekeeping mission has two purposes. Firstly, to provide a protective presence in the area, even if it is temporary, and, secondly, to facilitate the delivery of aid by humanitarian agencies who have been struggling to safely reach the displaced civilians. Life is difficult in these camps without access to clean drinking water, food, or adequate shelter. “It is really very difficult for us to survive in this place because even when we run, all our food items were looted, and all our food items are now spoiled. We are just staying, waiting, to see who can help us by providing us a little food so we can help our children and women,” said Bangasu camp chief, James Atoroba. Bangasu camp resident, Atonita Daniel, is particularly grateful for the assistance. Her husband was killed during violent clashes in the area in 2015. Since then, she has been raising her nine children on her own. The simple gift of a plastic sheet will make a huge difference in protecting them from the heavy rain. “I have experienced hardship for the first time in my life with my nine children whose father was killed on his way to sell charcoal in the town and left me alone. The children and I are telling those who are fighting to stop senseless war and I also urge UN to bring peace to South Sudan at any cost. We are tired,” she said. The people in these camps want to go home to grow their crops, raise their children and live a peaceful and prosperous life. However, it is simply not safe enough to return. They say there are armed groups in the bush who continue to loot the deserted homes and military forces often follow them, harassing and beating them, in an attempt to find out where armed opposition groups are located. “My message to the government of South Sudan and also the international community is that they have to bring peace so that we can go back to our own places so that our children can go to school. We need peace,” said Moses Ruzino in Rimenze. That simple plea echoed by those back down the long road to Bangusa. “We don’t like to stay just the way we are, squeezing ourselves here in the camp. We need protection because we want to go back to our local area,” said James Atoroba. “We don’t like war. We want all the gunshots to stop in our area. We do not want to see any rebels moving with their guns anywhere or looting people’s property. We need peace.” Peace so that the people of Bangusa and Rimenze can live their lives safely, with dignity, and hope for a brighter future.'"
      ]
     },
     "execution_count": 23,
     "metadata": {},
     "output_type": "execute_result"
    }
   ],
   "source": [
    "analysis.content.content"
   ]
  },
  {
   "cell_type": "code",
   "execution_count": 26,
   "metadata": {
    "collapsed": false
   },
   "outputs": [
    {
     "data": {
      "text/plain": [
       "array([[  3.98533153e-002,  -6.78877588e-003,   1.23977107e+167,\n",
       "          4.47658617e-003,  -2.15503716e-003,  -6.31532784e-003,\n",
       "         -8.88269341e-004,  -1.92956093e-003,  -2.79438626e-003,\n",
       "         -1.56233996e-003,   2.96268319e-003,  -1.83742972e-002,\n",
       "          5.21991089e-003,  -4.02705539e-003,   1.36487319e+086,\n",
       "         -2.70596899e-003,  -5.95390594e-003,  -7.01046361e-003,\n",
       "          1.31113378e-003,  -4.49902612e-003,  -9.96014576e+096,\n",
       "         -1.25009136e-002,  -1.20032794e-003,   9.05436818e-003,\n",
       "          7.23823293e-003,  -6.87350144e-003,  -1.60927478e+172,\n",
       "          4.19116802e-003,   6.02482894e-003,  -5.07727521e-003,\n",
       "         -3.82248431e-003,  -1.01225580e-002,   2.66312815e-003,\n",
       "          8.92615397e-004,   9.88045987e-003,   8.48650050e-004,\n",
       "          3.68830439e-003,   3.35289453e-003,  -7.61944075e+064,\n",
       "         -1.75556433e-004,   7.67359716e-004,   3.88216782e-003,\n",
       "          2.71741342e-003,   4.01165608e-003,   9.60059148e+089,\n",
       "         -3.11644623e-003,  -6.35101106e-003,  -4.90817321e-003,\n",
       "         -3.35273648e-004,  -7.90930989e-003,   2.72172978e+291,\n",
       "         -4.28815468e-003,  -7.16932899e-003,  -1.11912532e-002,\n",
       "         -1.09554484e-002,   5.41507203e-003,   2.68473517e-003,\n",
       "          5.51128326e-003,   6.90498667e-003,   9.54635137e-004,\n",
       "          5.07010090e-003,  -6.54185976e-003,  -4.14381225e-003,\n",
       "         -8.80052676e-003,  -8.24131524e-003,  -7.00499793e-003,\n",
       "         -1.31270957e-002,   1.06420243e-002,  -1.71709054e-003,\n",
       "          5.79949115e-005,   2.30446739e-003,  -1.03038840e-002,\n",
       "         -5.27249058e-003,  -7.91150722e-003,  -4.13449794e-003]])"
      ]
     },
     "execution_count": 26,
     "metadata": {},
     "output_type": "execute_result"
    }
   ],
   "source": [
    "X2"
   ]
  },
  {
   "cell_type": "code",
   "execution_count": 22,
   "metadata": {
    "collapsed": false
   },
   "outputs": [
    {
     "ename": "ValueError",
     "evalue": "Input contains NaN, infinity or a value too large for dtype('float32').",
     "output_type": "error",
     "traceback": [
      "\u001b[0;31m---------------------------------------------------------------------------\u001b[0m",
      "\u001b[0;31mValueError\u001b[0m                                Traceback (most recent call last)",
      "\u001b[0;32m<ipython-input-22-abbb4b54878a>\u001b[0m in \u001b[0;36m<module>\u001b[0;34m()\u001b[0m\n\u001b[0;32m----> 1\u001b[0;31m \u001b[0mmodel\u001b[0m\u001b[0;34m.\u001b[0m\u001b[0mpredict\u001b[0m\u001b[0;34m(\u001b[0m\u001b[0mX2\u001b[0m\u001b[0;34m)\u001b[0m\u001b[0;34m\u001b[0m\u001b[0m\n\u001b[0m",
      "\u001b[0;32m/usr/local/lib/python3.5/dist-packages/sklearn/ensemble/forest.py\u001b[0m in \u001b[0;36mpredict\u001b[0;34m(self, X)\u001b[0m\n\u001b[1;32m    534\u001b[0m             \u001b[0mThe\u001b[0m \u001b[0mpredicted\u001b[0m \u001b[0mclasses\u001b[0m\u001b[0;34m.\u001b[0m\u001b[0;34m\u001b[0m\u001b[0m\n\u001b[1;32m    535\u001b[0m         \"\"\"\n\u001b[0;32m--> 536\u001b[0;31m         \u001b[0mproba\u001b[0m \u001b[0;34m=\u001b[0m \u001b[0mself\u001b[0m\u001b[0;34m.\u001b[0m\u001b[0mpredict_proba\u001b[0m\u001b[0;34m(\u001b[0m\u001b[0mX\u001b[0m\u001b[0;34m)\u001b[0m\u001b[0;34m\u001b[0m\u001b[0m\n\u001b[0m\u001b[1;32m    537\u001b[0m \u001b[0;34m\u001b[0m\u001b[0m\n\u001b[1;32m    538\u001b[0m         \u001b[0;32mif\u001b[0m \u001b[0mself\u001b[0m\u001b[0;34m.\u001b[0m\u001b[0mn_outputs_\u001b[0m \u001b[0;34m==\u001b[0m \u001b[0;36m1\u001b[0m\u001b[0;34m:\u001b[0m\u001b[0;34m\u001b[0m\u001b[0m\n",
      "\u001b[0;32m/usr/local/lib/python3.5/dist-packages/sklearn/ensemble/forest.py\u001b[0m in \u001b[0;36mpredict_proba\u001b[0;34m(self, X)\u001b[0m\n\u001b[1;32m    574\u001b[0m         \u001b[0mcheck_is_fitted\u001b[0m\u001b[0;34m(\u001b[0m\u001b[0mself\u001b[0m\u001b[0;34m,\u001b[0m \u001b[0;34m'estimators_'\u001b[0m\u001b[0;34m)\u001b[0m\u001b[0;34m\u001b[0m\u001b[0m\n\u001b[1;32m    575\u001b[0m         \u001b[0;31m# Check data\u001b[0m\u001b[0;34m\u001b[0m\u001b[0;34m\u001b[0m\u001b[0m\n\u001b[0;32m--> 576\u001b[0;31m         \u001b[0mX\u001b[0m \u001b[0;34m=\u001b[0m \u001b[0mself\u001b[0m\u001b[0;34m.\u001b[0m\u001b[0m_validate_X_predict\u001b[0m\u001b[0;34m(\u001b[0m\u001b[0mX\u001b[0m\u001b[0;34m)\u001b[0m\u001b[0;34m\u001b[0m\u001b[0m\n\u001b[0m\u001b[1;32m    577\u001b[0m \u001b[0;34m\u001b[0m\u001b[0m\n\u001b[1;32m    578\u001b[0m         \u001b[0;31m# Assign chunk of trees to jobs\u001b[0m\u001b[0;34m\u001b[0m\u001b[0;34m\u001b[0m\u001b[0m\n",
      "\u001b[0;32m/usr/local/lib/python3.5/dist-packages/sklearn/ensemble/forest.py\u001b[0m in \u001b[0;36m_validate_X_predict\u001b[0;34m(self, X)\u001b[0m\n\u001b[1;32m    354\u001b[0m                                  \"call `fit` before exploiting the model.\")\n\u001b[1;32m    355\u001b[0m \u001b[0;34m\u001b[0m\u001b[0m\n\u001b[0;32m--> 356\u001b[0;31m         \u001b[0;32mreturn\u001b[0m \u001b[0mself\u001b[0m\u001b[0;34m.\u001b[0m\u001b[0mestimators_\u001b[0m\u001b[0;34m[\u001b[0m\u001b[0;36m0\u001b[0m\u001b[0;34m]\u001b[0m\u001b[0;34m.\u001b[0m\u001b[0m_validate_X_predict\u001b[0m\u001b[0;34m(\u001b[0m\u001b[0mX\u001b[0m\u001b[0;34m,\u001b[0m \u001b[0mcheck_input\u001b[0m\u001b[0;34m=\u001b[0m\u001b[0;32mTrue\u001b[0m\u001b[0;34m)\u001b[0m\u001b[0;34m\u001b[0m\u001b[0m\n\u001b[0m\u001b[1;32m    357\u001b[0m \u001b[0;34m\u001b[0m\u001b[0m\n\u001b[1;32m    358\u001b[0m     \u001b[0;34m@\u001b[0m\u001b[0mproperty\u001b[0m\u001b[0;34m\u001b[0m\u001b[0m\n",
      "\u001b[0;32m/usr/local/lib/python3.5/dist-packages/sklearn/tree/tree.py\u001b[0m in \u001b[0;36m_validate_X_predict\u001b[0;34m(self, X, check_input)\u001b[0m\n\u001b[1;32m    371\u001b[0m         \u001b[0;34m\"\"\"Validate X whenever one tries to predict, apply, predict_proba\"\"\"\u001b[0m\u001b[0;34m\u001b[0m\u001b[0m\n\u001b[1;32m    372\u001b[0m         \u001b[0;32mif\u001b[0m \u001b[0mcheck_input\u001b[0m\u001b[0;34m:\u001b[0m\u001b[0;34m\u001b[0m\u001b[0m\n\u001b[0;32m--> 373\u001b[0;31m             \u001b[0mX\u001b[0m \u001b[0;34m=\u001b[0m \u001b[0mcheck_array\u001b[0m\u001b[0;34m(\u001b[0m\u001b[0mX\u001b[0m\u001b[0;34m,\u001b[0m \u001b[0mdtype\u001b[0m\u001b[0;34m=\u001b[0m\u001b[0mDTYPE\u001b[0m\u001b[0;34m,\u001b[0m \u001b[0maccept_sparse\u001b[0m\u001b[0;34m=\u001b[0m\u001b[0;34m\"csr\"\u001b[0m\u001b[0;34m)\u001b[0m\u001b[0;34m\u001b[0m\u001b[0m\n\u001b[0m\u001b[1;32m    374\u001b[0m             if issparse(X) and (X.indices.dtype != np.intc or\n\u001b[1;32m    375\u001b[0m                                 X.indptr.dtype != np.intc):\n",
      "\u001b[0;32m/usr/local/lib/python3.5/dist-packages/sklearn/utils/validation.py\u001b[0m in \u001b[0;36mcheck_array\u001b[0;34m(array, accept_sparse, dtype, order, copy, force_all_finite, ensure_2d, allow_nd, ensure_min_samples, ensure_min_features, warn_on_dtype, estimator)\u001b[0m\n\u001b[1;32m    420\u001b[0m                              % (array.ndim, estimator_name))\n\u001b[1;32m    421\u001b[0m         \u001b[0;32mif\u001b[0m \u001b[0mforce_all_finite\u001b[0m\u001b[0;34m:\u001b[0m\u001b[0;34m\u001b[0m\u001b[0m\n\u001b[0;32m--> 422\u001b[0;31m             \u001b[0m_assert_all_finite\u001b[0m\u001b[0;34m(\u001b[0m\u001b[0marray\u001b[0m\u001b[0;34m)\u001b[0m\u001b[0;34m\u001b[0m\u001b[0m\n\u001b[0m\u001b[1;32m    423\u001b[0m \u001b[0;34m\u001b[0m\u001b[0m\n\u001b[1;32m    424\u001b[0m     \u001b[0mshape_repr\u001b[0m \u001b[0;34m=\u001b[0m \u001b[0m_shape_repr\u001b[0m\u001b[0;34m(\u001b[0m\u001b[0marray\u001b[0m\u001b[0;34m.\u001b[0m\u001b[0mshape\u001b[0m\u001b[0;34m)\u001b[0m\u001b[0;34m\u001b[0m\u001b[0m\n",
      "\u001b[0;32m/usr/local/lib/python3.5/dist-packages/sklearn/utils/validation.py\u001b[0m in \u001b[0;36m_assert_all_finite\u001b[0;34m(X)\u001b[0m\n\u001b[1;32m     41\u001b[0m             and not np.isfinite(X).all()):\n\u001b[1;32m     42\u001b[0m         raise ValueError(\"Input contains NaN, infinity\"\n\u001b[0;32m---> 43\u001b[0;31m                          \" or a value too large for %r.\" % X.dtype)\n\u001b[0m\u001b[1;32m     44\u001b[0m \u001b[0;34m\u001b[0m\u001b[0m\n\u001b[1;32m     45\u001b[0m \u001b[0;34m\u001b[0m\u001b[0m\n",
      "\u001b[0;31mValueError\u001b[0m: Input contains NaN, infinity or a value too large for dtype('float32')."
     ]
    }
   ],
   "source": [
    "model.predict(X2)"
   ]
  },
  {
   "cell_type": "code",
   "execution_count": null,
   "metadata": {
    "collapsed": true
   },
   "outputs": [],
   "source": []
  },
  {
   "cell_type": "code",
   "execution_count": 30,
   "metadata": {
    "collapsed": false
   },
   "outputs": [
    {
     "ename": "ValueError",
     "evalue": "Found array with 0 feature(s) (shape=(1, 0)) while a minimum of 1 is required.",
     "output_type": "error",
     "traceback": [
      "\u001b[0;31m---------------------------------------------------------------------------\u001b[0m",
      "\u001b[0;31mValueError\u001b[0m                                Traceback (most recent call last)",
      "\u001b[0;32m<ipython-input-30-53a0b4424b95>\u001b[0m in \u001b[0;36m<module>\u001b[0;34m()\u001b[0m\n\u001b[0;32m----> 1\u001b[0;31m \u001b[0mc_m\u001b[0m\u001b[0;34m.\u001b[0m\u001b[0mpredict\u001b[0m\u001b[0;34m(\u001b[0m\u001b[0mtest_content\u001b[0m\u001b[0;34m)\u001b[0m\u001b[0;34m\u001b[0m\u001b[0m\n\u001b[0m",
      "\u001b[0;32m~/python/idetect/nlp_models/category.py\u001b[0m in \u001b[0;36mpredict\u001b[0;34m(self, text)\u001b[0m\n\u001b[1;32m     17\u001b[0m     \u001b[0;32mdef\u001b[0m \u001b[0mpredict\u001b[0m\u001b[0;34m(\u001b[0m\u001b[0mself\u001b[0m\u001b[0;34m,\u001b[0m \u001b[0mtext\u001b[0m\u001b[0;34m)\u001b[0m\u001b[0;34m:\u001b[0m\u001b[0;34m\u001b[0m\u001b[0m\n\u001b[1;32m     18\u001b[0m         \u001b[0;32mtry\u001b[0m\u001b[0;34m:\u001b[0m\u001b[0;34m\u001b[0m\u001b[0m\n\u001b[0;32m---> 19\u001b[0;31m             \u001b[0mcategory\u001b[0m \u001b[0;34m=\u001b[0m \u001b[0mself\u001b[0m\u001b[0;34m.\u001b[0m\u001b[0mmodel\u001b[0m\u001b[0;34m.\u001b[0m\u001b[0mpredict\u001b[0m\u001b[0;34m(\u001b[0m\u001b[0mpd\u001b[0m\u001b[0;34m.\u001b[0m\u001b[0mSeries\u001b[0m\u001b[0;34m(\u001b[0m\u001b[0mtext\u001b[0m\u001b[0;34m)\u001b[0m\u001b[0;34m)\u001b[0m\u001b[0;34m[\u001b[0m\u001b[0;36m0\u001b[0m\u001b[0;34m]\u001b[0m\u001b[0;34m\u001b[0m\u001b[0m\n\u001b[0m\u001b[1;32m     20\u001b[0m             \u001b[0;32mif\u001b[0m \u001b[0mcategory\u001b[0m \u001b[0;34m==\u001b[0m \u001b[0;34m'disaster'\u001b[0m\u001b[0;34m:\u001b[0m\u001b[0;34m\u001b[0m\u001b[0m\n\u001b[1;32m     21\u001b[0m                 \u001b[0;32mreturn\u001b[0m \u001b[0mDisplacementType\u001b[0m\u001b[0;34m.\u001b[0m\u001b[0mDISASTER\u001b[0m\u001b[0;34m\u001b[0m\u001b[0m\n",
      "\u001b[0;32m/usr/local/lib/python3.5/dist-packages/sklearn/utils/metaestimators.py\u001b[0m in \u001b[0;36m<lambda>\u001b[0;34m(*args, **kwargs)\u001b[0m\n\u001b[1;32m    113\u001b[0m \u001b[0;34m\u001b[0m\u001b[0m\n\u001b[1;32m    114\u001b[0m         \u001b[0;31m# lambda, but not partial, allows help() to work with update_wrapper\u001b[0m\u001b[0;34m\u001b[0m\u001b[0;34m\u001b[0m\u001b[0m\n\u001b[0;32m--> 115\u001b[0;31m         \u001b[0mout\u001b[0m \u001b[0;34m=\u001b[0m \u001b[0;32mlambda\u001b[0m \u001b[0;34m*\u001b[0m\u001b[0margs\u001b[0m\u001b[0;34m,\u001b[0m \u001b[0;34m**\u001b[0m\u001b[0mkwargs\u001b[0m\u001b[0;34m:\u001b[0m \u001b[0mself\u001b[0m\u001b[0;34m.\u001b[0m\u001b[0mfn\u001b[0m\u001b[0;34m(\u001b[0m\u001b[0mobj\u001b[0m\u001b[0;34m,\u001b[0m \u001b[0;34m*\u001b[0m\u001b[0margs\u001b[0m\u001b[0;34m,\u001b[0m \u001b[0;34m**\u001b[0m\u001b[0mkwargs\u001b[0m\u001b[0;34m)\u001b[0m\u001b[0;34m\u001b[0m\u001b[0m\n\u001b[0m\u001b[1;32m    116\u001b[0m         \u001b[0;31m# update the docstring of the returned function\u001b[0m\u001b[0;34m\u001b[0m\u001b[0;34m\u001b[0m\u001b[0m\n\u001b[1;32m    117\u001b[0m         \u001b[0mupdate_wrapper\u001b[0m\u001b[0;34m(\u001b[0m\u001b[0mout\u001b[0m\u001b[0;34m,\u001b[0m \u001b[0mself\u001b[0m\u001b[0;34m.\u001b[0m\u001b[0mfn\u001b[0m\u001b[0;34m)\u001b[0m\u001b[0;34m\u001b[0m\u001b[0m\n",
      "\u001b[0;32m/usr/local/lib/python3.5/dist-packages/sklearn/pipeline.py\u001b[0m in \u001b[0;36mpredict\u001b[0;34m(self, X)\u001b[0m\n\u001b[1;32m    314\u001b[0m             \u001b[0;32mif\u001b[0m \u001b[0mtransform\u001b[0m \u001b[0;32mis\u001b[0m \u001b[0;32mnot\u001b[0m \u001b[0;32mNone\u001b[0m\u001b[0;34m:\u001b[0m\u001b[0;34m\u001b[0m\u001b[0m\n\u001b[1;32m    315\u001b[0m                 \u001b[0mXt\u001b[0m \u001b[0;34m=\u001b[0m \u001b[0mtransform\u001b[0m\u001b[0;34m.\u001b[0m\u001b[0mtransform\u001b[0m\u001b[0;34m(\u001b[0m\u001b[0mXt\u001b[0m\u001b[0;34m)\u001b[0m\u001b[0;34m\u001b[0m\u001b[0m\n\u001b[0;32m--> 316\u001b[0;31m         \u001b[0;32mreturn\u001b[0m \u001b[0mself\u001b[0m\u001b[0;34m.\u001b[0m\u001b[0msteps\u001b[0m\u001b[0;34m[\u001b[0m\u001b[0;34m-\u001b[0m\u001b[0;36m1\u001b[0m\u001b[0;34m]\u001b[0m\u001b[0;34m[\u001b[0m\u001b[0;34m-\u001b[0m\u001b[0;36m1\u001b[0m\u001b[0;34m]\u001b[0m\u001b[0;34m.\u001b[0m\u001b[0mpredict\u001b[0m\u001b[0;34m(\u001b[0m\u001b[0mXt\u001b[0m\u001b[0;34m)\u001b[0m\u001b[0;34m\u001b[0m\u001b[0m\n\u001b[0m\u001b[1;32m    317\u001b[0m \u001b[0;34m\u001b[0m\u001b[0m\n\u001b[1;32m    318\u001b[0m     \u001b[0;34m@\u001b[0m\u001b[0mif_delegate_has_method\u001b[0m\u001b[0;34m(\u001b[0m\u001b[0mdelegate\u001b[0m\u001b[0;34m=\u001b[0m\u001b[0;34m'_final_estimator'\u001b[0m\u001b[0;34m)\u001b[0m\u001b[0;34m\u001b[0m\u001b[0m\n",
      "\u001b[0;32m/usr/local/lib/python3.5/dist-packages/sklearn/ensemble/forest.py\u001b[0m in \u001b[0;36mpredict\u001b[0;34m(self, X)\u001b[0m\n\u001b[1;32m    534\u001b[0m             \u001b[0mThe\u001b[0m \u001b[0mpredicted\u001b[0m \u001b[0mclasses\u001b[0m\u001b[0;34m.\u001b[0m\u001b[0;34m\u001b[0m\u001b[0m\n\u001b[1;32m    535\u001b[0m         \"\"\"\n\u001b[0;32m--> 536\u001b[0;31m         \u001b[0mproba\u001b[0m \u001b[0;34m=\u001b[0m \u001b[0mself\u001b[0m\u001b[0;34m.\u001b[0m\u001b[0mpredict_proba\u001b[0m\u001b[0;34m(\u001b[0m\u001b[0mX\u001b[0m\u001b[0;34m)\u001b[0m\u001b[0;34m\u001b[0m\u001b[0m\n\u001b[0m\u001b[1;32m    537\u001b[0m \u001b[0;34m\u001b[0m\u001b[0m\n\u001b[1;32m    538\u001b[0m         \u001b[0;32mif\u001b[0m \u001b[0mself\u001b[0m\u001b[0;34m.\u001b[0m\u001b[0mn_outputs_\u001b[0m \u001b[0;34m==\u001b[0m \u001b[0;36m1\u001b[0m\u001b[0;34m:\u001b[0m\u001b[0;34m\u001b[0m\u001b[0m\n",
      "\u001b[0;32m/usr/local/lib/python3.5/dist-packages/sklearn/ensemble/forest.py\u001b[0m in \u001b[0;36mpredict_proba\u001b[0;34m(self, X)\u001b[0m\n\u001b[1;32m    574\u001b[0m         \u001b[0mcheck_is_fitted\u001b[0m\u001b[0;34m(\u001b[0m\u001b[0mself\u001b[0m\u001b[0;34m,\u001b[0m \u001b[0;34m'estimators_'\u001b[0m\u001b[0;34m)\u001b[0m\u001b[0;34m\u001b[0m\u001b[0m\n\u001b[1;32m    575\u001b[0m         \u001b[0;31m# Check data\u001b[0m\u001b[0;34m\u001b[0m\u001b[0;34m\u001b[0m\u001b[0m\n\u001b[0;32m--> 576\u001b[0;31m         \u001b[0mX\u001b[0m \u001b[0;34m=\u001b[0m \u001b[0mself\u001b[0m\u001b[0;34m.\u001b[0m\u001b[0m_validate_X_predict\u001b[0m\u001b[0;34m(\u001b[0m\u001b[0mX\u001b[0m\u001b[0;34m)\u001b[0m\u001b[0;34m\u001b[0m\u001b[0m\n\u001b[0m\u001b[1;32m    577\u001b[0m \u001b[0;34m\u001b[0m\u001b[0m\n\u001b[1;32m    578\u001b[0m         \u001b[0;31m# Assign chunk of trees to jobs\u001b[0m\u001b[0;34m\u001b[0m\u001b[0;34m\u001b[0m\u001b[0m\n",
      "\u001b[0;32m/usr/local/lib/python3.5/dist-packages/sklearn/ensemble/forest.py\u001b[0m in \u001b[0;36m_validate_X_predict\u001b[0;34m(self, X)\u001b[0m\n\u001b[1;32m    354\u001b[0m                                  \"call `fit` before exploiting the model.\")\n\u001b[1;32m    355\u001b[0m \u001b[0;34m\u001b[0m\u001b[0m\n\u001b[0;32m--> 356\u001b[0;31m         \u001b[0;32mreturn\u001b[0m \u001b[0mself\u001b[0m\u001b[0;34m.\u001b[0m\u001b[0mestimators_\u001b[0m\u001b[0;34m[\u001b[0m\u001b[0;36m0\u001b[0m\u001b[0;34m]\u001b[0m\u001b[0;34m.\u001b[0m\u001b[0m_validate_X_predict\u001b[0m\u001b[0;34m(\u001b[0m\u001b[0mX\u001b[0m\u001b[0;34m,\u001b[0m \u001b[0mcheck_input\u001b[0m\u001b[0;34m=\u001b[0m\u001b[0;32mTrue\u001b[0m\u001b[0;34m)\u001b[0m\u001b[0;34m\u001b[0m\u001b[0m\n\u001b[0m\u001b[1;32m    357\u001b[0m \u001b[0;34m\u001b[0m\u001b[0m\n\u001b[1;32m    358\u001b[0m     \u001b[0;34m@\u001b[0m\u001b[0mproperty\u001b[0m\u001b[0;34m\u001b[0m\u001b[0m\n",
      "\u001b[0;32m/usr/local/lib/python3.5/dist-packages/sklearn/tree/tree.py\u001b[0m in \u001b[0;36m_validate_X_predict\u001b[0;34m(self, X, check_input)\u001b[0m\n\u001b[1;32m    371\u001b[0m         \u001b[0;34m\"\"\"Validate X whenever one tries to predict, apply, predict_proba\"\"\"\u001b[0m\u001b[0;34m\u001b[0m\u001b[0m\n\u001b[1;32m    372\u001b[0m         \u001b[0;32mif\u001b[0m \u001b[0mcheck_input\u001b[0m\u001b[0;34m:\u001b[0m\u001b[0;34m\u001b[0m\u001b[0m\n\u001b[0;32m--> 373\u001b[0;31m             \u001b[0mX\u001b[0m \u001b[0;34m=\u001b[0m \u001b[0mcheck_array\u001b[0m\u001b[0;34m(\u001b[0m\u001b[0mX\u001b[0m\u001b[0;34m,\u001b[0m \u001b[0mdtype\u001b[0m\u001b[0;34m=\u001b[0m\u001b[0mDTYPE\u001b[0m\u001b[0;34m,\u001b[0m \u001b[0maccept_sparse\u001b[0m\u001b[0;34m=\u001b[0m\u001b[0;34m\"csr\"\u001b[0m\u001b[0;34m)\u001b[0m\u001b[0;34m\u001b[0m\u001b[0m\n\u001b[0m\u001b[1;32m    374\u001b[0m             if issparse(X) and (X.indices.dtype != np.intc or\n\u001b[1;32m    375\u001b[0m                                 X.indptr.dtype != np.intc):\n",
      "\u001b[0;32m/usr/local/lib/python3.5/dist-packages/sklearn/utils/validation.py\u001b[0m in \u001b[0;36mcheck_array\u001b[0;34m(array, accept_sparse, dtype, order, copy, force_all_finite, ensure_2d, allow_nd, ensure_min_samples, ensure_min_features, warn_on_dtype, estimator)\u001b[0m\n\u001b[1;32m    437\u001b[0m                              \u001b[0;34m\" a minimum of %d is required%s.\"\u001b[0m\u001b[0;34m\u001b[0m\u001b[0m\n\u001b[1;32m    438\u001b[0m                              % (n_features, shape_repr, ensure_min_features,\n\u001b[0;32m--> 439\u001b[0;31m                                 context))\n\u001b[0m\u001b[1;32m    440\u001b[0m \u001b[0;34m\u001b[0m\u001b[0m\n\u001b[1;32m    441\u001b[0m     \u001b[0;32mif\u001b[0m \u001b[0mwarn_on_dtype\u001b[0m \u001b[0;32mand\u001b[0m \u001b[0mdtype_orig\u001b[0m \u001b[0;32mis\u001b[0m \u001b[0;32mnot\u001b[0m \u001b[0;32mNone\u001b[0m \u001b[0;32mand\u001b[0m \u001b[0marray\u001b[0m\u001b[0;34m.\u001b[0m\u001b[0mdtype\u001b[0m \u001b[0;34m!=\u001b[0m \u001b[0mdtype_orig\u001b[0m\u001b[0;34m:\u001b[0m\u001b[0;34m\u001b[0m\u001b[0m\n",
      "\u001b[0;31mValueError\u001b[0m: Found array with 0 feature(s) (shape=(1, 0)) while a minimum of 1 is required."
     ]
    }
   ],
   "source": [
    "c_m.predict(test_content)"
   ]
  },
  {
   "cell_type": "code",
   "execution_count": null,
   "metadata": {
    "collapsed": true
   },
   "outputs": [],
   "source": []
  },
  {
   "cell_type": "code",
   "execution_count": 25,
   "metadata": {
    "collapsed": false
   },
   "outputs": [
    {
     "ename": "ValueError",
     "evalue": "Found array with 0 feature(s) (shape=(1, 0)) while a minimum of 1 is required.",
     "output_type": "error",
     "traceback": [
      "\u001b[0;31m---------------------------------------------------------------------------\u001b[0m",
      "\u001b[0;31mValueError\u001b[0m                                Traceback (most recent call last)",
      "\u001b[0;32m<ipython-input-25-c30480a21025>\u001b[0m in \u001b[0;36m<module>\u001b[0;34m()\u001b[0m\n\u001b[0;32m----> 1\u001b[0;31m \u001b[0mr_m\u001b[0m\u001b[0;34m.\u001b[0m\u001b[0mpredict\u001b[0m\u001b[0;34m(\u001b[0m\u001b[0mcontent\u001b[0m\u001b[0;34m)\u001b[0m\u001b[0;34m\u001b[0m\u001b[0m\n\u001b[0m",
      "\u001b[0;32m~/python/idetect/nlp_models/relevance.py\u001b[0m in \u001b[0;36mpredict\u001b[0;34m(self, text)\u001b[0m\n\u001b[1;32m     17\u001b[0m     \u001b[0;32mdef\u001b[0m \u001b[0mpredict\u001b[0m\u001b[0;34m(\u001b[0m\u001b[0mself\u001b[0m\u001b[0;34m,\u001b[0m \u001b[0mtext\u001b[0m\u001b[0;34m)\u001b[0m\u001b[0;34m:\u001b[0m\u001b[0;34m\u001b[0m\u001b[0m\n\u001b[1;32m     18\u001b[0m         \u001b[0;32mtry\u001b[0m\u001b[0;34m:\u001b[0m\u001b[0;34m\u001b[0m\u001b[0m\n\u001b[0;32m---> 19\u001b[0;31m             \u001b[0mrelevance\u001b[0m \u001b[0;34m=\u001b[0m \u001b[0mself\u001b[0m\u001b[0;34m.\u001b[0m\u001b[0mmodel\u001b[0m\u001b[0;34m.\u001b[0m\u001b[0mtransform\u001b[0m\u001b[0;34m(\u001b[0m\u001b[0mpd\u001b[0m\u001b[0;34m.\u001b[0m\u001b[0mSeries\u001b[0m\u001b[0;34m(\u001b[0m\u001b[0mtext\u001b[0m\u001b[0;34m)\u001b[0m\u001b[0;34m)\u001b[0m\u001b[0;34m[\u001b[0m\u001b[0;36m0\u001b[0m\u001b[0;34m]\u001b[0m\u001b[0;34m\u001b[0m\u001b[0m\n\u001b[0m\u001b[1;32m     20\u001b[0m             \u001b[0;32mif\u001b[0m \u001b[0mrelevance\u001b[0m \u001b[0;34m==\u001b[0m \u001b[0;34m'yes'\u001b[0m\u001b[0;34m:\u001b[0m\u001b[0;34m\u001b[0m\u001b[0m\n\u001b[1;32m     21\u001b[0m                 \u001b[0;32mreturn\u001b[0m \u001b[0mRelevance\u001b[0m\u001b[0;34m.\u001b[0m\u001b[0mDISPLACEMENT\u001b[0m\u001b[0;34m\u001b[0m\u001b[0m\n",
      "\u001b[0;32m~/python/idetect/nlp_models/relevance.py\u001b[0m in \u001b[0;36mtransform\u001b[0;34m(self, X, *args)\u001b[0m\n\u001b[1;32m    199\u001b[0m \u001b[0;34m\u001b[0m\u001b[0m\n\u001b[1;32m    200\u001b[0m     \u001b[0;32mdef\u001b[0m \u001b[0mtransform\u001b[0m\u001b[0;34m(\u001b[0m\u001b[0mself\u001b[0m\u001b[0;34m,\u001b[0m \u001b[0mX\u001b[0m\u001b[0;34m,\u001b[0m \u001b[0;34m*\u001b[0m\u001b[0margs\u001b[0m\u001b[0;34m)\u001b[0m\u001b[0;34m:\u001b[0m\u001b[0;34m\u001b[0m\u001b[0m\n\u001b[0;32m--> 201\u001b[0;31m         \u001b[0mml_tagged\u001b[0m \u001b[0;34m=\u001b[0m \u001b[0mself\u001b[0m\u001b[0;34m.\u001b[0m\u001b[0mml_model\u001b[0m\u001b[0;34m.\u001b[0m\u001b[0mpredict\u001b[0m\u001b[0;34m(\u001b[0m\u001b[0mX\u001b[0m\u001b[0;34m)\u001b[0m\u001b[0;34m\u001b[0m\u001b[0m\n\u001b[0m\u001b[1;32m    202\u001b[0m         \u001b[0mkw_tagged\u001b[0m \u001b[0;34m=\u001b[0m \u001b[0mself\u001b[0m\u001b[0;34m.\u001b[0m\u001b[0mkw_model\u001b[0m\u001b[0;34m.\u001b[0m\u001b[0mtransform\u001b[0m\u001b[0;34m(\u001b[0m\u001b[0mX\u001b[0m\u001b[0;34m)\u001b[0m\u001b[0;34m\u001b[0m\u001b[0m\n\u001b[1;32m    203\u001b[0m         \u001b[0mcombined\u001b[0m \u001b[0;34m=\u001b[0m \u001b[0mself\u001b[0m\u001b[0;34m.\u001b[0m\u001b[0mcombine_relevance_tags\u001b[0m\u001b[0;34m(\u001b[0m\u001b[0mml_tagged\u001b[0m\u001b[0;34m,\u001b[0m \u001b[0mkw_tagged\u001b[0m\u001b[0;34m)\u001b[0m\u001b[0;34m\u001b[0m\u001b[0m\n",
      "\u001b[0;32m/usr/local/lib/python3.5/dist-packages/sklearn/utils/metaestimators.py\u001b[0m in \u001b[0;36m<lambda>\u001b[0;34m(*args, **kwargs)\u001b[0m\n\u001b[1;32m    113\u001b[0m \u001b[0;34m\u001b[0m\u001b[0m\n\u001b[1;32m    114\u001b[0m         \u001b[0;31m# lambda, but not partial, allows help() to work with update_wrapper\u001b[0m\u001b[0;34m\u001b[0m\u001b[0;34m\u001b[0m\u001b[0m\n\u001b[0;32m--> 115\u001b[0;31m         \u001b[0mout\u001b[0m \u001b[0;34m=\u001b[0m \u001b[0;32mlambda\u001b[0m \u001b[0;34m*\u001b[0m\u001b[0margs\u001b[0m\u001b[0;34m,\u001b[0m \u001b[0;34m**\u001b[0m\u001b[0mkwargs\u001b[0m\u001b[0;34m:\u001b[0m \u001b[0mself\u001b[0m\u001b[0;34m.\u001b[0m\u001b[0mfn\u001b[0m\u001b[0;34m(\u001b[0m\u001b[0mobj\u001b[0m\u001b[0;34m,\u001b[0m \u001b[0;34m*\u001b[0m\u001b[0margs\u001b[0m\u001b[0;34m,\u001b[0m \u001b[0;34m**\u001b[0m\u001b[0mkwargs\u001b[0m\u001b[0;34m)\u001b[0m\u001b[0;34m\u001b[0m\u001b[0m\n\u001b[0m\u001b[1;32m    116\u001b[0m         \u001b[0;31m# update the docstring of the returned function\u001b[0m\u001b[0;34m\u001b[0m\u001b[0;34m\u001b[0m\u001b[0m\n\u001b[1;32m    117\u001b[0m         \u001b[0mupdate_wrapper\u001b[0m\u001b[0;34m(\u001b[0m\u001b[0mout\u001b[0m\u001b[0;34m,\u001b[0m \u001b[0mself\u001b[0m\u001b[0;34m.\u001b[0m\u001b[0mfn\u001b[0m\u001b[0;34m)\u001b[0m\u001b[0;34m\u001b[0m\u001b[0m\n",
      "\u001b[0;32m/usr/local/lib/python3.5/dist-packages/sklearn/pipeline.py\u001b[0m in \u001b[0;36mpredict\u001b[0;34m(self, X)\u001b[0m\n\u001b[1;32m    314\u001b[0m             \u001b[0;32mif\u001b[0m \u001b[0mtransform\u001b[0m \u001b[0;32mis\u001b[0m \u001b[0;32mnot\u001b[0m \u001b[0;32mNone\u001b[0m\u001b[0;34m:\u001b[0m\u001b[0;34m\u001b[0m\u001b[0m\n\u001b[1;32m    315\u001b[0m                 \u001b[0mXt\u001b[0m \u001b[0;34m=\u001b[0m \u001b[0mtransform\u001b[0m\u001b[0;34m.\u001b[0m\u001b[0mtransform\u001b[0m\u001b[0;34m(\u001b[0m\u001b[0mXt\u001b[0m\u001b[0;34m)\u001b[0m\u001b[0;34m\u001b[0m\u001b[0m\n\u001b[0;32m--> 316\u001b[0;31m         \u001b[0;32mreturn\u001b[0m \u001b[0mself\u001b[0m\u001b[0;34m.\u001b[0m\u001b[0msteps\u001b[0m\u001b[0;34m[\u001b[0m\u001b[0;34m-\u001b[0m\u001b[0;36m1\u001b[0m\u001b[0;34m]\u001b[0m\u001b[0;34m[\u001b[0m\u001b[0;34m-\u001b[0m\u001b[0;36m1\u001b[0m\u001b[0;34m]\u001b[0m\u001b[0;34m.\u001b[0m\u001b[0mpredict\u001b[0m\u001b[0;34m(\u001b[0m\u001b[0mXt\u001b[0m\u001b[0;34m)\u001b[0m\u001b[0;34m\u001b[0m\u001b[0m\n\u001b[0m\u001b[1;32m    317\u001b[0m \u001b[0;34m\u001b[0m\u001b[0m\n\u001b[1;32m    318\u001b[0m     \u001b[0;34m@\u001b[0m\u001b[0mif_delegate_has_method\u001b[0m\u001b[0;34m(\u001b[0m\u001b[0mdelegate\u001b[0m\u001b[0;34m=\u001b[0m\u001b[0;34m'_final_estimator'\u001b[0m\u001b[0;34m)\u001b[0m\u001b[0;34m\u001b[0m\u001b[0m\n",
      "\u001b[0;32m/usr/local/lib/python3.5/dist-packages/sklearn/ensemble/forest.py\u001b[0m in \u001b[0;36mpredict\u001b[0;34m(self, X)\u001b[0m\n\u001b[1;32m    534\u001b[0m             \u001b[0mThe\u001b[0m \u001b[0mpredicted\u001b[0m \u001b[0mclasses\u001b[0m\u001b[0;34m.\u001b[0m\u001b[0;34m\u001b[0m\u001b[0m\n\u001b[1;32m    535\u001b[0m         \"\"\"\n\u001b[0;32m--> 536\u001b[0;31m         \u001b[0mproba\u001b[0m \u001b[0;34m=\u001b[0m \u001b[0mself\u001b[0m\u001b[0;34m.\u001b[0m\u001b[0mpredict_proba\u001b[0m\u001b[0;34m(\u001b[0m\u001b[0mX\u001b[0m\u001b[0;34m)\u001b[0m\u001b[0;34m\u001b[0m\u001b[0m\n\u001b[0m\u001b[1;32m    537\u001b[0m \u001b[0;34m\u001b[0m\u001b[0m\n\u001b[1;32m    538\u001b[0m         \u001b[0;32mif\u001b[0m \u001b[0mself\u001b[0m\u001b[0;34m.\u001b[0m\u001b[0mn_outputs_\u001b[0m \u001b[0;34m==\u001b[0m \u001b[0;36m1\u001b[0m\u001b[0;34m:\u001b[0m\u001b[0;34m\u001b[0m\u001b[0m\n",
      "\u001b[0;32m/usr/local/lib/python3.5/dist-packages/sklearn/ensemble/forest.py\u001b[0m in \u001b[0;36mpredict_proba\u001b[0;34m(self, X)\u001b[0m\n\u001b[1;32m    574\u001b[0m         \u001b[0mcheck_is_fitted\u001b[0m\u001b[0;34m(\u001b[0m\u001b[0mself\u001b[0m\u001b[0;34m,\u001b[0m \u001b[0;34m'estimators_'\u001b[0m\u001b[0;34m)\u001b[0m\u001b[0;34m\u001b[0m\u001b[0m\n\u001b[1;32m    575\u001b[0m         \u001b[0;31m# Check data\u001b[0m\u001b[0;34m\u001b[0m\u001b[0;34m\u001b[0m\u001b[0m\n\u001b[0;32m--> 576\u001b[0;31m         \u001b[0mX\u001b[0m \u001b[0;34m=\u001b[0m \u001b[0mself\u001b[0m\u001b[0;34m.\u001b[0m\u001b[0m_validate_X_predict\u001b[0m\u001b[0;34m(\u001b[0m\u001b[0mX\u001b[0m\u001b[0;34m)\u001b[0m\u001b[0;34m\u001b[0m\u001b[0m\n\u001b[0m\u001b[1;32m    577\u001b[0m \u001b[0;34m\u001b[0m\u001b[0m\n\u001b[1;32m    578\u001b[0m         \u001b[0;31m# Assign chunk of trees to jobs\u001b[0m\u001b[0;34m\u001b[0m\u001b[0;34m\u001b[0m\u001b[0m\n",
      "\u001b[0;32m/usr/local/lib/python3.5/dist-packages/sklearn/ensemble/forest.py\u001b[0m in \u001b[0;36m_validate_X_predict\u001b[0;34m(self, X)\u001b[0m\n\u001b[1;32m    354\u001b[0m                                  \"call `fit` before exploiting the model.\")\n\u001b[1;32m    355\u001b[0m \u001b[0;34m\u001b[0m\u001b[0m\n\u001b[0;32m--> 356\u001b[0;31m         \u001b[0;32mreturn\u001b[0m \u001b[0mself\u001b[0m\u001b[0;34m.\u001b[0m\u001b[0mestimators_\u001b[0m\u001b[0;34m[\u001b[0m\u001b[0;36m0\u001b[0m\u001b[0;34m]\u001b[0m\u001b[0;34m.\u001b[0m\u001b[0m_validate_X_predict\u001b[0m\u001b[0;34m(\u001b[0m\u001b[0mX\u001b[0m\u001b[0;34m,\u001b[0m \u001b[0mcheck_input\u001b[0m\u001b[0;34m=\u001b[0m\u001b[0;32mTrue\u001b[0m\u001b[0;34m)\u001b[0m\u001b[0;34m\u001b[0m\u001b[0m\n\u001b[0m\u001b[1;32m    357\u001b[0m \u001b[0;34m\u001b[0m\u001b[0m\n\u001b[1;32m    358\u001b[0m     \u001b[0;34m@\u001b[0m\u001b[0mproperty\u001b[0m\u001b[0;34m\u001b[0m\u001b[0m\n",
      "\u001b[0;32m/usr/local/lib/python3.5/dist-packages/sklearn/tree/tree.py\u001b[0m in \u001b[0;36m_validate_X_predict\u001b[0;34m(self, X, check_input)\u001b[0m\n\u001b[1;32m    371\u001b[0m         \u001b[0;34m\"\"\"Validate X whenever one tries to predict, apply, predict_proba\"\"\"\u001b[0m\u001b[0;34m\u001b[0m\u001b[0m\n\u001b[1;32m    372\u001b[0m         \u001b[0;32mif\u001b[0m \u001b[0mcheck_input\u001b[0m\u001b[0;34m:\u001b[0m\u001b[0;34m\u001b[0m\u001b[0m\n\u001b[0;32m--> 373\u001b[0;31m             \u001b[0mX\u001b[0m \u001b[0;34m=\u001b[0m \u001b[0mcheck_array\u001b[0m\u001b[0;34m(\u001b[0m\u001b[0mX\u001b[0m\u001b[0;34m,\u001b[0m \u001b[0mdtype\u001b[0m\u001b[0;34m=\u001b[0m\u001b[0mDTYPE\u001b[0m\u001b[0;34m,\u001b[0m \u001b[0maccept_sparse\u001b[0m\u001b[0;34m=\u001b[0m\u001b[0;34m\"csr\"\u001b[0m\u001b[0;34m)\u001b[0m\u001b[0;34m\u001b[0m\u001b[0m\n\u001b[0m\u001b[1;32m    374\u001b[0m             if issparse(X) and (X.indices.dtype != np.intc or\n\u001b[1;32m    375\u001b[0m                                 X.indptr.dtype != np.intc):\n",
      "\u001b[0;32m/usr/local/lib/python3.5/dist-packages/sklearn/utils/validation.py\u001b[0m in \u001b[0;36mcheck_array\u001b[0;34m(array, accept_sparse, dtype, order, copy, force_all_finite, ensure_2d, allow_nd, ensure_min_samples, ensure_min_features, warn_on_dtype, estimator)\u001b[0m\n\u001b[1;32m    437\u001b[0m                              \u001b[0;34m\" a minimum of %d is required%s.\"\u001b[0m\u001b[0;34m\u001b[0m\u001b[0m\n\u001b[1;32m    438\u001b[0m                              % (n_features, shape_repr, ensure_min_features,\n\u001b[0;32m--> 439\u001b[0;31m                                 context))\n\u001b[0m\u001b[1;32m    440\u001b[0m \u001b[0;34m\u001b[0m\u001b[0m\n\u001b[1;32m    441\u001b[0m     \u001b[0;32mif\u001b[0m \u001b[0mwarn_on_dtype\u001b[0m \u001b[0;32mand\u001b[0m \u001b[0mdtype_orig\u001b[0m \u001b[0;32mis\u001b[0m \u001b[0;32mnot\u001b[0m \u001b[0;32mNone\u001b[0m \u001b[0;32mand\u001b[0m \u001b[0marray\u001b[0m\u001b[0;34m.\u001b[0m\u001b[0mdtype\u001b[0m \u001b[0;34m!=\u001b[0m \u001b[0mdtype_orig\u001b[0m\u001b[0;34m:\u001b[0m\u001b[0;34m\u001b[0m\u001b[0m\n",
      "\u001b[0;31mValueError\u001b[0m: Found array with 0 feature(s) (shape=(1, 0)) while a minimum of 1 is required."
     ]
    }
   ],
   "source": [
    "r_m.predict(content)"
   ]
  },
  {
   "cell_type": "code",
   "execution_count": 24,
   "metadata": {
    "collapsed": false
   },
   "outputs": [
    {
     "ename": "ValueError",
     "evalue": "Found array with 0 feature(s) (shape=(1, 0)) while a minimum of 1 is required.",
     "output_type": "error",
     "traceback": [
      "\u001b[0;31m---------------------------------------------------------------------------\u001b[0m",
      "\u001b[0;31mValueError\u001b[0m                                Traceback (most recent call last)",
      "\u001b[0;32m<ipython-input-24-25d40905200f>\u001b[0m in \u001b[0;36m<module>\u001b[0;34m()\u001b[0m\n\u001b[0;32m----> 1\u001b[0;31m \u001b[0mc_m\u001b[0m\u001b[0;34m.\u001b[0m\u001b[0mpredict\u001b[0m\u001b[0;34m(\u001b[0m\u001b[0mcontent\u001b[0m\u001b[0;34m)\u001b[0m\u001b[0;34m\u001b[0m\u001b[0m\n\u001b[0m",
      "\u001b[0;32m~/python/idetect/nlp_models/category.py\u001b[0m in \u001b[0;36mpredict\u001b[0;34m(self, text)\u001b[0m\n\u001b[1;32m     17\u001b[0m     \u001b[0;32mdef\u001b[0m \u001b[0mpredict\u001b[0m\u001b[0;34m(\u001b[0m\u001b[0mself\u001b[0m\u001b[0;34m,\u001b[0m \u001b[0mtext\u001b[0m\u001b[0;34m)\u001b[0m\u001b[0;34m:\u001b[0m\u001b[0;34m\u001b[0m\u001b[0m\n\u001b[1;32m     18\u001b[0m         \u001b[0;32mtry\u001b[0m\u001b[0;34m:\u001b[0m\u001b[0;34m\u001b[0m\u001b[0m\n\u001b[0;32m---> 19\u001b[0;31m             \u001b[0mcategory\u001b[0m \u001b[0;34m=\u001b[0m \u001b[0mself\u001b[0m\u001b[0;34m.\u001b[0m\u001b[0mmodel\u001b[0m\u001b[0;34m.\u001b[0m\u001b[0mpredict\u001b[0m\u001b[0;34m(\u001b[0m\u001b[0mpd\u001b[0m\u001b[0;34m.\u001b[0m\u001b[0mSeries\u001b[0m\u001b[0;34m(\u001b[0m\u001b[0mtext\u001b[0m\u001b[0;34m)\u001b[0m\u001b[0;34m)\u001b[0m\u001b[0;34m[\u001b[0m\u001b[0;36m0\u001b[0m\u001b[0;34m]\u001b[0m\u001b[0;34m\u001b[0m\u001b[0m\n\u001b[0m\u001b[1;32m     20\u001b[0m             \u001b[0;32mif\u001b[0m \u001b[0mcategory\u001b[0m \u001b[0;34m==\u001b[0m \u001b[0;34m'disaster'\u001b[0m\u001b[0;34m:\u001b[0m\u001b[0;34m\u001b[0m\u001b[0m\n\u001b[1;32m     21\u001b[0m                 \u001b[0;32mreturn\u001b[0m \u001b[0mDisplacementType\u001b[0m\u001b[0;34m.\u001b[0m\u001b[0mDISASTER\u001b[0m\u001b[0;34m\u001b[0m\u001b[0m\n",
      "\u001b[0;32m/usr/local/lib/python3.5/dist-packages/sklearn/utils/metaestimators.py\u001b[0m in \u001b[0;36m<lambda>\u001b[0;34m(*args, **kwargs)\u001b[0m\n\u001b[1;32m    113\u001b[0m \u001b[0;34m\u001b[0m\u001b[0m\n\u001b[1;32m    114\u001b[0m         \u001b[0;31m# lambda, but not partial, allows help() to work with update_wrapper\u001b[0m\u001b[0;34m\u001b[0m\u001b[0;34m\u001b[0m\u001b[0m\n\u001b[0;32m--> 115\u001b[0;31m         \u001b[0mout\u001b[0m \u001b[0;34m=\u001b[0m \u001b[0;32mlambda\u001b[0m \u001b[0;34m*\u001b[0m\u001b[0margs\u001b[0m\u001b[0;34m,\u001b[0m \u001b[0;34m**\u001b[0m\u001b[0mkwargs\u001b[0m\u001b[0;34m:\u001b[0m \u001b[0mself\u001b[0m\u001b[0;34m.\u001b[0m\u001b[0mfn\u001b[0m\u001b[0;34m(\u001b[0m\u001b[0mobj\u001b[0m\u001b[0;34m,\u001b[0m \u001b[0;34m*\u001b[0m\u001b[0margs\u001b[0m\u001b[0;34m,\u001b[0m \u001b[0;34m**\u001b[0m\u001b[0mkwargs\u001b[0m\u001b[0;34m)\u001b[0m\u001b[0;34m\u001b[0m\u001b[0m\n\u001b[0m\u001b[1;32m    116\u001b[0m         \u001b[0;31m# update the docstring of the returned function\u001b[0m\u001b[0;34m\u001b[0m\u001b[0;34m\u001b[0m\u001b[0m\n\u001b[1;32m    117\u001b[0m         \u001b[0mupdate_wrapper\u001b[0m\u001b[0;34m(\u001b[0m\u001b[0mout\u001b[0m\u001b[0;34m,\u001b[0m \u001b[0mself\u001b[0m\u001b[0;34m.\u001b[0m\u001b[0mfn\u001b[0m\u001b[0;34m)\u001b[0m\u001b[0;34m\u001b[0m\u001b[0m\n",
      "\u001b[0;32m/usr/local/lib/python3.5/dist-packages/sklearn/pipeline.py\u001b[0m in \u001b[0;36mpredict\u001b[0;34m(self, X)\u001b[0m\n\u001b[1;32m    314\u001b[0m             \u001b[0;32mif\u001b[0m \u001b[0mtransform\u001b[0m \u001b[0;32mis\u001b[0m \u001b[0;32mnot\u001b[0m \u001b[0;32mNone\u001b[0m\u001b[0;34m:\u001b[0m\u001b[0;34m\u001b[0m\u001b[0m\n\u001b[1;32m    315\u001b[0m                 \u001b[0mXt\u001b[0m \u001b[0;34m=\u001b[0m \u001b[0mtransform\u001b[0m\u001b[0;34m.\u001b[0m\u001b[0mtransform\u001b[0m\u001b[0;34m(\u001b[0m\u001b[0mXt\u001b[0m\u001b[0;34m)\u001b[0m\u001b[0;34m\u001b[0m\u001b[0m\n\u001b[0;32m--> 316\u001b[0;31m         \u001b[0;32mreturn\u001b[0m \u001b[0mself\u001b[0m\u001b[0;34m.\u001b[0m\u001b[0msteps\u001b[0m\u001b[0;34m[\u001b[0m\u001b[0;34m-\u001b[0m\u001b[0;36m1\u001b[0m\u001b[0;34m]\u001b[0m\u001b[0;34m[\u001b[0m\u001b[0;34m-\u001b[0m\u001b[0;36m1\u001b[0m\u001b[0;34m]\u001b[0m\u001b[0;34m.\u001b[0m\u001b[0mpredict\u001b[0m\u001b[0;34m(\u001b[0m\u001b[0mXt\u001b[0m\u001b[0;34m)\u001b[0m\u001b[0;34m\u001b[0m\u001b[0m\n\u001b[0m\u001b[1;32m    317\u001b[0m \u001b[0;34m\u001b[0m\u001b[0m\n\u001b[1;32m    318\u001b[0m     \u001b[0;34m@\u001b[0m\u001b[0mif_delegate_has_method\u001b[0m\u001b[0;34m(\u001b[0m\u001b[0mdelegate\u001b[0m\u001b[0;34m=\u001b[0m\u001b[0;34m'_final_estimator'\u001b[0m\u001b[0;34m)\u001b[0m\u001b[0;34m\u001b[0m\u001b[0m\n",
      "\u001b[0;32m/usr/local/lib/python3.5/dist-packages/sklearn/ensemble/forest.py\u001b[0m in \u001b[0;36mpredict\u001b[0;34m(self, X)\u001b[0m\n\u001b[1;32m    534\u001b[0m             \u001b[0mThe\u001b[0m \u001b[0mpredicted\u001b[0m \u001b[0mclasses\u001b[0m\u001b[0;34m.\u001b[0m\u001b[0;34m\u001b[0m\u001b[0m\n\u001b[1;32m    535\u001b[0m         \"\"\"\n\u001b[0;32m--> 536\u001b[0;31m         \u001b[0mproba\u001b[0m \u001b[0;34m=\u001b[0m \u001b[0mself\u001b[0m\u001b[0;34m.\u001b[0m\u001b[0mpredict_proba\u001b[0m\u001b[0;34m(\u001b[0m\u001b[0mX\u001b[0m\u001b[0;34m)\u001b[0m\u001b[0;34m\u001b[0m\u001b[0m\n\u001b[0m\u001b[1;32m    537\u001b[0m \u001b[0;34m\u001b[0m\u001b[0m\n\u001b[1;32m    538\u001b[0m         \u001b[0;32mif\u001b[0m \u001b[0mself\u001b[0m\u001b[0;34m.\u001b[0m\u001b[0mn_outputs_\u001b[0m \u001b[0;34m==\u001b[0m \u001b[0;36m1\u001b[0m\u001b[0;34m:\u001b[0m\u001b[0;34m\u001b[0m\u001b[0m\n",
      "\u001b[0;32m/usr/local/lib/python3.5/dist-packages/sklearn/ensemble/forest.py\u001b[0m in \u001b[0;36mpredict_proba\u001b[0;34m(self, X)\u001b[0m\n\u001b[1;32m    574\u001b[0m         \u001b[0mcheck_is_fitted\u001b[0m\u001b[0;34m(\u001b[0m\u001b[0mself\u001b[0m\u001b[0;34m,\u001b[0m \u001b[0;34m'estimators_'\u001b[0m\u001b[0;34m)\u001b[0m\u001b[0;34m\u001b[0m\u001b[0m\n\u001b[1;32m    575\u001b[0m         \u001b[0;31m# Check data\u001b[0m\u001b[0;34m\u001b[0m\u001b[0;34m\u001b[0m\u001b[0m\n\u001b[0;32m--> 576\u001b[0;31m         \u001b[0mX\u001b[0m \u001b[0;34m=\u001b[0m \u001b[0mself\u001b[0m\u001b[0;34m.\u001b[0m\u001b[0m_validate_X_predict\u001b[0m\u001b[0;34m(\u001b[0m\u001b[0mX\u001b[0m\u001b[0;34m)\u001b[0m\u001b[0;34m\u001b[0m\u001b[0m\n\u001b[0m\u001b[1;32m    577\u001b[0m \u001b[0;34m\u001b[0m\u001b[0m\n\u001b[1;32m    578\u001b[0m         \u001b[0;31m# Assign chunk of trees to jobs\u001b[0m\u001b[0;34m\u001b[0m\u001b[0;34m\u001b[0m\u001b[0m\n",
      "\u001b[0;32m/usr/local/lib/python3.5/dist-packages/sklearn/ensemble/forest.py\u001b[0m in \u001b[0;36m_validate_X_predict\u001b[0;34m(self, X)\u001b[0m\n\u001b[1;32m    354\u001b[0m                                  \"call `fit` before exploiting the model.\")\n\u001b[1;32m    355\u001b[0m \u001b[0;34m\u001b[0m\u001b[0m\n\u001b[0;32m--> 356\u001b[0;31m         \u001b[0;32mreturn\u001b[0m \u001b[0mself\u001b[0m\u001b[0;34m.\u001b[0m\u001b[0mestimators_\u001b[0m\u001b[0;34m[\u001b[0m\u001b[0;36m0\u001b[0m\u001b[0;34m]\u001b[0m\u001b[0;34m.\u001b[0m\u001b[0m_validate_X_predict\u001b[0m\u001b[0;34m(\u001b[0m\u001b[0mX\u001b[0m\u001b[0;34m,\u001b[0m \u001b[0mcheck_input\u001b[0m\u001b[0;34m=\u001b[0m\u001b[0;32mTrue\u001b[0m\u001b[0;34m)\u001b[0m\u001b[0;34m\u001b[0m\u001b[0m\n\u001b[0m\u001b[1;32m    357\u001b[0m \u001b[0;34m\u001b[0m\u001b[0m\n\u001b[1;32m    358\u001b[0m     \u001b[0;34m@\u001b[0m\u001b[0mproperty\u001b[0m\u001b[0;34m\u001b[0m\u001b[0m\n",
      "\u001b[0;32m/usr/local/lib/python3.5/dist-packages/sklearn/tree/tree.py\u001b[0m in \u001b[0;36m_validate_X_predict\u001b[0;34m(self, X, check_input)\u001b[0m\n\u001b[1;32m    371\u001b[0m         \u001b[0;34m\"\"\"Validate X whenever one tries to predict, apply, predict_proba\"\"\"\u001b[0m\u001b[0;34m\u001b[0m\u001b[0m\n\u001b[1;32m    372\u001b[0m         \u001b[0;32mif\u001b[0m \u001b[0mcheck_input\u001b[0m\u001b[0;34m:\u001b[0m\u001b[0;34m\u001b[0m\u001b[0m\n\u001b[0;32m--> 373\u001b[0;31m             \u001b[0mX\u001b[0m \u001b[0;34m=\u001b[0m \u001b[0mcheck_array\u001b[0m\u001b[0;34m(\u001b[0m\u001b[0mX\u001b[0m\u001b[0;34m,\u001b[0m \u001b[0mdtype\u001b[0m\u001b[0;34m=\u001b[0m\u001b[0mDTYPE\u001b[0m\u001b[0;34m,\u001b[0m \u001b[0maccept_sparse\u001b[0m\u001b[0;34m=\u001b[0m\u001b[0;34m\"csr\"\u001b[0m\u001b[0;34m)\u001b[0m\u001b[0;34m\u001b[0m\u001b[0m\n\u001b[0m\u001b[1;32m    374\u001b[0m             if issparse(X) and (X.indices.dtype != np.intc or\n\u001b[1;32m    375\u001b[0m                                 X.indptr.dtype != np.intc):\n",
      "\u001b[0;32m/usr/local/lib/python3.5/dist-packages/sklearn/utils/validation.py\u001b[0m in \u001b[0;36mcheck_array\u001b[0;34m(array, accept_sparse, dtype, order, copy, force_all_finite, ensure_2d, allow_nd, ensure_min_samples, ensure_min_features, warn_on_dtype, estimator)\u001b[0m\n\u001b[1;32m    437\u001b[0m                              \u001b[0;34m\" a minimum of %d is required%s.\"\u001b[0m\u001b[0;34m\u001b[0m\u001b[0m\n\u001b[1;32m    438\u001b[0m                              % (n_features, shape_repr, ensure_min_features,\n\u001b[0;32m--> 439\u001b[0;31m                                 context))\n\u001b[0m\u001b[1;32m    440\u001b[0m \u001b[0;34m\u001b[0m\u001b[0m\n\u001b[1;32m    441\u001b[0m     \u001b[0;32mif\u001b[0m \u001b[0mwarn_on_dtype\u001b[0m \u001b[0;32mand\u001b[0m \u001b[0mdtype_orig\u001b[0m \u001b[0;32mis\u001b[0m \u001b[0;32mnot\u001b[0m \u001b[0;32mNone\u001b[0m \u001b[0;32mand\u001b[0m \u001b[0marray\u001b[0m\u001b[0;34m.\u001b[0m\u001b[0mdtype\u001b[0m \u001b[0;34m!=\u001b[0m \u001b[0mdtype_orig\u001b[0m\u001b[0;34m:\u001b[0m\u001b[0;34m\u001b[0m\u001b[0m\n",
      "\u001b[0;31mValueError\u001b[0m: Found array with 0 feature(s) (shape=(1, 0)) while a minimum of 1 is required."
     ]
    }
   ],
   "source": [
    "c_m.predict(content)"
   ]
  },
  {
   "cell_type": "code",
   "execution_count": 27,
   "metadata": {
    "collapsed": false
   },
   "outputs": [
    {
     "data": {
      "text/plain": [
       "str"
      ]
     },
     "execution_count": 27,
     "metadata": {},
     "output_type": "execute_result"
    }
   ],
   "source": [
    "type(content)"
   ]
  },
  {
   "cell_type": "code",
   "execution_count": 28,
   "metadata": {
    "collapsed": false
   },
   "outputs": [
    {
     "data": {
      "text/plain": [
       "4386"
      ]
     },
     "execution_count": 28,
     "metadata": {},
     "output_type": "execute_result"
    }
   ],
   "source": [
    "len(content)"
   ]
  },
  {
   "cell_type": "code",
   "execution_count": 19,
   "metadata": {
    "collapsed": false
   },
   "outputs": [
    {
     "data": {
      "text/plain": [
       "'PHILLIP MBUGO Hundreds of people sheltering from violence at Bangasu camp in the Western Equatorian region of South Sudan have received humanitarian relief for the first time since they fled their homes in June. A peacekeeping patrol serving with the United Nations Mission in South Sudan provided safe passage for the delivery of aid by humanitarian agencies to more than 800 households at two camps, who received cooking utensils, buckets and tarpaulins to provide much-needed shelter from the heavy rains. The journey to these camps involves the convoy navigating waterlogged roads damaged by heavy rain and the war that has ravaged South Sudan for almost four years. The convoy passed by villages abandoned by residents who fled after coming under attack earlier this year. No one knows exactly how many people died in the raids but many of the homes have been looted or burnt to the ground. Those sheltering at Bangasu camp say both sides involved in the ongoing conflict are responsible for their predicament. “It is difficult because as the incident happened the government was patrolling these places searching for the rebels and the rebels were also active here moving through the villages,” said Bangasu camp chief, Moses Ruzino. The patrol was also able to reach Rimenze camp further to the north where hundreds of people have sought sanctuary in a makeshift camp next to the Catholic Church. Despite the presence of the church, the families here still suffer from regular threats, harassment, beatings and looting by armed groups. “Of course we are scared because there is no protection, you know, anyone can just come and enter the camp, as has happened several times back, that the rebels can come in the camp beginning to beat people and to loot from people,” said Moses Ruzino. “That is why we are putting our request to the UN come here to protect the civilians here.” The peacekeeping mission has two purposes. Firstly, to provide a protective presence in the area, even if it is temporary, and, secondly, to facilitate the delivery of aid by humanitarian agencies who have been struggling to safely reach the displaced civilians. Life is difficult in these camps without access to clean drinking water, food, or adequate shelter. “It is really very difficult for us to survive in this place because even when we run, all our food items were looted, and all our food items are now spoiled. We are just staying, waiting, to see who can help us by providing us a little food so we can help our children and women,” said Bangasu camp chief, James Atoroba. Bangasu camp resident, Atonita Daniel, is particularly grateful for the assistance. Her husband was killed during violent clashes in the area in 2015. Since then, she has been raising her nine children on her own. The simple gift of a plastic sheet will make a huge difference in protecting them from the heavy rain. “I have experienced hardship for the first time in my life with my nine children whose father was killed on his way to sell charcoal in the town and left me alone. The children and I are telling those who are fighting to stop senseless war and I also urge UN to bring peace to South Sudan at any cost. We are tired,” she said. The people in these camps want to go home to grow their crops, raise their children and live a peaceful and prosperous life. However, it is simply not safe enough to return. They say there are armed groups in the bush who continue to loot the deserted homes and military forces often follow them, harassing and beating them, in an attempt to find out where armed opposition groups are located. “My message to the government of South Sudan and also the international community is that they have to bring peace so that we can go back to our own places so that our children can go to school. We need peace,” said Moses Ruzino in Rimenze. That simple plea echoed by those back down the long road to Bangusa. “We don’t like to stay just the way we are, squeezing ourselves here in the camp. We need protection because we want to go back to our local area,” said James Atoroba. “We don’t like war. We want all the gunshots to stop in our area. We do not want to see any rebels moving with their guns anywhere or looting people’s property. We need peace.” Peace so that the people of Bangusa and Rimenze can live their lives safely, with dignity, and hope for a brighter future.'"
      ]
     },
     "execution_count": 19,
     "metadata": {},
     "output_type": "execute_result"
    }
   ],
   "source": [
    "a.content.content"
   ]
  },
  {
   "cell_type": "code",
   "execution_count": null,
   "metadata": {
    "collapsed": true
   },
   "outputs": [],
   "source": []
  },
  {
   "cell_type": "code",
   "execution_count": null,
   "metadata": {
    "collapsed": true
   },
   "outputs": [],
   "source": []
  },
  {
   "cell_type": "code",
   "execution_count": null,
   "metadata": {
    "collapsed": true
   },
   "outputs": [],
   "source": []
  },
  {
   "cell_type": "code",
   "execution_count": 2,
   "metadata": {
    "collapsed": true
   },
   "outputs": [],
   "source": [
    "from sqlalchemy import create_engine\n",
    "from idetect.model import db_url, Base, Document, Session, Status, Analysis, \\\n",
    "    DocumentContent, Location, Country, Fact, KeywordType, FactKeyword    \n",
    "\n",
    "# connect to the DB specified in the docker.env file\n",
    "engine = create_engine(db_url())\n",
    "Session.configure(bind=engine)"
   ]
  },
  {
   "cell_type": "code",
   "execution_count": 3,
   "metadata": {
    "collapsed": false
   },
   "outputs": [
    {
     "name": "stdout",
     "output_type": "stream",
     "text": [
      "Loaded cities_to_countries dictionary.\n",
      "Loaded Spacy English Language NLP Models.\n"
     ]
    }
   ],
   "source": [
    "from idetect.fact_extractor import extract_facts"
   ]
  },
  {
   "cell_type": "code",
   "execution_count": 4,
   "metadata": {
    "collapsed": true
   },
   "outputs": [],
   "source": [
    "from idetect.load_data import load_countries, load_terms"
   ]
  },
  {
   "cell_type": "code",
   "execution_count": 5,
   "metadata": {
    "collapsed": true
   },
   "outputs": [],
   "source": [
    "# create the DB schema, if it doesn't already exist\n",
    "Base.metadata.drop_all(engine)\n",
    "Base.metadata.create_all(engine)\n",
    "session=Session()"
   ]
  },
  {
   "cell_type": "code",
   "execution_count": 6,
   "metadata": {
    "collapsed": true
   },
   "outputs": [],
   "source": [
    "load_countries(session)"
   ]
  },
  {
   "cell_type": "code",
   "execution_count": 7,
   "metadata": {
    "collapsed": true
   },
   "outputs": [],
   "source": [
    "load_terms(session)"
   ]
  },
  {
   "cell_type": "code",
   "execution_count": 20,
   "metadata": {
    "collapsed": true
   },
   "outputs": [],
   "source": [
    "session.rollback()"
   ]
  },
  {
   "cell_type": "code",
   "execution_count": 8,
   "metadata": {
    "collapsed": true
   },
   "outputs": [],
   "source": [
    "c = 'Situation Overview  Monsoon rains and increased water levels in major rivers have caused seasonal floods in Myanmar, primarily affecting Magway, Sagaing, Bago and Ayeyarwady regions and Mon State. Mandalay Region, Chin, Kayin, Rakhine and Shan states, as well as the Union Territory, are also affected by floods but with smaller-scale or no displacements reported at this stage. As of 25 July, the cumulative number of people who had been temporarily displaced/evacuated since the beginning of July in flood-affected states and regions was reported to be almost 140,000, according to the Government of Myanmar’s Relief and Resettlement Department (RRD) in Nay Pyi Taw. At least three people are reported to have died due to flooding. In some areas flood waters have receded and people have returned to their homes. As of 25 July, out of a total of 269 evacuation sites, 107 had been closed again, mainly in Sagaing, Mon, Rakhine and the Union Territory. In addition to those displaced/evacuated between 2 and 25 July, thousands more have been affected by flooding. People who are displaced are staying in monasteries, in temporary shelters or with host families or relatives.  Most severely affected states/regions (displacement figures as of 25 July)  Magway remains the most severely affected region with over 92,000 people reported to have been temporarily displaced across 12 townships, with Pokkoku, Yesagyo and Yenanchaung townships the worst affected, according to RRD. Flood waters in some of these townships are reported to be receding and people returning to their homes. However, the Magway regional RRD reports that many of those most severely affected live along the banks of the Ayayerwady River and may be displaced multiple times as flooding is likely to reoccur in these areas over the course of the monsoon season. Some families, who live in low lying areas, remain displaced as flooding continues to affect their homes. As of 25 July, a total of 55 evacuation sites in Magway remained open. In Sagaing Region, more than 23,000 people were temporarily displaced. However, all temporary evacuation sites in the region are now reported to have been closed and most of those displaced are reported to have returned to their homes after flood waters receded, according to RRD in Sagaing.  In Bago Region, over 10,000 people from eight townships have been temporarily displaced, while more than 6,700 people in nine townships in the Ayeyarwady Region are being accommodated in evacuation centres or staying with host families. In Mon State, some 5,000 people were displaced by floods over the past week but many have since been able to return to their homes. Floods also temporarily displaced over 1,100 people in Rakhine State and strong winds, heavy rain and swollen rivers have destroyed 75 houses and damaged another 120 homes in Mrauk-U, Minbya, Kyauktaw, Toungup and Ann townships since 24 July. Some of those displaced have since been able to return to their homes. In Mandalay Region, thousands of people affected by rising water levels have reportedly moved to safer locations on their own accord as a preventive measure.  Response  The Government of Myanmar is leading the flood response. RRD, in coordination with local authorities and different government departments, is responding to the immediate needs of displaced families by providing cash to purchase rice rations and distributing drinking water and relief items. Assistance is being provided in areas recently affected by floods, including Rakhine, Ayayerwady and Mon. The Union Minister of the Department of Social Welfare, Relief and Resettlement Department visited Kyaikhto Township in Mon State on 23 July and provided immediate assistance to flood affected/displaced households, as well fiber boats and life jackets to the township authorities. RRD is also providing cash to repair and rebuild houses that were damaged or washed away. Meanwhile, RRD has pre-positioned emergency tarpaulins and water purification tablets in Ayeyarwady, Bago and Magway regions. The Myanmar Military is also providing assistance, including food, drinking water, warm clothes and blankets, mobile health clinics, as well as supporting flood preparedness measures, evacuations and clean up in a number of flood-affected areas. In collaboration with the Township Health Department, local authorities are organizing chlorination of water sources and pond cleaning/renovation in areas where flood waters have subsided.  The Myanmar Red Cross Society (MRCS) is providing evacuation services in affected townships, assisting with water and sanitation in evacuation sites. MRCS is also providing food, drinking water, emergency tarpaulins and shelter tool kits, hygiene kits and mosquito nets, as well as first aid and emergency healthcare services. INGOs have provided water and sanitation support, including chlorination of water sources and distributing water purification tablets in Sagaing Region. UN agencies continue to closely monitor the situation and remain in contact with local and national authorities and stand ready to support the Government’s Response, if required.  Needs/Gaps: In Magway Region, as some people from low-lying areas remain displaced in temporary evacuation sites and some people may be temporarily displaced again during the coming weeks as the monsoon season continues, there may be a need for additional assistance, particularly for food, tarpaulins and water and sanitation support, according to the regional RRD. Local authorities and RRD have provided initial assistance and are closely monitoring the situation. The UN and MRCS are also following the situation and liaising closely with the regional authorities to respond to further humanitarian needs, if required.  Weather Outlook  The Government of Myanmar’s Department of Meteorology and Hydrology (DMH) has issued flood warnings for a few townships in Ayeyarwady and Bago regions as the water levels of rivers have reached above danger levels and advised people who live in low lying areas/close to rivers to take precautionary measures. DMH reported on 27 July that rains or thundershowers will be widespread in all states and regions with increased rains in Tanintharyi Region, as well as in Kayin and Mon states.'"
   ]
  },
  {
   "cell_type": "code",
   "execution_count": 9,
   "metadata": {
    "collapsed": true
   },
   "outputs": [],
   "source": [
    "content = DocumentContent(content=c)\n",
    "session.add(content)\n",
    "session.commit()"
   ]
  },
  {
   "cell_type": "code",
   "execution_count": 10,
   "metadata": {
    "collapsed": true
   },
   "outputs": [],
   "source": [
    "document = Document(name=\"Name\", type=\"WEB\")\n",
    "session.add(document)\n",
    "session.commit()"
   ]
  },
  {
   "cell_type": "code",
   "execution_count": 11,
   "metadata": {
    "collapsed": true
   },
   "outputs": [],
   "source": [
    "analysis = Analysis(status=\"Status\", document_id=document.id, content_id=content.id)\n",
    "session.add(analysis)\n",
    "session.commit()"
   ]
  },
  {
   "cell_type": "code",
   "execution_count": 12,
   "metadata": {
    "collapsed": true
   },
   "outputs": [],
   "source": [
    "extract_facts(analysis)"
   ]
  },
  {
   "cell_type": "code",
   "execution_count": 19,
   "metadata": {
    "collapsed": false
   },
   "outputs": [
    {
     "data": {
      "text/plain": [
       "[('MMR', 'Destroyed Housing', 'Household', 75, None),\n",
       " ('MMR', 'Displaced', 'Person', 5000, None),\n",
       " ('MMR', 'Displaced', 'Household', None, ''),\n",
       " ('MMR', 'Displaced', 'Household', None, ''),\n",
       " ('MMR', 'Displaced', 'Household', None, ''),\n",
       " ('MMR', 'Partially Destroyed Housing', 'Household', 75, None),\n",
       " ('IND', 'Displaced', 'People', None, 'thousands'),\n",
       " ('MMR', 'Displaced', 'People', None, 'thousands'),\n",
       " ('MMR', 'Displaced', 'Person', None, ''),\n",
       " ('MMR', 'Displaced', 'Person', 23000, None),\n",
       " ('MMR', 'Sheltered', 'Person', 6700, None),\n",
       " ('MMR', 'Displaced', 'Household', None, ''),\n",
       " ('MMR', 'Displaced', 'Household', None, ''),\n",
       " ('MMR', 'Displaced', 'Household', None, ''),\n",
       " ('MMR', 'Displaced', 'Household', None, ''),\n",
       " ('MMR', 'Displaced', 'Person', None, '')]"
      ]
     },
     "execution_count": 19,
     "metadata": {},
     "output_type": "execute_result"
    }
   ],
   "source": [
    "[(f.iso3, f.term, f.unit, f.specific_reported_figure, f.vague_reported_figure) for f in analysis.facts]"
   ]
  },
  {
   "cell_type": "code",
   "execution_count": null,
   "metadata": {
    "collapsed": true
   },
   "outputs": [],
   "source": []
  },
  {
   "cell_type": "code",
   "execution_count": 8,
   "metadata": {
    "collapsed": true
   },
   "outputs": [],
   "source": [
    "from idetect.interpreter import Interpreter"
   ]
  },
  {
   "cell_type": "code",
   "execution_count": 9,
   "metadata": {
    "collapsed": true
   },
   "outputs": [],
   "source": [
    "nlp = spacy.load(\"en_default\")"
   ]
  },
  {
   "cell_type": "code",
   "execution_count": 14,
   "metadata": {
    "collapsed": true,
    "scrolled": true
   },
   "outputs": [],
   "source": [
    "interpreter2 = Interpreter(session, nlp)"
   ]
  },
  {
   "cell_type": "code",
   "execution_count": 15,
   "metadata": {
    "collapsed": false
   },
   "outputs": [
    {
     "data": {
      "text/plain": [
       "['family',\n",
       " 'person',\n",
       " 'people',\n",
       " 'individual',\n",
       " 'local',\n",
       " 'villager',\n",
       " 'resident',\n",
       " 'occupant',\n",
       " 'citizen',\n",
       " 'household']"
      ]
     },
     "execution_count": 15,
     "metadata": {},
     "output_type": "execute_result"
    }
   ],
   "source": [
    "interpreter2.person_unit_lemmas"
   ]
  },
  {
   "cell_type": "code",
   "execution_count": 10,
   "metadata": {
    "collapsed": false
   },
   "outputs": [
    {
     "data": {
      "text/plain": [
       "['displaced',\n",
       " 'evacuated',\n",
       " 'forced',\n",
       " 'flee',\n",
       " 'homeless',\n",
       " 'relief camp',\n",
       " 'sheltered',\n",
       " 'relocated',\n",
       " 'stranded',\n",
       " 'stuck',\n",
       " 'accommodated']"
      ]
     },
     "execution_count": 10,
     "metadata": {},
     "output_type": "execute_result"
    }
   ],
   "source": [
    "[t.description for t in session.query(ReportKeyword).filter_by(term_type=TermType.PERSON_TERM).all()]"
   ]
  },
  {
   "cell_type": "code",
   "execution_count": null,
   "metadata": {
    "collapsed": true
   },
   "outputs": [],
   "source": []
  },
  {
   "cell_type": "code",
   "execution_count": null,
   "metadata": {
    "collapsed": true
   },
   "outputs": [],
   "source": []
  },
  {
   "cell_type": "code",
   "execution_count": 4,
   "metadata": {
    "collapsed": false
   },
   "outputs": [
    {
     "name": "stdout",
     "output_type": "stream",
     "text": [
      "Loaded cities_to_countries dictionary.\n",
      "Loaded Spacy English Language NLP Models.\n"
     ]
    }
   ],
   "source": [
    "#import datetime\n",
    "#from idetect.scraper import scrape_article\n",
    "from idetect.fact_extractor import extract_reports, save_reports, process_location\n",
    "#from idetect.geotagger import get_geo_info\n",
    "#import newspaper"
   ]
  },
  {
   "cell_type": "code",
   "execution_count": 4,
   "metadata": {
    "collapsed": true
   },
   "outputs": [],
   "source": [
    "from idetect.geotagger import get_geo_info"
   ]
  },
  {
   "cell_type": "code",
   "execution_count": 5,
   "metadata": {
    "collapsed": true
   },
   "outputs": [],
   "source": [
    "session=Session()"
   ]
  },
  {
   "cell_type": "code",
   "execution_count": 6,
   "metadata": {
    "collapsed": false
   },
   "outputs": [
    {
     "data": {
      "text/plain": [
       "<sqlalchemy.engine.result.ResultProxy at 0x7f541b087550>"
      ]
     },
     "execution_count": 6,
     "metadata": {},
     "output_type": "execute_result"
    }
   ],
   "source": [
    "session.execute(\"DROP TABLE article CASCADE;\")"
   ]
  },
  {
   "cell_type": "code",
   "execution_count": null,
   "metadata": {
    "collapsed": true
   },
   "outputs": [],
   "source": [
    "# create the DB schema, if it doesn't already exist\n",
    "Base.metadata.drop_all(engine)\n",
    "Base.metadata.create_all(engine)\n",
    "session=Session()"
   ]
  },
  {
   "cell_type": "code",
   "execution_count": 2,
   "metadata": {
    "collapsed": false
   },
   "outputs": [
    {
     "ename": "NameError",
     "evalue": "name 'db_url' is not defined",
     "output_type": "error",
     "traceback": [
      "\u001b[0;31m---------------------------------------------------------------------------\u001b[0m",
      "\u001b[0;31mNameError\u001b[0m                                 Traceback (most recent call last)",
      "\u001b[0;32m<ipython-input-2-9ab59e6ff442>\u001b[0m in \u001b[0;36m<module>\u001b[0;34m()\u001b[0m\n\u001b[0;32m----> 1\u001b[0;31m \u001b[0mdb_url\u001b[0m\u001b[0;34m\u001b[0m\u001b[0m\n\u001b[0m",
      "\u001b[0;31mNameError\u001b[0m: name 'db_url' is not defined"
     ]
    }
   ],
   "source": [
    "db_url"
   ]
  },
  {
   "cell_type": "code",
   "execution_count": 5,
   "metadata": {
    "collapsed": true
   },
   "outputs": [],
   "source": [
    "session = Session()"
   ]
  },
  {
   "cell_type": "code",
   "execution_count": 6,
   "metadata": {
    "collapsed": true
   },
   "outputs": [],
   "source": [
    "article = Article(url='http://www.jupiter.fl.us/documentcenter/view/3573')\n",
    "session.add(article)\n",
    "session.commit()"
   ]
  },
  {
   "cell_type": "code",
   "execution_count": 7,
   "metadata": {
    "collapsed": true
   },
   "outputs": [],
   "source": []
  },
  {
   "cell_type": "code",
   "execution_count": 8,
   "metadata": {
    "collapsed": true
   },
   "outputs": [],
   "source": [
    "content = Content(content=c, article_id=article.id)\n",
    "session.add(content)\n",
    "session.commit()"
   ]
  },
  {
   "cell_type": "code",
   "execution_count": 10,
   "metadata": {
    "collapsed": true
   },
   "outputs": [],
   "source": [
    "load_countries(session)"
   ]
  },
  {
   "cell_type": "code",
   "execution_count": 9,
   "metadata": {
    "collapsed": false,
    "scrolled": true
   },
   "outputs": [
    {
     "name": "stderr",
     "output_type": "stream",
     "text": [
      "ERROR:root:Line magic function `%lprun` not found.\n"
     ]
    }
   ],
   "source": [
    "%lprun extract_reports(article)"
   ]
  },
  {
   "cell_type": "code",
   "execution_count": 10,
   "metadata": {
    "collapsed": false
   },
   "outputs": [
    {
     "name": "stdout",
     "output_type": "stream",
     "text": [
      "Object `%lprun` not found.\n"
     ]
    }
   ],
   "source": [
    "%lprun?"
   ]
  },
  {
   "cell_type": "code",
   "execution_count": 17,
   "metadata": {
    "collapsed": false
   },
   "outputs": [
    {
     "name": "stdout",
     "output_type": "stream",
     "text": [
      " "
     ]
    }
   ],
   "source": [
    "%prun get_geo_info('Sagaing')"
   ]
  },
  {
   "cell_type": "code",
   "execution_count": 20,
   "metadata": {
    "collapsed": true
   },
   "outputs": [],
   "source": [
    "def strip_accents(s):\n",
    "    '''Strip out accents from text'''\n",
    "    return ''.join(c for c in unicodedata.normalize('NFD', s) if unicodedata.category(c) != 'Mn')"
   ]
  },
  {
   "cell_type": "code",
   "execution_count": 22,
   "metadata": {
    "collapsed": false
   },
   "outputs": [
    {
     "name": "stdout",
     "output_type": "stream",
     "text": [
      " "
     ]
    }
   ],
   "source": [
    "%prun strip_accents(\"Sagaing\")"
   ]
  },
  {
   "cell_type": "code",
   "execution_count": 15,
   "metadata": {
    "collapsed": false
   },
   "outputs": [
    {
     "data": {
      "text/plain": [
       "'Sagaing'"
      ]
     },
     "execution_count": 15,
     "metadata": {},
     "output_type": "execute_result"
    }
   ],
   "source": [
    "article.reports[0].locations[0].description"
   ]
  },
  {
   "cell_type": "code",
   "execution_count": null,
   "metadata": {
    "collapsed": true
   },
   "outputs": [],
   "source": [
    "extract_reportsn extract_geo"
   ]
  },
  {
   "cell_type": "code",
   "execution_count": 12,
   "metadata": {
    "collapsed": true
   },
   "outputs": [],
   "source": [
    "report = session.query(Report).all()[0]"
   ]
  },
  {
   "cell_type": "code",
   "execution_count": 32,
   "metadata": {
    "collapsed": true
   },
   "outputs": [],
   "source": [
    "location = reports[0].locations[1]"
   ]
  },
  {
   "cell_type": "code",
   "execution_count": 33,
   "metadata": {
    "collapsed": true
   },
   "outputs": [],
   "source": [
    "loc = session.query(Location).filter_by(description=location).one_or_none()"
   ]
  },
  {
   "cell_type": "code",
   "execution_count": 34,
   "metadata": {
    "collapsed": false
   },
   "outputs": [
    {
     "data": {
      "text/plain": [
       "<idetect.model.Location at 0x7fb002c02c18>"
      ]
     },
     "execution_count": 34,
     "metadata": {},
     "output_type": "execute_result"
    }
   ],
   "source": [
    "loc"
   ]
  },
  {
   "cell_type": "code",
   "execution_count": 27,
   "metadata": {
    "collapsed": true
   },
   "outputs": [],
   "source": [
    "loc_info = get_geo_info(location)"
   ]
  },
  {
   "cell_type": "code",
   "execution_count": 29,
   "metadata": {
    "collapsed": true
   },
   "outputs": [],
   "source": [
    "if loc_info['flag'] != 'no-results':\n",
    "    country = session.query(Country).filter_by(code=loc_info['country_code']).one_or_none()\n",
    "    location = Location(description=loc_info['place_name'], location_type=loc_info['type'], country_code=country.code,\n",
    "            country=country, latlong=loc_info['coordinates'])\n",
    "    session.add(location)\n",
    "    session.commit()\n",
    "    report.locations.append(location)"
   ]
  },
  {
   "cell_type": "code",
   "execution_count": 30,
   "metadata": {
    "collapsed": false
   },
   "outputs": [
    {
     "data": {
      "text/plain": [
       "[<idetect.model.Location at 0x7fb002c02c18>]"
      ]
     },
     "execution_count": 30,
     "metadata": {},
     "output_type": "execute_result"
    }
   ],
   "source": [
    "report.locations"
   ]
  },
  {
   "cell_type": "code",
   "execution_count": null,
   "metadata": {
    "collapsed": true
   },
   "outputs": [],
   "source": []
  },
  {
   "cell_type": "raw",
   "metadata": {
    "collapsed": true
   },
   "source": []
  },
  {
   "cell_type": "code",
   "execution_count": 4,
   "metadata": {
    "collapsed": false
   },
   "outputs": [
    {
     "name": "stdout",
     "output_type": "stream",
     "text": [
      "Loaded cities_to_countries dictionary.\n",
      "Loaded Spacy English Language NLP Models.\n"
     ]
    }
   ],
   "source": [
    "from idetect.fact_extractor import extract_reports"
   ]
  },
  {
   "cell_type": "code",
   "execution_count": 5,
   "metadata": {
    "collapsed": true
   },
   "outputs": [],
   "source": [
    "article = Article(url=\"some_url\")\n",
    "session.add(article)\n",
    "session.commit()"
   ]
  },
  {
   "cell_type": "code",
   "execution_count": 6,
   "metadata": {
    "collapsed": true
   },
   "outputs": [],
   "source": [
    "article = session.query(Article).first()"
   ]
  },
  {
   "cell_type": "code",
   "execution_count": 7,
   "metadata": {
    "collapsed": true
   },
   "outputs": [],
   "source": [
    "text = \"\"\"Evacuations prompted by wildfires in central B.C. are approaching record levels for the province, officials said Tuesday.\n",
    "\n",
    "The total number of people displaced by the fires is now estimated at 45,806, according to Robert Turner, deputy minister for Emergency Management B.C.\n",
    "\n",
    "\"This number has changed fairly significantly in the past 48 hours and that has to do primarily with getting better information from local governments,\" Turner said.\n",
    "\n",
    "\"It's becoming one of the largest displacement events in the history of the province.\"\"\""
   ]
  },
  {
   "cell_type": "code",
   "execution_count": 8,
   "metadata": {
    "collapsed": true
   },
   "outputs": [],
   "source": [
    "content = Content(content=text)\n",
    "session.add(content)"
   ]
  },
  {
   "cell_type": "code",
   "execution_count": 9,
   "metadata": {
    "collapsed": true
   },
   "outputs": [],
   "source": [
    "article.content.append(content)\n",
    "session.commit()"
   ]
  },
  {
   "cell_type": "code",
   "execution_count": 10,
   "metadata": {
    "collapsed": false
   },
   "outputs": [
    {
     "data": {
      "text/plain": [
       "[<idetect.model.Content at 0x7f353487ada0>]"
      ]
     },
     "execution_count": 10,
     "metadata": {},
     "output_type": "execute_result"
    }
   ],
   "source": [
    "article.content"
   ]
  },
  {
   "cell_type": "code",
   "execution_count": 11,
   "metadata": {
    "collapsed": false
   },
   "outputs": [
    {
     "ename": "NameError",
     "evalue": "name 'session' is not defined",
     "output_type": "error",
     "traceback": [
      "\u001b[0;31m---------------------------------------------------------------------------\u001b[0m",
      "\u001b[0;31mNameError\u001b[0m                                 Traceback (most recent call last)",
      "\u001b[0;32m<ipython-input-11-68e53fa95356>\u001b[0m in \u001b[0;36m<module>\u001b[0;34m()\u001b[0m\n\u001b[0;32m----> 1\u001b[0;31m \u001b[0mextract_reports\u001b[0m\u001b[0;34m(\u001b[0m\u001b[0marticle\u001b[0m\u001b[0;34m)\u001b[0m\u001b[0;34m\u001b[0m\u001b[0m\n\u001b[0m",
      "\u001b[0;32m~/python/idetect/fact_extractor.py\u001b[0m in \u001b[0;36mextract_reports\u001b[0;34m(article)\u001b[0m\n\u001b[1;32m     21\u001b[0m     \u001b[0mreports\u001b[0m \u001b[0;34m=\u001b[0m \u001b[0minterpreter\u001b[0m\u001b[0;34m.\u001b[0m\u001b[0mprocess_article_new\u001b[0m\u001b[0;34m(\u001b[0m\u001b[0mcontent\u001b[0m\u001b[0;34m)\u001b[0m\u001b[0;34m\u001b[0m\u001b[0m\n\u001b[1;32m     22\u001b[0m     \u001b[0;32mif\u001b[0m \u001b[0mlen\u001b[0m\u001b[0;34m(\u001b[0m\u001b[0mreports\u001b[0m\u001b[0;34m)\u001b[0m \u001b[0;34m>\u001b[0m \u001b[0;36m0\u001b[0m\u001b[0;34m:\u001b[0m\u001b[0;34m\u001b[0m\u001b[0m\n\u001b[0;32m---> 23\u001b[0;31m         \u001b[0msave_reports\u001b[0m\u001b[0;34m(\u001b[0m\u001b[0marticle\u001b[0m\u001b[0;34m,\u001b[0m \u001b[0mreports\u001b[0m\u001b[0;34m)\u001b[0m\u001b[0;34m\u001b[0m\u001b[0m\n\u001b[0m\u001b[1;32m     24\u001b[0m \u001b[0;34m\u001b[0m\u001b[0m\n\u001b[1;32m     25\u001b[0m \u001b[0;34m\u001b[0m\u001b[0m\n",
      "\u001b[0;32m~/python/idetect/fact_extractor.py\u001b[0m in \u001b[0;36msave_reports\u001b[0;34m(article, reports)\u001b[0m\n\u001b[1;32m     31\u001b[0m                             0], vague_displacement_figure=r.quantity[1],\n\u001b[1;32m     32\u001b[0m                         tag_locations=json.dumps(r.tag_spans))\n\u001b[0;32m---> 33\u001b[0;31m         \u001b[0msession\u001b[0m\u001b[0;34m.\u001b[0m\u001b[0madd\u001b[0m\u001b[0;34m(\u001b[0m\u001b[0mreport\u001b[0m\u001b[0;34m)\u001b[0m\u001b[0;34m\u001b[0m\u001b[0m\n\u001b[0m\u001b[1;32m     34\u001b[0m         \u001b[0msession\u001b[0m\u001b[0;34m.\u001b[0m\u001b[0mcommit\u001b[0m\u001b[0;34m(\u001b[0m\u001b[0;34m)\u001b[0m\u001b[0;34m\u001b[0m\u001b[0m\n\u001b[1;32m     35\u001b[0m \u001b[0;34m\u001b[0m\u001b[0m\n",
      "\u001b[0;31mNameError\u001b[0m: name 'session' is not defined"
     ]
    }
   ],
   "source": [
    "extract_reports(article)"
   ]
  },
  {
   "cell_type": "code",
   "execution_count": null,
   "metadata": {
    "collapsed": true
   },
   "outputs": [],
   "source": []
  }
 ],
 "metadata": {
  "kernelspec": {
   "display_name": "Python 3",
   "language": "python",
   "name": "python3"
  },
  "language_info": {
   "codemirror_mode": {
    "name": "ipython",
    "version": 3
   },
   "file_extension": ".py",
   "mimetype": "text/x-python",
   "name": "python",
   "nbconvert_exporter": "python",
   "pygments_lexer": "ipython3",
   "version": "3.5.1"
  }
 },
 "nbformat": 4,
 "nbformat_minor": 2
}
