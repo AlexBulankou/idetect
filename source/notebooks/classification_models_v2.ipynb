{
 "cells": [
  {
   "cell_type": "markdown",
   "metadata": {},
   "source": [
    "# Relevance Classification Models V2\n",
    "\n",
    "A series of modifications are made to the classification models in this notebook. The potential improvements being tested are:\n",
    "\n",
    "- Inclusion of bi and trigrams\n",
    "- Inclusion of POS tagged tokens\n",
    "- More model types"
   ]
  },
  {
   "cell_type": "markdown",
   "metadata": {},
   "source": [
    "**Scikit learn n-grams**\n",
    "- CountVectorizer with ngrams 1 - n\n",
    "- Tf-idf\n",
    "- SVD (sklearn/gensime/jakevdp method)\n",
    "\n",
    "**Scikit learn n-grams**\n",
    "- CountVectorizer with ngrams 1 - n\n",
    "- Convert to gensim corpus\n",
    "- SVD gensim\n",
    "\n",
    "**Gensim n-grams**\n",
    "- Build grams up to n\n",
    "- Add n-grams onto original document by concatenating lists and dropping terms already in text\n",
    "\n",
    "**Separate ngram corpora**\n",
    "- Create separate bi and trigram corpora with gensim\n",
    "- ML on all three and combine\n",
    "\n",
    "** Split text into all possibel n-grams**\n",
    "- Use ALL ngrams\n",
    "- (is this what sklearn does anyway?)\n",
    "\n",
    "** Count Vectorizer **\n",
    "- Same as methods above but with no Tf-Idf"
   ]
  },
  {
   "cell_type": "code",
   "execution_count": 1,
   "metadata": {},
   "outputs": [],
   "source": [
    "import pandas as pd\n",
    "import numpy as np\n",
    "import re\n",
    "import string\n",
    "from langdetect import detect\n",
    "from sklearn.base import TransformerMixin, BaseEstimator\n",
    "from sklearn.model_selection import KFold, train_test_split\n",
    "from sklearn.feature_extraction.text import CountVectorizer, TfidfVectorizer\n",
    "from sklearn.pipeline import Pipeline\n",
    "# from mlxtend.classifier import StackingClassifier\n",
    "from sklearn.preprocessing import LabelEncoder\n",
    "from sklearn.decomposition import PCA\n",
    "from sklearn.externals import joblib\n",
    "\n",
    "import gensim\n",
    "from gensim.models.phrases import Phraser\n",
    "from gensim.models import Phrases\n",
    "\n",
    "import pandas.io.sql as psql\n",
    "import psycopg2 as pg\n",
    "\n",
    "#import matplotlib.pyplot as plt\n",
    "#import seaborn as sns\n",
    "from gensim.sklearn_integration.sklearn_wrapper_gensim_lsimodel import SklLsiModel\n",
    "from gensim.sklearn_integration.sklearn_wrapper_gensim_ldamodel import SklLdaModel\n",
    "import pycountry\n",
    "import unicodedata\n",
    "\n",
    "#%matplotlib inline"
   ]
  },
  {
   "cell_type": "code",
   "execution_count": 2,
   "metadata": {},
   "outputs": [],
   "source": [
    "pd.options.display.max_columns = 999"
   ]
  },
  {
   "cell_type": "code",
   "execution_count": 3,
   "metadata": {},
   "outputs": [],
   "source": [
    "import spacy\n",
    "nlp = spacy.load('en_default')"
   ]
  },
  {
   "cell_type": "code",
   "execution_count": 4,
   "metadata": {},
   "outputs": [],
   "source": [
    "from idetect.geotagger import strip_accents, compare_strings, strip_words, common_names, LocationType\n",
    "from idetect.geotagger import subdivision_country_code, match_country_name, city_subdivision_country"
   ]
  },
  {
   "cell_type": "markdown",
   "metadata": {},
   "source": [
    "## Training Data\n",
    "\n",
    "- Import training data\n",
    "- Filter to English only"
   ]
  },
  {
   "cell_type": "code",
   "execution_count": 5,
   "metadata": {},
   "outputs": [],
   "source": [
    "with open('../data/stop_words_en_long.txt', 'r') as f:\n",
    "    stop_words = f.read()\n",
    "stop_words = stop_words.split('\\n')"
   ]
  },
  {
   "cell_type": "markdown",
   "metadata": {},
   "source": [
    "## Preprocessing\n",
    "\n",
    "### Example Texts\n",
    "\n",
    "For quick testing purposes, a single example sentence, and a list of example sentences are defined."
   ]
  },
  {
   "cell_type": "code",
   "execution_count": 6,
   "metadata": {},
   "outputs": [],
   "source": [
    "# example_text = 'Flooding has stranded many people. 100 families fled across the border.'\n",
    "example_text = ['At least 6171 people in London were forced to evacuate homes, including more than 2600 staying in emergency shelters']"
   ]
  },
  {
   "cell_type": "code",
   "execution_count": 7,
   "metadata": {},
   "outputs": [],
   "source": [
    "example_sentences = [u'Flooding has stranded many peole100 families were evacuated by the army.',\n",
    "                     u'Some people have fled to safety from the wild fire.',\n",
    "                     u'Flooding has stranded more people in nearby London.',\n",
    "                     u'It was all going ok but now flooding has stranded them.']"
   ]
  },
  {
   "cell_type": "code",
   "execution_count": 8,
   "metadata": {},
   "outputs": [],
   "source": [
    "example_sentence = \"\"\"At least six thousand people were forced to evacuate homes, including more than 2600 staying in emergency shelters, according to Taiwan's Central Emergency Operation Center. Taiwanese weather authorities lifted sea and land warnings on Thursday as Trami blew away from the island. Tell us more at jon@disasters.com.\"\"\""
   ]
  },
  {
   "cell_type": "code",
   "execution_count": 9,
   "metadata": {},
   "outputs": [],
   "source": [
    "doc = nlp(example_sentence)\n",
    "docs = [nlp(sent) for sent in example_sentences]"
   ]
  },
  {
   "cell_type": "markdown",
   "metadata": {},
   "source": [
    "### Cleaning Processor\n",
    "\n",
    "The Cleaner class replaces commonly enountered errors in the texts that have been manually identified."
   ]
  },
  {
   "cell_type": "code",
   "execution_count": 7,
   "metadata": {},
   "outputs": [],
   "source": [
    "class CleaningProcessor(BaseEstimator, TransformerMixin):\n",
    "    \"\"\"Transformer that turns documents in string form\n",
    "    into token lists, with various processing steps applied.\n",
    "    \n",
    "    Parameters\n",
    "    ----------\n",
    "    pos_tags : bool, required\n",
    "        Whether to tag words with their part of speech labels.\n",
    "    lemmatize : bool, required\n",
    "        Whether to lemmatize tokens.\n",
    "    stop_words : book, required\n",
    "        Whether to remove stop words.\n",
    "    \"\"\"\n",
    "        \n",
    "    def cleanup(self, text):\n",
    "        \"\"\"\n",
    "        Cleanup text based on commonly encountered errors.\n",
    "        param: text     A string\n",
    "        return: A cleaned string\n",
    "        \"\"\"\n",
    "        text = re.sub(r'([a-zA-Z0-9])(IMPACT)', r'\\1. \\2', text)\n",
    "        text = re.sub(r'([a-zA-Z0-9])(RESPONSE)', r'\\1. \\2', text)\n",
    "        text = re.sub(r'(IMPACT)([a-zA-Z0-9])', r'\\1. \\2', text)\n",
    "        text = re.sub(r'(RESPONSE)([a-zA-Z0-9])', r'\\1. \\2', text)\n",
    "        text = re.sub(r'([a-z])([A-Z]{2,})', r'\\1 \\2', text)\n",
    "        text = re.sub(r'([a-zA-Z])(\\d)', r'\\1. \\2', text)\n",
    "        text = re.sub(r'(\\d)\\s(\\d)', r'\\1\\2', text)\n",
    "        text = text.replace('\\r', ' ')\n",
    "        text = text.replace('  ', ' ')\n",
    "        text = text.replace('\\n', ' ')\n",
    "        text = text.replace(\"peole\", \"people\")\n",
    "\n",
    "        output = ''\n",
    "        for char in text:\n",
    "            if char in string.printable:\n",
    "                output += char\n",
    "        return output\n",
    "    \n",
    "    def tag_entities(self, text):\n",
    "        tokens = []\n",
    "        for token in text:\n",
    "            if token.ent_type_ == 'GPE':\n",
    "                if match_country_name(token.text)[0]:\n",
    "                    tokens.append('Switzerland')\n",
    "                elif city_subdivision_country(token.text):\n",
    "                    tokens.append('Zurich')\n",
    "                else:\n",
    "                    tokens.append('Zurich')\n",
    "            elif token.like_num:\n",
    "                tokens.append('1000')\n",
    "            elif token.like_url:\n",
    "                continue\n",
    "            elif token.like_email:\n",
    "                continue\n",
    "            else:\n",
    "                tokens.append(token.text)\n",
    "        return tokens\n",
    "\n",
    "    def join_phrases(self, phrases):\n",
    "        joined = []\n",
    "        for phrase in phrases:\n",
    "            tokens = []\n",
    "            for token in phrase:\n",
    "                if isinstance(token, spacy.tokens.token.Token):\n",
    "                    tokens.append(token.lemma_)\n",
    "                else:\n",
    "                    tokens.append(token)\n",
    "            if len(tokens) < 2:\n",
    "                continue\n",
    "            joined.append('_'.join(tokens))\n",
    "        return joined\n",
    "    \n",
    "    def single_string(self, texts):\n",
    "        strings = [' '.join(t) for t in texts]\n",
    "        return strings\n",
    "    \n",
    "    def fit(self, texts, *args):\n",
    "        return self\n",
    "    \n",
    "    def transform(self, texts, *args):\n",
    "        texts = [self.cleanup(t) for t in texts]\n",
    "        texts = [nlp(t) for t in texts]\n",
    "        texts = [self.tag_entities(t) for t in texts]\n",
    "        texts = self.single_string(texts)\n",
    "        return texts"
   ]
  },
  {
   "cell_type": "code",
   "execution_count": 11,
   "metadata": {},
   "outputs": [],
   "source": [
    "cleaner = CleaningProcessor()"
   ]
  },
  {
   "cell_type": "code",
   "execution_count": 12,
   "metadata": {},
   "outputs": [
    {
     "data": {
      "text/plain": [
       "['Flooding has stranded many people . 1000 families were evacuated by the army .',\n",
       " 'Some people have fled to safety from the wild fire .',\n",
       " 'Flooding has stranded more people in nearby Zurich .',\n",
       " 'It was all going ok but now flooding has stranded them .']"
      ]
     },
     "execution_count": 12,
     "metadata": {},
     "output_type": "execute_result"
    }
   ],
   "source": [
    "cleaner.fit_transform(example_sentences)"
   ]
  },
  {
   "cell_type": "markdown",
   "metadata": {},
   "source": [
    "### Phrase Processor\n",
    "\n",
    "There is often significant vocabulary overlap between articles of different categories. However, the phrases that describe actual events are often different. The `Phraser` attempts to extract small snippets of phrases from the text in the hope that they may be common within a class. "
   ]
  },
  {
   "cell_type": "code",
   "execution_count": 6,
   "metadata": {},
   "outputs": [],
   "source": [
    "class PhraseProcessor(BaseEstimator, TransformerMixin):\n",
    "    \"\"\"Transformer that turns documents in string form\n",
    "    into token lists, with various processing steps applied.\n",
    "    \n",
    "    Parameters\n",
    "    ----------\n",
    "    pos_tags : bool, required\n",
    "        Whether to tag words with their part of speech labels.\n",
    "    lemmatize : bool, required\n",
    "        Whether to lemmatize tokens.\n",
    "    stop_words : book, required\n",
    "        Whether to remove stop words.\n",
    "    \"\"\"\n",
    "    \n",
    "    def __init__(self, stop_words):\n",
    "        self.stop_words = stop_words\n",
    "    \n",
    "    def parse_phrases(self, doc):\n",
    "        '''Return a list of lists, with each sublist containing a token from the text,\n",
    "        it's parent token and it's grandparent token. Does not return any repeat tokens\n",
    "        in each phrase.'''\n",
    "        phrases = []\n",
    "        for d in doc:\n",
    "            if not d.is_punct:\n",
    "                if d.head != d:\n",
    "                    if d.head.head != d.head:\n",
    "                        phrases.append([d, d.head, d.head.head])\n",
    "                    else:\n",
    "                        phrases.append([d, d.head])\n",
    "        return phrases\n",
    "\n",
    "    def join_phrases(self, phrases):\n",
    "        joined = []\n",
    "        for phrase in phrases:\n",
    "            tokens = []\n",
    "            for token in phrase:\n",
    "                if isinstance(token, spacy.tokens.token.Token):\n",
    "                    tokens.append(token.lemma_)\n",
    "                else:\n",
    "                    tokens.append(token)\n",
    "            if len(tokens) < 2:\n",
    "                continue\n",
    "            joined.append('_'.join(tokens))\n",
    "        return joined\n",
    "    \n",
    "    def single_string(self, texts):\n",
    "        strings = [' '.join(t) for t in texts]\n",
    "        return strings\n",
    "    \n",
    "    def fit(self, texts, *args):\n",
    "        return self\n",
    "    \n",
    "    def transform(self, texts, *args):\n",
    "#         import pdb; pdb.set_trace()\n",
    "        docs = [nlp(t) for t in texts]\n",
    "        phrases = [self.parse_phrases(d) for d in docs]\n",
    "        joined = [self.join_phrases(p) for p in phrases]\n",
    "        text = self.single_string(joined)\n",
    "        return text"
   ]
  },
  {
   "cell_type": "code",
   "execution_count": 24,
   "metadata": {},
   "outputs": [],
   "source": [
    "phraser = PhraseProcessor(stop_words)"
   ]
  },
  {
   "cell_type": "code",
   "execution_count": 25,
   "metadata": {},
   "outputs": [],
   "source": [
    "processed_sentences = phraser.transform(example_sentences)\n",
    "processed_sentence = phraser.transform(example_sentence)"
   ]
  },
  {
   "cell_type": "markdown",
   "metadata": {},
   "source": [
    "### Part of Speech Tokenizer\n",
    "\n",
    "This processor has options to label the tokens of a text with their part of speech (POS) tags, lemmatize them, and remove stop words. It also removes certain POS entities and words of length < 2."
   ]
  },
  {
   "cell_type": "code",
   "execution_count": 8,
   "metadata": {},
   "outputs": [],
   "source": [
    "class POSProcessor(BaseEstimator, TransformerMixin):\n",
    "    \"\"\"Transformer that turns documents in string form\n",
    "    into token lists, with various processing steps applied.\n",
    "    \n",
    "    Parameters\n",
    "    ----------\n",
    "    pos_tags : bool, required\n",
    "        Whether to tag words with their part of speech labels.\n",
    "    lemmatize : bool, required\n",
    "        Whether to lemmatize tokens.\n",
    "    stop_words : book, required\n",
    "        Whether to remove stop words.\n",
    "    \"\"\"\n",
    "    \n",
    "    def __init__(self, stop_words, pos_tags=True,\n",
    "                rejoin=True):\n",
    "        self.stop_words = stop_words\n",
    "        self.pos_tags = pos_tags\n",
    "        self.rejoin = rejoin\n",
    "\n",
    "    def tag_pos(self, text):\n",
    "        return [(t, t.pos_) for t in text]\n",
    "    \n",
    "    def get_lemmas(self, text):\n",
    "        return [t[0].lemma_ for t in text]\n",
    "\n",
    "    def remove_noise(self, text):\n",
    "        noise_tags = ['DET', 'NUM', 'SYM']\n",
    "        text = [t for t in text if t[0].text not in self.stop_words]\n",
    "        text = [t for t in text if len(t[0]) > 2]\n",
    "        text = [t for t in text if t[1] not in noise_tags]\n",
    "        text = [t for t in text if ~t[0].like_num]\n",
    "        return text\n",
    "    \n",
    "    def join_pos_lemmas(self, pos, lemmas):\n",
    "        return ['{}_{}'.format(l, p[1]).lower() for p, l\n",
    "                in zip(pos, lemmas)]\n",
    "    \n",
    "    def fit(self, texts, *args):\n",
    "        return self\n",
    "    \n",
    "    def single_string(self, texts):\n",
    "        strings = [' '.join(t) for t in texts]\n",
    "        return strings\n",
    "    \n",
    "    def transform(self, texts, *args):\n",
    "        docs = [nlp(sent) for sent in texts]\n",
    "        docs = [self.tag_pos(d) for d in docs]\n",
    "        docs = [self.remove_noise(d) for d in docs]\n",
    "        lemmas = [self.get_lemmas(d) for d in docs]\n",
    "        if self.pos_tags:\n",
    "            docs = [self.join_pos_lemmas(d, l) for d, l\n",
    "                    in zip(docs, lemmas)]\n",
    "        if self.rejoin:\n",
    "            docs = self.single_string(docs)\n",
    "        return docs"
   ]
  },
  {
   "cell_type": "code",
   "execution_count": 28,
   "metadata": {},
   "outputs": [],
   "source": [
    "pos_processor = POSProcessor(stop_words, rejoin=False)"
   ]
  },
  {
   "cell_type": "code",
   "execution_count": 29,
   "metadata": {},
   "outputs": [
    {
     "data": {
      "text/plain": [
       "[['flooding_noun',\n",
       "  'strand_verb',\n",
       "  'peole100_adj',\n",
       "  'family_noun',\n",
       "  'evacuate_verb',\n",
       "  'army_noun'],\n",
       " ['people_noun', 'flee_verb', 'safety_noun', 'wild_adj', 'fire_noun'],\n",
       " ['flooding_noun', 'strand_verb', 'people_noun', 'nearby_adj', 'london_propn'],\n",
       " ['go_verb', 'flooding_noun', 'strand_verb']]"
      ]
     },
     "execution_count": 29,
     "metadata": {},
     "output_type": "execute_result"
    }
   ],
   "source": [
    "pos_processor.fit_transform(example_sentences)"
   ]
  },
  {
   "cell_type": "markdown",
   "metadata": {},
   "source": [
    "### N-gram Processor\n",
    "\n",
    "The n-gram processor identifies common word co-occurences of between 2 or 3 words."
   ]
  },
  {
   "cell_type": "code",
   "execution_count": 21,
   "metadata": {},
   "outputs": [],
   "source": [
    "class NGramProcessor(BaseEstimator, TransformerMixin):\n",
    "    \"\"\"Transformer that finds and returns common bi and tri-grams\n",
    "    that appear in a text.\n",
    "    \n",
    "    Parameters\n",
    "   ----------\n",
    "    bi_min_count : int, required\n",
    "        Minimum number of times a bi-gram must occur in the corpus\n",
    "        to be counted.\n",
    "    bi_threshold : int, required\n",
    "        Threshold value used to calculate threshold scoring for \n",
    "        bi-grams to be counted. See gensim docs for more details.\n",
    "    tri_min_count : int, required\n",
    "        Minimum number of times a tri-gram must occur in the corpus\n",
    "        to be counted.\n",
    "    tri_threshold : int, required\n",
    "        Threshold value used to calculate threshold scoring for \n",
    "        tri-grams to be counted. See gensim docs for more details.\n",
    "    mode : 'str', required (default = 'trigram)\n",
    "        If 'trigram+', then original text is returned with both bi \n",
    "        and tri-grams replacing corresponding tokens.\n",
    "        If 'bigram+', then original text is returned with only bi-\n",
    "        grams replacing corresponding tokens.\n",
    "        If 'everything', then full original text is returned with all\n",
    "        bi and tri-grams appended.\n",
    "        If 'bigram\n",
    "    \"\"\"\n",
    "    \n",
    "    def __init__(self, bi_min_count=5, bi_threshold=10,\n",
    "                 tri_min_count=5, tri_threshold=10,\n",
    "                 mode='trigram'):\n",
    "        self.pos_processor = POSProcessor(rejoin=False)\n",
    "        self.bi_min_count = bi_min_count\n",
    "        self.bi_threshold = bi_threshold\n",
    "        self.tri_min_count = tri_min_count\n",
    "        self.tri_threshold = tri_threshold\n",
    "        self.mode = mode\n",
    "    \n",
    "    def fit(self, texts, *args):\n",
    "        #docs = self.pre_processor.transform(texts)\n",
    "        self.build_grammer(texts)\n",
    "        return self\n",
    "    \n",
    "    def build_grammer(self, texts):\n",
    "        \"\"\"Creates bi and tri-gram Phraser models.\n",
    "        \"\"\"\n",
    "        self.bigram = Phrases(texts, \n",
    "                          min_count=self.bi_min_count, \n",
    "                          threshold=self.bi_threshold)\n",
    "        self.bigrammer = Phraser(self.bigram)\n",
    "        if (self.mode=='trigram') | (self.mode=='trigram+') | (self.mode=='everything'):\n",
    "            self.trigram = Phrases(self.bigrammer[texts], \n",
    "                              min_count=self.tri_min_count, \n",
    "                              threshold=self.tri_threshold)\n",
    "            self.trigrammer = Phraser(self.trigram)\n",
    "\n",
    "    def make_grams(self, text):\n",
    "        \"\"\"Applies Phraser models. Returns text with bigrams or trigrams replacing\n",
    "        their corresponding tokens, or both bigrams and trigrams, plus all original tokens.\"\"\"\n",
    "        bigrams = self.bigrammer[text]\n",
    "        if self.mode=='bigram':\n",
    "            return bigrams\n",
    "        elif (self.mode=='trigram') | (self.mode=='everything'):\n",
    "            trigrams = self.trigrammer[bigrams]\n",
    "            if self.mode=='trigram':\n",
    "                return trigrams\n",
    "            elif self.mode=='everything':\n",
    "                trigrams = [t for t in trigrams if t not in bigrams]\n",
    "                all_grams = bigrams + trigrams\n",
    "                return all_grams\n",
    "    \n",
    "    def merge(self, text, ngrams):\n",
    "        \"\"\"Returns text where the original text is kept, and\n",
    "        all n-grams are appended.\"\"\"\n",
    "        grams_only = [ng for ng in ngrams if ng not in list(set(text))]\n",
    "        return text + grams_only\n",
    "    \n",
    "    def stringify(self, grams):\n",
    "        gram_strs = []\n",
    "        for g in grams:\n",
    "            gram_strs.append(u' '.join(g))\n",
    "        return gram_strs\n",
    "    \n",
    "    def transform(self, texts, *args):\n",
    "        texts = self.pos_processor.fit_transform(texts)\n",
    "        grams = [self.make_grams(d) for d in texts]\n",
    "        if (self.mode=='bigram') | (self.mode=='trigram'):\n",
    "            return self.stringify(grams)\n",
    "        elif self.mode=='everything':\n",
    "            grammed_text = [self.merge(d, ng) for d, ng\n",
    "                            in zip(docs, grams)]\n",
    "            return self.stringify(grammed_text)"
   ]
  },
  {
   "cell_type": "code",
   "execution_count": 22,
   "metadata": {},
   "outputs": [],
   "source": [
    "grammer = NGramProcessor(bi_min_count=2, bi_threshold=1,\n",
    "                 tri_min_count=1, tri_threshold=1,\n",
    "                 mode='bigram')"
   ]
  },
  {
   "cell_type": "code",
   "execution_count": 23,
   "metadata": {},
   "outputs": [
    {
     "data": {
      "text/plain": [
       "NGramProcessor(bi_min_count=2, bi_threshold=1, mode='bigram', tri_min_count=1,\n",
       "        tri_threshold=1)"
      ]
     },
     "execution_count": 23,
     "metadata": {},
     "output_type": "execute_result"
    }
   ],
   "source": [
    "grammer.fit(example_sentences)"
   ]
  },
  {
   "cell_type": "code",
   "execution_count": 24,
   "metadata": {},
   "outputs": [],
   "source": [
    "grammed_text = grammer.transform(example_sentences)"
   ]
  },
  {
   "cell_type": "code",
   "execution_count": 25,
   "metadata": {},
   "outputs": [
    {
     "data": {
      "text/plain": [
       "['flooding_noun strand_verb peole100_adj family_noun evacuate_verb army_noun',\n",
       " 'people_noun flee_verb safety_noun wild_adj fire_noun',\n",
       " 'flooding_noun strand_verb people_noun nearby_adj london_propn',\n",
       " 'go_verb flooding_noun strand_verb']"
      ]
     },
     "execution_count": 25,
     "metadata": {},
     "output_type": "execute_result"
    }
   ],
   "source": [
    "grammed_text"
   ]
  },
  {
   "cell_type": "markdown",
   "metadata": {},
   "source": [
    "### LSI"
   ]
  },
  {
   "cell_type": "code",
   "execution_count": 9,
   "metadata": {},
   "outputs": [],
   "source": [
    "from scipy import sparse\n",
    "from gensim import matutils, models\n",
    "\n",
    "class CustomSklLsiModel(SklLsiModel):\n",
    "    \"\"\"Gensim's Lsi model with sklearn wrapper, modified to handle sparse matrices \n",
    "    for both fit and transform. Makes the class compatible with sklearn's Tfidf and \n",
    "    Count vectorizers.\n",
    "    \"\"\"\n",
    "    \n",
    "    def sparse_2_tupes(self, sparse):\n",
    "        \"\"\"Converts sparse matrix into manageable tuple format.\"\"\"\n",
    "        for t in t_skltfidf:\n",
    "            cx = t.tocoo()\n",
    "            tups = []\n",
    "            for i, j in zip(cx.col, cx.data):\n",
    "                tups.append((i, j))\n",
    "        return tups\n",
    "    \n",
    "    def fit(self, X, y=None):\n",
    "        \"\"\"\n",
    "        Fit the model according to the given training data.\n",
    "        Calls gensim.models.LsiModel\n",
    "        \"\"\"\n",
    "        if sparse.issparse(X):\n",
    "            corpus = matutils.Sparse2Corpus(X, documents_columns=False)\n",
    "        else:\n",
    "            corpus = X\n",
    "\n",
    "        self.gensim_model = models.LsiModel(corpus=corpus, num_topics=self.num_topics, id2word=self.id2word, chunksize=self.chunksize,\n",
    "            decay=self.decay, onepass=self.onepass, power_iters=self.power_iters, extra_samples=self.extra_samples)\n",
    "        return self\n",
    "    \n",
    "    def transform(self, docs):\n",
    "        \"\"\"\n",
    "        Takes a list of documents as input ('docs').\n",
    "        Returns a matrix of topic distribution for the given document bow, where a_ij\n",
    "        indicates (topic_i, topic_probability_j).\n",
    "        The input `docs` should be in BOW format and can be a list of documents like : [ [(4, 1), (7, 1)], [(9, 1), (13, 1)], [(2, 1), (6, 1)] ]\n",
    "        or a single document like : [(4, 1), (7, 1)]\n",
    "        \"\"\"\n",
    "        if self.gensim_model is None:\n",
    "            raise NotFittedError(\"This model has not been fitted yet. Call 'fit' with appropriate arguments before using this method.\")\n",
    "\n",
    "        # The input as array of array\n",
    "        # import pdb; pdb.set_trace()\n",
    "        # check = lambda x: [x] if isinstance(x[0], tuple) else x\n",
    "        # docs = check(docs)\n",
    "        if sparse.issparse(docs):\n",
    "            docs = matutils.Sparse2Corpus(docs, documents_columns=False)\n",
    "        X = [[] for i in range(0, len(docs))];\n",
    "        for k,v in enumerate(docs):\n",
    "            doc_topics = self.gensim_model[v]\n",
    "            probs_docs = list(map(lambda x: x[1], doc_topics))\n",
    "            # Everything should be equal in length\n",
    "            if len(probs_docs) != self.num_topics:\n",
    "                probs_docs.extend([1e-12]*(self.num_topics - len(probs_docs)))\n",
    "            X[k] = probs_docs\n",
    "            probs_docs = []\n",
    "        return np.reshape(np.array(X), (len(docs), self.num_topics))"
   ]
  },
  {
   "cell_type": "markdown",
   "metadata": {},
   "source": [
    "### LDA"
   ]
  },
  {
   "cell_type": "code",
   "execution_count": 28,
   "metadata": {},
   "outputs": [],
   "source": [
    "class CustomSklLdaModel(SklLdaModel):\n",
    "    \"\"\"Gensim's Lsi model with sklearn wrapper, modified to handle sparse matrices \n",
    "    for both fit and transform. Makes the class compatible with sklearn's Tfidf and \n",
    "    Count vectorizers.\n",
    "    \"\"\"\n",
    "    \n",
    "    def sparse_2_tupes(self, sparse):\n",
    "        \"\"\"Converts sparse matrix into manageable tuple format.\"\"\"\n",
    "        for t in t_skltfidf:\n",
    "            cx = t.tocoo()\n",
    "            tups = []\n",
    "            for i, j in zip(cx.col, cx.data):\n",
    "                tups.append((i, j))\n",
    "        return tups\n",
    "    \n",
    "    def fit(self, X, y=None):\n",
    "        \"\"\"\n",
    "        Fit the model according to the given training data.\n",
    "        Calls gensim.models.LsiModel\n",
    "        \"\"\"\n",
    "        if sparse.issparse(X):\n",
    "            corpus = matutils.Sparse2Corpus(X, documents_columns=False)\n",
    "        else:\n",
    "            corpus = X\n",
    "\n",
    "        self.gensim_model = models.LdaModel(corpus=corpus, num_topics=self.num_topics, id2word=self.id2word,\n",
    "            chunksize=self.chunksize, passes=self.passes, update_every=self.update_every,\n",
    "            alpha=self.alpha, eta=self.eta, decay=self.decay, offset=self.offset,\n",
    "            eval_every=self.eval_every, iterations=self.iterations,\n",
    "            gamma_threshold=self.gamma_threshold, minimum_probability=self.minimum_probability,\n",
    "            random_state=self.random_state)\n",
    "        return self\n",
    "    \n",
    "    def transform(self, docs):\n",
    "        \"\"\"\n",
    "        Takes a list of documents as input ('docs').\n",
    "        Returns a matrix of topic distribution for the given document bow, where a_ij\n",
    "        indicates (topic_i, topic_probability_j).\n",
    "        The input `docs` should be in BOW format and can be a list of documents like : [ [(4, 1), (7, 1)], [(9, 1), (13, 1)], [(2, 1), (6, 1)] ]\n",
    "        or a single document like : [(4, 1), (7, 1)]\n",
    "        \"\"\"\n",
    "        if self.gensim_model is None:\n",
    "            raise NotFittedError(\"This model has not been fitted yet. Call 'fit' with appropriate arguments before using this method.\")\n",
    "\n",
    "        # The input as array of array\n",
    "        # import pdb; pdb.set_trace()\n",
    "        # check = lambda x: [x] if isinstance(x[0], tuple) else x\n",
    "        # docs = check(docs)\n",
    "        if sparse.issparse(docs):\n",
    "            docs = matutils.Sparse2Corpus(docs, documents_columns=False)\n",
    "        X = [[] for i in range(0, len(docs))];\n",
    "        for k, v in enumerate(docs):\n",
    "            doc_topics = self.gensim_model[v]\n",
    "            probs_docs = list(map(lambda x: x[1], doc_topics))\n",
    "            # Everything should be equal in length\n",
    "            if len(probs_docs) != self.num_topics:\n",
    "                probs_docs.extend([1e-12]*(self.num_topics - len(probs_docs)))\n",
    "            X[k] = probs_docs\n",
    "        return np.reshape(np.array(X), (len(docs), self.num_topics))"
   ]
  },
  {
   "cell_type": "markdown",
   "metadata": {},
   "source": [
    "### Two Countries"
   ]
  },
  {
   "cell_type": "code",
   "execution_count": 254,
   "metadata": {},
   "outputs": [],
   "source": [
    "# TODO"
   ]
  },
  {
   "cell_type": "markdown",
   "metadata": {},
   "source": [
    "## Model Building\n",
    "\n",
    "## Relevance"
   ]
  },
  {
   "cell_type": "markdown",
   "metadata": {},
   "source": [
    "### Data Prep"
   ]
  },
  {
   "cell_type": "code",
   "execution_count": 10,
   "metadata": {},
   "outputs": [],
   "source": [
    "from sklearn.pipeline import Pipeline, FeatureUnion\n",
    "from sklearn.ensemble import RandomForestClassifier, VotingClassifier\n",
    "from sklearn.neighbors import KNeighborsClassifier\n",
    "from sklearn.linear_model import LogisticRegression\n",
    "from sklearn.svm import LinearSVC, SVC\n",
    "from sklearn.naive_bayes import GaussianNB\n",
    "from sklearn.metrics import classification_report\n",
    "from sklearn.model_selection import train_test_split, GridSearchCV, RandomizedSearchCV"
   ]
  },
  {
   "cell_type": "code",
   "execution_count": 11,
   "metadata": {},
   "outputs": [],
   "source": [
    "le = LabelEncoder()"
   ]
  },
  {
   "cell_type": "code",
   "execution_count": 12,
   "metadata": {},
   "outputs": [],
   "source": [
    "df_rel = pd.read_csv('../data/training_data_clean_09242017.csv')"
   ]
  },
  {
   "cell_type": "code",
   "execution_count": 13,
   "metadata": {},
   "outputs": [
    {
     "data": {
      "text/html": [
       "<div>\n",
       "<style>\n",
       "    .dataframe thead tr:only-child th {\n",
       "        text-align: right;\n",
       "    }\n",
       "\n",
       "    .dataframe thead th {\n",
       "        text-align: left;\n",
       "    }\n",
       "\n",
       "    .dataframe tbody tr th {\n",
       "        vertical-align: top;\n",
       "    }\n",
       "</style>\n",
       "<table border=\"1\" class=\"dataframe\">\n",
       "  <thead>\n",
       "    <tr style=\"text-align: right;\">\n",
       "      <th></th>\n",
       "      <th>Unnamed: 0</th>\n",
       "      <th>Unnamed: 0.1</th>\n",
       "      <th>is_displacement</th>\n",
       "      <th>category</th>\n",
       "      <th>text</th>\n",
       "      <th>is_displacement_label</th>\n",
       "    </tr>\n",
       "  </thead>\n",
       "  <tbody>\n",
       "    <tr>\n",
       "      <th>0</th>\n",
       "      <td>11</td>\n",
       "      <td>37</td>\n",
       "      <td>yes</td>\n",
       "      <td>d</td>\n",
       "      <td>Fire authorities say a final figure of 1000 ho...</td>\n",
       "      <td>1</td>\n",
       "    </tr>\n",
       "  </tbody>\n",
       "</table>\n",
       "</div>"
      ],
      "text/plain": [
       "   Unnamed: 0  Unnamed: 0.1 is_displacement category  \\\n",
       "0          11            37             yes        d   \n",
       "\n",
       "                                                text  is_displacement_label  \n",
       "0  Fire authorities say a final figure of 1000 ho...                      1  "
      ]
     },
     "execution_count": 13,
     "metadata": {},
     "output_type": "execute_result"
    }
   ],
   "source": [
    "df_rel.head(1)"
   ]
  },
  {
   "cell_type": "code",
   "execution_count": 14,
   "metadata": {
    "scrolled": true
   },
   "outputs": [
    {
     "data": {
      "text/plain": [
       "yes    634\n",
       "no     365\n",
       "Name: is_displacement, dtype: int64"
      ]
     },
     "execution_count": 14,
     "metadata": {},
     "output_type": "execute_result"
    }
   ],
   "source": [
    "df_rel['is_displacement'].value_counts()"
   ]
  },
  {
   "cell_type": "code",
   "execution_count": 15,
   "metadata": {},
   "outputs": [
    {
     "data": {
      "text/plain": [
       "d    864\n",
       "c     84\n",
       "o     42\n",
       "b      9\n",
       "Name: category, dtype: int64"
      ]
     },
     "execution_count": 15,
     "metadata": {},
     "output_type": "execute_result"
    }
   ],
   "source": [
    "df_rel['category'].value_counts()"
   ]
  },
  {
   "cell_type": "code",
   "execution_count": 16,
   "metadata": {},
   "outputs": [],
   "source": [
    "def detect_lang(text):\n",
    "    try:\n",
    "        return detect(text)\n",
    "    except:\n",
    "        return 'x'\n",
    "    \n",
    "def english_only(df):\n",
    "    language = df['text'].apply(detect_lang)\n",
    "    df = df[language == 'en']\n",
    "    return df"
   ]
  },
  {
   "cell_type": "code",
   "execution_count": 17,
   "metadata": {},
   "outputs": [],
   "source": [
    "# df = english_only(df)"
   ]
  },
  {
   "cell_type": "code",
   "execution_count": 18,
   "metadata": {},
   "outputs": [],
   "source": [
    "df_rel['is_displacement_label'] = le.fit_transform(df_rel['is_displacement'])\n",
    "df_rel_modeling = df_rel.sample(frac=1)"
   ]
  },
  {
   "cell_type": "code",
   "execution_count": 19,
   "metadata": {},
   "outputs": [],
   "source": [
    "# cleaner = CleaningProcessor()\n",
    "# df_rel_modeling['text'] = cleaner.fit_transform(df_rel_modeling['text'])"
   ]
  },
  {
   "cell_type": "code",
   "execution_count": 384,
   "metadata": {},
   "outputs": [],
   "source": [
    "# df_rel_modeling.to_csv('../../data/training_data_clean_09242017.csv')"
   ]
  },
  {
   "cell_type": "code",
   "execution_count": 18,
   "metadata": {},
   "outputs": [],
   "source": [
    "X_rel_train, X_rel_test, y_rel_train, y_rel_test = train_test_split(df_rel_modeling['text'], \n",
    "                                                    df_rel_modeling['is_displacement_label'],\n",
    "                                                    test_size=0.2)"
   ]
  },
  {
   "cell_type": "code",
   "execution_count": 112,
   "metadata": {},
   "outputs": [],
   "source": [
    "pos_processor = POSProcessor(stop_words)\n",
    "phrase_processor = PhraseProcessor(stop_words)\n",
    "pos_processor, phrase_processor = (pos_processor.fit(X_train), phrase_processor.fit(X_train))\n",
    "X_train_pos, X_train_phrase = (pos_processor.transform(X_train), phrase_processor.transform(X_train))"
   ]
  },
  {
   "cell_type": "code",
   "execution_count": 113,
   "metadata": {},
   "outputs": [],
   "source": [
    "X_test_pos, X_test_phrase = (pos_processor.transform(X_test), phrase_processor.transform(X_test))"
   ]
  },
  {
   "cell_type": "code",
   "execution_count": 114,
   "metadata": {},
   "outputs": [],
   "source": [
    "X_train_all = []\n",
    "for pos, phrase in zip(X_train_pos, X_train_phrase):\n",
    "    X_train_all.append(pos + phrase)\n",
    "\n",
    "X_test_all = []\n",
    "for pos, phrase in zip(X_test_pos, X_test_phrase):\n",
    "    X_test_all.append(pos + phrase)"
   ]
  },
  {
   "cell_type": "markdown",
   "metadata": {},
   "source": [
    "### Corpus Statistics"
   ]
  },
  {
   "cell_type": "code",
   "execution_count": 206,
   "metadata": {
    "collapsed": true
   },
   "outputs": [],
   "source": [
    "# from collections import Counter\n",
    "# import operator"
   ]
  },
  {
   "cell_type": "code",
   "execution_count": 214,
   "metadata": {},
   "outputs": [],
   "source": [
    "# def splitter(x):\n",
    "#     s = x.split(' ')\n",
    "#     return s\n",
    "\n",
    "# word_counter = Counter()\n",
    "# for word in X_train.apply(splitter):\n",
    "#     word_counter.update(word)\n",
    "    \n",
    "# sorted_x = sorted(word_counter.items(), key=operator.itemgetter(1),\n",
    "#                   reverse=True)\n",
    "# len(sorted_x)"
   ]
  },
  {
   "cell_type": "code",
   "execution_count": 242,
   "metadata": {
    "collapsed": true,
    "scrolled": true
   },
   "outputs": [],
   "source": [
    "## Uncomment to see frequency of words in corpus\n",
    "\n",
    "# sorted_x"
   ]
  },
  {
   "cell_type": "markdown",
   "metadata": {},
   "source": [
    "### Preprocessing and Vectorising"
   ]
  },
  {
   "cell_type": "code",
   "execution_count": 45,
   "metadata": {},
   "outputs": [],
   "source": [
    "vocab = ['leave', 'evacuate', 'homeless', 'forced', 'flee', 'fled', 'destroyed', 'destruction', \n",
    "         'submerged', 'wrecked', 'washed', 'away', 'devastated', 'under', 'water', 'underwater', \n",
    "         'inundated', 'camp', 'collapse', 'left', 'reconstruct', 'demolished', 'uninhabitable', \n",
    "         'border', 'across', 'refugee', 'shelter', 'crops', 'corn', 'rice', 'maize', 'wheat', \n",
    "         'field']\n",
    "counter = CountVectorizer(vocabulary=vocab)"
   ]
  },
  {
   "cell_type": "code",
   "execution_count": 54,
   "metadata": {},
   "outputs": [],
   "source": [
    "## Set number of Lsi topics here\n",
    "\n",
    "num_topics = 50\n",
    "\n",
    "processor = Pipeline([\n",
    "               ('tfidf', TfidfVectorizer(norm='l2')),\n",
    "               ('lsi', CustomSklLsiModel(num_topics=num_topics))\n",
    "])"
   ]
  },
  {
   "cell_type": "code",
   "execution_count": 56,
   "metadata": {},
   "outputs": [],
   "source": [
    "# processor = processor.fit(X_train)\n",
    "processor_pos = processor.fit(X_train_pos)\n",
    "# processor_phrase = processor.fit(X_train_phrase)\n",
    "# processor_all = processor.fit(X_train_all)"
   ]
  },
  {
   "cell_type": "markdown",
   "metadata": {},
   "source": [
    "### Lsi Vector Plot"
   ]
  },
  {
   "cell_type": "code",
   "execution_count": 50,
   "metadata": {},
   "outputs": [],
   "source": [
    "def visualize_processor_vectors(X, y, processor):\n",
    "    vecs = processor.transform(X)\n",
    "    \n",
    "    v0 = []\n",
    "    v1 = []\n",
    "    v2 = []\n",
    "    v3 = []\n",
    "    v4 = []\n",
    "    for v in vecs:\n",
    "        v0.append(v[0])\n",
    "        v1.append(v[1])\n",
    "        v2.append(v[2])\n",
    "        v3.append(v[3])\n",
    "        v4.append(v[4])\n",
    "\n",
    "    df = pd.DataFrame(data={'v0': v0, 'v1': v1, 'v2': v2, 'v3':v3, 'v4': v4, 'category': y})\n",
    "            \n",
    "    sns.pairplot(df, hue=\"category\", plot_kws={'alpha': 0.2})\n",
    "    \n",
    "    return df"
   ]
  },
  {
   "cell_type": "code",
   "execution_count": 51,
   "metadata": {
    "scrolled": false
   },
   "outputs": [
    {
     "data": {
      "image/png": "[encoded data removed]",
      "text/plain": [
       "<matplotlib.figure.Figure at 0x7f467b9e2cc0>"
      ]
     },
     "metadata": {},
     "output_type": "display_data"
    }
   ],
   "source": [
    "df = visualize_processor_vectors(X_train_pos, y_train, processor_pos)"
   ]
  },
  {
   "cell_type": "markdown",
   "metadata": {},
   "source": [
    "### LSI Topic Investigation"
   ]
  },
  {
   "cell_type": "code",
   "execution_count": 57,
   "metadata": {},
   "outputs": [],
   "source": [
    "# get vocabulary from tfidf to assess topics in LSI model\n",
    "tfidf = processor.named_steps['tfidf']\n",
    "id2word = {t[1]: t[0] for t in list(tfidf.vocabulary_.items())}\n",
    "lsi_model = processor.named_steps['lsi'].gensim_model\n",
    "lsi_model.id2word = id2word"
   ]
  },
  {
   "cell_type": "code",
   "execution_count": 58,
   "metadata": {
    "scrolled": true
   },
   "outputs": [
    {
     "data": {
      "text/plain": [
       "[(0,\n",
       "  '0.653*\"zurich_propn\" + 0.177*\"people_noun\" + 0.175*\"switzerland_propn\" + 0.158*\"rain_noun\" + 0.154*\"flood_noun\" + 0.118*\"heavy_adj\" + 0.117*\"area_noun\" + 0.111*\"flooding_noun\" + 0.098*\"home_noun\" + 0.096*\"house_noun\"'),\n",
       " (1,\n",
       "  '0.528*\"zurich_propn\" + -0.218*\"switzerland_propn\" + -0.199*\"flood_noun\" + -0.176*\"water_noun\" + -0.120*\"flooding_noun\" + 0.118*\"house_noun\" + -0.117*\"people_noun\" + -0.108*\"home_noun\" + 0.108*\"response\" + -0.107*\"displace_verb\"'),\n",
       " (2,\n",
       "  '-0.197*\"displace_verb\" + -0.181*\"family_noun\" + -0.180*\"house_noun\" + -0.172*\"provide_verb\" + -0.148*\"relief_noun\" + -0.144*\"food_noun\" + 0.138*\"rain_noun\" + -0.124*\"assistance_noun\" + 0.123*\"hour_noun\" + -0.118*\"idp_noun\"'),\n",
       " (3,\n",
       "  '0.394*\"fire_noun\" + -0.197*\"rain_noun\" + 0.195*\"burn_verb\" + -0.192*\"flood_noun\" + -0.170*\"heavy_adj\" + -0.145*\"flooding_noun\" + 0.105*\"idp_noun\" + 0.105*\"wildfire_noun\" + -0.100*\"rainfall_noun\" + 0.095*\"firefighter_noun\"'),\n",
       " (4,\n",
       "  '0.233*\"displace_verb\" + 0.208*\"idp_noun\" + 0.184*\"zurich_propn\" + 0.182*\"idmc_propn\" + 0.181*\"displacement_noun\" + -0.162*\"house_noun\" + -0.156*\"fire_noun\" + 0.152*\"figure_noun\" + 0.151*\"conflict_noun\" + 0.133*\"estimate_noun\"'),\n",
       " (5,\n",
       "  '-0.302*\"switzerland_propn\" + 0.185*\"fire_noun\" + -0.174*\"people_noun\" + -0.172*\"earthquake_noun\" + -0.157*\"landslide_noun\" + -0.155*\"xinhua_propn\" + 0.152*\"water_noun\" + -0.147*\"quake_noun\" + 0.143*\"zurich_propn\" + -0.132*\"miss_verb\"'),\n",
       " (6,\n",
       "  '-0.341*\"fire_noun\" + 0.172*\"zurich_propn\" + 0.167*\"water_noun\" + -0.167*\"evacuation_noun\" + -0.163*\"burn_verb\" + -0.161*\"people_noun\" + -0.126*\"flood_noun\" + 0.121*\"will_verb\" + 0.121*\"storm_noun\" + -0.119*\"landslide_noun\"'),\n",
       " (7,\n",
       "  '-0.245*\"fire_noun\" + -0.233*\"switzerland_propn\" + 0.182*\"city_noun\" + -0.177*\"food_noun\" + 0.161*\"water_noun\" + 0.140*\"river_noun\" + -0.135*\"province_noun\" + -0.132*\"destroy_verb\" + 0.131*\"evacuate_verb\" + 0.127*\"evacuation_noun\"'),\n",
       " (8,\n",
       "  '-0.222*\"storm_noun\" + -0.180*\"rain_noun\" + -0.172*\"wind_noun\" + 0.166*\"state_noun\" + -0.143*\"typhoon_propn\" + 0.136*\"earthquake_noun\" + 0.131*\"flood_noun\" + 0.123*\"quake_noun\" + -0.122*\"island_noun\" + 0.119*\"water_noun\"'),\n",
       " (9,\n",
       "  '0.367*\"switzerland_propn\" + -0.220*\"house_noun\" + -0.214*\"damage_verb\" + -0.198*\"destroy_verb\" + -0.170*\"province_noun\" + -0.160*\"flood_noun\" + -0.139*\"home_noun\" + 0.135*\"evacuate_verb\" + -0.127*\"rain_noun\" + 0.123*\"zurich_propn\"'),\n",
       " (10,\n",
       "  '0.280*\"camp_noun\" + -0.246*\"province_noun\" + -0.188*\"red_propn\" + 0.145*\"village_noun\" + -0.144*\"centre_noun\" + -0.125*\"cross_propn\" + -0.118*\"will_verb\" + -0.114*\"evacuation_noun\" + 0.114*\"rain_noun\" + -0.110*\"disaster_propn\"'),\n",
       " (11,\n",
       "  '-0.173*\"river_noun\" + 0.153*\"camp_noun\" + 0.151*\"red_propn\" + -0.143*\"switzerland_propn\" + 0.140*\"evacuation_noun\" + -0.139*\"region_noun\" + 0.137*\"centre_noun\" + 0.124*\"people_noun\" + -0.118*\"province_noun\" + 0.117*\"displace_verb\"'),\n",
       " (12,\n",
       "  '-0.188*\"township_noun\" + -0.178*\"area_noun\" + -0.166*\"rain_noun\" + -0.166*\"resident_noun\" + 0.156*\"state_noun\" + 0.144*\"storm_noun\" + -0.126*\"local_adj\" + 0.120*\"die_verb\" + 0.116*\"people_noun\" + -0.112*\"heavy_adj\"'),\n",
       " (13,\n",
       "  '-0.199*\"earthquake_noun\" + -0.176*\"state_noun\" + 0.169*\"flood_noun\" + -0.166*\"quake_noun\" + 0.165*\"village_noun\" + 0.147*\"camp_noun\" + -0.133*\"damage_verb\" + -0.132*\"building_noun\" + 0.118*\"resident_noun\" + -0.112*\"flooding_noun\"'),\n",
       " (14,\n",
       "  '0.267*\"landslide_noun\" + 0.216*\"state_noun\" + -0.153*\"centre_noun\" + 0.144*\"region_noun\" + -0.140*\"earthquake_noun\" + -0.140*\"number_noun\" + 0.137*\"government_noun\" + -0.118*\"quake_noun\" + -0.115*\"evacuation_noun\" + -0.110*\"building_noun\"'),\n",
       " (15,\n",
       "  '-0.242*\"district_noun\" + 0.213*\"_adj\" + -0.186*\"camp_noun\" + -0.158*\"river_noun\" + -0.151*\"region_noun\" + 0.127*\"response\" + -0.123*\"landslide_noun\" + 0.122*\"_propn\" + 0.120*\"water_noun\" + -0.119*\"village_noun\"'),\n",
       " (16,\n",
       "  '-0.241*\"water_noun\" + 0.164*\"centre_noun\" + 0.148*\"resident_noun\" + 0.147*\"evacuation_noun\" + 0.142*\"number_noun\" + 0.128*\"home_noun\" + -0.126*\"inundate_verb\" + -0.125*\"province_noun\" + -0.118*\"october_propn\" + -0.107*\"fire_noun\"'),\n",
       " (17,\n",
       "  '0.201*\"rain_noun\" + -0.184*\"state_noun\" + -0.169*\"rainfall_noun\" + 0.163*\"landslide_noun\" + 0.162*\"will_verb\" + -0.150*\"inundate_verb\" + 0.126*\"flood_noun\" + 0.124*\"_adj\" + -0.120*\"destroy_verb\" + -0.120*\"home_noun\"'),\n",
       " (18,\n",
       "  '-0.255*\"state_noun\" + -0.198*\"flood_noun\" + 0.177*\"june_propn\" + 0.156*\"evacuation_noun\" + -0.141*\"home_noun\" + 0.136*\"rainfall_noun\" + 0.134*\"camp_noun\" + 0.131*\"water_noun\" + 0.111*\"miss_verb\" + 0.109*\"city_noun\"'),\n",
       " (19,\n",
       "  '-0.302*\"state_noun\" + 0.137*\"home_noun\" + -0.128*\"dowdall_propn\" + -0.126*\"june_propn\" + -0.122*\"village_noun\" + 0.108*\"family_noun\" + -0.106*\"affairs_propn\" + 0.105*\"warning_noun\" + -0.104*\"district_noun\" + -0.103*\"tornado_noun\"')]"
      ]
     },
     "execution_count": 58,
     "metadata": {},
     "output_type": "execute_result"
    }
   ],
   "source": [
    "lsi_model.print_topics()"
   ]
  },
  {
   "cell_type": "markdown",
   "metadata": {},
   "source": [
    "### Feature Resolving Power"
   ]
  },
  {
   "cell_type": "markdown",
   "metadata": {},
   "source": [
    "### Models"
   ]
  },
  {
   "cell_type": "markdown",
   "metadata": {},
   "source": [
    "The models chosen are all capable of multiclass classification."
   ]
  },
  {
   "cell_type": "code",
   "execution_count": 20,
   "metadata": {},
   "outputs": [],
   "source": [
    "n_jobs = -1\n",
    "\n",
    "rf_clf = RandomForestClassifier(n_jobs=n_jobs)\n",
    "\n",
    "knn_clf = KNeighborsClassifier(n_jobs=n_jobs)\n",
    "\n",
    "svm_clf = LinearSVC()\n",
    "\n",
    "gnb_clf = GaussianNB()\n",
    "\n",
    "lr_clf = LogisticRegression(multi_class='ovr')"
   ]
  },
  {
   "cell_type": "markdown",
   "metadata": {},
   "source": [
    "### Simple Mode\n",
    "\n",
    "Simple mode means transforming all of the features once for all of the classifiers. This has the advantage of speed, but the disadvantage of not tuning the input features for each classifier."
   ]
  },
  {
   "cell_type": "markdown",
   "metadata": {},
   "source": [
    "### LSI"
   ]
  },
  {
   "cell_type": "code",
   "execution_count": 21,
   "metadata": {},
   "outputs": [],
   "source": [
    "lsi_pipe = Pipeline([\n",
    "    ('union', FeatureUnion(transformer_list=[\n",
    "        ('phrase', Pipeline([\n",
    "            ('processor', PhraseProcessor(stop_words)),\n",
    "            ('tfidf', TfidfVectorizer(max_features=20000)),\n",
    "            ('lda', CustomSklLsiModel(num_topics=300))\n",
    "        ])),\n",
    "        ('pos', Pipeline([\n",
    "            ('processor', POSProcessor(stop_words)),\n",
    "            ('tfidf', TfidfVectorizer(max_features=20000, max_df=0.7)),\n",
    "            ('lda', CustomSklLsiModel(num_topics=300))\n",
    "        ]))\n",
    "    ]))\n",
    "])"
   ]
  },
  {
   "cell_type": "code",
   "execution_count": null,
   "metadata": {},
   "outputs": [],
   "source": [
    "# lsi_pipe = joblib.load(lsi_pipe, 'lsi_union_10022017.pkl')"
   ]
  },
  {
   "cell_type": "code",
   "execution_count": 21,
   "metadata": {
    "scrolled": true
   },
   "outputs": [],
   "source": [
    "lsi_vecs_rel_train = lsi_pipe.fit_transform(X_rel_train)\n",
    "lsi_vecs_rel_test = lsi_pipe.transform(X_rel_test)"
   ]
  },
  {
   "cell_type": "code",
   "execution_count": 22,
   "metadata": {},
   "outputs": [],
   "source": [
    "lsi_vecs_rel_all = lsi_pipe.fit_transform(df_rel_modeling['text'])"
   ]
  },
  {
   "cell_type": "code",
   "execution_count": 244,
   "metadata": {},
   "outputs": [
    {
     "data": {
      "text/plain": [
       "['lsi_union_10022017.pkl']"
      ]
     },
     "execution_count": 244,
     "metadata": {},
     "output_type": "execute_result"
    }
   ],
   "source": [
    "# joblib.dump(lsi_pipe, 'lsi_union_10022017.pkl')"
   ]
  },
  {
   "cell_type": "code",
   "execution_count": 29,
   "metadata": {},
   "outputs": [],
   "source": [
    "union = lsi_pipe.named_steps['union']\n",
    "tfidf = union.transformer_list[1][1].named_steps['tfidf']"
   ]
  },
  {
   "cell_type": "code",
   "execution_count": 30,
   "metadata": {},
   "outputs": [
    {
     "data": {
      "text/plain": [
       "{'extent_noun': 2680,\n",
       " 'kalaba_propn': 3975,\n",
       " 'home_verb': 3449,\n",
       " 'reconstruction_propn': 6120,\n",
       " 'nhial_propn': 5080,\n",
       " 'refuse_verb': 6153,\n",
       " 'sensitisation_noun': 6688,\n",
       " 'site_noun': 6889,\n",
       " 'count_verb': 1775,\n",
       " 'individual_noun': 3666,\n",
       " 'skynewsaust_propn': 6914,\n",
       " 'payment_noun': 5524,\n",
       " 'associate_verb': 603,\n",
       " 'wanganui_propn': 8149,\n",
       " 'combination_noun': 1528,\n",
       " 'labour_noun': 4147,\n",
       " 'monument_noun': 4841,\n",
       " 'loaf_noun': 4356,\n",
       " 'southeast_noun': 7019,\n",
       " 'this_propn': 7546,\n",
       " 'deluge_noun': 2053,\n",
       " 'takuya_propn': 7412,\n",
       " 'southland_propn': 7025,\n",
       " 'migrant_adj': 4721,\n",
       " 'spent_verb': 7059,\n",
       " 'hammad_propn': 3291,\n",
       " 'doyle_propn': 2296,\n",
       " 'affectedlocal_adj': 259,\n",
       " 'apocalyptic_adj': 487,\n",
       " 'coordinate_verb': 1735,\n",
       " 'seismic_adj': 6656,\n",
       " 'frontline_noun': 2984,\n",
       " 'quality_propn': 5983,\n",
       " 'phon_propn': 5604,\n",
       " 'impact': 3604,\n",
       " 'lift_verb': 4299,\n",
       " 'bosso_propn': 977,\n",
       " 'southern_adj': 7022,\n",
       " 'express_verb': 2675,\n",
       " 'study_noun': 7225,\n",
       " 'step_verb': 7151,\n",
       " 'circle_verb': 1405,\n",
       " 'administrator_propn': 227,\n",
       " 'prairie_propn': 5777,\n",
       " 'guard_verb': 3205,\n",
       " 'room_noun': 6438,\n",
       " 'informed_adj': 3700,\n",
       " 'wipe_verb': 8302,\n",
       " 'seaman_noun': 6620,\n",
       " 'solomon_noun': 6991,\n",
       " 'associated_propn': 604,\n",
       " 'trade_noun': 7683,\n",
       " 'jamming_noun': 3872,\n",
       " 'upscale_adj': 7945,\n",
       " 'bhalla_propn': 873,\n",
       " 'healthcare_noun': 3362,\n",
       " 'million_noun': 4741,\n",
       " 'unicef_propn': 7880,\n",
       " 'adult_noun': 233,\n",
       " 'cracking_noun': 1809,\n",
       " 'kyusho_propn': 4143,\n",
       " 'wash_verb': 8164,\n",
       " 'answer_verb': 461,\n",
       " 'identification_noun': 3564,\n",
       " 'hoa_propn': 3434,\n",
       " 'delighted_adj': 2049,\n",
       " 'catastrophe_noun': 1228,\n",
       " '0015': 1,\n",
       " 'tiny_adj': 7598,\n",
       " 'outdoors_adv': 5349,\n",
       " 'windhoeks_propn': 8290,\n",
       " 'radu_propn': 6013,\n",
       " 'qiongfen_propn': 5972,\n",
       " 'nagano_propn': 4950,\n",
       " 'mindoro_propn': 4746,\n",
       " 'surin_propn': 7320,\n",
       " 'french_adj': 2969,\n",
       " 'burlington_propn': 1087,\n",
       " 'thailand_propn': 7519,\n",
       " 'connect_verb': 1646,\n",
       " 'vikas_propn': 8057,\n",
       " 'need_verb': 5022,\n",
       " 'orange_propn': 5298,\n",
       " 'wye_propn': 8360,\n",
       " 'flyover_noun': 2883,\n",
       " 'activity_noun': 198,\n",
       " 'shakhan_propn': 6742,\n",
       " 'majority_noun': 4475,\n",
       " 'ethnic_adj': 2588,\n",
       " 'urban_propn': 7952,\n",
       " 'actors_propn': 199,\n",
       " 'glacier_noun': 3102,\n",
       " 'submerge_verb': 7235,\n",
       " 'investigate_verb': 3809,\n",
       " 'melting_noun': 4658,\n",
       " 'valley': 7989,\n",
       " 'swim_verb': 7367,\n",
       " 'hugely_adv': 3512,\n",
       " 'news_propn': 5066,\n",
       " 'fongwan_propn': 2894,\n",
       " 'arab_propn': 516,\n",
       " 'cbi_propn': 1252,\n",
       " 'feeling_noun': 2770,\n",
       " 'yehuda_propn': 8381,\n",
       " 'bridge_propn': 1026,\n",
       " 'anzac_propn': 477,\n",
       " 'extremely_adv': 2691,\n",
       " 'lisnard_propn': 4333,\n",
       " 'futuna_propn': 3012,\n",
       " 'unseeded_adj': 7916,\n",
       " 'cal_propn': 1122,\n",
       " 'intention_noun': 3769,\n",
       " 'fish_noun': 2832,\n",
       " 'mander_propn': 4508,\n",
       " 'tengrinews_propn': 7485,\n",
       " 'mandatory_propn': 4507,\n",
       " 'story_adj': 7176,\n",
       " 'ground_propn': 3190,\n",
       " 'situation_noun': 6893,\n",
       " 'broadcaster_noun': 1041,\n",
       " 'iraqi_adj': 3824,\n",
       " 'death_noun': 1997,\n",
       " 'coledale_propn': 1501,\n",
       " 'bearing_noun': 804,\n",
       " 'brick_noun': 1023,\n",
       " 'tadese_propn': 7397,\n",
       " 'view_noun': 8048,\n",
       " 'saving_noun': 6572,\n",
       " 'pay_verb': 5523,\n",
       " 'cause_verb': 1244,\n",
       " 'mai_propn': 4461,\n",
       " 'superintendent_propn': 7299,\n",
       " 'trooper_noun': 7749,\n",
       " 'huu_propn': 3538,\n",
       " 'member_propn': 4662,\n",
       " 'sarawak_propn': 6551,\n",
       " 'total_adj': 7657,\n",
       " 'newspaper_noun': 5068,\n",
       " 'household_noun': 3493,\n",
       " '20_noun': 50,\n",
       " 'resemble_verb': 6268,\n",
       " 'simpangan_propn': 6861,\n",
       " 'cassava_noun': 1220,\n",
       " 'bundle_verb': 1081,\n",
       " 'errupt_verb': 2560,\n",
       " 'technical_adj': 7455,\n",
       " 'failure_noun': 2710,\n",
       " 'photos_propn': 5612,\n",
       " 'matin_noun': 4588,\n",
       " 'gang_noun': 3034,\n",
       " 'resistance_propn': 6292,\n",
       " 'patchy_adj': 5504,\n",
       " 'vs': 8112,\n",
       " 'kim_propn': 4070,\n",
       " 'smoky_adj': 6945,\n",
       " 'senior_adj': 6684,\n",
       " '180mi_propn': 31,\n",
       " 'husband_noun': 3533,\n",
       " 'old_adj': 5251,\n",
       " 'basement_noun': 773,\n",
       " 'botswana_propn': 979,\n",
       " 'cucumber_noun': 1877,\n",
       " 'resolve_verb': 6296,\n",
       " 'psychosocial_adj': 5937,\n",
       " 'kingdom_propn': 4079,\n",
       " 'motorboat_noun': 4872,\n",
       " 'send_verb': 6682,\n",
       " 'excess_adj': 2636,\n",
       " 'beneath_adp': 851,\n",
       " 'grcs_propn': 3167,\n",
       " 'hammer_verb': 3292,\n",
       " 'simultaneously_adv': 6864,\n",
       " 'ido_propn': 3570,\n",
       " 'generator_noun': 3072,\n",
       " 'extreme_adj': 2690,\n",
       " 'inpe_propn': 3727,\n",
       " 'powerco_propn': 5765,\n",
       " 'air_noun': 311,\n",
       " 'finding_noun': 2813,\n",
       " 'endanger_verb': 2498,\n",
       " 'further_adv': 3010,\n",
       " 'weed_noun': 8212,\n",
       " 'issue_verb': 3852,\n",
       " 'kalimantan_propn': 3979,\n",
       " 'vaud_propn': 8003,\n",
       " 'culprit_noun': 1878,\n",
       " 'epicenter_noun': 2538,\n",
       " 'very_adv': 8020,\n",
       " 'ikot_propn': 3589,\n",
       " 'federal_adj': 2762,\n",
       " 'kishan_propn': 4086,\n",
       " 'tab_noun': 7388,\n",
       " 'bulgarians_propn': 1074,\n",
       " 'zinc_noun': 8429,\n",
       " 'thoku_propn': 7547,\n",
       " 'hinterland_noun': 3425,\n",
       " 'bebali_propn': 808,\n",
       " 'original_adj': 5324,\n",
       " 'security_propn': 6644,\n",
       " 'mobilize_verb': 4804,\n",
       " 'unusually_adv': 7924,\n",
       " 'sukaraja_propn': 7272,\n",
       " 'calendar_noun': 1130,\n",
       " 'territories_propn': 7506,\n",
       " 'totally_adv': 7660,\n",
       " 'formal_adj': 2929,\n",
       " 'joyland_propn': 3941,\n",
       " 'northwest_adv': 5150,\n",
       " 'info_noun': 3692,\n",
       " 'situate_verb': 6892,\n",
       " 'sarkar_propn': 6552,\n",
       " 'mosul_propn': 4866,\n",
       " '1976_noun': 36,\n",
       " 'siceleys_propn': 6836,\n",
       " 'discus_verb': 2194,\n",
       " 'powerful_adj': 5766,\n",
       " 'franken_propn': 2956,\n",
       " 'moyhu_propn': 4890,\n",
       " 'downed_adj': 2285,\n",
       " 'allegation_noun': 358,\n",
       " 'forecast_propn': 2914,\n",
       " 'island_propn': 3842,\n",
       " 'van_noun': 7995,\n",
       " 'auxliary_propn': 656,\n",
       " 'duplicate_noun': 2353,\n",
       " 'kind_adj': 4073,\n",
       " 'durable_adj': 2356,\n",
       " '65_propn': 94,\n",
       " 'settlement_noun': 6722,\n",
       " 'bear_verb': 803,\n",
       " 'care_verb': 1196,\n",
       " 'ruyter_propn': 6487,\n",
       " 'sidamulya_propn': 6837,\n",
       " 'accuracy_noun': 171,\n",
       " 'meteorological_propn': 4686,\n",
       " 'bureau_noun': 1083,\n",
       " 'argus_noun': 537,\n",
       " 'zone_propn': 8433,\n",
       " 'alex_propn': 346,\n",
       " 'shelter_verb': 6775,\n",
       " 'construction_noun': 1677,\n",
       " 'chief_propn': 1353,\n",
       " 'elder_noun': 2436,\n",
       " 'head_verb': 3353,\n",
       " 'congestion_noun': 1642,\n",
       " 'harm_noun': 3324,\n",
       " 'critrical_adj': 1846,\n",
       " 'voiland_propn': 8096,\n",
       " 'constraint_noun': 1675,\n",
       " 'majority_propn': 4476,\n",
       " 'uncontrollably_adv': 7844,\n",
       " 'shell_noun': 6771,\n",
       " 'contact_noun': 1687,\n",
       " 'payout_noun': 5525,\n",
       " 'amur_propn': 408,\n",
       " 'flow_noun': 2878,\n",
       " 'stress_noun': 7197,\n",
       " 'mexico_propn': 4700,\n",
       " 'shonbeh_propn': 6802,\n",
       " 'topic_noun': 7640,\n",
       " 'turner_propn': 7790,\n",
       " 'refuse_noun': 6152,\n",
       " 'fitting_noun': 2838,\n",
       " 'floodwater_noun': 2874,\n",
       " 'erupts_propn': 2565,\n",
       " 'michetti_propn': 4704,\n",
       " 'planning_propn': 5666,\n",
       " 'santo_propn': 6542,\n",
       " 'noodle_noun': 5125,\n",
       " 'sweep_verb': 7360,\n",
       " 'disinfection_noun': 2200,\n",
       " 'nissan_propn': 5107,\n",
       " 'sonic_adj': 6999,\n",
       " 'special_adj': 7048,\n",
       " 'chechen_propn': 1339,\n",
       " 'freight_noun': 2968,\n",
       " 'individual_adj': 3665,\n",
       " 'raja_propn': 6038,\n",
       " 'bottle_noun': 980,\n",
       " 'gain_verb': 3026,\n",
       " 'hug_verb': 3510,\n",
       " 'ebonyi_propn': 2395,\n",
       " 'unprovoked_adj': 7906,\n",
       " 'dissemination_noun': 2224,\n",
       " 'rock_verb': 6416,\n",
       " 'overflowed_adv': 5370,\n",
       " 'clean_noun': 1429,\n",
       " 'construct_verb': 1676,\n",
       " 'expand_verb': 2655,\n",
       " 'jerry_propn': 3899,\n",
       " 'worth_adp': 8343,\n",
       " 'cent_noun': 1270,\n",
       " 'mexicoheavy_propn': 4701,\n",
       " 'caicos_propn': 1119,\n",
       " 'monday_propn': 4825,\n",
       " 'nowhere_adv': 5175,\n",
       " 'infiltrate_verb': 3688,\n",
       " 'jerusalem_propn': 3902,\n",
       " 'pdr_propn': 5529,\n",
       " 'pearce_propn': 5534,\n",
       " 'floodgate_noun': 2868,\n",
       " 'estimate_verb': 2580,\n",
       " 'maximum_noun': 4604,\n",
       " 'forfeiture_propn': 2923,\n",
       " 'correspondent_noun': 1758,\n",
       " 'private_adj': 5861,\n",
       " 'provincial': 5931,\n",
       " 'ordinator_noun': 5308,\n",
       " 'aichi_adj': 302,\n",
       " 'monitor_verb': 4830,\n",
       " 'man_propn': 4495,\n",
       " 'jrs_propn': 3943,\n",
       " 'sarajevo_propn': 6547,\n",
       " 'basurto_propn': 781,\n",
       " 'puddle_noun': 5948,\n",
       " 'tsunami_propn': 7766,\n",
       " '14_noun': 22,\n",
       " 'program_propn': 5887,\n",
       " 'marshall_propn': 4564,\n",
       " 'bring_verb': 1033,\n",
       " 'cloudy_verb': 1468,\n",
       " 'displaced_adj': 2209,\n",
       " 'trash_verb': 7717,\n",
       " 'tokelau_propn': 7615,\n",
       " 'bahamas_propn': 713,\n",
       " 'atoll_noun': 618,\n",
       " 'commit_verb': 1551,\n",
       " 'abdullah_propn': 132,\n",
       " 'spokeswoman_propn': 7073,\n",
       " 'gunshot_noun': 3235,\n",
       " 'dawson_propn': 1974,\n",
       " 'litre_noun': 4339,\n",
       " 'aemet_propn': 249,\n",
       " 'shoreline_noun': 6808,\n",
       " 'raj_propn': 6037,\n",
       " 'tar_verb': 7433,\n",
       " '2014_noun': 49,\n",
       " '_space': 119,\n",
       " 'petroleo_propn': 5587,\n",
       " 'whammy_noun': 8250,\n",
       " 'key_noun': 4046,\n",
       " 'safe_adj': 6496,\n",
       " 'onion_noun': 5265,\n",
       " 'producer_noun': 5875,\n",
       " 'deteriorate_verb': 2119,\n",
       " 'ian_propn': 3552,\n",
       " 's_propn': 6489,\n",
       " 'guillermo_propn': 3224,\n",
       " 'happy_propn': 3312,\n",
       " 'administration_noun': 222,\n",
       " 'visibility_noun': 8082,\n",
       " 'county_noun': 1786,\n",
       " 'luxor_propn': 4430,\n",
       " 'tent_noun': 7487,\n",
       " 'sharon_propn': 6759,\n",
       " 'riesgos_propn': 6366,\n",
       " 'cabinet_propn': 1111,\n",
       " 'bala_propn': 722,\n",
       " 'attribute_verb': 631,\n",
       " 'waziristan_propn': 8192,\n",
       " 'incur_verb': 3648,\n",
       " 'oct_propn': 5225,\n",
       " 'cabinet_noun': 1110,\n",
       " 'seluma_propn': 6670,\n",
       " 'response_noun': 6310,\n",
       " 'monitoring_noun': 4831,\n",
       " 'stuck_adj': 7220,\n",
       " 'shrubsole_propn': 6826,\n",
       " 'wide_propn': 8270,\n",
       " 'backflow_noun': 700,\n",
       " 'carnage_noun': 1203,\n",
       " 'agostinho_propn': 286,\n",
       " 'prison_propn': 5859,\n",
       " 'name_noun': 4962,\n",
       " 'lari_propn': 4202,\n",
       " 'place_noun': 5654,\n",
       " 'mid_adj': 4708,\n",
       " 'defense_propn': 2030,\n",
       " 'grider_propn': 3183,\n",
       " 'allow_verb': 365,\n",
       " 'woe_noun': 8315,\n",
       " 'already_adv': 373,\n",
       " 'endangered_adj': 2499,\n",
       " 'administered_propn': 220,\n",
       " 'conduct_verb': 1627,\n",
       " 'returnee_noun': 6337,\n",
       " 'thunder_noun': 7567,\n",
       " 'comisin_propn': 1533,\n",
       " 'riba_propn': 6353,\n",
       " 'neighbouring_adj': 5037,\n",
       " 'slingo_propn': 6927,\n",
       " '24': 57,\n",
       " 'tanjong_propn': 7423,\n",
       " 'sea_noun': 6616,\n",
       " 'selatan_propn': 6663,\n",
       " 'negras_propn': 5028,\n",
       " 'eyewitness_noun': 2693,\n",
       " 'easy_adj': 2393,\n",
       " 'bulolo_propn': 1079,\n",
       " 'disclose_verb': 2189,\n",
       " 'description_propn': 2096,\n",
       " 'intense_adj': 3765,\n",
       " 'roll_verb': 6429,\n",
       " 'unreinforced_adj': 7908,\n",
       " 'bhardwaj_propn': 874,\n",
       " 'kph_noun': 4122,\n",
       " 'gulu_propn': 3231,\n",
       " 'cordon_verb': 1749,\n",
       " 'typical_adj': 7812,\n",
       " 'governments_propn': 3137,\n",
       " 'outline_noun': 5353,\n",
       " 'macedonia_propn': 4439,\n",
       " 'cradle_verb': 1811,\n",
       " 'dread_verb': 2309,\n",
       " 'coop_noun': 1732,\n",
       " 'benanain_propn': 847,\n",
       " 'food_propn': 2896,\n",
       " 'hypocenter_propn': 3549,\n",
       " 'worsen_verb': 8340,\n",
       " 'ups': 7944,\n",
       " 'shakespeare_propn': 6741,\n",
       " 'aida_propn': 307,\n",
       " 'everybody_noun': 2613,\n",
       " 'buckle_verb': 1060,\n",
       " 'ungrd_propn': 7876,\n",
       " 'daugaard_propn': 1966,\n",
       " 'horrendous_adj': 3470,\n",
       " 'west_adv': 8234,\n",
       " 'fish_propn': 2833,\n",
       " 'remainder_noun': 6208,\n",
       " 'desperate_adj': 2106,\n",
       " 'caution_noun': 1246,\n",
       " 'equipment_noun': 2545,\n",
       " 'centres_propn': 1283,\n",
       " 'eviction_noun': 2620,\n",
       " 'comprehensive_propn': 1605,\n",
       " 'climate_verb': 1443,\n",
       " 'inactive_adj': 3624,\n",
       " 'makolonga_propn': 4480,\n",
       " 'appeal_verb': 493,\n",
       " 'collective_adj': 1512,\n",
       " 'enhanced_adj': 2515,\n",
       " 'barthlemy_propn': 765,\n",
       " 'moson_propn': 4859,\n",
       " 'deogarh_propn': 2072,\n",
       " 'sodden_adj': 6974,\n",
       " 'organise_verb': 5315,\n",
       " 'mohamed_propn': 4815,\n",
       " 'hold_noun': 3437,\n",
       " 'sink_verb': 6878,\n",
       " 'complicated_adj': 1599,\n",
       " 'hughes_propn': 3513,\n",
       " 'parched_adj': 5463,\n",
       " 'darkest_adv': 1956,\n",
       " 'alarmed_adj': 337,\n",
       " 'influence_noun': 3690,\n",
       " 'gyr_propn': 3250,\n",
       " 'palm_noun': 5430,\n",
       " 'caribbean_propn': 1200,\n",
       " 'military_propn': 4735,\n",
       " 'assign_verb': 597,\n",
       " 'fora_propn': 2904,\n",
       " 'toxic_adj': 7674,\n",
       " 'gradient_noun': 3145,\n",
       " 'beach_noun': 799,\n",
       " 'switzerland_propn': 7372,\n",
       " 'stakeholder_noun': 7110,\n",
       " 'legal_adj': 4253,\n",
       " 'earth_propn': 2378,\n",
       " 'honiara_propn': 3459,\n",
       " 'sight_noun': 6847,\n",
       " 'wrecked_adj': 8352,\n",
       " 'day_noun': 1975,\n",
       " 'attention_noun': 628,\n",
       " 'between_adp': 871,\n",
       " 'east_adj': 2384,\n",
       " 'evangeline_propn': 2604,\n",
       " 'kai_propn': 3971,\n",
       " 'affairs_propn': 254,\n",
       " 'unleashes_propn': 7895,\n",
       " 'land_noun': 4175,\n",
       " 'localized_adj': 4365,\n",
       " 'hive_noun': 3433,\n",
       " 'thin_verb': 7540,\n",
       " 'south_noun': 7015,\n",
       " 'excursion_noun': 2645,\n",
       " 'val_propn': 7985,\n",
       " 'ashore_adv': 576,\n",
       " 'constituency_noun': 1671,\n",
       " 'intensive_adj': 3768,\n",
       " 'nidd_propn': 5089,\n",
       " 'radar_noun': 6007,\n",
       " 'electrocute_verb': 2447,\n",
       " 'soviet_adj': 7033,\n",
       " 'rank_verb': 6058,\n",
       " 'crumble_verb': 1863,\n",
       " 'moldova_propn': 4819,\n",
       " 'neighbour_noun': 5034,\n",
       " 'boost_noun': 964,\n",
       " 'unlimited_propn': 7896,\n",
       " 'motor_propn': 4869,\n",
       " 'post_verb': 5748,\n",
       " 'waterlogg_verb': 8178,\n",
       " 'ont_adj': 5272,\n",
       " 'geophysics_propn': 3076,\n",
       " 'cao_propn': 1175,\n",
       " 'ceiling_noun': 1260,\n",
       " 'want_verb': 8150,\n",
       " 'reconstitution_noun': 6117,\n",
       " 'northeast_propn': 5141,\n",
       " 'gamalama_propn': 3032,\n",
       " 'sewer_noun': 6732,\n",
       " 'retrieve_verb': 6334,\n",
       " 'ejection_noun': 2432,\n",
       " 'the_adj': 7528,\n",
       " 'vineyard_noun': 8066,\n",
       " 'iraq_propn': 3823,\n",
       " 'data_propn': 1960,\n",
       " 'endure_verb': 2502,\n",
       " 'extraordinarily_adv': 2687,\n",
       " 'travel_noun': 7720,\n",
       " 'radioactive_adj': 6011,\n",
       " 'violent_noun': 8073,\n",
       " 'bleu_propn': 923,\n",
       " 'pgvs_propn': 5591,\n",
       " 'struggle_verb': 7216,\n",
       " 'drinking_noun': 2320,\n",
       " 'prepared_adj': 5810,\n",
       " 'treatment_noun': 7727,\n",
       " 'sawan_propn': 6573,\n",
       " 'assert_verb': 589,\n",
       " 'severity_noun': 6730,\n",
       " 'courtesy_noun': 1797,\n",
       " 'kujira_propn': 4128,\n",
       " 'government_propn': 3135,\n",
       " 'expire_verb': 2666,\n",
       " '1_noun': 41,\n",
       " 'edwards_propn': 2413,\n",
       " 'catholic_propn': 1240,\n",
       " 'inspect_verb': 3738,\n",
       " 'roll_noun': 6428,\n",
       " 'account_noun': 165,\n",
       " 'rival_noun': 6388,\n",
       " 'close_verb': 1457,\n",
       " 'select_verb': 6664,\n",
       " 'unfortunate_adj': 7872,\n",
       " 'cancel_verb': 1164,\n",
       " 'mask_noun': 4571,\n",
       " 'senegal_propn': 6683,\n",
       " 'throw_verb': 7564,\n",
       " 'ampat_propn': 406,\n",
       " 'soggy_adj': 6978,\n",
       " 'chore_noun': 1378,\n",
       " 'unrest_noun': 7909,\n",
       " 'readiness_noun': 6094,\n",
       " 'recognition_propn': 6113,\n",
       " 'pot_noun': 5749,\n",
       " 'rescue_verb': 6265,\n",
       " 'wells_propn': 8229,\n",
       " '_pron': 116,\n",
       " 'pattern_noun': 5516,\n",
       " 'michoacn_propn': 4705,\n",
       " 'decontamination_noun': 2018,\n",
       " '14th_adj': 23,\n",
       " 'prof_propn': 5879,\n",
       " 'girl_noun': 3097,\n",
       " 'scrub_noun': 6612,\n",
       " 'follow_noun': 2892,\n",
       " 'moderate_adj': 4808,\n",
       " 'bates_propn': 782,\n",
       " 'mayra_propn': 4614,\n",
       " 'israel_propn': 3850,\n",
       " 'heartbroken_adj': 3369,\n",
       " 'cherise_propn': 1344,\n",
       " 'drive_noun': 2322,\n",
       " 'recode_verb': 6112,\n",
       " 'extension_propn': 2677,\n",
       " 'navy_propn': 5000,\n",
       " 'jonglei_propn': 3934,\n",
       " 'twitter_propn': 7803,\n",
       " 'feb_propn': 2760,\n",
       " 'morning': 4850,\n",
       " 'quakes_noun': 5977,\n",
       " 'batter_noun': 785,\n",
       " 'wisher_noun': 8307,\n",
       " 'startle_verb': 7123,\n",
       " 'xiuqing_propn': 8366,\n",
       " 'shut_verb': 6830,\n",
       " 'source_verb': 7012,\n",
       " 'extensively_adv': 2679,\n",
       " 'injure_verb': 3716,\n",
       " 'discipline_verb': 2188,\n",
       " 'unit_noun': 7886,\n",
       " 'rocky_adj': 6419,\n",
       " 'ssw_propn': 7092,\n",
       " 'subject_adj': 7232,\n",
       " 'stephanie_propn': 7152,\n",
       " 'surfer_noun': 7316,\n",
       " 'cold_verb': 1500,\n",
       " 'bulletin_propn': 1078,\n",
       " 'formula_noun': 2932,\n",
       " 'worldwide_adj': 8335,\n",
       " 'shs_propn': 6827,\n",
       " 'salavan_propn': 6511,\n",
       " 'tran_propn': 7699,\n",
       " 'discharge_verb': 2187,\n",
       " '37people_noun': 72,\n",
       " 'with_adp': 8308,\n",
       " 'boulder_propn': 984,\n",
       " 'precariously_adv': 5787,\n",
       " 'sept': 6697,\n",
       " 'flash_propn': 2844,\n",
       " 'incident_propn': 3636,\n",
       " 'voluntary_propn': 8105,\n",
       " 'holiday_noun': 3441,\n",
       " 'elect_verb': 2439,\n",
       " 'leap_verb': 4241,\n",
       " 'infection_noun': 3685,\n",
       " 'stuart_propn': 7217,\n",
       " 'indication_noun': 3662,\n",
       " 'instruct_verb': 3751,\n",
       " 'tripathi_propn': 7745,\n",
       " 'jolt_verb': 3930,\n",
       " 'intellectual_adj': 3764,\n",
       " 'fill_verb': 2801,\n",
       " 'chancellor_propn': 1308,\n",
       " 'snchez_propn': 6953,\n",
       " 'big_propn': 889,\n",
       " 'canales_propn': 1162,\n",
       " 'mississippi_propn': 4786,\n",
       " 'upload_propn': 7936,\n",
       " 'rockhampton_propn': 6418,\n",
       " 'story_noun': 7177,\n",
       " 'symptom_noun': 7378,\n",
       " 'late_adj': 4211,\n",
       " 'coast_noun': 1478,\n",
       " 'search_propn': 6622,\n",
       " 'fr': 2949,\n",
       " 'observatory_noun': 5211,\n",
       " 'vyasji_propn': 8118,\n",
       " 'road': 6401,\n",
       " 'naser_propn': 4979,\n",
       " '129_noun': 18,\n",
       " 'kokrahjar_propn': 4106,\n",
       " 'rivers_propn': 6393,\n",
       " 'question_noun': 5994,\n",
       " 'heart_propn': 3367,\n",
       " 'charkhsaz_propn': 1331,\n",
       " 'sanski_propn': 6541,\n",
       " 'design_verb': 2101,\n",
       " 'restraint_noun': 6322,\n",
       " 'locally_adv': 4366,\n",
       " 'rely_verb': 6205,\n",
       " 'reserve_propn': 6271,\n",
       " 'african_propn': 268,\n",
       " 'befit_verb': 816,\n",
       " 'firefighter_noun': 2821,\n",
       " 'force_propn': 2906,\n",
       " 'teacher_noun': 7449,\n",
       " 'lane_propn': 4190,\n",
       " 'hairdresser_noun': 3269,\n",
       " 'mauritius_propn': 4600,\n",
       " 'spill_verb': 7065,\n",
       " 'bulldozer_noun': 1076,\n",
       " 'izzi_propn': 3864,\n",
       " 'editor_noun': 2408,\n",
       " 'staff_verb': 7104,\n",
       " 'ndmo_propn': 5011,\n",
       " 'highly_adv': 3413,\n",
       " 'cheap_adj': 1337,\n",
       " '_part': 115,\n",
       " '1965_noun': 34,\n",
       " 'upanja_noun': 7926,\n",
       " 'oregon_propn': 5310,\n",
       " 'glacial_adj': 3100,\n",
       " 'cocos_propn': 1488,\n",
       " 'mitigation_propn': 4791,\n",
       " 'haiti_propn': 3270,\n",
       " 'delivery_noun': 2051,\n",
       " 'paraguay_propn': 5453,\n",
       " 'folder_noun': 2890,\n",
       " 'quantitative_adj': 5985,\n",
       " 'box_noun': 989,\n",
       " 'recovery_propn': 6128,\n",
       " 'consequent_adj': 1653,\n",
       " 'len_propn': 4258,\n",
       " 'world_noun': 8333,\n",
       " 'ridgway_propn': 6365,\n",
       " 'height_noun': 3382,\n",
       " 'library_propn': 4290,\n",
       " 'lalthanhawala_propn': 4168,\n",
       " 'commissioner_propn': 1549,\n",
       " 'creek_propn': 1826,\n",
       " 'dilapidated_adj': 2154,\n",
       " 'fly_noun': 2881,\n",
       " 'poverty_noun': 5762,\n",
       " 'medium_noun': 4647,\n",
       " 'cicurug_noun': 1401,\n",
       " 'intolerance_noun': 3799,\n",
       " 'fujian_propn': 2991,\n",
       " 'friday_propn': 2975,\n",
       " 'docket_noun': 2256,\n",
       " 'recovery_noun': 6127,\n",
       " 'employee_noun': 2483,\n",
       " 'rainfall_verb': 6029,\n",
       " 'assam_propn': 584,\n",
       " 'mariana_propn': 4540,\n",
       " 'general_adj': 3066,\n",
       " 'partnership_noun': 5484,\n",
       " 'toilet_noun': 7613,\n",
       " 'work_verb': 8326,\n",
       " 'hydrometeorology_noun': 3545,\n",
       " 'parish_propn': 5467,\n",
       " 'seb_propn': 6626,\n",
       " 'challenge_verb': 1300,\n",
       " 'jan': 3874,\n",
       " 'box_propn': 990,\n",
       " 'shimray_propn': 6791,\n",
       " 'governor_noun': 3138,\n",
       " 'news_noun': 5065,\n",
       " 'acknowledge_verb': 182,\n",
       " 'northern_propn': 5145,\n",
       " 'blame_verb': 918,\n",
       " 'device_noun': 2130,\n",
       " 'siem_propn': 6844,\n",
       " 'prince_propn': 5851,\n",
       " 'holubova_propn': 3444,\n",
       " 'tab_propn': 7389,\n",
       " '1890_noun': 32,\n",
       " 'onset_noun': 5271,\n",
       " 'profiling_propn': 5884,\n",
       " 'st': 7093,\n",
       " 'set_verb': 6718,\n",
       " 'overview_noun': 5386,\n",
       " 'improve_verb': 3620,\n",
       " 'wash_propn': 8163,\n",
       " 'ember_noun': 2467,\n",
       " 'benguet_propn': 859,\n",
       " 'branch_propn': 1002,\n",
       " 'dish_noun': 2198,\n",
       " 'afp_propn': 263,\n",
       " 'advocacy_noun': 247,\n",
       " 'seventh_adv': 6725,\n",
       " 'supply_verb': 7304,\n",
       " 'minustah_propn': 4769,\n",
       " 'opposition_noun': 5291,\n",
       " 'installation_noun': 3744,\n",
       " 'deputy_propn': 2088,\n",
       " 'registration_noun': 6169,\n",
       " 'cbn_propn': 1253,\n",
       " 'litter_noun': 4340,\n",
       " 'pahang_propn': 5409,\n",
       " 'youtube_propn': 8409,\n",
       " 'kung_propn': 4132,\n",
       " 'vallauris_propn': 7988,\n",
       " 'policy_propn': 5708,\n",
       " 'achabo_propn': 177,\n",
       " 'polson_propn': 5712,\n",
       " 'personally_adv': 5576,\n",
       " 'precinct_noun': 5791,\n",
       " 'overview_propn': 5387,\n",
       " 'cipatat_propn': 1404,\n",
       " 'declaration_noun': 2012,\n",
       " 'stable_adj': 7098,\n",
       " 'mogamiogumi_propn': 4813,\n",
       " 'well_adv': 8226,\n",
       " 'minor_adj': 4766,\n",
       " 'pvbmg_propn': 5963,\n",
       " 'proceed_verb': 5868,\n",
       " 'street_propn': 7193,\n",
       " 'inhabit_verb': 3708,\n",
       " 'luo_propn': 4426,\n",
       " 'colleague_noun': 1509,\n",
       " '11': 14,\n",
       " 'districts_propn': 2236,\n",
       " 'heartbreak_noun': 3368,\n",
       " 'unblock_verb': 7836,\n",
       " 'lotru_propn': 4402,\n",
       " 'rough_adj': 6444,\n",
       " 'background_noun': 701,\n",
       " 'permit_verb': 5568,\n",
       " 'diver_noun': 2241,\n",
       " 'think_verb': 7542,\n",
       " 'granma_propn': 3157,\n",
       " 'airdrop_verb': 314,\n",
       " 'snarl_verb': 6952,\n",
       " 'insured_adj': 3756,\n",
       " 'riverbed_verb': 6392,\n",
       " 'drain_noun': 2301,\n",
       " 'hamad_propn': 3286,\n",
       " 'yen_noun': 8386,\n",
       " 'repay_verb': 6232,\n",
       " 'gales_propn': 3029,\n",
       " 'interstate_propn': 3793,\n",
       " 'proudly_adv': 5923,\n",
       " 'cat_noun': 1224,\n",
       " 'afad_propn': 251,\n",
       " 'fraudulent_adj': 2960,\n",
       " 'require_verb': 6262,\n",
       " 'exceptional_adj': 2634,\n",
       " 'mile_noun': 4729,\n",
       " 'tuhi_propn': 7773,\n",
       " 'emma_propn': 2477,\n",
       " 'utc_noun': 7972,\n",
       " 'detached_adj': 2113,\n",
       " 'row_noun': 6451,\n",
       " 'ctrl': 1872,\n",
       " 'penrod_propn': 5544,\n",
       " 'photo_noun': 5608,\n",
       " 'baseball_noun': 772,\n",
       " 'mbozi_propn': 4616,\n",
       " 'shove_verb': 6820,\n",
       " 'guiana_propn': 3217,\n",
       " 'liter_noun': 4338,\n",
       " 'director_propn': 2172,\n",
       " 'rnli_propn': 6399,\n",
       " 'civilian_noun': 1418,\n",
       " 'politician_noun': 5710,\n",
       " 'busy_adj': 1104,\n",
       " 'college_propn': 1515,\n",
       " 'negash_propn': 5024,\n",
       " 'future_adj': 3013,\n",
       " 'contribute_verb': 1709,\n",
       " 'barter_noun': 764,\n",
       " 'proper_adj': 5909,\n",
       " 'early_adv': 2375,\n",
       " 'sen': 6676,\n",
       " 'remain_noun': 6206,\n",
       " 'honshu_propn': 3460,\n",
       " 'cross_propn': 1855,\n",
       " 'amboim_propn': 389,\n",
       " 'shipment_noun': 6797,\n",
       " 'intensify_verb': 3766,\n",
       " 'upper_adj': 7938,\n",
       " 'exit_noun': 2653,\n",
       " 'idp_propn': 3572,\n",
       " 'turn_verb': 7789,\n",
       " 'regional_adj': 6163,\n",
       " 'corporation_propn': 1753,\n",
       " 'ambulance_noun': 391,\n",
       " 'mountainous_propn': 4883,\n",
       " 'hailstorm_noun': 3267,\n",
       " 'amnesty_propn': 400,\n",
       " 'carrot_noun': 1207,\n",
       " 'jacket_noun': 3866,\n",
       " 'industry_noun': 3679,\n",
       " 'ratify_verb': 6070,\n",
       " 'mac_propn': 4436,\n",
       " 'refinery_noun': 6141,\n",
       " 'stay_verb': 7142,\n",
       " 'still_adv': 7157,\n",
       " 'provincial_propn': 5933,\n",
       " 'rat_verb': 6067,\n",
       " 'pressure_propn': 5827,\n",
       " 'includes': 3640,\n",
       " 'film_verb': 2802,\n",
       " 'communicate_verb': 1563,\n",
       " 'ndma_propn': 5010,\n",
       " 'average_verb': 664,\n",
       " 'pitcairn_propn': 5649,\n",
       " 'nagorno_propn': 4953,\n",
       " 'rogaland_propn': 6425,\n",
       " 'ethnicity_noun': 2589,\n",
       " 'science_noun': 6597,\n",
       " 'partly_adv': 5482,\n",
       " 'pacific_propn': 5402,\n",
       " 'populations_propn': 5729,\n",
       " 'citys_noun': 1413,\n",
       " 'gazebos_noun': 3059,\n",
       " 'copyright_noun': 1746,\n",
       " 'procedure_noun': 5867,\n",
       " 'quick_propn': 5997,\n",
       " 'inconsistent_adj': 3642,\n",
       " 'gust_noun': 3240,\n",
       " 'opp_propn': 5288,\n",
       " 'xuan_propn': 8368,\n",
       " 'cluster_noun': 1470,\n",
       " 'war_noun': 8151,\n",
       " 'angela_propn': 432,\n",
       " 'chu_propn': 1388,\n",
       " 'metservice_propn': 4698,\n",
       " 'treasury_propn': 7725,\n",
       " 'accordingly_adv': 164,\n",
       " 'perfect_adj': 5554,\n",
       " 'thailands_propn': 7520,\n",
       " 'bull_noun': 1075,\n",
       " 'nature_noun': 4991,\n",
       " 'upon_adp': 7937,\n",
       " 'cooking_noun': 1729,\n",
       " 'observer_noun': 5213,\n",
       " 'commission_verb': 1547,\n",
       " 'reparation_noun': 6230,\n",
       " 'bukhari_propn': 1072,\n",
       " 'glimpse_verb': 3108,\n",
       " 'wednesday_propn': 8211,\n",
       " 'wiped_propn': 8303,\n",
       " 'opening_noun': 5279,\n",
       " 'timely_adj': 7591,\n",
       " 'rangitikei_propn': 6057,\n",
       " 'clutha_propn': 1471,\n",
       " 'ismail_propn': 3846,\n",
       " 'resource_propn': 6299,\n",
       " 'planting_noun': 5671,\n",
       " 'muslim_noun': 4935,\n",
       " 'near_adj': 5015,\n",
       " 'sleep_noun': 6919,\n",
       " 'more_adj': 4846,\n",
       " 'nicaragense_propn': 5083,\n",
       " 'levels_propn': 4278,\n",
       " 'togo_propn': 7610,\n",
       " 'qinglian_propn': 5970,\n",
       " 'record_noun': 6121,\n",
       " 'loei_propn': 4375,\n",
       " 'warnings_propn': 8161,\n",
       " 'commission_propn': 1546,\n",
       " 'parliament_noun': 5472,\n",
       " 'deluges_propn': 2055,\n",
       " 'house_verb': 3492,\n",
       " 'hour_adj': 3487,\n",
       " 'greek_adj': 3173,\n",
       " 'georgetti_propn': 3078,\n",
       " 'clearwater_propn': 1437,\n",
       " 'bodeh_propn': 945,\n",
       " 'homeless_adj': 3452,\n",
       " 'sow_verb': 7034,\n",
       " 'saturday_propn': 6563,\n",
       " 'deep_adv': 2024,\n",
       " 'firefighting_noun': 2823,\n",
       " 'loma_propn': 4380,\n",
       " 'tongue_noun': 7631,\n",
       " 'typhon_propn': 7809,\n",
       " 'benue_propn': 861,\n",
       " 'raybould_propn': 6082,\n",
       " 'gai_propn': 3022,\n",
       " 'winema_propn': 8299,\n",
       " 'act_noun': 187,\n",
       " 'loss_noun': 4397,\n",
       " 'papua_adj': 5447,\n",
       " 'mulenga_propn': 4920,\n",
       " 'maduro_propn': 4449,\n",
       " 'welcome_verb': 8222,\n",
       " 'ravage_verb': 6077,\n",
       " 'stride_noun': 7204,\n",
       " 'midst_noun': 4713,\n",
       " 'coast_adj': 1477,\n",
       " 'exclude_verb': 2643,\n",
       " 'hostility_noun': 3482,\n",
       " 'institutt_noun': 3750,\n",
       " 'canada_propn': 1157,\n",
       " 'factor_noun': 2704,\n",
       " 'nasa_propn': 4977,\n",
       " 'help_noun': 3388,\n",
       " 'menacing_adj': 4667,\n",
       " 'timur_propn': 7595,\n",
       " '26': 60,\n",
       " 'catalonia_propn': 1227,\n",
       " 'chrome_propn': 1387,\n",
       " 'loop_noun': 4389,\n",
       " 'rajnath_propn': 6040,\n",
       " 'error_noun': 2559,\n",
       " 'patna_propn': 5510,\n",
       " 'concentration_noun': 1614,\n",
       " 'horacio_propn': 3465,\n",
       " 'tanga_propn': 7421,\n",
       " 'ngwega_propn': 5078,\n",
       " 'beam_noun': 801,\n",
       " 'modis_propn': 4812,\n",
       " 'hood_noun': 3461,\n",
       " 'guards_propn': 3208,\n",
       " 'speed_verb': 7055,\n",
       " 'iowa_propn': 3819,\n",
       " 'shop_noun': 6805,\n",
       " 'upgrade_noun': 7935,\n",
       " 'uncertain_adj': 7838,\n",
       " 'enclave_noun': 2492,\n",
       " 'centrair_propn': 1277,\n",
       " 'ossetia_propn': 5330,\n",
       " 'priest_propn': 5842,\n",
       " 'airways_propn': 323,\n",
       " 'unrwas_propn': 7912,\n",
       " 'nita_propn': 5108,\n",
       " 'poise_verb': 5697,\n",
       " 'neoguri_propn': 5044,\n",
       " 'resignation_noun': 6285,\n",
       " 'likelihood_noun': 4310,\n",
       " 'impressive_adj': 3619,\n",
       " 'havoc_noun': 3342,\n",
       " 'trats_propn': 7719,\n",
       " 'island_noun': 3841,\n",
       " 'carcass_noun': 1192,\n",
       " 'pivot_verb': 5652,\n",
       " 'constant_adj': 1669,\n",
       " 'jolt_noun': 3929,\n",
       " 'tri_propn': 7732,\n",
       " 'organized_adj': 5320,\n",
       " 'infrastructure_noun': 3703,\n",
       " 'media_noun': 4637,\n",
       " 'canal_propn': 1161,\n",
       " 'institution_noun': 3748,\n",
       " 'poison_noun': 5698,\n",
       " ...}"
      ]
     },
     "execution_count": 30,
     "metadata": {},
     "output_type": "execute_result"
    }
   ],
   "source": [
    "tfidf.vocabulary_"
   ]
  },
  {
   "cell_type": "markdown",
   "metadata": {},
   "source": [
    "### SVM Linear"
   ]
  },
  {
   "cell_type": "code",
   "execution_count": 22,
   "metadata": {},
   "outputs": [],
   "source": [
    "svm = LinearSVC()\n",
    "svm_params = {'C': [0.03, 0.1, 0.3, 1, 3, 10]}\n",
    "svm_grid = GridSearchCV(svm, svm_params, cv=5, scoring=None, n_jobs=-1, verbose=1)"
   ]
  },
  {
   "cell_type": "code",
   "execution_count": 23,
   "metadata": {
    "scrolled": false
   },
   "outputs": [
    {
     "name": "stdout",
     "output_type": "stream",
     "text": [
      "Fitting 5 folds for each of 6 candidates, totalling 30 fits\n"
     ]
    },
    {
     "name": "stderr",
     "output_type": "stream",
     "text": [
      "[Parallel(n_jobs=-1)]: Done  30 out of  30 | elapsed:    4.5s finished\n"
     ]
    },
    {
     "data": {
      "text/plain": [
       "GridSearchCV(cv=5, error_score='raise',\n",
       "       estimator=LinearSVC(C=1.0, class_weight=None, dual=True, fit_intercept=True,\n",
       "     intercept_scaling=1, loss='squared_hinge', max_iter=1000,\n",
       "     multi_class='ovr', penalty='l2', random_state=None, tol=0.0001,\n",
       "     verbose=0),\n",
       "       fit_params=None, iid=True, n_jobs=-1,\n",
       "       param_grid={'C': [0.03, 0.1, 0.3, 1, 3, 10]},\n",
       "       pre_dispatch='2*n_jobs', refit=True, return_train_score=True,\n",
       "       scoring=None, verbose=1)"
      ]
     },
     "execution_count": 23,
     "metadata": {},
     "output_type": "execute_result"
    }
   ],
   "source": [
    "svm_grid.fit(lsi_vecs_rel_train, y_rel_train)"
   ]
  },
  {
   "cell_type": "code",
   "execution_count": 33,
   "metadata": {},
   "outputs": [
    {
     "data": {
      "text/plain": [
       "LinearSVC(C=1, class_weight=None, dual=True, fit_intercept=True,\n",
       "     intercept_scaling=1, loss='squared_hinge', max_iter=1000,\n",
       "     multi_class='ovr', penalty='l2', random_state=None, tol=0.0001,\n",
       "     verbose=0)"
      ]
     },
     "execution_count": 33,
     "metadata": {},
     "output_type": "execute_result"
    }
   ],
   "source": [
    "svm_best = svm_grid.best_estimator_\n",
    "svm_best"
   ]
  },
  {
   "cell_type": "code",
   "execution_count": 35,
   "metadata": {
    "scrolled": true
   },
   "outputs": [
    {
     "name": "stdout",
     "output_type": "stream",
     "text": [
      "             precision    recall  f1-score   support\n",
      "\n",
      "          0       0.81      0.78      0.80        73\n",
      "          1       0.88      0.90      0.89       127\n",
      "\n",
      "avg / total       0.85      0.85      0.85       200\n",
      "\n"
     ]
    }
   ],
   "source": [
    "svm_preds = svm_best.predict(lsi_vecs_rel_test)\n",
    "print(classification_report(y_rel_test, svm_preds))"
   ]
  },
  {
   "cell_type": "code",
   "execution_count": 23,
   "metadata": {},
   "outputs": [],
   "source": [
    "svm_final = LinearSVC(C=1)"
   ]
  },
  {
   "cell_type": "code",
   "execution_count": 26,
   "metadata": {},
   "outputs": [
    {
     "data": {
      "text/plain": [
       "LinearSVC(C=1, class_weight=None, dual=True, fit_intercept=True,\n",
       "     intercept_scaling=1, loss='squared_hinge', max_iter=1000,\n",
       "     multi_class='ovr', penalty='l2', random_state=None, tol=0.0001,\n",
       "     verbose=0)"
      ]
     },
     "execution_count": 26,
     "metadata": {},
     "output_type": "execute_result"
    }
   ],
   "source": [
    "svm_final.fit(lsi_vecs_rel_all, df_rel_modeling['is_displacement_label'])"
   ]
  },
  {
   "cell_type": "code",
   "execution_count": 27,
   "metadata": {},
   "outputs": [],
   "source": [
    "svm_pipe = Pipeline([\n",
    "    ('cleaner', CleaningProcessor()),\n",
    "    ('lsi', lsi_pipe),\n",
    "    ('svm', svm_final)\n",
    "])"
   ]
  },
  {
   "cell_type": "code",
   "execution_count": 28,
   "metadata": {},
   "outputs": [
    {
     "data": {
      "text/plain": [
       "['relevance_classifier_svm_10052017.pkl']"
      ]
     },
     "execution_count": 28,
     "metadata": {},
     "output_type": "execute_result"
    }
   ],
   "source": [
    "joblib.dump(svm_pipe, 'relevance_classifier_svm_10052017.pkl')"
   ]
  },
  {
   "cell_type": "markdown",
   "metadata": {},
   "source": [
    "### Logistic Regression"
   ]
  },
  {
   "cell_type": "code",
   "execution_count": 53,
   "metadata": {},
   "outputs": [],
   "source": [
    "lr_params = {'C': [0.03, 0.1, 0.3, 1, 3, 10]}\n",
    "lr_grid = GridSearchCV(lr_clf, lr_params, cv=5, scoring=None, n_jobs=-1, verbose=1)"
   ]
  },
  {
   "cell_type": "code",
   "execution_count": 55,
   "metadata": {
    "scrolled": true
   },
   "outputs": [
    {
     "name": "stdout",
     "output_type": "stream",
     "text": [
      "Fitting 5 folds for each of 6 candidates, totalling 30 fits\n"
     ]
    },
    {
     "name": "stderr",
     "output_type": "stream",
     "text": [
      "[Parallel(n_jobs=-1)]: Done  30 out of  30 | elapsed:    1.6s finished\n"
     ]
    },
    {
     "data": {
      "text/plain": [
       "GridSearchCV(cv=5, error_score='raise',\n",
       "       estimator=LogisticRegression(C=1.0, class_weight=None, dual=False, fit_intercept=True,\n",
       "          intercept_scaling=1, max_iter=100, multi_class='ovr', n_jobs=1,\n",
       "          penalty='l2', random_state=None, solver='liblinear', tol=0.0001,\n",
       "          verbose=0, warm_start=False),\n",
       "       fit_params=None, iid=True, n_jobs=-1,\n",
       "       param_grid={'C': [0.03, 0.1, 0.3, 1, 3, 10]},\n",
       "       pre_dispatch='2*n_jobs', refit=True, return_train_score=True,\n",
       "       scoring=None, verbose=1)"
      ]
     },
     "execution_count": 55,
     "metadata": {},
     "output_type": "execute_result"
    }
   ],
   "source": [
    "lr_grid.fit(lsi_vecs_rel_train, y_rel_train)"
   ]
  },
  {
   "cell_type": "code",
   "execution_count": 57,
   "metadata": {
    "scrolled": true
   },
   "outputs": [
    {
     "name": "stdout",
     "output_type": "stream",
     "text": [
      "             precision    recall  f1-score   support\n",
      "\n",
      "          0       0.83      0.71      0.77        76\n",
      "          1       0.84      0.91      0.87       124\n",
      "\n",
      "avg / total       0.83      0.83      0.83       200\n",
      "\n"
     ]
    }
   ],
   "source": [
    "lr_best = lr_grid.best_estimator_\n",
    "lr_preds = lr_best.predict(lsi_vecs_test)\n",
    "print(classification_report(y_rel_test, lr_preds))"
   ]
  },
  {
   "cell_type": "markdown",
   "metadata": {},
   "source": [
    "### GNB"
   ]
  },
  {
   "cell_type": "code",
   "execution_count": 58,
   "metadata": {
    "scrolled": true
   },
   "outputs": [
    {
     "data": {
      "text/plain": [
       "GaussianNB(priors=None)"
      ]
     },
     "execution_count": 58,
     "metadata": {},
     "output_type": "execute_result"
    }
   ],
   "source": [
    "gnb_clf.fit(lsi_vecs_rel_train, y_rel_train)"
   ]
  },
  {
   "cell_type": "code",
   "execution_count": 59,
   "metadata": {},
   "outputs": [
    {
     "name": "stdout",
     "output_type": "stream",
     "text": [
      "             precision    recall  f1-score   support\n",
      "\n",
      "          0       0.83      0.71      0.77        76\n",
      "          1       0.84      0.91      0.87       124\n",
      "\n",
      "avg / total       0.83      0.83      0.83       200\n",
      "\n"
     ]
    }
   ],
   "source": [
    "gnb_best = gnb_clf\n",
    "gnb_preds = gnb_best.predict(lsi_vecs_test)\n",
    "print(classification_report(y_rel_test, lr_preds))"
   ]
  },
  {
   "cell_type": "markdown",
   "metadata": {},
   "source": [
    "### Random Forest"
   ]
  },
  {
   "cell_type": "code",
   "execution_count": 125,
   "metadata": {},
   "outputs": [],
   "source": [
    "rf_params = {'n_estimators': [1000],\n",
    "             'max_features': [18, 19, 20],\n",
    "             'max_depth': [100],\n",
    "             'min_samples_split': [4,5,6]}\n",
    "rf_grid = GridSearchCV(rf_clf, rf_params, cv=5, scoring=None, n_jobs=-1, verbose=1)"
   ]
  },
  {
   "cell_type": "code",
   "execution_count": 126,
   "metadata": {},
   "outputs": [
    {
     "name": "stdout",
     "output_type": "stream",
     "text": [
      "Fitting 5 folds for each of 9 candidates, totalling 45 fits\n"
     ]
    },
    {
     "name": "stderr",
     "output_type": "stream",
     "text": [
      "[Parallel(n_jobs=-1)]: Done  45 out of  45 | elapsed:  1.2min finished\n"
     ]
    },
    {
     "data": {
      "text/plain": [
       "GridSearchCV(cv=5, error_score='raise',\n",
       "       estimator=RandomForestClassifier(bootstrap=True, class_weight=None, criterion='gini',\n",
       "            max_depth=None, max_features='auto', max_leaf_nodes=None,\n",
       "            min_impurity_decrease=0.0, min_impurity_split=None,\n",
       "            min_samples_leaf=1, min_samples_split=2,\n",
       "            min_weight_fraction_leaf=0.0, n_estimators=10, n_jobs=-1,\n",
       "            oob_score=False, random_state=None, verbose=0,\n",
       "            warm_start=False),\n",
       "       fit_params=None, iid=True, n_jobs=-1,\n",
       "       param_grid={'max_features': [18, 19, 20], 'n_estimators': [1000], 'min_samples_split': [4, 5, 6], 'max_depth': [100]},\n",
       "       pre_dispatch='2*n_jobs', refit=True, return_train_score=True,\n",
       "       scoring=None, verbose=1)"
      ]
     },
     "execution_count": 126,
     "metadata": {},
     "output_type": "execute_result"
    }
   ],
   "source": [
    "rf_grid.fit(lsi_vecs_train, y_train)"
   ]
  },
  {
   "cell_type": "code",
   "execution_count": 127,
   "metadata": {},
   "outputs": [
    {
     "data": {
      "text/plain": [
       "RandomForestClassifier(bootstrap=True, class_weight=None, criterion='gini',\n",
       "            max_depth=100, max_features=19, max_leaf_nodes=None,\n",
       "            min_impurity_decrease=0.0, min_impurity_split=None,\n",
       "            min_samples_leaf=1, min_samples_split=5,\n",
       "            min_weight_fraction_leaf=0.0, n_estimators=1000, n_jobs=-1,\n",
       "            oob_score=False, random_state=None, verbose=0,\n",
       "            warm_start=False)"
      ]
     },
     "execution_count": 127,
     "metadata": {},
     "output_type": "execute_result"
    }
   ],
   "source": [
    "rf_best = rf_grid.best_estimator_\n",
    "rf_best"
   ]
  },
  {
   "cell_type": "code",
   "execution_count": 128,
   "metadata": {},
   "outputs": [
    {
     "name": "stdout",
     "output_type": "stream",
     "text": [
      "             precision    recall  f1-score   support\n",
      "\n",
      "          0       0.50      0.02      0.05        82\n",
      "          1       0.59      0.98      0.74       118\n",
      "\n",
      "avg / total       0.55      0.59      0.45       200\n",
      "\n"
     ]
    }
   ],
   "source": [
    "rf_preds = rf_best.predict(lsi_vecs_test)\n",
    "print(classification_report(y_test, rf_preds))"
   ]
  },
  {
   "cell_type": "markdown",
   "metadata": {},
   "source": [
    "### KNN"
   ]
  },
  {
   "cell_type": "code",
   "execution_count": 175,
   "metadata": {},
   "outputs": [],
   "source": [
    "knn_params = {'n_neighbors': [2,3,4,5,6,7],\n",
    "             'leaf_size': [10,20,30,40]}\n",
    "knn_grid = GridSearchCV(knn_clf, knn_params, cv=5, scoring=None, n_jobs=-1, verbose=1)"
   ]
  },
  {
   "cell_type": "code",
   "execution_count": 176,
   "metadata": {
    "scrolled": true
   },
   "outputs": [
    {
     "name": "stdout",
     "output_type": "stream",
     "text": [
      "Fitting 5 folds for each of 24 candidates, totalling 120 fits\n"
     ]
    },
    {
     "name": "stderr",
     "output_type": "stream",
     "text": [
      "[Parallel(n_jobs=-1)]: Done  34 tasks      | elapsed:    5.1s\n",
      "[Parallel(n_jobs=-1)]: Done 120 out of 120 | elapsed:   13.4s finished\n"
     ]
    },
    {
     "data": {
      "text/plain": [
       "GridSearchCV(cv=5, error_score='raise',\n",
       "       estimator=KNeighborsClassifier(algorithm='auto', leaf_size=30, metric='minkowski',\n",
       "           metric_params=None, n_jobs=-1, n_neighbors=5, p=2,\n",
       "           weights='uniform'),\n",
       "       fit_params=None, iid=True, n_jobs=-1,\n",
       "       param_grid={'leaf_size': [10, 20, 30, 40], 'n_neighbors': [2, 3, 4, 5, 6, 7]},\n",
       "       pre_dispatch='2*n_jobs', refit=True, return_train_score=True,\n",
       "       scoring=None, verbose=1)"
      ]
     },
     "execution_count": 176,
     "metadata": {},
     "output_type": "execute_result"
    }
   ],
   "source": [
    "knn_grid.fit(lsi_vecs_train, y_train)"
   ]
  },
  {
   "cell_type": "code",
   "execution_count": 177,
   "metadata": {},
   "outputs": [
    {
     "data": {
      "text/plain": [
       "KNeighborsClassifier(algorithm='auto', leaf_size=10, metric='minkowski',\n",
       "           metric_params=None, n_jobs=-1, n_neighbors=7, p=2,\n",
       "           weights='uniform')"
      ]
     },
     "execution_count": 177,
     "metadata": {},
     "output_type": "execute_result"
    }
   ],
   "source": [
    "knn_best = knn_grid.best_estimator_\n",
    "knn_best"
   ]
  },
  {
   "cell_type": "code",
   "execution_count": 178,
   "metadata": {},
   "outputs": [
    {
     "name": "stdout",
     "output_type": "stream",
     "text": [
      "             precision    recall  f1-score   support\n",
      "\n",
      "          0       0.62      0.30      0.41        82\n",
      "          1       0.64      0.87      0.74       118\n",
      "\n",
      "avg / total       0.64      0.64      0.61       200\n",
      "\n"
     ]
    }
   ],
   "source": [
    "knn_preds = knn_best.predict(lsi_vecs_test)\n",
    "print(classification_report(y_test, knn_preds))"
   ]
  },
  {
   "cell_type": "markdown",
   "metadata": {},
   "source": [
    "### Ensemble"
   ]
  },
  {
   "cell_type": "code",
   "execution_count": 60,
   "metadata": {},
   "outputs": [
    {
     "ename": "NameError",
     "evalue": "name 'StackingClassifier' is not defined",
     "output_type": "error",
     "traceback": [
      "\u001b[0;31m---------------------------------------------------------------------------\u001b[0m",
      "\u001b[0;31mNameError\u001b[0m                                 Traceback (most recent call last)",
      "\u001b[0;32m<ipython-input-60-0b362d7c5e6d>\u001b[0m in \u001b[0;36m<module>\u001b[0;34m()\u001b[0m\n\u001b[1;32m      1\u001b[0m \u001b[0mclfs\u001b[0m \u001b[0;34m=\u001b[0m \u001b[0;34m[\u001b[0m\u001b[0msvm_best\u001b[0m\u001b[0;34m,\u001b[0m \u001b[0mgnb_best\u001b[0m\u001b[0;34m,\u001b[0m \u001b[0mlr_best\u001b[0m\u001b[0;34m]\u001b[0m\u001b[0;34m\u001b[0m\u001b[0m\n\u001b[0;32m----> 2\u001b[0;31m sclf = StackingClassifier(classifiers=clfs,\n\u001b[0m\u001b[1;32m      3\u001b[0m                           meta_classifier=GaussianNB())\n",
      "\u001b[0;31mNameError\u001b[0m: name 'StackingClassifier' is not defined"
     ]
    }
   ],
   "source": [
    "clfs = [svm_best, gnb_best, lr_best]\n",
    "sclf = StackingClassifier(classifiers=clfs,\n",
    "                          meta_classifier=GaussianNB())"
   ]
  },
  {
   "cell_type": "code",
   "execution_count": 246,
   "metadata": {},
   "outputs": [
    {
     "data": {
      "text/plain": [
       "StackingClassifier(average_probas=False,\n",
       "          classifiers=[LinearSVC(C=0.3, class_weight=None, dual=True, fit_intercept=True,\n",
       "     intercept_scaling=1, loss='squared_hinge', max_iter=1000,\n",
       "     multi_class='ovr', penalty='l2', random_state=None, tol=0.0001,\n",
       "     verbose=0), GaussianNB(priors=None), LogisticRegression(C=3, class_weight=None, dua...owski',\n",
       "           metric_params=None, n_jobs=-1, n_neighbors=7, p=2,\n",
       "           weights='uniform')],\n",
       "          meta_classifier=GaussianNB(priors=None),\n",
       "          use_features_in_secondary=False, use_probas=False, verbose=0)"
      ]
     },
     "execution_count": 246,
     "metadata": {},
     "output_type": "execute_result"
    }
   ],
   "source": [
    "sclf.fit(lsi_vecs_train, y_train)\n",
    "# joblib.load(sclf, 'stacked_classifier_10022017.pkl')"
   ]
  },
  {
   "cell_type": "code",
   "execution_count": 247,
   "metadata": {},
   "outputs": [
    {
     "name": "stdout",
     "output_type": "stream",
     "text": [
      "             precision    recall  f1-score   support\n",
      "\n",
      "          0       0.88      0.63      0.74        82\n",
      "          1       0.79      0.94      0.86       118\n",
      "\n",
      "avg / total       0.83      0.81      0.81       200\n",
      "\n"
     ]
    }
   ],
   "source": [
    "preds = sclf.predict(lsi_vecs_test)\n",
    "print(classification_report(y_test, preds))"
   ]
  },
  {
   "cell_type": "code",
   "execution_count": 248,
   "metadata": {},
   "outputs": [
    {
     "data": {
      "text/plain": [
       "['stacked_classifier_10022017.pkl']"
      ]
     },
     "execution_count": 248,
     "metadata": {},
     "output_type": "execute_result"
    }
   ],
   "source": [
    "# joblib.dump(sclf, 'stacked_classifier_10022017.pkl')"
   ]
  },
  {
   "cell_type": "markdown",
   "metadata": {},
   "source": [
    "### Single Pipeline"
   ]
  },
  {
   "cell_type": "code",
   "execution_count": 386,
   "metadata": {},
   "outputs": [],
   "source": [
    "stacked_pipe = Pipeline([\n",
    "    ('cleaner', CleaningProcessor()),\n",
    "    ('lsi', lsi_pipe),\n",
    "    ('stacked', sclf)\n",
    "])"
   ]
  },
  {
   "cell_type": "code",
   "execution_count": 387,
   "metadata": {},
   "outputs": [
    {
     "data": {
      "text/plain": [
       "Pipeline(memory=None,\n",
       "     steps=[('cleaner', CleaningProcessor()), ('lsi', Pipeline(memory=None,\n",
       "     steps=[('union', FeatureUnion(n_jobs=1,\n",
       "       transformer_list=[('phrase', Pipeline(memory=None,\n",
       "     steps=[('processor', PhraseProcessor(stop_words=['a', 'able', 'about', 'above', 'abst', 'accordance', 'according', 'accor...bose=0, warm_start=False),\n",
       "          use_features_in_secondary=False, use_probas=False, verbose=0))])"
      ]
     },
     "execution_count": 387,
     "metadata": {},
     "output_type": "execute_result"
    }
   ],
   "source": [
    "stacked_pipe.fit(df_rel_modeling['text'], df_rel_modeling['is_displacement_label'])"
   ]
  },
  {
   "cell_type": "code",
   "execution_count": 388,
   "metadata": {},
   "outputs": [
    {
     "data": {
      "text/plain": [
       "['relevance_classifier_10032017.pkl']"
      ]
     },
     "execution_count": 388,
     "metadata": {},
     "output_type": "execute_result"
    }
   ],
   "source": [
    "joblib.dump(stacked_pipe, 'relevance_classifier_10032017.pkl')"
   ]
  },
  {
   "cell_type": "markdown",
   "metadata": {
    "collapsed": true
   },
   "source": [
    "## Category"
   ]
  },
  {
   "cell_type": "code",
   "execution_count": 255,
   "metadata": {},
   "outputs": [],
   "source": [
    "df_cat = pd.read_csv('../../data/category_training_data_en_09102017.csv')"
   ]
  },
  {
   "cell_type": "code",
   "execution_count": 390,
   "metadata": {},
   "outputs": [],
   "source": [
    "df_cat_modeling = df_cat.sample(frac=1)"
   ]
  },
  {
   "cell_type": "code",
   "execution_count": 407,
   "metadata": {},
   "outputs": [],
   "source": [
    "cleaner = CleaningProcessor()\n",
    "df_cat_modeling['text'] = cleaner.fit_transform(df_cat_modeling['text'])"
   ]
  },
  {
   "cell_type": "code",
   "execution_count": 392,
   "metadata": {},
   "outputs": [],
   "source": [
    "le = LabelEncoder()\n",
    "df_cat_modeling['category_label'] = le.fit_transform(df_cat_modeling['category'])"
   ]
  },
  {
   "cell_type": "code",
   "execution_count": 405,
   "metadata": {},
   "outputs": [],
   "source": [
    "X_cat_train, X_cat_test, y_cat_train, y_cat_test = train_test_split(df_cat_modeling['text'], \n",
    "                                                    df_cat_modeling['category_label'],\n",
    "                                                    test_size=0.2, random_state=42)"
   ]
  },
  {
   "cell_type": "code",
   "execution_count": 261,
   "metadata": {},
   "outputs": [],
   "source": [
    "pos_processor = POSProcessor(stop_words)\n",
    "phrase_processor = PhraseProcessor(stop_words)\n",
    "pos_processor, phrase_processor = (pos_processor.fit(X_train), phrase_processor.fit(X_train))\n",
    "X_train_pos, X_train_phrase = (pos_processor.transform(X_train), phrase_processor.transform(X_train))"
   ]
  },
  {
   "cell_type": "code",
   "execution_count": 262,
   "metadata": {},
   "outputs": [],
   "source": [
    "X_test_pos, X_test_phrase = (pos_processor.transform(X_test), phrase_processor.transform(X_test))"
   ]
  },
  {
   "cell_type": "code",
   "execution_count": 408,
   "metadata": {},
   "outputs": [],
   "source": [
    "lsi_pipe = Pipeline([\n",
    "    ('union', FeatureUnion(transformer_list=[\n",
    "        ('phrase', Pipeline([\n",
    "            ('processor', PhraseProcessor(stop_words)),\n",
    "            ('tfidf', TfidfVectorizer(max_features=20000)),\n",
    "            ('lda', CustomSklLsiModel(num_topics=300))\n",
    "        ])),\n",
    "        ('pos', Pipeline([\n",
    "            ('processor', POSProcessor()),\n",
    "            ('tfidf', TfidfVectorizer(max_features=20000)),\n",
    "            ('lda', CustomSklLsiModel(num_topics=300))\n",
    "        ]))\n",
    "    ]))\n",
    "])"
   ]
  },
  {
   "cell_type": "code",
   "execution_count": 409,
   "metadata": {},
   "outputs": [],
   "source": [
    "# lsi_pipe = joblib.load(lsi_pipe, 'lsi_union_10022017.pkl')"
   ]
  },
  {
   "cell_type": "code",
   "execution_count": 410,
   "metadata": {
    "scrolled": true
   },
   "outputs": [],
   "source": [
    "lsi_vecs_train = lsi_pipe.fit_transform(X_cat_train)\n",
    "lsi_vecs_test = lsi_pipe.transform(X_cat_test)"
   ]
  },
  {
   "cell_type": "code",
   "execution_count": 411,
   "metadata": {},
   "outputs": [],
   "source": [
    "n_jobs = -1\n",
    "\n",
    "rf_cat_clf = RandomForestClassifier(n_jobs=n_jobs)\n",
    "\n",
    "knn_cat_clf = KNeighborsClassifier(n_jobs=n_jobs)\n",
    "\n",
    "svm_cat_clf = LinearSVC(multi_class='ovr')\n",
    "\n",
    "gnb_cat_clf = GaussianNB()\n",
    "\n",
    "lr_cat_clf = LogisticRegression(multi_class='ovr')"
   ]
  },
  {
   "cell_type": "markdown",
   "metadata": {},
   "source": [
    "### SVM Linear"
   ]
  },
  {
   "cell_type": "code",
   "execution_count": 416,
   "metadata": {},
   "outputs": [],
   "source": [
    "svm_cat_params = {'C': [0.1, 0.9, 1, 1.1, 1.2]}\n",
    "svm_cat_grid = GridSearchCV(svm_cat_clf, svm_cat_params, cv=5, scoring=None, n_jobs=-1, verbose=1)"
   ]
  },
  {
   "cell_type": "code",
   "execution_count": 417,
   "metadata": {
    "scrolled": true
   },
   "outputs": [
    {
     "name": "stdout",
     "output_type": "stream",
     "text": [
      "Fitting 5 folds for each of 5 candidates, totalling 25 fits\n"
     ]
    },
    {
     "name": "stderr",
     "output_type": "stream",
     "text": [
      "[Parallel(n_jobs=-1)]: Done  25 out of  25 | elapsed:    2.6s finished\n"
     ]
    },
    {
     "data": {
      "text/plain": [
       "GridSearchCV(cv=5, error_score='raise',\n",
       "       estimator=LinearSVC(C=1.0, class_weight=None, dual=True, fit_intercept=True,\n",
       "     intercept_scaling=1, loss='squared_hinge', max_iter=1000,\n",
       "     multi_class='ovr', penalty='l2', random_state=None, tol=0.0001,\n",
       "     verbose=0),\n",
       "       fit_params=None, iid=True, n_jobs=-1,\n",
       "       param_grid={'C': [0.1, 0.9, 1, 1.1, 1.2]}, pre_dispatch='2*n_jobs',\n",
       "       refit=True, return_train_score=True, scoring=None, verbose=1)"
      ]
     },
     "execution_count": 417,
     "metadata": {},
     "output_type": "execute_result"
    }
   ],
   "source": [
    "svm_cat_grid.fit(lsi_vecs_train, y_train)"
   ]
  },
  {
   "cell_type": "code",
   "execution_count": 418,
   "metadata": {},
   "outputs": [
    {
     "data": {
      "text/plain": [
       "LinearSVC(C=0.1, class_weight=None, dual=True, fit_intercept=True,\n",
       "     intercept_scaling=1, loss='squared_hinge', max_iter=1000,\n",
       "     multi_class='ovr', penalty='l2', random_state=None, tol=0.0001,\n",
       "     verbose=0)"
      ]
     },
     "execution_count": 418,
     "metadata": {},
     "output_type": "execute_result"
    }
   ],
   "source": [
    "svm_cat_best = svm_cat_grid.best_estimator_\n",
    "svm_cat_best"
   ]
  },
  {
   "cell_type": "code",
   "execution_count": 419,
   "metadata": {},
   "outputs": [
    {
     "name": "stdout",
     "output_type": "stream",
     "text": [
      "             precision    recall  f1-score   support\n",
      "\n",
      "          0       0.00      0.00      0.00        71\n",
      "          1       0.72      1.00      0.84       218\n",
      "          2       0.00      0.00      0.00        12\n",
      "\n",
      "avg / total       0.52      0.72      0.61       301\n",
      "\n"
     ]
    },
    {
     "name": "stderr",
     "output_type": "stream",
     "text": [
      "/home/ubuntu/miniconda3/envs/python3.5/lib/python3.5/site-packages/sklearn/metrics/classification.py:1135: UndefinedMetricWarning: Precision and F-score are ill-defined and being set to 0.0 in labels with no predicted samples.\n",
      "  'precision', 'predicted', average, warn_for)\n"
     ]
    }
   ],
   "source": [
    "svm_cat_preds = svm_cat_best.predict(lsi_vecs_test)\n",
    "print(classification_report(y_test, svm_cat_preds))"
   ]
  },
  {
   "cell_type": "markdown",
   "metadata": {},
   "source": [
    "### Logistic Regression"
   ]
  },
  {
   "cell_type": "code",
   "execution_count": 420,
   "metadata": {},
   "outputs": [],
   "source": [
    "lr_cat_params = {'C': [8, 9, 10, 11, 12, 100]}\n",
    "lr_cat_grid = GridSearchCV(lr_cat_clf, lr_cat_params, cv=5, scoring=None, n_jobs=-1, verbose=1)"
   ]
  },
  {
   "cell_type": "code",
   "execution_count": 421,
   "metadata": {
    "scrolled": true
   },
   "outputs": [
    {
     "name": "stdout",
     "output_type": "stream",
     "text": [
      "Fitting 5 folds for each of 6 candidates, totalling 30 fits\n"
     ]
    },
    {
     "name": "stderr",
     "output_type": "stream",
     "text": [
      "[Parallel(n_jobs=-1)]: Done  30 out of  30 | elapsed:    4.3s finished\n"
     ]
    },
    {
     "data": {
      "text/plain": [
       "GridSearchCV(cv=5, error_score='raise',\n",
       "       estimator=LogisticRegression(C=1.0, class_weight=None, dual=False, fit_intercept=True,\n",
       "          intercept_scaling=1, max_iter=100, multi_class='ovr', n_jobs=1,\n",
       "          penalty='l2', random_state=None, solver='liblinear', tol=0.0001,\n",
       "          verbose=0, warm_start=False),\n",
       "       fit_params=None, iid=True, n_jobs=-1,\n",
       "       param_grid={'C': [8, 9, 10, 11, 12, 100]}, pre_dispatch='2*n_jobs',\n",
       "       refit=True, return_train_score=True, scoring=None, verbose=1)"
      ]
     },
     "execution_count": 421,
     "metadata": {},
     "output_type": "execute_result"
    }
   ],
   "source": [
    "lr_cat_grid.fit(lsi_vecs_train, y_train)"
   ]
  },
  {
   "cell_type": "code",
   "execution_count": 422,
   "metadata": {},
   "outputs": [
    {
     "data": {
      "text/plain": [
       "LogisticRegression(C=8, class_weight=None, dual=False, fit_intercept=True,\n",
       "          intercept_scaling=1, max_iter=100, multi_class='ovr', n_jobs=1,\n",
       "          penalty='l2', random_state=None, solver='liblinear', tol=0.0001,\n",
       "          verbose=0, warm_start=False)"
      ]
     },
     "execution_count": 422,
     "metadata": {},
     "output_type": "execute_result"
    }
   ],
   "source": [
    "lr_cat_best = lr_cat_grid.best_estimator_\n",
    "lr_cat_best"
   ]
  },
  {
   "cell_type": "code",
   "execution_count": 423,
   "metadata": {
    "scrolled": true
   },
   "outputs": [
    {
     "name": "stdout",
     "output_type": "stream",
     "text": [
      "             precision    recall  f1-score   support\n",
      "\n",
      "          0       0.10      0.01      0.02        71\n",
      "          1       0.72      0.96      0.82       218\n",
      "          2       0.00      0.00      0.00        12\n",
      "\n",
      "avg / total       0.54      0.70      0.60       301\n",
      "\n"
     ]
    },
    {
     "name": "stderr",
     "output_type": "stream",
     "text": [
      "/home/ubuntu/miniconda3/envs/python3.5/lib/python3.5/site-packages/sklearn/metrics/classification.py:1135: UndefinedMetricWarning: Precision and F-score are ill-defined and being set to 0.0 in labels with no predicted samples.\n",
      "  'precision', 'predicted', average, warn_for)\n"
     ]
    }
   ],
   "source": [
    "lr_cat_preds = lr_cat_best.predict(lsi_vecs_test)\n",
    "print(classification_report(y_test, lr_cat_preds))"
   ]
  },
  {
   "cell_type": "markdown",
   "metadata": {},
   "source": [
    "### GNB"
   ]
  },
  {
   "cell_type": "code",
   "execution_count": 313,
   "metadata": {
    "scrolled": true
   },
   "outputs": [
    {
     "data": {
      "text/plain": [
       "GaussianNB(priors=None)"
      ]
     },
     "execution_count": 313,
     "metadata": {},
     "output_type": "execute_result"
    }
   ],
   "source": [
    "gnb_cat_clf.fit(lsi_vecs_train, y_train)"
   ]
  },
  {
   "cell_type": "code",
   "execution_count": 314,
   "metadata": {},
   "outputs": [
    {
     "name": "stdout",
     "output_type": "stream",
     "text": [
      "             precision    recall  f1-score   support\n",
      "\n",
      "          0       0.71      0.66      0.69        71\n",
      "          1       0.92      0.87      0.89       218\n",
      "          2       0.29      0.67      0.40        12\n",
      "\n",
      "avg / total       0.84      0.81      0.83       301\n",
      "\n"
     ]
    }
   ],
   "source": [
    "gnb_cat_best = gnb_cat_clf\n",
    "gnb_cat_preds = gnb_cat_best.predict(lsi_vecs_test)\n",
    "print(classification_report(y_test, gnb_cat_preds))"
   ]
  },
  {
   "cell_type": "markdown",
   "metadata": {},
   "source": [
    "### Ensemble"
   ]
  },
  {
   "cell_type": "code",
   "execution_count": 367,
   "metadata": {},
   "outputs": [],
   "source": [
    "clfs = [svm_cat_best, gnb_cat_best, lr_cat_best]\n",
    "sclf_cat = StackingClassifier(classifiers=clfs,\n",
    "                          meta_classifier=LinearSVC(multi_class='ovr', C=10))"
   ]
  },
  {
   "cell_type": "code",
   "execution_count": 368,
   "metadata": {},
   "outputs": [
    {
     "data": {
      "text/plain": [
       "StackingClassifier(average_probas=False,\n",
       "          classifiers=[LinearSVC(C=0.8, class_weight=None, dual=True, fit_intercept=True,\n",
       "     intercept_scaling=1, loss='squared_hinge', max_iter=1000,\n",
       "     multi_class='ovr', penalty='l2', random_state=None, tol=0.0001,\n",
       "     verbose=0), GaussianNB(priors=None), LogisticRegression(C=9, class_weight=None, dua...lty='l2', random_state=None, solver='liblinear', tol=0.0001,\n",
       "          verbose=0, warm_start=False)],\n",
       "          meta_classifier=LinearSVC(C=10, class_weight=None, dual=True, fit_intercept=True,\n",
       "     intercept_scaling=1, loss='squared_hinge', max_iter=1000,\n",
       "     multi_class='ovr', penalty='l2', random_state=None, tol=0.0001,\n",
       "     verbose=0),\n",
       "          use_features_in_secondary=False, use_probas=False, verbose=0)"
      ]
     },
     "execution_count": 368,
     "metadata": {},
     "output_type": "execute_result"
    }
   ],
   "source": [
    "sclf_cat.fit(lsi_vecs_train, y_train)"
   ]
  },
  {
   "cell_type": "code",
   "execution_count": 369,
   "metadata": {},
   "outputs": [],
   "source": [
    "sclf_cat_preds = sclf_cat.predict(lsi_vecs_test)"
   ]
  },
  {
   "cell_type": "code",
   "execution_count": 370,
   "metadata": {},
   "outputs": [
    {
     "name": "stdout",
     "output_type": "stream",
     "text": [
      "             precision    recall  f1-score   support\n",
      "\n",
      "          0       0.85      0.82      0.83        71\n",
      "          1       0.92      0.99      0.95       218\n",
      "          2       0.00      0.00      0.00        12\n",
      "\n",
      "avg / total       0.87      0.91      0.89       301\n",
      "\n"
     ]
    },
    {
     "name": "stderr",
     "output_type": "stream",
     "text": [
      "/home/ubuntu/miniconda3/envs/python3.5/lib/python3.5/site-packages/sklearn/metrics/classification.py:1135: UndefinedMetricWarning: Precision and F-score are ill-defined and being set to 0.0 in labels with no predicted samples.\n",
      "  'precision', 'predicted', average, warn_for)\n"
     ]
    }
   ],
   "source": [
    "print(classification_report(y_test, sclf_cat_preds))"
   ]
  },
  {
   "cell_type": "code",
   "execution_count": 350,
   "metadata": {},
   "outputs": [],
   "source": [
    "sclf_cat_grid = GridSearchCV(sclf_cat, sclf_cat_params, cv=5, scoring=None, verbose=1)"
   ]
  },
  {
   "cell_type": "code",
   "execution_count": 246,
   "metadata": {},
   "outputs": [
    {
     "data": {
      "text/plain": [
       "StackingClassifier(average_probas=False,\n",
       "          classifiers=[LinearSVC(C=0.3, class_weight=None, dual=True, fit_intercept=True,\n",
       "     intercept_scaling=1, loss='squared_hinge', max_iter=1000,\n",
       "     multi_class='ovr', penalty='l2', random_state=None, tol=0.0001,\n",
       "     verbose=0), GaussianNB(priors=None), LogisticRegression(C=3, class_weight=None, dua...owski',\n",
       "           metric_params=None, n_jobs=-1, n_neighbors=7, p=2,\n",
       "           weights='uniform')],\n",
       "          meta_classifier=GaussianNB(priors=None),\n",
       "          use_features_in_secondary=False, use_probas=False, verbose=0)"
      ]
     },
     "execution_count": 246,
     "metadata": {},
     "output_type": "execute_result"
    }
   ],
   "source": [
    "sclf.fit(lsi_vecs_train, y_train)\n",
    "# joblib.load(sclf, 'stacked_classifier_10022017.pkl')"
   ]
  },
  {
   "cell_type": "code",
   "execution_count": 403,
   "metadata": {},
   "outputs": [],
   "source": [
    "cat_pipeline = Pipeline([\n",
    "    ('cleaner', CleaningProcessor()),\n",
    "    ('lsi', lsi_pipe),\n",
    "    ('svm', svm_cat_best)\n",
    "])"
   ]
  },
  {
   "cell_type": "code",
   "execution_count": 404,
   "metadata": {},
   "outputs": [
    {
     "ename": "ValueError",
     "evalue": "bad input shape ()",
     "output_type": "error",
     "traceback": [
      "\u001b[0;31m---------------------------------------------------------------------------\u001b[0m",
      "\u001b[0;31mValueError\u001b[0m                                Traceback (most recent call last)",
      "\u001b[0;32m<ipython-input-404-bc1c8c889aad>\u001b[0m in \u001b[0;36m<module>\u001b[0;34m()\u001b[0m\n\u001b[0;32m----> 1\u001b[0;31m \u001b[0mcat_pipeline\u001b[0m\u001b[0;34m.\u001b[0m\u001b[0mfit\u001b[0m\u001b[0;34m(\u001b[0m\u001b[0mdf_cat_modeling\u001b[0m\u001b[0;34m[\u001b[0m\u001b[0;34m'text'\u001b[0m\u001b[0;34m]\u001b[0m\u001b[0;34m)\u001b[0m\u001b[0;34m\u001b[0m\u001b[0m\n\u001b[0m",
      "\u001b[0;32m~/miniconda3/envs/python3.5/lib/python3.5/site-packages/sklearn/pipeline.py\u001b[0m in \u001b[0;36mfit\u001b[0;34m(self, X, y, **fit_params)\u001b[0m\n\u001b[1;32m    257\u001b[0m         \u001b[0mXt\u001b[0m\u001b[0;34m,\u001b[0m \u001b[0mfit_params\u001b[0m \u001b[0;34m=\u001b[0m \u001b[0mself\u001b[0m\u001b[0;34m.\u001b[0m\u001b[0m_fit\u001b[0m\u001b[0;34m(\u001b[0m\u001b[0mX\u001b[0m\u001b[0;34m,\u001b[0m \u001b[0my\u001b[0m\u001b[0;34m,\u001b[0m \u001b[0;34m**\u001b[0m\u001b[0mfit_params\u001b[0m\u001b[0;34m)\u001b[0m\u001b[0;34m\u001b[0m\u001b[0m\n\u001b[1;32m    258\u001b[0m         \u001b[0;32mif\u001b[0m \u001b[0mself\u001b[0m\u001b[0;34m.\u001b[0m\u001b[0m_final_estimator\u001b[0m \u001b[0;32mis\u001b[0m \u001b[0;32mnot\u001b[0m \u001b[0;32mNone\u001b[0m\u001b[0;34m:\u001b[0m\u001b[0;34m\u001b[0m\u001b[0m\n\u001b[0;32m--> 259\u001b[0;31m             \u001b[0mself\u001b[0m\u001b[0;34m.\u001b[0m\u001b[0m_final_estimator\u001b[0m\u001b[0;34m.\u001b[0m\u001b[0mfit\u001b[0m\u001b[0;34m(\u001b[0m\u001b[0mXt\u001b[0m\u001b[0;34m,\u001b[0m \u001b[0my\u001b[0m\u001b[0;34m,\u001b[0m \u001b[0;34m**\u001b[0m\u001b[0mfit_params\u001b[0m\u001b[0;34m)\u001b[0m\u001b[0;34m\u001b[0m\u001b[0m\n\u001b[0m\u001b[1;32m    260\u001b[0m         \u001b[0;32mreturn\u001b[0m \u001b[0mself\u001b[0m\u001b[0;34m\u001b[0m\u001b[0m\n\u001b[1;32m    261\u001b[0m \u001b[0;34m\u001b[0m\u001b[0m\n",
      "\u001b[0;32m~/miniconda3/envs/python3.5/lib/python3.5/site-packages/sklearn/svm/classes.py\u001b[0m in \u001b[0;36mfit\u001b[0;34m(self, X, y, sample_weight)\u001b[0m\n\u001b[1;32m    225\u001b[0m \u001b[0;34m\u001b[0m\u001b[0m\n\u001b[1;32m    226\u001b[0m         X, y = check_X_y(X, y, accept_sparse='csr',\n\u001b[0;32m--> 227\u001b[0;31m                          dtype=np.float64, order=\"C\")\n\u001b[0m\u001b[1;32m    228\u001b[0m         \u001b[0mcheck_classification_targets\u001b[0m\u001b[0;34m(\u001b[0m\u001b[0my\u001b[0m\u001b[0;34m)\u001b[0m\u001b[0;34m\u001b[0m\u001b[0m\n\u001b[1;32m    229\u001b[0m         \u001b[0mself\u001b[0m\u001b[0;34m.\u001b[0m\u001b[0mclasses_\u001b[0m \u001b[0;34m=\u001b[0m \u001b[0mnp\u001b[0m\u001b[0;34m.\u001b[0m\u001b[0munique\u001b[0m\u001b[0;34m(\u001b[0m\u001b[0my\u001b[0m\u001b[0;34m)\u001b[0m\u001b[0;34m\u001b[0m\u001b[0m\n",
      "\u001b[0;32m~/miniconda3/envs/python3.5/lib/python3.5/site-packages/sklearn/utils/validation.py\u001b[0m in \u001b[0;36mcheck_X_y\u001b[0;34m(X, y, accept_sparse, dtype, order, copy, force_all_finite, ensure_2d, allow_nd, multi_output, ensure_min_samples, ensure_min_features, y_numeric, warn_on_dtype, estimator)\u001b[0m\n\u001b[1;32m    545\u001b[0m                         dtype=None)\n\u001b[1;32m    546\u001b[0m     \u001b[0;32melse\u001b[0m\u001b[0;34m:\u001b[0m\u001b[0;34m\u001b[0m\u001b[0m\n\u001b[0;32m--> 547\u001b[0;31m         \u001b[0my\u001b[0m \u001b[0;34m=\u001b[0m \u001b[0mcolumn_or_1d\u001b[0m\u001b[0;34m(\u001b[0m\u001b[0my\u001b[0m\u001b[0;34m,\u001b[0m \u001b[0mwarn\u001b[0m\u001b[0;34m=\u001b[0m\u001b[0;32mTrue\u001b[0m\u001b[0;34m)\u001b[0m\u001b[0;34m\u001b[0m\u001b[0m\n\u001b[0m\u001b[1;32m    548\u001b[0m         \u001b[0m_assert_all_finite\u001b[0m\u001b[0;34m(\u001b[0m\u001b[0my\u001b[0m\u001b[0;34m)\u001b[0m\u001b[0;34m\u001b[0m\u001b[0m\n\u001b[1;32m    549\u001b[0m     \u001b[0;32mif\u001b[0m \u001b[0my_numeric\u001b[0m \u001b[0;32mand\u001b[0m \u001b[0my\u001b[0m\u001b[0;34m.\u001b[0m\u001b[0mdtype\u001b[0m\u001b[0;34m.\u001b[0m\u001b[0mkind\u001b[0m \u001b[0;34m==\u001b[0m \u001b[0;34m'O'\u001b[0m\u001b[0;34m:\u001b[0m\u001b[0;34m\u001b[0m\u001b[0m\n",
      "\u001b[0;32m~/miniconda3/envs/python3.5/lib/python3.5/site-packages/sklearn/utils/validation.py\u001b[0m in \u001b[0;36mcolumn_or_1d\u001b[0;34m(y, warn)\u001b[0m\n\u001b[1;32m    581\u001b[0m         \u001b[0;32mreturn\u001b[0m \u001b[0mnp\u001b[0m\u001b[0;34m.\u001b[0m\u001b[0mravel\u001b[0m\u001b[0;34m(\u001b[0m\u001b[0my\u001b[0m\u001b[0;34m)\u001b[0m\u001b[0;34m\u001b[0m\u001b[0m\n\u001b[1;32m    582\u001b[0m \u001b[0;34m\u001b[0m\u001b[0m\n\u001b[0;32m--> 583\u001b[0;31m     \u001b[0;32mraise\u001b[0m \u001b[0mValueError\u001b[0m\u001b[0;34m(\u001b[0m\u001b[0;34m\"bad input shape {0}\"\u001b[0m\u001b[0;34m.\u001b[0m\u001b[0mformat\u001b[0m\u001b[0;34m(\u001b[0m\u001b[0mshape\u001b[0m\u001b[0;34m)\u001b[0m\u001b[0;34m)\u001b[0m\u001b[0;34m\u001b[0m\u001b[0m\n\u001b[0m\u001b[1;32m    584\u001b[0m \u001b[0;34m\u001b[0m\u001b[0m\n\u001b[1;32m    585\u001b[0m \u001b[0;34m\u001b[0m\u001b[0m\n",
      "\u001b[0;31mValueError\u001b[0m: bad input shape ()"
     ]
    }
   ],
   "source": [
    "cat_pipeline.fit(df_cat_modeling['text'])"
   ]
  },
  {
   "cell_type": "code",
   "execution_count": null,
   "metadata": {},
   "outputs": [],
   "source": [
    "joblib.dump(cat_pipeline, 'category_classifier_10032017.pkl')"
   ]
  },
  {
   "cell_type": "code",
   "execution_count": null,
   "metadata": {},
   "outputs": [],
   "source": []
  }
 ],
 "metadata": {
  "kernelspec": {
   "display_name": "Python 3",
   "language": "python",
   "name": "python3"
  },
  "language_info": {
   "codemirror_mode": {
    "name": "ipython",
    "version": 3
   },
   "file_extension": ".py",
   "mimetype": "text/x-python",
   "name": "python",
   "nbconvert_exporter": "python",
   "pygments_lexer": "ipython3",
   "version": "3.5.2"
  }
 },
 "nbformat": 4,
 "nbformat_minor": 2
}
