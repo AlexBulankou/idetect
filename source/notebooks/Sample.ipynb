{
 "cells": [
  {
   "cell_type": "code",
   "execution_count": null,
   "metadata": {},
   "outputs": [],
   "source": [
    "from sqlalchemy import create_engine, desc\n",
    "from idetect.model import db_url, Base, Article, Session, Status\n",
    "\n",
    "# connect to the DB specified in the docker.env file\n",
    "engine = create_engine(db_url())\n",
    "Session.configure(bind=engine)\n",
    "\n",
    "# create the DB schema, if it doesn't already exist\n",
    "Base.metadata.create_all(engine)"
   ]
  },
  {
   "cell_type": "code",
   "execution_count": null,
   "metadata": {},
   "outputs": [],
   "source": [
    "session = Session()"
   ]
  },
  {
   "cell_type": "code",
   "execution_count": null,
   "metadata": {},
   "outputs": [],
   "source": [
    "a = session.query(Article).first()"
   ]
  },
  {
   "cell_type": "code",
   "execution_count": null,
   "metadata": {},
   "outputs": [],
   "source": [
    "with open('/home/idetect/data/input_urls.csv') as f:\n",
    "    for l in f.readlines():\n",
    "        print(l)"
   ]
  },
  {
   "cell_type": "code",
   "execution_count": null,
   "metadata": {},
   "outputs": [],
   "source": [
    "# add an article to the database\n",
    "article1 = Article(url=\"http://www.internal-displacement.org/\", url_id=1, status=Status.NEW)\n",
    "session.add(article1)\n",
    "session.commit()\n",
    "\n",
    "article2 = Article(url=\"http://datafordemocracy.org/\", url_id=2, status=Status.NEW)\n",
    "session.add(article2)\n",
    "session.commit()"
   ]
  },
  {
   "cell_type": "code",
   "execution_count": null,
   "metadata": {},
   "outputs": [],
   "source": [
    "# what is the current state of the Article with url_id 1?\n",
    "Article.get_latest_version(session, url_id=1).status"
   ]
  },
  {
   "cell_type": "code",
   "execution_count": null,
   "metadata": {},
   "outputs": [],
   "source": [
    "# what is the current state of the second article we added above?\n",
    "article2.get_updated_version().status"
   ]
  },
  {
   "cell_type": "code",
   "execution_count": null,
   "metadata": {},
   "outputs": [],
   "source": [
    "# what is the latest version of each article that exists?\n",
    "[(str(a), a.status)\n",
    " for a in Article.select_latest_version(session)\\\n",
    " .order_by(Article.url)\\\n",
    " .all()]"
   ]
  },
  {
   "cell_type": "code",
   "execution_count": null,
   "metadata": {},
   "outputs": [],
   "source": [
    "# all versions of all articles\n",
    "[(a.id, a.url_id, a.status, str(a.updated)) \n",
    " for a in session.query(Article)\\\n",
    " .order_by(desc(Article.updated))\\\n",
    " .all()]"
   ]
  },
  {
   "cell_type": "code",
   "execution_count": null,
   "metadata": {},
   "outputs": [],
   "source": [
    "# what articles are currently in the processed state\n",
    "[(str(a), a.status, str(a.updated))\n",
    " for a in Article.select_latest_version(session)\\\n",
    " .filter(Article.status == Status.PROCESSED)\\\n",
    " .order_by(Article.url)\\\n",
    " .all()]"
   ]
  },
  {
   "cell_type": "code",
   "execution_count": null,
   "metadata": {},
   "outputs": [],
   "source": [
    "from idetect.worker import Worker\n",
    "from idetect.scraper import scrape"
   ]
  },
  {
   "cell_type": "code",
   "execution_count": null,
   "metadata": {},
   "outputs": [],
   "source": [
    "# set up a worker that looks for NEW articles and runs a trivial function\n",
    "worker = Worker(Status.NEW, Status.SCRAPING, Status.SCRAPED, Status.SCRAPING_FAILED,\n",
    "                scrape, engine)"
   ]
  },
  {
   "cell_type": "code",
   "execution_count": null,
   "metadata": {},
   "outputs": [],
   "source": [
    "# run that worker a single time\n",
    "worker.work()\n",
    "\n",
    "# note that if the workers container is running, there are some workers in there that will compete with this,\n",
    "# so use `docker compose up notebooks localdb` instead of just `docker compose up`"
   ]
  },
  {
   "cell_type": "code",
   "execution_count": null,
   "metadata": {},
   "outputs": [],
   "source": [
    ""
   ]
  }
 ],
 "metadata": {
  "language_info": {
   "name": "python",
   "pygments_lexer": "ipython3"
  }
 },
 "nbformat": 4,
 "nbformat_minor": 0
}
