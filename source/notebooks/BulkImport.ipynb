{
 "cells": [
  {
   "cell_type": "code",
   "execution_count": null,
   "metadata": {},
   "outputs": [],
   "source": [
    "from sqlalchemy import create_engine, desc\n",
    "from idetect.model import db_url, Base, Article, Session, Status\n",
    "\n",
    "# connect to the DB specified in the docker.env file\n",
    "engine = create_engine(db_url())\n",
    "Session.configure(bind=engine)\n",
    "\n",
    "# create the DB schema, if it doesn't already exist\n",
    "Base.metadata.create_all(engine)"
   ]
  },
  {
   "cell_type": "code",
   "execution_count": null,
   "metadata": {},
   "outputs": [],
   "source": [
    "session = Session()"
   ]
  },
  {
   "cell_type": "code",
   "execution_count": null,
   "metadata": {},
   "outputs": [],
   "source": [
    "from os.path import isfile\n",
    "\n",
    "path = '/home/idetect/data/input_urls.csv'\n",
    "url = 'https://www.dropbox.com/s/c2vzdzrljlrn3y0/input_urls.csv?dl=1'\n",
    "\n",
    "if not isfile(path):\n",
    "    with open(path, 'wb') as f:\n",
    "        r = requests.get(url, stream=True)\n",
    "        for chunk in r.iter_content(chunk_size=1024):\n",
    "            if chunk:  # filter out keep-alive new chunks\n",
    "                f.write(chunk)"
   ]
  },
  {
   "cell_type": "code",
   "execution_count": null,
   "metadata": {},
   "outputs": [],
   "source": [
    "import csv\n",
    "from datetime import datetime\n",
    "\n",
    "start = datetime.now()\n",
    "i = 0\n",
    "with open('/home/idetect/data/input_urls.csv') as f:\n",
    "    c = csv.reader(f)\n",
    "    for l in c:\n",
    "        url_id, date, url = l\n",
    "        if not url.startswith('http'):\n",
    "            continue\n",
    "        try:\n",
    "            article1 = Article(url=url, url_id=url_id, status=Status.NEW)\n",
    "            session.add(article1)\n",
    "            session.commit()\n",
    "        except:\n",
    "            print(\"error on row {}: {}\".format(i, l))\n",
    "            raise\n",
    "        i += 1\n",
    "        if i % 1000 == 0:\n",
    "            print(\"{} {}\".format(i, url))\n",
    "done_inserting = datetime.now()"
   ]
  },
  {
   "cell_type": "code",
   "execution_count": null,
   "metadata": {},
   "outputs": [],
   "source": [
    "delta = done_inserting - start"
   ]
  },
  {
   "cell_type": "code",
   "execution_count": null,
   "metadata": {},
   "outputs": [],
   "source": [
    "delta.seconds / 60 / 60"
   ]
  },
  {
   "cell_type": "code",
   "execution_count": null,
   "metadata": {},
   "outputs": [],
   "source": [
    ""
   ]
  }
 ],
 "metadata": {
  "language_info": {
   "name": "python",
   "pygments_lexer": "ipython3"
  }
 },
 "nbformat": 4,
 "nbformat_minor": 0
}
