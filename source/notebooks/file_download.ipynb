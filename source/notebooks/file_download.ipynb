{
 "cells": [
  {
   "cell_type": "markdown",
   "metadata": {},
   "source": [
    "# File Downloading"
   ]
  },
  {
   "cell_type": "code",
   "execution_count": null,
   "metadata": {
    "collapsed": true
   },
   "outputs": [],
   "source": [
    "import fcntl\n",
    "import os\n",
    "import errno\n",
    "import requests\n",
    "from sklearn.externals import joblib"
   ]
  },
  {
   "cell_type": "code",
   "execution_count": null,
   "metadata": {
    "collapsed": true
   },
   "outputs": [],
   "source": [
    "def load_model(model_url, model_path):\n",
    "    # Load users model if specified and exists\n",
    "    # get exclusive lock on file and check to see if empty. If\n",
    "    if os.path.isfile(model_path):\n",
    "        with open(model_path, 'rb') as f:\n",
    "            try:\n",
    "                fcntl.flock(f, fcntl.LOCK_EX)\n",
    "                if os.path.getsize(model_path) > 0:\n",
    "                    clf = joblib.load(model_path)\n",
    "            except IOError as e:\n",
    "                if e.errno != errno.EAGAIN:\n",
    "                    raise\n",
    "            finally:\n",
    "                fcntl.flock(f, fcntl.LOCK_UN)\n",
    "    else:\n",
    "        if os.path.dirname(model_path):\n",
    "            if not os.path.isdir(os.path.dirname(model_path)):\n",
    "                try:\n",
    "                    os.makedirs(os.path.dirname(model_path))\n",
    "                except OSError as exc: # Guard against rare condition\n",
    "                    if exc.errno != errno.EEXIST:\n",
    "                        raise\n",
    "        with open(model_path, 'wb+') as f:\n",
    "            try:\n",
    "                fcntl.flock(f, fcntl.LOCK_EX | fcntl.LOCK_NB)\n",
    "                if os.path.getsize(model_path) == 0:\n",
    "                    r = requests.get(model_url, stream=True)\n",
    "                    for chunk in r.iter_content(chunk_size=1024):\n",
    "                        if chunk:  # filter out keep-alive new chunks\n",
    "                            f.write(chunk)\n",
    "            except BlockingIOError:\n",
    "                fcntl.flock(f, fcntl.LOCK_EX)\n",
    "            finally:\n",
    "                fcntl.flock(f, fcntl.LOCK_UN)\n",
    "        clf = joblib.load(model_path)\n",
    "    return clf"
   ]
  },
  {
   "cell_type": "code",
   "execution_count": null,
   "metadata": {},
   "outputs": [],
   "source": [
    "load_model('https://s3-us-west-2.amazonaws.com/idmc-idetect/category_models/category.pkl',\n",
    "          'model.pkl')"
   ]
  },
  {
   "cell_type": "code",
   "execution_count": null,
   "metadata": {
    "collapsed": true
   },
   "outputs": [],
   "source": []
  }
 ],
 "metadata": {
  "anaconda-cloud": {},
  "kernelspec": {
   "display_name": "Python 3",
   "language": "python",
   "name": "python3"
  },
  "language_info": {
   "codemirror_mode": {
    "name": "ipython",
    "version": 3
   },
   "file_extension": ".py",
   "mimetype": "text/x-python",
   "name": "python",
   "nbconvert_exporter": "python",
   "pygments_lexer": "ipython3",
   "version": "3.6.1"
  }
 },
 "nbformat": 4,
 "nbformat_minor": 1
}
