{
 "cells": [
  {
   "cell_type": "markdown",
   "metadata": {
    "collapsed": true
   },
   "source": [
    "- https://explosion.ai/blog/deep-learning-formula-nlp\n",
    "- https://github.com/explosion/spaCy/tree/master/examples/keras_parikh_entailment\n",
    "- https://quid.com/feed/how-quid-uses-deep-learning-with-small-data"
   ]
  },
  {
   "cell_type": "code",
   "execution_count": 1,
   "metadata": {
    "collapsed": false
   },
   "outputs": [],
   "source": [
    "%matplotlib inline\n",
    "import matplotlib.pyplot as plt\n",
    "import pandas as pd\n",
    "from sklearn.model_selection import train_test_split, GridSearchCV\n",
    "from sklearn.feature_extraction.text import CountVectorizer, TfidfVectorizer\n",
    "from sklearn.naive_bayes import MultinomialNB\n",
    "from sklearn.metrics import classification_report, accuracy_score, roc_curve, auc\n",
    "from sklearn.feature_extraction.stop_words import ENGLISH_STOP_WORDS as stopwords\n",
    "from sklearn.feature_selection import SelectFpr\n",
    "from sklearn.preprocessing import PolynomialFeatures\n",
    "from sklearn.base import TransformerMixin \n",
    "from sklearn.pipeline import Pipeline, FeatureUnion\n",
    "from sklearn.linear_model import LogisticRegression\n",
    "from sklearn.svm import SVC\n",
    "from sklearn.ensemble import AdaBoostClassifier, ExtraTreesClassifier, RandomForestClassifier, BaggingClassifier, GradientBoostingClassifier\n",
    "from sklearn.neighbors import KNeighborsClassifier\n",
    "from collections import Counter, defaultdict\n",
    "from textacy.similarity import word2vec, word_movers\n",
    "import spacy\n",
    "import re\n",
    "import string\n",
    "import gensim\n",
    "import numpy as np\n",
    "from numpy import dot \n",
    "from numpy.linalg import norm"
   ]
  },
  {
   "cell_type": "code",
   "execution_count": 2,
   "metadata": {
    "collapsed": true
   },
   "outputs": [],
   "source": [
    "parser = spacy.en.English()\n",
    "punctuations = string.punctuation\n",
    "nlp = spacy.load(\"en\")"
   ]
  },
  {
   "cell_type": "code",
   "execution_count": 3,
   "metadata": {
    "collapsed": true
   },
   "outputs": [],
   "source": [
    "## Function for choosing majority decision over\n",
    "## tagged data\n",
    "def majority_decision(ratings):\n",
    "    decision_sum = 0\n",
    "    for r in ratings:\n",
    "        if r == 'yes':\n",
    "            decision_sum += 1\n",
    "        elif r == 'no':\n",
    "            decision_sum -= 1\n",
    "    if decision_sum > 0:\n",
    "        return \"yes\"\n",
    "    else:\n",
    "        return \"no\"\n",
    "    \n",
    "## Cleanup text\n",
    "def clean_text(text):     \n",
    "    return text.strip().lower()"
   ]
  },
  {
   "cell_type": "code",
   "execution_count": 4,
   "metadata": {
    "collapsed": true
   },
   "outputs": [],
   "source": [
    "## Load the tagged data\n",
    "df = pd.read_csv(\"f1015046.csv\")"
   ]
  },
  {
   "cell_type": "code",
   "execution_count": 5,
   "metadata": {
    "collapsed": true
   },
   "outputs": [],
   "source": [
    "## Convert data to unique excerpts and combine tags\n",
    "excerpts = df['_unit_id'].unique().tolist()\n",
    "output = []\n",
    "for e in excerpts:\n",
    "    d = {}\n",
    "    sentence = df[df['_unit_id'] == e]['sentence'].tolist()[0]\n",
    "    d['sentence'] = sentence\n",
    "    d['is_displacement'] = majority_decision(df[df['_unit_id'] == e]['is_displacement'].tolist())\n",
    "    output.append(d)\n",
    "df = pd.DataFrame(output)"
   ]
  },
  {
   "cell_type": "code",
   "execution_count": 6,
   "metadata": {
    "collapsed": true
   },
   "outputs": [],
   "source": [
    "RANDOM_STATE = 42"
   ]
  },
  {
   "cell_type": "markdown",
   "metadata": {},
   "source": [
    "#### Different approaches\n",
    "1. Count Vectorizer approach (1-grams, 2-grams)\n",
    "2. TfIDF Vectorizer\n",
    "2. Sentence & word embedding approach (as features)\n",
    "3. Distance of sentence from some ideal\n",
    "4. Combination of predictions"
   ]
  },
  {
   "cell_type": "code",
   "execution_count": 7,
   "metadata": {
    "collapsed": true
   },
   "outputs": [],
   "source": [
    "train, test = train_test_split(df, test_size = 0.2, random_state=RANDOM_STATE)"
   ]
  },
  {
   "cell_type": "code",
   "execution_count": 8,
   "metadata": {
    "collapsed": true
   },
   "outputs": [],
   "source": [
    "is_displacement = lambda x: x == 'yes'"
   ]
  },
  {
   "cell_type": "markdown",
   "metadata": {
    "collapsed": true
   },
   "source": [
    "### 1. Simple Count Vectorizer"
   ]
  },
  {
   "cell_type": "code",
   "execution_count": 9,
   "metadata": {
    "collapsed": true
   },
   "outputs": [],
   "source": [
    "def spacy_tokenizer(sentence):\n",
    "    tokens = parser(sentence)\n",
    "    tokens = [tok.lemma_.lower().strip() if tok.lemma_ != \"-PRON-\" else tok.lower_ for tok in tokens]\n",
    "    tokens = [tok for tok in tokens if (tok not in stopwords and tok not in punctuations)]\n",
    "    return tokens"
   ]
  },
  {
   "cell_type": "code",
   "execution_count": 12,
   "metadata": {
    "collapsed": false
   },
   "outputs": [],
   "source": [
    "def model_cv():\n",
    "    param_grid = {'C': [0.001, 0.01, 0.1, 1, 10, 100, 1000]}\n",
    "    \n",
    "    model = Pipeline([\n",
    "            ('features', CountVectorizer(tokenizer = spacy_tokenizer, ngram_range=(1,2))),\n",
    "            ('feature_select', SelectFpr()),\n",
    "            ('logistic_regression', GridSearchCV(\n",
    "                LogisticRegression(penalty='l2', random_state=RANDOM_STATE), param_grid))\n",
    "        ])\n",
    "    return model"
   ]
  },
  {
   "cell_type": "code",
   "execution_count": 13,
   "metadata": {
    "collapsed": false
   },
   "outputs": [],
   "source": [
    "cv_model = model_cv()"
   ]
  },
  {
   "cell_type": "code",
   "execution_count": 14,
   "metadata": {
    "collapsed": false
   },
   "outputs": [
    {
     "data": {
      "text/plain": [
       "Pipeline(steps=[('features', CountVectorizer(analyzer='word', binary=False, decode_error='strict',\n",
       "        dtype=<class 'numpy.int64'>, encoding='utf-8', input='content',\n",
       "        lowercase=True, max_df=1.0, max_features=None, min_df=1,\n",
       "        ngram_range=(1, 2), preprocessor=None, stop_words=None,\n",
       "        s...     pre_dispatch='2*n_jobs', refit=True, return_train_score=True,\n",
       "       scoring=None, verbose=0))])"
      ]
     },
     "execution_count": 14,
     "metadata": {},
     "output_type": "execute_result"
    }
   ],
   "source": [
    "cv_model.fit(train['sentence'], train['is_displacement'])"
   ]
  },
  {
   "cell_type": "code",
   "execution_count": 15,
   "metadata": {
    "collapsed": false
   },
   "outputs": [
    {
     "name": "stdout",
     "output_type": "stream",
     "text": [
      "             precision    recall  f1-score   support\n",
      "\n",
      "      False       0.78      0.75      0.77       142\n",
      "       True       0.86      0.88      0.87       252\n",
      "\n",
      "avg / total       0.83      0.84      0.83       394\n",
      "\n"
     ]
    }
   ],
   "source": [
    "y_predict = np.apply_along_axis(is_displacement, 0, cv_model.predict(test['sentence']))\n",
    "y_true = test['is_displacement'].map(is_displacement)\n",
    "print(classification_report( y_true, y_predict ))"
   ]
  },
  {
   "cell_type": "code",
   "execution_count": 16,
   "metadata": {
    "collapsed": false
   },
   "outputs": [],
   "source": [
    "fpr, tpr, _ = roc_curve(y_true, y_predict)\n",
    "roc_auc = auc(fpr, tpr)"
   ]
  },
  {
   "cell_type": "code",
   "execution_count": 17,
   "metadata": {
    "collapsed": false
   },
   "outputs": [
    {
     "data": {
      "image/png": "[encoded data removed]",
      "text/plain": [
       "<matplotlib.figure.Figure at 0x12356a780>"
      ]
     },
     "metadata": {},
     "output_type": "display_data"
    }
   ],
   "source": [
    "plt.figure()\n",
    "lw = 2\n",
    "plt.plot(fpr, tpr, color='darkorange',\n",
    "         lw=lw, label='ROC curve (area = %0.2f)' % roc_auc)\n",
    "plt.plot([0, 1], [0, 1], color='navy', lw=lw, linestyle='--')\n",
    "plt.xlim([0.0, 1.0])\n",
    "plt.ylim([0.0, 1.05])\n",
    "plt.xlabel('False Positive Rate')\n",
    "plt.ylabel('True Positive Rate')\n",
    "plt.title('Receiver operating characteristic example')\n",
    "plt.legend(loc=\"lower right\")\n",
    "plt.show()"
   ]
  },
  {
   "cell_type": "markdown",
   "metadata": {
    "collapsed": true
   },
   "source": [
    "### 2. TF-IDF Vectorizer"
   ]
  },
  {
   "cell_type": "code",
   "execution_count": 18,
   "metadata": {
    "collapsed": true
   },
   "outputs": [],
   "source": [
    "def model_tfidf():\n",
    "    param_grid = {'C': [0.001, 0.01, 0.1, 1, 10, 100, 1000]}\n",
    "    \n",
    "    model = Pipeline([\n",
    "            ('features', TfidfVectorizer(tokenizer = spacy_tokenizer, ngram_range=(1,2))),\n",
    "            ('feature_select', SelectFpr()),\n",
    "            ('logistic_regression', GridSearchCV(\n",
    "                LogisticRegression(penalty='l2', random_state=RANDOM_STATE), param_grid))\n",
    "        ])\n",
    "    return model"
   ]
  },
  {
   "cell_type": "code",
   "execution_count": 19,
   "metadata": {
    "collapsed": true
   },
   "outputs": [],
   "source": [
    "tf_idf_model = model_tfidf()"
   ]
  },
  {
   "cell_type": "code",
   "execution_count": 20,
   "metadata": {
    "collapsed": false
   },
   "outputs": [
    {
     "data": {
      "text/plain": [
       "Pipeline(steps=[('features', TfidfVectorizer(analyzer='word', binary=False, decode_error='strict',\n",
       "        dtype=<class 'numpy.int64'>, encoding='utf-8', input='content',\n",
       "        lowercase=True, max_df=1.0, max_features=None, min_df=1,\n",
       "        ngram_range=(1, 2), norm='l2', preprocessor=None, smooth_idf=True...     pre_dispatch='2*n_jobs', refit=True, return_train_score=True,\n",
       "       scoring=None, verbose=0))])"
      ]
     },
     "execution_count": 20,
     "metadata": {},
     "output_type": "execute_result"
    }
   ],
   "source": [
    "tf_idf_model.fit(train['sentence'], train['is_displacement'])"
   ]
  },
  {
   "cell_type": "code",
   "execution_count": 21,
   "metadata": {
    "collapsed": false
   },
   "outputs": [
    {
     "name": "stdout",
     "output_type": "stream",
     "text": [
      "             precision    recall  f1-score   support\n",
      "\n",
      "      False       0.85      0.65      0.74       142\n",
      "       True       0.83      0.94      0.88       252\n",
      "\n",
      "avg / total       0.83      0.83      0.83       394\n",
      "\n"
     ]
    }
   ],
   "source": [
    "y_predict = np.apply_along_axis(is_displacement, 0, tf_idf_model.predict(test['sentence']))\n",
    "y_true = test['is_displacement'].map(is_displacement)\n",
    "print(classification_report( y_true, y_predict ))"
   ]
  },
  {
   "cell_type": "code",
   "execution_count": 22,
   "metadata": {
    "collapsed": false
   },
   "outputs": [],
   "source": [
    "fpr, tpr, _ = roc_curve(y_true, y_predict)\n",
    "roc_auc = auc(fpr, tpr)"
   ]
  },
  {
   "cell_type": "code",
   "execution_count": 23,
   "metadata": {
    "collapsed": false
   },
   "outputs": [
    {
     "data": {
      "image/png": "[encoded data removed]",
      "text/plain": [
       "<matplotlib.figure.Figure at 0x122dad860>"
      ]
     },
     "metadata": {},
     "output_type": "display_data"
    }
   ],
   "source": [
    "plt.figure()\n",
    "lw = 2\n",
    "plt.plot(fpr, tpr, color='darkorange',\n",
    "         lw=lw, label='ROC curve (area = %0.2f)' % roc_auc)\n",
    "plt.plot([0, 1], [0, 1], color='navy', lw=lw, linestyle='--')\n",
    "plt.xlim([0.0, 1.0])\n",
    "plt.ylim([0.0, 1.05])\n",
    "plt.xlabel('False Positive Rate')\n",
    "plt.ylabel('True Positive Rate')\n",
    "plt.title('Receiver operating characteristic example')\n",
    "plt.legend(loc=\"lower right\")\n",
    "plt.show()"
   ]
  },
  {
   "cell_type": "markdown",
   "metadata": {},
   "source": [
    "### 3. Feature & Classifier Pipeline"
   ]
  },
  {
   "cell_type": "code",
   "execution_count": 86,
   "metadata": {
    "collapsed": true
   },
   "outputs": [],
   "source": [
    "# Customer Transformer for creating pipeline of classifiers and predicting probabilities\n",
    "class ProbaExtractor(TransformerMixin):\n",
    "    def __init__(self, classifiers):\n",
    "        self.classifiers = classifiers\n",
    "        \n",
    "    def fit(self, *args, **kwargs):\n",
    "        for cl in self.classifiers:\n",
    "            cl.fit(*args, **kwargs)\n",
    "        return self\n",
    "    \n",
    "    def transform(self, X, **transform_params):\n",
    "        return np.concatenate([cl.predict_proba(X) for cl in self.classifiers], axis=1)"
   ]
  },
  {
   "cell_type": "code",
   "execution_count": 25,
   "metadata": {
    "collapsed": true
   },
   "outputs": [],
   "source": [
    "# Customer Transformer to extract the sentence embedding as an average of word embeddings (using word2vec)\n",
    "class MeanEmbeddingVectorizer(TransformerMixin):\n",
    "    def __init__(self, nlp):\n",
    "        self.nlp = nlp\n",
    "        # if a text is empty we should return a vector of zeros\n",
    "        # with the same dimensionality as all the other vectors\n",
    "        self.dim = (300,)\n",
    "\n",
    "    def fit(self, X, y):\n",
    "        return self\n",
    "\n",
    "    def transform(self, X):\n",
    "        return np.array([\n",
    "            np.mean([w.vector for w in nlp(sentence)]\n",
    "                    or [np.zeros(self.dim)], axis=0)\n",
    "            for sentence in X\n",
    "        ])"
   ]
  },
  {
   "cell_type": "code",
   "execution_count": 53,
   "metadata": {
    "collapsed": false
   },
   "outputs": [],
   "source": [
    "# Customer Transformer to find cosine difference between sentence vector & average true sentence vector\n",
    "cosine = lambda v1, v2: dot(v1, v2) / (norm(v1) * norm(v2))\n",
    "\n",
    "class CosDifference(TransformerMixin):\n",
    "    def __init__(self, nlp, sentences):\n",
    "        self.nlp = nlp\n",
    "        self.true_mean = np.mean(np.array([\n",
    "            np.mean([w.vector for w in nlp(sentence)]\n",
    "                    or [np.zeros(self.dim)], axis=0)\n",
    "            for sentence in sentences\n",
    "        ]), axis=0)\n",
    "        # if a text is empty we should return a vector of zeros\n",
    "        # with the same dimensionality as all the other vectors\n",
    "        self.dim = (300,)\n",
    "\n",
    "    def fit(self, X, y):\n",
    "        return self\n",
    "\n",
    "    def transform(self, X):\n",
    "        return np.array(\n",
    "            [cosine(np.mean([w.vector for w in nlp(sentence)], axis=0), self.true_mean)\n",
    "             for sentence in X]).reshape(X.shape[0], 1)"
   ]
  },
  {
   "cell_type": "code",
   "execution_count": 97,
   "metadata": {
    "collapsed": true
   },
   "outputs": [],
   "source": [
    "# Transformer for getting distribution of punctuation\n",
    "class Punctuation(TransformerMixin):\n",
    "    def __init__(self, punctuations):\n",
    "        self.punctuations = punctuations\n",
    "        \n",
    "    def fit(self, *args, **kwargs):\n",
    "        return self\n",
    "    \n",
    "    def transform(self, X, **transform_params):\n",
    "        return np.array(\n",
    "            [\n",
    "              [sentence.count(p) for p in self.punctuations] for sentence in X\n",
    "            ])"
   ]
  },
  {
   "cell_type": "code",
   "execution_count": 113,
   "metadata": {
    "collapsed": false
   },
   "outputs": [],
   "source": [
    "def capitals_fractions(sentence):\n",
    "    words = sentence.split(\" \")\n",
    "    num_words = len(words)\n",
    "    # Total fraction of capitalized words\n",
    "    one_grams = sum([word.isupper() for word in words])\n",
    "    bi_grams = 0\n",
    "    for w1, w2 in zip(words, words[1:]):\n",
    "        if all(w.isupper() for w in (w1, w2)):\n",
    "            bi_grams += 1\n",
    "    tri_grams = 0\n",
    "    for w1, w2, w3 in zip(words, words[1:], words[2:]):\n",
    "        if all(w.isupper() for w in (w1, w2, w3)):\n",
    "            tri_grams += 1\n",
    "    return np.array([one_grams, bi_grams, tri_grams]) / num_words\n",
    "\n",
    "class Capitals(TransformerMixin):\n",
    "    \n",
    "    def fit(self, *args, **kwargs):\n",
    "        return self\n",
    "    \n",
    "    def transform(self, X, **transform_params):\n",
    "        return np.array([capitals_fractions(sentence) for sentence in X])"
   ]
  },
  {
   "cell_type": "code",
   "execution_count": 68,
   "metadata": {
    "collapsed": true
   },
   "outputs": [],
   "source": [
    "# Transformer for converting from sparse to dense matrix\n",
    "class Densify(TransformerMixin):\n",
    "    def fit(self, *args, **kwargs):\n",
    "        return self\n",
    "    \n",
    "    def transform(self, X, **transform_params):\n",
    "        return X.toarray()"
   ]
  },
  {
   "cell_type": "code",
   "execution_count": 122,
   "metadata": {
    "collapsed": false
   },
   "outputs": [],
   "source": [
    "# To do: punctuation & capital letter distribution\n",
    "def get_features(true_sentences):\n",
    "    return FeatureUnion([\n",
    "            ('sentence_vector', MeanEmbeddingVectorizer(nlp)), #Average embedding for sentence\n",
    "            ('count_vectorizer', CountVectorizer(tokenizer = spacy_tokenizer, ngram_range=(1,2))), \n",
    "            ('cos_difference', CosDifference(nlp, true_sentences)) #Cosine difference of sentence vector from average true sentence\n",
    "            #('w2v_difference', ) #W2V difference of sentence from All true sentences\n",
    "        ])"
   ]
  },
  {
   "cell_type": "code",
   "execution_count": 123,
   "metadata": {
    "collapsed": true
   },
   "outputs": [],
   "source": [
    "def artesenal_model(true_sentences):\n",
    "    model = Pipeline([\n",
    "            ('feature_union', get_features(true_sentences)),\n",
    "            ('feature_selection', SelectFpr()),\n",
    "            ('dense', Densify()),\n",
    "            ('probas', ProbaExtractor([\n",
    "                        AdaBoostClassifier(n_estimators=300),\n",
    "                        ExtraTreesClassifier(n_estimators=300),\n",
    "                        RandomForestClassifier(n_estimators=400),\n",
    "                        LogisticRegression(),\n",
    "                        BaggingClassifier(),\n",
    "                        KNeighborsClassifier(),\n",
    "                        GradientBoostingClassifier()\n",
    "                    ])), #Need to write custom extractor\n",
    "            ('polynomial', PolynomialFeatures(degree=2)),\n",
    "            ('classify', LogisticRegression(C=0.5))\n",
    "        ])\n",
    "    return model"
   ]
  },
  {
   "cell_type": "code",
   "execution_count": 124,
   "metadata": {
    "collapsed": false
   },
   "outputs": [],
   "source": [
    "art_model = artesenal_model(train[train['is_displacement'] == 'yes']['sentence'])"
   ]
  },
  {
   "cell_type": "code",
   "execution_count": 125,
   "metadata": {
    "collapsed": false
   },
   "outputs": [
    {
     "data": {
      "text/plain": [
       "Pipeline(steps=[('feature_union', FeatureUnion(n_jobs=1,\n",
       "       transformer_list=[('sentence_vector', <__main__.MeanEmbeddingVectorizer object at 0x1363394a8>), ('count_vectorizer', CountVectorizer(analyzer='word', binary=False, decode_error='strict',\n",
       "        dtype=<class 'numpy.int64'>, encoding='utf-8', in...ty='l2', random_state=None, solver='liblinear', tol=0.0001,\n",
       "          verbose=0, warm_start=False))])"
      ]
     },
     "execution_count": 125,
     "metadata": {},
     "output_type": "execute_result"
    }
   ],
   "source": [
    "art_model.fit(train['sentence'], train['is_displacement'])"
   ]
  },
  {
   "cell_type": "code",
   "execution_count": 126,
   "metadata": {
    "collapsed": false
   },
   "outputs": [
    {
     "name": "stdout",
     "output_type": "stream",
     "text": [
      "             precision    recall  f1-score   support\n",
      "\n",
      "      False       0.89      0.71      0.79       142\n",
      "       True       0.85      0.95      0.90       252\n",
      "\n",
      "avg / total       0.87      0.86      0.86       394\n",
      "\n"
     ]
    }
   ],
   "source": [
    "y_predict = np.apply_along_axis(is_displacement, 0, art_model.predict(test['sentence']))\n",
    "y_true = test['is_displacement'].map(is_displacement)\n",
    "print(classification_report( y_true, y_predict ))"
   ]
  },
  {
   "cell_type": "code",
   "execution_count": 127,
   "metadata": {
    "collapsed": true
   },
   "outputs": [],
   "source": [
    "fpr, tpr, _ = roc_curve(y_true, y_predict)\n",
    "roc_auc = auc(fpr, tpr)"
   ]
  },
  {
   "cell_type": "code",
   "execution_count": 128,
   "metadata": {
    "collapsed": false
   },
   "outputs": [
    {
     "data": {
      "image/png": "[encoded data removed]",
      "text/plain": [
       "<matplotlib.figure.Figure at 0x136bb46a0>"
      ]
     },
     "metadata": {},
     "output_type": "display_data"
    }
   ],
   "source": [
    "plt.figure()\n",
    "lw = 2\n",
    "plt.plot(fpr, tpr, color='darkorange',\n",
    "         lw=lw, label='ROC curve (area = %0.2f)' % roc_auc)\n",
    "plt.plot([0, 1], [0, 1], color='navy', lw=lw, linestyle='--')\n",
    "plt.xlim([0.0, 1.0])\n",
    "plt.ylim([0.0, 1.05])\n",
    "plt.xlabel('False Positive Rate')\n",
    "plt.ylabel('True Positive Rate')\n",
    "plt.title('Receiver operating characteristic example')\n",
    "plt.legend(loc=\"lower right\")\n",
    "plt.show()"
   ]
  },
  {
   "cell_type": "code",
   "execution_count": null,
   "metadata": {
    "collapsed": true
   },
   "outputs": [],
   "source": []
  }
 ],
 "metadata": {
  "kernelspec": {
   "display_name": "Python 3",
   "language": "python",
   "name": "python3"
  },
  "language_info": {
   "codemirror_mode": {
    "name": "ipython",
    "version": 3
   },
   "file_extension": ".py",
   "mimetype": "text/x-python",
   "name": "python",
   "nbconvert_exporter": "python",
   "pygments_lexer": "ipython3",
   "version": "3.5.1"
  }
 },
 "nbformat": 4,
 "nbformat_minor": 0
}
