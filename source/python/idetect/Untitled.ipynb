{
 "cells": [
  {
   "cell_type": "code",
   "execution_count": 1,
   "metadata": {
    "collapsed": false
   },
   "outputs": [],
   "source": [
    "%load_ext autoreload\n",
    "%autoreload 2"
   ]
  },
  {
   "cell_type": "code",
   "execution_count": 7,
   "metadata": {
    "collapsed": false
   },
   "outputs": [
    {
     "name": "stdout",
     "output_type": "stream",
     "text": [
      "Loaded Spacy English Language NLP Models.\n"
     ]
    }
   ],
   "source": [
    "from fact_extractor import extract_facts"
   ]
  },
  {
   "cell_type": "code",
   "execution_count": 20,
   "metadata": {
    "collapsed": true
   },
   "outputs": [],
   "source": [
    "import re\n",
    "import string"
   ]
  },
  {
   "cell_type": "code",
   "execution_count": 29,
   "metadata": {
    "collapsed": false
   },
   "outputs": [],
   "source": [
    "content = \"\"\"Evacuations prompted by wildfires in central B.C. are approaching record levels for the province, officials said Tuesday.\n",
    "\n",
    "The total number of people displaced by the fires is now estimated at 45,806, according to Robert Turner, deputy minister for Emergency Management B.C.\n",
    "\n",
    "\"This number has changed fairly significantly in the past 48 hours and that has to do primarily with getting better information from local governments,\" Turner said.\n",
    "\n",
    "\"It's becoming one of the largest displacement events in the history of the province.\"\n",
    "\n",
    "The number of evacuations is now approaching the record set in 2003, when 50,000 people were forced out of their homes by a wildfire near Kelowna.\n",
    "\n",
    "There have been no significant evacuation orders or alerts since Saturday, when high winds caused several of the wildfires to flare up and spread aggressively.\n",
    "\n",
    "In the meantime, most of the major wildfires that have threatened communities like Williams Lake and 100 Mile House have remained relatively stable, according to information officer Kevin Skrepnek of the B.C. Wildfire Service.\n",
    "\n",
    "The absence of wind has allowed firefighters to make progress on the fire lines.\n",
    "\n",
    "\"We've had a relatively calm few days,\" Skrepnek said. \"That downturn in activity has been everything to do with the wind. Wind has been our most significant challenge.\"\"\"\"\""
   ]
  },
  {
   "cell_type": "code",
   "execution_count": 30,
   "metadata": {
    "collapsed": false
   },
   "outputs": [],
   "source": [
    "reports = extract_facts(content)"
   ]
  },
  {
   "cell_type": "code",
   "execution_count": 31,
   "metadata": {
    "collapsed": false
   },
   "outputs": [
    {
     "data": {
      "text/plain": [
       "[Locations: Unit:People Term:Displaced Quantity:None,\n",
       " Locations:Kelowna Unit:People Term:Displaced Quantity:50000]"
      ]
     },
     "execution_count": 31,
     "metadata": {},
     "output_type": "execute_result"
    }
   ],
   "source": [
    "reports"
   ]
  },
  {
   "cell_type": "code",
   "execution_count": 18,
   "metadata": {
    "collapsed": true
   },
   "outputs": [],
   "source": [
    "def cleanup(text):\n",
    "        text = re.sub(r'([a-zA-Z0-9])(IMPACT)', r'\\1. \\2', text)\n",
    "        text = re.sub(r'([a-zA-Z0-9])(RESPONSE)', r'\\1. \\2', text)\n",
    "        text = re.sub(r'(IMPACT)([a-zA-Z0-9])', r'\\1. \\2', text)\n",
    "        text = re.sub(r'(RESPONSE)([a-zA-Z0-9])', r'\\1. \\2', text)\n",
    "        text = re.sub(r'([a-zA-Z])(\\d)', r'\\1. \\2', text)\n",
    "        text = re.sub(r'(\\d)\\s(\\d)', r'\\1\\2', text)\n",
    "        text = text.replace('\\r', ' ')\n",
    "        text = text.replace('  ', ' ')\n",
    "        text = text.replace('\\n', ' ')\n",
    "        text = text.replace(\"peole\", \"people\")\n",
    "        output = ''\n",
    "        for char in text:\n",
    "            if char in string.printable:\n",
    "                output += char\n",
    "        return output"
   ]
  },
  {
   "cell_type": "code",
   "execution_count": 21,
   "metadata": {
    "collapsed": false
   },
   "outputs": [
    {
     "data": {
      "text/plain": [
       "'Something'"
      ]
     },
     "execution_count": 21,
     "metadata": {},
     "output_type": "execute_result"
    }
   ],
   "source": [
    "cleanup(content)"
   ]
  },
  {
   "cell_type": "code",
   "execution_count": 2,
   "metadata": {
    "collapsed": false
   },
   "outputs": [
    {
     "name": "stdout",
     "output_type": "stream",
     "text": [
      "Loaded cities_to_countries dictionary.\n"
     ]
    }
   ],
   "source": [
    "from geotagger import get_geo_info"
   ]
  },
  {
   "cell_type": "code",
   "execution_count": 5,
   "metadata": {
    "collapsed": false
   },
   "outputs": [
    {
     "name": "stdout",
     "output_type": "stream",
     "text": [
      "Loaded cities_to_countries dictionary.\n"
     ]
    },
    {
     "data": {
      "text/plain": [
       "{'coordinates': '-99.154699,19.327517',\n",
       " 'country_code': 'MEX',\n",
       " 'flag': 'multiple-results',\n",
       " 'place_name': 'coyoacan',\n",
       " 'type': 'neighberhood'}"
      ]
     },
     "execution_count": 5,
     "metadata": {},
     "output_type": "execute_result"
    }
   ],
   "source": [
    "get_geo_info('coyoacan')"
   ]
  },
  {
   "cell_type": "code",
   "execution_count": null,
   "metadata": {
    "collapsed": true
   },
   "outputs": [],
   "source": []
  }
 ],
 "metadata": {
  "kernelspec": {
   "display_name": "Python 3",
   "language": "python",
   "name": "python3"
  },
  "language_info": {
   "codemirror_mode": {
    "name": "ipython",
    "version": 3
   },
   "file_extension": ".py",
   "mimetype": "text/x-python",
   "name": "python",
   "nbconvert_exporter": "python",
   "pygments_lexer": "ipython3",
   "version": "3.5.1"
  }
 },
 "nbformat": 4,
 "nbformat_minor": 0
}
